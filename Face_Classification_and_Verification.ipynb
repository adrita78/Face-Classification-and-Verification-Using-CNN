{
  "cells": [
    {
      "cell_type": "code",
      "execution_count": 1,
      "id": "79f48e43",
      "metadata": {
        "id": "79f48e43",
        "colab": {
          "base_uri": "https://localhost:8080/"
        },
        "outputId": "d54f1b60-59fb-47cc-cd50-cc292397f8cc"
      },
      "outputs": [
        {
          "output_type": "stream",
          "name": "stdout",
          "text": [
            "\u001b[2K     \u001b[90m━━━━━━━━━━━━━━━━━━━━━━━━━━━━━━━━━━━━━━━━\u001b[0m \u001b[32m2.0/2.0 MB\u001b[0m \u001b[31m26.2 MB/s\u001b[0m eta \u001b[36m0:00:00\u001b[0m\n",
            "\u001b[2K     \u001b[90m━━━━━━━━━━━━━━━━━━━━━━━━━━━━━━━━━━━━━━━\u001b[0m \u001b[32m184.3/184.3 KB\u001b[0m \u001b[31m8.8 MB/s\u001b[0m eta \u001b[36m0:00:00\u001b[0m\n",
            "\u001b[2K     \u001b[90m━━━━━━━━━━━━━━━━━━━━━━━━━━━━━━━━━━━━━━\u001b[0m \u001b[32m199.2/199.2 KB\u001b[0m \u001b[31m11.5 MB/s\u001b[0m eta \u001b[36m0:00:00\u001b[0m\n",
            "\u001b[?25h  Preparing metadata (setup.py) ... \u001b[?25l\u001b[?25hdone\n",
            "\u001b[2K     \u001b[90m━━━━━━━━━━━━━━━━━━━━━━━━━━━━━━━━━━━━━━━━\u001b[0m \u001b[32m62.7/62.7 KB\u001b[0m \u001b[31m3.4 MB/s\u001b[0m eta \u001b[36m0:00:00\u001b[0m\n",
            "\u001b[?25h  Building wheel for pathtools (setup.py) ... \u001b[?25l\u001b[?25hdone\n"
          ]
        }
      ],
      "source": [
        "!pip install wandb --quiet"
      ]
    },
    {
      "cell_type": "code",
      "execution_count": 2,
      "id": "5d954509",
      "metadata": {
        "colab": {
          "base_uri": "https://localhost:8080/"
        },
        "id": "5d954509",
        "outputId": "9ff5039c-29eb-40c1-df93-ebf22ecfaa56"
      },
      "outputs": [
        {
          "output_type": "stream",
          "name": "stdout",
          "text": [
            "Looking in indexes: https://pypi.org/simple, https://us-python.pkg.dev/colab-wheels/public/simple/\n",
            "Requirement already satisfied: torchvision in /usr/local/lib/python3.9/dist-packages (0.15.1+cu118)\n",
            "Requirement already satisfied: torch==2.0.0 in /usr/local/lib/python3.9/dist-packages (from torchvision) (2.0.0+cu118)\n",
            "Requirement already satisfied: requests in /usr/local/lib/python3.9/dist-packages (from torchvision) (2.27.1)\n",
            "Requirement already satisfied: pillow!=8.3.*,>=5.3.0 in /usr/local/lib/python3.9/dist-packages (from torchvision) (8.4.0)\n",
            "Requirement already satisfied: numpy in /usr/local/lib/python3.9/dist-packages (from torchvision) (1.22.4)\n",
            "Requirement already satisfied: filelock in /usr/local/lib/python3.9/dist-packages (from torch==2.0.0->torchvision) (3.10.7)\n",
            "Requirement already satisfied: triton==2.0.0 in /usr/local/lib/python3.9/dist-packages (from torch==2.0.0->torchvision) (2.0.0)\n",
            "Requirement already satisfied: sympy in /usr/local/lib/python3.9/dist-packages (from torch==2.0.0->torchvision) (1.11.1)\n",
            "Requirement already satisfied: typing-extensions in /usr/local/lib/python3.9/dist-packages (from torch==2.0.0->torchvision) (4.5.0)\n",
            "Requirement already satisfied: jinja2 in /usr/local/lib/python3.9/dist-packages (from torch==2.0.0->torchvision) (3.1.2)\n",
            "Requirement already satisfied: networkx in /usr/local/lib/python3.9/dist-packages (from torch==2.0.0->torchvision) (3.0)\n",
            "Requirement already satisfied: cmake in /usr/local/lib/python3.9/dist-packages (from triton==2.0.0->torch==2.0.0->torchvision) (3.25.2)\n",
            "Requirement already satisfied: lit in /usr/local/lib/python3.9/dist-packages (from triton==2.0.0->torch==2.0.0->torchvision) (16.0.0)\n",
            "Requirement already satisfied: certifi>=2017.4.17 in /usr/local/lib/python3.9/dist-packages (from requests->torchvision) (2022.12.7)\n",
            "Requirement already satisfied: idna<4,>=2.5 in /usr/local/lib/python3.9/dist-packages (from requests->torchvision) (3.4)\n",
            "Requirement already satisfied: charset-normalizer~=2.0.0 in /usr/local/lib/python3.9/dist-packages (from requests->torchvision) (2.0.12)\n",
            "Requirement already satisfied: urllib3<1.27,>=1.21.1 in /usr/local/lib/python3.9/dist-packages (from requests->torchvision) (1.26.15)\n",
            "Requirement already satisfied: MarkupSafe>=2.0 in /usr/local/lib/python3.9/dist-packages (from jinja2->torch==2.0.0->torchvision) (2.1.2)\n",
            "Requirement already satisfied: mpmath>=0.19 in /usr/local/lib/python3.9/dist-packages (from sympy->torch==2.0.0->torchvision) (1.3.0)\n"
          ]
        }
      ],
      "source": [
        "!pip install torchvision"
      ]
    },
    {
      "cell_type": "code",
      "execution_count": 3,
      "id": "f4125d89",
      "metadata": {
        "colab": {
          "base_uri": "https://localhost:8080/"
        },
        "id": "f4125d89",
        "outputId": "2b1f5a23-6c9f-4008-aad2-5462d94a18b4"
      },
      "outputs": [
        {
          "output_type": "stream",
          "name": "stdout",
          "text": [
            "Device:  cuda\n"
          ]
        }
      ],
      "source": [
        "import torch\n",
        "import torch\n",
        "import torch.nn as nn\n",
        "import torch.nn.functional as F\n",
        "import torch.optim as optim\n",
        "from torch.utils.data import Dataset, DataLoader\n",
        "\n",
        "from torchsummary import summary\n",
        "import torchvision \n",
        "import os\n",
        "import gc\n",
        "from tqdm import tqdm\n",
        "from PIL import Image\n",
        "import numpy as np\n",
        "import pandas as pd\n",
        "from sklearn.metrics import accuracy_score\n",
        "import glob\n",
        "import wandb\n",
        "import math\n",
        "import matplotlib.pyplot as plt\n",
        "DEVICE = 'cuda' if torch.cuda.is_available() else 'cpu'\n",
        "print(\"Device: \", DEVICE)"
      ]
    },
    {
      "cell_type": "code",
      "source": [
        "from google.colab import drive # Link your drive if you are a colab user\n",
        "drive.mount('/content/drive') "
      ],
      "metadata": {
        "colab": {
          "base_uri": "https://localhost:8080/"
        },
        "id": "ae10BZg9974I",
        "outputId": "e504e902-0c49-427b-dc0a-6e2636ff4f90"
      },
      "id": "ae10BZg9974I",
      "execution_count": 4,
      "outputs": [
        {
          "output_type": "stream",
          "name": "stdout",
          "text": [
            "Mounted at /content/drive\n"
          ]
        }
      ]
    },
    {
      "cell_type": "code",
      "execution_count": 5,
      "id": "0bfdba26",
      "metadata": {
        "id": "0bfdba26"
      },
      "outputs": [],
      "source": [
        "config = {\n",
        "    'batch_size': 64, \n",
        "    'lr': 0.001,\n",
        "    'epochs': 230,\n",
        "    'loss_weight':0.2,\n",
        "}"
      ]
    },
    {
      "cell_type": "code",
      "source": [
        "# TODO: Use the same Kaggle code from HW1P2\n",
        "!pip install --upgrade --force-reinstall --no-deps kaggle==1.5.8\n",
        "!mkdir /root/.kaggle\n",
        "\n",
        "with open(\"/root/.kaggle/kaggle.json\", \"w+\") as f:\n",
        "    f.write('{\"username\":\"adritadas\",\"key\":\"4d8e5e73b5126973227f2e938ba1249f\"}') \n",
        "    # Put your kaggle username & key here\n",
        "\n",
        "!chmod 600 /root/.kaggle/kaggle.json"
      ],
      "metadata": {
        "colab": {
          "base_uri": "https://localhost:8080/"
        },
        "id": "qi0Qe6_y-He8",
        "outputId": "11c3068d-27f5-4a7a-d580-b065928ee026"
      },
      "id": "qi0Qe6_y-He8",
      "execution_count": 6,
      "outputs": [
        {
          "output_type": "stream",
          "name": "stdout",
          "text": [
            "Looking in indexes: https://pypi.org/simple, https://us-python.pkg.dev/colab-wheels/public/simple/\n",
            "Collecting kaggle==1.5.8\n",
            "  Downloading kaggle-1.5.8.tar.gz (59 kB)\n",
            "\u001b[2K     \u001b[90m━━━━━━━━━━━━━━━━━━━━━━━━━━━━━━━━━━━━━━━━\u001b[0m \u001b[32m59.2/59.2 KB\u001b[0m \u001b[31m5.2 MB/s\u001b[0m eta \u001b[36m0:00:00\u001b[0m\n",
            "\u001b[?25h  Preparing metadata (setup.py) ... \u001b[?25l\u001b[?25hdone\n",
            "Building wheels for collected packages: kaggle\n",
            "  Building wheel for kaggle (setup.py) ... \u001b[?25l\u001b[?25hdone\n",
            "  Created wheel for kaggle: filename=kaggle-1.5.8-py3-none-any.whl size=73272 sha256=1d1fe1cfb0373134388942827dba8383090f920f88234bbad5d8f7745b541e85\n",
            "  Stored in directory: /root/.cache/pip/wheels/d4/02/ef/3f8c8d86b8d5388a1d3155876837f1a1a3143ab3fc2ff1ffad\n",
            "Successfully built kaggle\n",
            "Installing collected packages: kaggle\n",
            "  Attempting uninstall: kaggle\n",
            "    Found existing installation: kaggle 1.5.13\n",
            "    Uninstalling kaggle-1.5.13:\n",
            "      Successfully uninstalled kaggle-1.5.13\n",
            "Successfully installed kaggle-1.5.8\n"
          ]
        }
      ]
    },
    {
      "cell_type": "code",
      "source": [
        "!mkdir '/content/data'\n",
        "\n",
        "!kaggle competitions download -c 11-785-s23-hw2p2-classification\n",
        "!unzip -qo '11-785-s23-hw2p2-classification.zip' -d '/content/data'\n",
        "\n",
        "!kaggle competitions download -c 11-785-s23-hw2p2-verification\n",
        "!unzip -qo '11-785-s23-hw2p2-verification.zip' -d '/content/data'"
      ],
      "metadata": {
        "colab": {
          "base_uri": "https://localhost:8080/"
        },
        "id": "R7pI0tIr-Qr0",
        "outputId": "9aefdf89-ce68-453e-c0fb-33ca098856f8"
      },
      "id": "R7pI0tIr-Qr0",
      "execution_count": 7,
      "outputs": [
        {
          "output_type": "stream",
          "name": "stdout",
          "text": [
            "Downloading 11-785-s23-hw2p2-classification.zip to /content\n",
            "100% 1.71G/1.72G [00:53<00:00, 32.9MB/s]\n",
            "100% 1.72G/1.72G [00:53<00:00, 34.3MB/s]\n",
            "Downloading 11-785-s23-hw2p2-verification.zip to /content\n",
            " 83% 14.0M/16.8M [00:00<00:00, 22.0MB/s]\n",
            "100% 16.8M/16.8M [00:01<00:00, 16.6MB/s]\n"
          ]
        }
      ]
    },
    {
      "cell_type": "code",
      "execution_count": 8,
      "id": "e7691e61",
      "metadata": {
        "id": "e7691e61"
      },
      "outputs": [],
      "source": [
        "DATA_DIR    = '/content/data/11-785-s23-hw2p2-classification'\n",
        "TRAIN_DIR   = os.path.join(DATA_DIR, \"train\") \n",
        "VAL_DIR     = os.path.join(DATA_DIR, \"dev\")\n",
        "TEST_DIR    = os.path.join(DATA_DIR, \"test\")\n",
        "\n",
        "# Transforms using torchvision - Refer https://pytorch.org/vision/stable/transforms.html\n",
        "\n",
        "train_transforms = torchvision.transforms.Compose([\n",
        "                torchvision.transforms.RandomHorizontalFlip(0.5),\n",
        "                torchvision.transforms.ColorJitter(brightness = 0.2, contrast = 0.2, saturation = 0.2),\n",
        "                torchvision.transforms.RandomGrayscale(p=0.2),\n",
        "                torchvision.transforms.RandAugment(),\n",
        "                torchvision.transforms.ToTensor(),\n",
        "                \n",
        "                ])\n",
        "# Most torchvision transforms are done on PIL images. So you convert it into a tensor at the end with ToTensor()\n",
        "# But there are some transforms which are performed after ToTensor() : e.g - Normalization\n",
        "# Normalization Tip - Do not blindly use normalization that is not suitable for this dataset\n",
        "\n",
        "valid_transforms = torchvision.transforms.Compose([\n",
        "    torchvision.transforms.ToTensor()\n",
        "])\n",
        "\n",
        "\n",
        "train_dataset   = torchvision.datasets.ImageFolder(TRAIN_DIR, transform= train_transforms)\n",
        "valid_dataset   = torchvision.datasets.ImageFolder(VAL_DIR, transform= valid_transforms)\n",
        "# You should NOT have data augmentation on the validation set. Why?\n",
        "\n",
        "\n",
        "# Create data loaders\n",
        "train_loader = torch.utils.data.DataLoader(\n",
        "    dataset     = train_dataset, \n",
        "    batch_size  = config['batch_size'], \n",
        "    shuffle     = True,\n",
        "    num_workers = 4, \n",
        "    pin_memory  = True\n",
        ")\n",
        "\n",
        "valid_loader = torch.utils.data.DataLoader(\n",
        "    dataset     = valid_dataset, \n",
        "    batch_size  = config['batch_size'],\n",
        "    shuffle     = False,\n",
        "    num_workers = 2\n",
        ")"
      ]
    },
    {
      "cell_type": "code",
      "execution_count": 9,
      "id": "02e27415",
      "metadata": {
        "id": "02e27415"
      },
      "outputs": [],
      "source": [
        "class ClassificationTestDataset(torch.utils.data.Dataset):\n",
        "\n",
        "    def __init__(self, data_dir, transforms):\n",
        "        self.data_dir   = data_dir\n",
        "        self.transforms = transforms\n",
        "\n",
        "        # This one-liner basically generates a sorted list of full paths to each image in the test directory\n",
        "        self.img_paths  = list(map(lambda fname: os.path.join(self.data_dir, fname), sorted(os.listdir(self.data_dir))))\n",
        "\n",
        "    def __len__(self):\n",
        "        return len(self.img_paths)\n",
        "    \n",
        "    def __getitem__(self, idx):\n",
        "        return self.transforms(Image.open(self.img_paths[idx]))"
      ]
    },
    {
      "cell_type": "code",
      "execution_count": 10,
      "id": "4cd11fa6",
      "metadata": {
        "id": "4cd11fa6"
      },
      "outputs": [],
      "source": [
        "test_dataset = ClassificationTestDataset(TEST_DIR, transforms = valid_transforms) #Why are we using val_transforms for Test Data?\n",
        "test_loader = torch.utils.data.DataLoader(test_dataset, batch_size = config['batch_size'], shuffle = False,\n",
        "                         drop_last = False, num_workers = 2)"
      ]
    },
    {
      "cell_type": "code",
      "execution_count": 11,
      "id": "29bfb664",
      "metadata": {
        "colab": {
          "base_uri": "https://localhost:8080/"
        },
        "id": "29bfb664",
        "outputId": "dcb067e8-8a50-4627-bf15-f238f4587311"
      },
      "outputs": [
        {
          "output_type": "stream",
          "name": "stdout",
          "text": [
            "Number of classes    :  7000\n",
            "No. of train images  :  140000\n",
            "Shape of image       :  torch.Size([3, 224, 224])\n",
            "Batch size           :  64\n",
            "Train batches        :  2188\n",
            "Val batches          :  547\n"
          ]
        }
      ],
      "source": [
        "print(\"Number of classes    : \", len(train_dataset.classes))\n",
        "print(\"No. of train images  : \", train_dataset.__len__())\n",
        "print(\"Shape of image       : \", train_dataset[0][0].shape)\n",
        "print(\"Batch size           : \", config['batch_size'])\n",
        "print(\"Train batches        : \", train_loader.__len__())\n",
        "print(\"Val batches          : \", valid_loader.__len__())"
      ]
    },
    {
      "cell_type": "code",
      "execution_count": 13,
      "id": "0c3bbf37",
      "metadata": {
        "colab": {
          "base_uri": "https://localhost:8080/"
        },
        "id": "0c3bbf37",
        "outputId": "466efb34-e512-4d6a-b99c-23e7fbc539d7"
      },
      "outputs": [
        {
          "output_type": "execute_result",
          "data": {
            "text/plain": [
              "0"
            ]
          },
          "metadata": {},
          "execution_count": 13
        }
      ],
      "source": [
        "torch.cuda.empty_cache()\n",
        "gc.collect()"
      ]
    },
    {
      "cell_type": "code",
      "source": [
        "Net = torchvision.models.convnext_tiny()\n",
        "print(Net)"
      ],
      "metadata": {
        "colab": {
          "base_uri": "https://localhost:8080/"
        },
        "id": "TlAnZ5Ev60Jk",
        "outputId": "de64cf18-5faa-4fa4-c5b5-523b2def9a76"
      },
      "id": "TlAnZ5Ev60Jk",
      "execution_count": null,
      "outputs": [
        {
          "output_type": "stream",
          "name": "stdout",
          "text": [
            "ConvNeXt(\n",
            "  (features): Sequential(\n",
            "    (0): Conv2dNormActivation(\n",
            "      (0): Conv2d(3, 96, kernel_size=(4, 4), stride=(4, 4))\n",
            "      (1): LayerNorm2d((96,), eps=1e-06, elementwise_affine=True)\n",
            "    )\n",
            "    (1): Sequential(\n",
            "      (0): CNBlock(\n",
            "        (block): Sequential(\n",
            "          (0): Conv2d(96, 96, kernel_size=(7, 7), stride=(1, 1), padding=(3, 3), groups=96)\n",
            "          (1): Permute()\n",
            "          (2): LayerNorm((96,), eps=1e-06, elementwise_affine=True)\n",
            "          (3): Linear(in_features=96, out_features=384, bias=True)\n",
            "          (4): GELU(approximate='none')\n",
            "          (5): Linear(in_features=384, out_features=96, bias=True)\n",
            "          (6): Permute()\n",
            "        )\n",
            "        (stochastic_depth): StochasticDepth(p=0.0, mode=row)\n",
            "      )\n",
            "      (1): CNBlock(\n",
            "        (block): Sequential(\n",
            "          (0): Conv2d(96, 96, kernel_size=(7, 7), stride=(1, 1), padding=(3, 3), groups=96)\n",
            "          (1): Permute()\n",
            "          (2): LayerNorm((96,), eps=1e-06, elementwise_affine=True)\n",
            "          (3): Linear(in_features=96, out_features=384, bias=True)\n",
            "          (4): GELU(approximate='none')\n",
            "          (5): Linear(in_features=384, out_features=96, bias=True)\n",
            "          (6): Permute()\n",
            "        )\n",
            "        (stochastic_depth): StochasticDepth(p=0.0058823529411764705, mode=row)\n",
            "      )\n",
            "      (2): CNBlock(\n",
            "        (block): Sequential(\n",
            "          (0): Conv2d(96, 96, kernel_size=(7, 7), stride=(1, 1), padding=(3, 3), groups=96)\n",
            "          (1): Permute()\n",
            "          (2): LayerNorm((96,), eps=1e-06, elementwise_affine=True)\n",
            "          (3): Linear(in_features=96, out_features=384, bias=True)\n",
            "          (4): GELU(approximate='none')\n",
            "          (5): Linear(in_features=384, out_features=96, bias=True)\n",
            "          (6): Permute()\n",
            "        )\n",
            "        (stochastic_depth): StochasticDepth(p=0.011764705882352941, mode=row)\n",
            "      )\n",
            "    )\n",
            "    (2): Sequential(\n",
            "      (0): LayerNorm2d((96,), eps=1e-06, elementwise_affine=True)\n",
            "      (1): Conv2d(96, 192, kernel_size=(2, 2), stride=(2, 2))\n",
            "    )\n",
            "    (3): Sequential(\n",
            "      (0): CNBlock(\n",
            "        (block): Sequential(\n",
            "          (0): Conv2d(192, 192, kernel_size=(7, 7), stride=(1, 1), padding=(3, 3), groups=192)\n",
            "          (1): Permute()\n",
            "          (2): LayerNorm((192,), eps=1e-06, elementwise_affine=True)\n",
            "          (3): Linear(in_features=192, out_features=768, bias=True)\n",
            "          (4): GELU(approximate='none')\n",
            "          (5): Linear(in_features=768, out_features=192, bias=True)\n",
            "          (6): Permute()\n",
            "        )\n",
            "        (stochastic_depth): StochasticDepth(p=0.017647058823529415, mode=row)\n",
            "      )\n",
            "      (1): CNBlock(\n",
            "        (block): Sequential(\n",
            "          (0): Conv2d(192, 192, kernel_size=(7, 7), stride=(1, 1), padding=(3, 3), groups=192)\n",
            "          (1): Permute()\n",
            "          (2): LayerNorm((192,), eps=1e-06, elementwise_affine=True)\n",
            "          (3): Linear(in_features=192, out_features=768, bias=True)\n",
            "          (4): GELU(approximate='none')\n",
            "          (5): Linear(in_features=768, out_features=192, bias=True)\n",
            "          (6): Permute()\n",
            "        )\n",
            "        (stochastic_depth): StochasticDepth(p=0.023529411764705882, mode=row)\n",
            "      )\n",
            "      (2): CNBlock(\n",
            "        (block): Sequential(\n",
            "          (0): Conv2d(192, 192, kernel_size=(7, 7), stride=(1, 1), padding=(3, 3), groups=192)\n",
            "          (1): Permute()\n",
            "          (2): LayerNorm((192,), eps=1e-06, elementwise_affine=True)\n",
            "          (3): Linear(in_features=192, out_features=768, bias=True)\n",
            "          (4): GELU(approximate='none')\n",
            "          (5): Linear(in_features=768, out_features=192, bias=True)\n",
            "          (6): Permute()\n",
            "        )\n",
            "        (stochastic_depth): StochasticDepth(p=0.029411764705882353, mode=row)\n",
            "      )\n",
            "    )\n",
            "    (4): Sequential(\n",
            "      (0): LayerNorm2d((192,), eps=1e-06, elementwise_affine=True)\n",
            "      (1): Conv2d(192, 384, kernel_size=(2, 2), stride=(2, 2))\n",
            "    )\n",
            "    (5): Sequential(\n",
            "      (0): CNBlock(\n",
            "        (block): Sequential(\n",
            "          (0): Conv2d(384, 384, kernel_size=(7, 7), stride=(1, 1), padding=(3, 3), groups=384)\n",
            "          (1): Permute()\n",
            "          (2): LayerNorm((384,), eps=1e-06, elementwise_affine=True)\n",
            "          (3): Linear(in_features=384, out_features=1536, bias=True)\n",
            "          (4): GELU(approximate='none')\n",
            "          (5): Linear(in_features=1536, out_features=384, bias=True)\n",
            "          (6): Permute()\n",
            "        )\n",
            "        (stochastic_depth): StochasticDepth(p=0.03529411764705883, mode=row)\n",
            "      )\n",
            "      (1): CNBlock(\n",
            "        (block): Sequential(\n",
            "          (0): Conv2d(384, 384, kernel_size=(7, 7), stride=(1, 1), padding=(3, 3), groups=384)\n",
            "          (1): Permute()\n",
            "          (2): LayerNorm((384,), eps=1e-06, elementwise_affine=True)\n",
            "          (3): Linear(in_features=384, out_features=1536, bias=True)\n",
            "          (4): GELU(approximate='none')\n",
            "          (5): Linear(in_features=1536, out_features=384, bias=True)\n",
            "          (6): Permute()\n",
            "        )\n",
            "        (stochastic_depth): StochasticDepth(p=0.0411764705882353, mode=row)\n",
            "      )\n",
            "      (2): CNBlock(\n",
            "        (block): Sequential(\n",
            "          (0): Conv2d(384, 384, kernel_size=(7, 7), stride=(1, 1), padding=(3, 3), groups=384)\n",
            "          (1): Permute()\n",
            "          (2): LayerNorm((384,), eps=1e-06, elementwise_affine=True)\n",
            "          (3): Linear(in_features=384, out_features=1536, bias=True)\n",
            "          (4): GELU(approximate='none')\n",
            "          (5): Linear(in_features=1536, out_features=384, bias=True)\n",
            "          (6): Permute()\n",
            "        )\n",
            "        (stochastic_depth): StochasticDepth(p=0.047058823529411764, mode=row)\n",
            "      )\n",
            "      (3): CNBlock(\n",
            "        (block): Sequential(\n",
            "          (0): Conv2d(384, 384, kernel_size=(7, 7), stride=(1, 1), padding=(3, 3), groups=384)\n",
            "          (1): Permute()\n",
            "          (2): LayerNorm((384,), eps=1e-06, elementwise_affine=True)\n",
            "          (3): Linear(in_features=384, out_features=1536, bias=True)\n",
            "          (4): GELU(approximate='none')\n",
            "          (5): Linear(in_features=1536, out_features=384, bias=True)\n",
            "          (6): Permute()\n",
            "        )\n",
            "        (stochastic_depth): StochasticDepth(p=0.052941176470588235, mode=row)\n",
            "      )\n",
            "      (4): CNBlock(\n",
            "        (block): Sequential(\n",
            "          (0): Conv2d(384, 384, kernel_size=(7, 7), stride=(1, 1), padding=(3, 3), groups=384)\n",
            "          (1): Permute()\n",
            "          (2): LayerNorm((384,), eps=1e-06, elementwise_affine=True)\n",
            "          (3): Linear(in_features=384, out_features=1536, bias=True)\n",
            "          (4): GELU(approximate='none')\n",
            "          (5): Linear(in_features=1536, out_features=384, bias=True)\n",
            "          (6): Permute()\n",
            "        )\n",
            "        (stochastic_depth): StochasticDepth(p=0.058823529411764705, mode=row)\n",
            "      )\n",
            "      (5): CNBlock(\n",
            "        (block): Sequential(\n",
            "          (0): Conv2d(384, 384, kernel_size=(7, 7), stride=(1, 1), padding=(3, 3), groups=384)\n",
            "          (1): Permute()\n",
            "          (2): LayerNorm((384,), eps=1e-06, elementwise_affine=True)\n",
            "          (3): Linear(in_features=384, out_features=1536, bias=True)\n",
            "          (4): GELU(approximate='none')\n",
            "          (5): Linear(in_features=1536, out_features=384, bias=True)\n",
            "          (6): Permute()\n",
            "        )\n",
            "        (stochastic_depth): StochasticDepth(p=0.06470588235294118, mode=row)\n",
            "      )\n",
            "      (6): CNBlock(\n",
            "        (block): Sequential(\n",
            "          (0): Conv2d(384, 384, kernel_size=(7, 7), stride=(1, 1), padding=(3, 3), groups=384)\n",
            "          (1): Permute()\n",
            "          (2): LayerNorm((384,), eps=1e-06, elementwise_affine=True)\n",
            "          (3): Linear(in_features=384, out_features=1536, bias=True)\n",
            "          (4): GELU(approximate='none')\n",
            "          (5): Linear(in_features=1536, out_features=384, bias=True)\n",
            "          (6): Permute()\n",
            "        )\n",
            "        (stochastic_depth): StochasticDepth(p=0.07058823529411766, mode=row)\n",
            "      )\n",
            "      (7): CNBlock(\n",
            "        (block): Sequential(\n",
            "          (0): Conv2d(384, 384, kernel_size=(7, 7), stride=(1, 1), padding=(3, 3), groups=384)\n",
            "          (1): Permute()\n",
            "          (2): LayerNorm((384,), eps=1e-06, elementwise_affine=True)\n",
            "          (3): Linear(in_features=384, out_features=1536, bias=True)\n",
            "          (4): GELU(approximate='none')\n",
            "          (5): Linear(in_features=1536, out_features=384, bias=True)\n",
            "          (6): Permute()\n",
            "        )\n",
            "        (stochastic_depth): StochasticDepth(p=0.07647058823529412, mode=row)\n",
            "      )\n",
            "      (8): CNBlock(\n",
            "        (block): Sequential(\n",
            "          (0): Conv2d(384, 384, kernel_size=(7, 7), stride=(1, 1), padding=(3, 3), groups=384)\n",
            "          (1): Permute()\n",
            "          (2): LayerNorm((384,), eps=1e-06, elementwise_affine=True)\n",
            "          (3): Linear(in_features=384, out_features=1536, bias=True)\n",
            "          (4): GELU(approximate='none')\n",
            "          (5): Linear(in_features=1536, out_features=384, bias=True)\n",
            "          (6): Permute()\n",
            "        )\n",
            "        (stochastic_depth): StochasticDepth(p=0.0823529411764706, mode=row)\n",
            "      )\n",
            "    )\n",
            "    (6): Sequential(\n",
            "      (0): LayerNorm2d((384,), eps=1e-06, elementwise_affine=True)\n",
            "      (1): Conv2d(384, 768, kernel_size=(2, 2), stride=(2, 2))\n",
            "    )\n",
            "    (7): Sequential(\n",
            "      (0): CNBlock(\n",
            "        (block): Sequential(\n",
            "          (0): Conv2d(768, 768, kernel_size=(7, 7), stride=(1, 1), padding=(3, 3), groups=768)\n",
            "          (1): Permute()\n",
            "          (2): LayerNorm((768,), eps=1e-06, elementwise_affine=True)\n",
            "          (3): Linear(in_features=768, out_features=3072, bias=True)\n",
            "          (4): GELU(approximate='none')\n",
            "          (5): Linear(in_features=3072, out_features=768, bias=True)\n",
            "          (6): Permute()\n",
            "        )\n",
            "        (stochastic_depth): StochasticDepth(p=0.08823529411764706, mode=row)\n",
            "      )\n",
            "      (1): CNBlock(\n",
            "        (block): Sequential(\n",
            "          (0): Conv2d(768, 768, kernel_size=(7, 7), stride=(1, 1), padding=(3, 3), groups=768)\n",
            "          (1): Permute()\n",
            "          (2): LayerNorm((768,), eps=1e-06, elementwise_affine=True)\n",
            "          (3): Linear(in_features=768, out_features=3072, bias=True)\n",
            "          (4): GELU(approximate='none')\n",
            "          (5): Linear(in_features=3072, out_features=768, bias=True)\n",
            "          (6): Permute()\n",
            "        )\n",
            "        (stochastic_depth): StochasticDepth(p=0.09411764705882353, mode=row)\n",
            "      )\n",
            "      (2): CNBlock(\n",
            "        (block): Sequential(\n",
            "          (0): Conv2d(768, 768, kernel_size=(7, 7), stride=(1, 1), padding=(3, 3), groups=768)\n",
            "          (1): Permute()\n",
            "          (2): LayerNorm((768,), eps=1e-06, elementwise_affine=True)\n",
            "          (3): Linear(in_features=768, out_features=3072, bias=True)\n",
            "          (4): GELU(approximate='none')\n",
            "          (5): Linear(in_features=3072, out_features=768, bias=True)\n",
            "          (6): Permute()\n",
            "        )\n",
            "        (stochastic_depth): StochasticDepth(p=0.1, mode=row)\n",
            "      )\n",
            "    )\n",
            "  )\n",
            "  (avgpool): AdaptiveAvgPool2d(output_size=1)\n",
            "  (classifier): Sequential(\n",
            "    (0): LayerNorm2d((768,), eps=1e-06, elementwise_affine=True)\n",
            "    (1): Flatten(start_dim=1, end_dim=-1)\n",
            "    (2): Linear(in_features=768, out_features=1000, bias=True)\n",
            "  )\n",
            ")\n"
          ]
        }
      ]
    },
    {
      "cell_type": "code",
      "source": [
        "class TinyConvNeXtBlock(nn.Module):\n",
        "  def __init__(self, in_channels, out_channels, expansion_ratio, dropout):\n",
        "    super().__init__()\n",
        "    hidden_dim = in_channels * expansion_ratio\n",
        "\n",
        "\n",
        "\n",
        "    self.conv_1 = nn.Conv2d(in_channels, in_channels, kernel_size=7, padding=3, groups=in_channels)\n",
        "\n",
        "    self.bn_1 = nn.BatchNorm2d(in_channels)\n",
        "\n",
        "    \n",
        "    self.conv_2 = nn.Conv2d(in_channels, hidden_dim, kernel_size=1, stride=1, padding=0)\n",
        "\n",
        "\n",
        "    self.gelu = nn.GELU()\n",
        "\n",
        "    \n",
        "    self.conv_3 = nn.Conv2d(hidden_dim, out_channels, kernel_size=1, stride=1, padding=0)\n",
        "    \n",
        "\n",
        "    self.stoch_depth = torchvision.ops.StochasticDepth(p=dropout, mode=\"row\")\n",
        "\n",
        "  def forward(self, x):\n",
        "    out = self.conv_1(x)\n",
        "    out = self.bn_1(out)\n",
        "    out = self.conv_2(out)\n",
        "    out = self.gelu(out)\n",
        "    out = self.conv_3(out)\n",
        "    x = x + self.stoch_depth(out)\n",
        "    return x"
      ],
      "metadata": {
        "id": "rekrxodVWFUp"
      },
      "id": "rekrxodVWFUp",
      "execution_count": null,
      "outputs": []
    },
    {
      "cell_type": "code",
      "source": [
        "class Network(nn.Module):\n",
        "\n",
        "  def __init__(self, num_classes=7000):\n",
        "    super().__init__()\n",
        "    self.num_classes = num_classes\n",
        "    self.layers = []\n",
        "\n",
        "    start_dropout = 0.0  # Initial dropout probability\n",
        "    end_dropout = 0.1\n",
        "\n",
        "  \n",
        "  \n",
        "\n",
        "    self.expnum_block = [[4, 96, 3],\n",
        "                        [4, 192, 3], \n",
        "                         [4, 384, 9],    \n",
        "                         [4, 768, 3]\n",
        "                         ]\n",
        "\n",
        "\n",
        "\n",
        "   \n",
        "\n",
        "    \n",
        "    stem_channels = self.expnum_block[0][1]\n",
        "    tiny_stem = nn.Sequential(\n",
        "        nn.Conv2d(in_channels = 3, out_channels = stem_channels, kernel_size=4, stride=4),\n",
        "        nn.BatchNorm2d(num_features = stem_channels)) \n",
        "\n",
        "   \n",
        "\n",
        "    self.layers = nn.ModuleList()\n",
        "    start_dropout = 0.0  # Initial dropout probability\n",
        "    end_dropout = 0.1\n",
        "\n",
        "    for i, (expansion_ratio, in_channels, num_blocks) in enumerate(self.expnum_block):\n",
        "     dropout_probs = torch.linspace(start_dropout, end_dropout, num_blocks)\n",
        "\n",
        "     for j in range(num_blocks):\n",
        "       self.layers.append(TinyConvNeXtBlock(in_channels, in_channels, expansion_ratio, dropout=dropout_probs[j].item()))\n",
        "       start_dropout = end_dropout\n",
        "       end_dropout += 0.0001\n",
        "      \n",
        "    if i < len(self.expnum_block) - 1:\n",
        "     self.layers.append(nn.Sequential(\n",
        "            nn.BatchNorm2d(in_channels),\n",
        "            nn.Conv2d(in_channels, self.expnum_block[i+1][1], kernel_size=2, stride=2)\n",
        "        ))\n",
        "\n",
        "    self.embeddings = nn.Sequential(\n",
        "    nn.AdaptiveAvgPool2d(1),\n",
        "    nn.BatchNorm2d(self.expnum_block[-1][1]),\n",
        "    nn.Flatten(),\n",
        ")\n",
        "\n",
        "    self.classification = nn.Linear(self.expnum_block[-1][1], self.num_classes)\n",
        "\n",
        "\n",
        "  def forward(self, x, return_feats=False):\n",
        "    \"\"\"\n",
        "    What is return_feats? It essentially returns the second-to-last-layer\n",
        "    features of a given image. It's a \"feature encoding\" of the input image,\n",
        "    and you can use it for the verification task. You would use the outputs\n",
        "    of the final classification layer for the classification task.\n",
        "\n",
        "    You might also find that the classification outputs are sometimes better\n",
        "    for verification too - try both.\n",
        "    \"\"\"\n",
        "    out = self.layers(x)\n",
        "    feats = self.embeddings(out)\n",
        "\n",
        "    out = self.classification(feats)\n",
        "    \n",
        "    \n",
        "    if return_feats:\n",
        "      return feats\n",
        "    else:\n",
        "      return out "
      ],
      "metadata": {
        "id": "4Hh6JVV6WawU"
      },
      "id": "4Hh6JVV6WawU",
      "execution_count": null,
      "outputs": []
    },
    {
      "cell_type": "code",
      "source": [
        "model = Network()\n",
        "device = torch.device(\"cuda\" if torch.cuda.is_available() else \"cpu\")\n",
        "model= torch.nn.DataParallel(model)\n",
        "model.to(device)"
      ],
      "metadata": {
        "colab": {
          "base_uri": "https://localhost:8080/"
        },
        "id": "ZLhFlO7VM2wV",
        "outputId": "5a7720d9-cb3f-45a7-f0b8-ed85407ee386"
      },
      "id": "ZLhFlO7VM2wV",
      "execution_count": 19,
      "outputs": [
        {
          "output_type": "execute_result",
          "data": {
            "text/plain": [
              "DataParallel(\n",
              "  (module): Network(\n",
              "    (layers): ModuleList(\n",
              "      (0): ConvNeXtBlock(\n",
              "        (conv_1): Conv2d(96, 96, kernel_size=(7, 7), stride=(1, 1), padding=(3, 3), groups=96)\n",
              "        (bn_1): BatchNorm2d(96, eps=1e-05, momentum=0.1, affine=True, track_running_stats=True)\n",
              "        (conv_2): Conv2d(96, 384, kernel_size=(1, 1), stride=(1, 1))\n",
              "        (gelu): GELU(approximate='none')\n",
              "        (conv_3): Conv2d(384, 96, kernel_size=(1, 1), stride=(1, 1))\n",
              "        (stoch_depth): StochasticDepth(p=0.0, mode=row)\n",
              "      )\n",
              "      (1): ConvNeXtBlock(\n",
              "        (conv_1): Conv2d(96, 96, kernel_size=(7, 7), stride=(1, 1), padding=(3, 3), groups=96)\n",
              "        (bn_1): BatchNorm2d(96, eps=1e-05, momentum=0.1, affine=True, track_running_stats=True)\n",
              "        (conv_2): Conv2d(96, 384, kernel_size=(1, 1), stride=(1, 1))\n",
              "        (gelu): GELU(approximate='none')\n",
              "        (conv_3): Conv2d(384, 96, kernel_size=(1, 1), stride=(1, 1))\n",
              "        (stoch_depth): StochasticDepth(p=0.05000000074505806, mode=row)\n",
              "      )\n",
              "      (2): ConvNeXtBlock(\n",
              "        (conv_1): Conv2d(96, 96, kernel_size=(7, 7), stride=(1, 1), padding=(3, 3), groups=96)\n",
              "        (bn_1): BatchNorm2d(96, eps=1e-05, momentum=0.1, affine=True, track_running_stats=True)\n",
              "        (conv_2): Conv2d(96, 384, kernel_size=(1, 1), stride=(1, 1))\n",
              "        (gelu): GELU(approximate='none')\n",
              "        (conv_3): Conv2d(384, 96, kernel_size=(1, 1), stride=(1, 1))\n",
              "        (stoch_depth): StochasticDepth(p=0.10000000149011612, mode=row)\n",
              "      )\n",
              "      (3): ConvNeXtBlock(\n",
              "        (conv_1): Conv2d(192, 192, kernel_size=(7, 7), stride=(1, 1), padding=(3, 3), groups=192)\n",
              "        (bn_1): BatchNorm2d(192, eps=1e-05, momentum=0.1, affine=True, track_running_stats=True)\n",
              "        (conv_2): Conv2d(192, 768, kernel_size=(1, 1), stride=(1, 1))\n",
              "        (gelu): GELU(approximate='none')\n",
              "        (conv_3): Conv2d(768, 192, kernel_size=(1, 1), stride=(1, 1))\n",
              "        (stoch_depth): StochasticDepth(p=0.10019999742507935, mode=row)\n",
              "      )\n",
              "      (4): ConvNeXtBlock(\n",
              "        (conv_1): Conv2d(192, 192, kernel_size=(7, 7), stride=(1, 1), padding=(3, 3), groups=192)\n",
              "        (bn_1): BatchNorm2d(192, eps=1e-05, momentum=0.1, affine=True, track_running_stats=True)\n",
              "        (conv_2): Conv2d(192, 768, kernel_size=(1, 1), stride=(1, 1))\n",
              "        (gelu): GELU(approximate='none')\n",
              "        (conv_3): Conv2d(768, 192, kernel_size=(1, 1), stride=(1, 1))\n",
              "        (stoch_depth): StochasticDepth(p=0.1002499982714653, mode=row)\n",
              "      )\n",
              "      (5): ConvNeXtBlock(\n",
              "        (conv_1): Conv2d(192, 192, kernel_size=(7, 7), stride=(1, 1), padding=(3, 3), groups=192)\n",
              "        (bn_1): BatchNorm2d(192, eps=1e-05, momentum=0.1, affine=True, track_running_stats=True)\n",
              "        (conv_2): Conv2d(192, 768, kernel_size=(1, 1), stride=(1, 1))\n",
              "        (gelu): GELU(approximate='none')\n",
              "        (conv_3): Conv2d(768, 192, kernel_size=(1, 1), stride=(1, 1))\n",
              "        (stoch_depth): StochasticDepth(p=0.10029999911785126, mode=row)\n",
              "      )\n",
              "      (6): ConvNeXtBlock(\n",
              "        (conv_1): Conv2d(384, 384, kernel_size=(7, 7), stride=(1, 1), padding=(3, 3), groups=384)\n",
              "        (bn_1): BatchNorm2d(384, eps=1e-05, momentum=0.1, affine=True, track_running_stats=True)\n",
              "        (conv_2): Conv2d(384, 1536, kernel_size=(1, 1), stride=(1, 1))\n",
              "        (gelu): GELU(approximate='none')\n",
              "        (conv_3): Conv2d(1536, 384, kernel_size=(1, 1), stride=(1, 1))\n",
              "        (stoch_depth): StochasticDepth(p=0.10050000250339508, mode=row)\n",
              "      )\n",
              "      (7): ConvNeXtBlock(\n",
              "        (conv_1): Conv2d(384, 384, kernel_size=(7, 7), stride=(1, 1), padding=(3, 3), groups=384)\n",
              "        (bn_1): BatchNorm2d(384, eps=1e-05, momentum=0.1, affine=True, track_running_stats=True)\n",
              "        (conv_2): Conv2d(384, 1536, kernel_size=(1, 1), stride=(1, 1))\n",
              "        (gelu): GELU(approximate='none')\n",
              "        (conv_3): Conv2d(1536, 384, kernel_size=(1, 1), stride=(1, 1))\n",
              "        (stoch_depth): StochasticDepth(p=0.10051250457763672, mode=row)\n",
              "      )\n",
              "      (8): ConvNeXtBlock(\n",
              "        (conv_1): Conv2d(384, 384, kernel_size=(7, 7), stride=(1, 1), padding=(3, 3), groups=384)\n",
              "        (bn_1): BatchNorm2d(384, eps=1e-05, momentum=0.1, affine=True, track_running_stats=True)\n",
              "        (conv_2): Conv2d(384, 1536, kernel_size=(1, 1), stride=(1, 1))\n",
              "        (gelu): GELU(approximate='none')\n",
              "        (conv_3): Conv2d(1536, 384, kernel_size=(1, 1), stride=(1, 1))\n",
              "        (stoch_depth): StochasticDepth(p=0.10052499920129776, mode=row)\n",
              "      )\n",
              "      (9): ConvNeXtBlock(\n",
              "        (conv_1): Conv2d(384, 384, kernel_size=(7, 7), stride=(1, 1), padding=(3, 3), groups=384)\n",
              "        (bn_1): BatchNorm2d(384, eps=1e-05, momentum=0.1, affine=True, track_running_stats=True)\n",
              "        (conv_2): Conv2d(384, 1536, kernel_size=(1, 1), stride=(1, 1))\n",
              "        (gelu): GELU(approximate='none')\n",
              "        (conv_3): Conv2d(1536, 384, kernel_size=(1, 1), stride=(1, 1))\n",
              "        (stoch_depth): StochasticDepth(p=0.1005375012755394, mode=row)\n",
              "      )\n",
              "      (10): ConvNeXtBlock(\n",
              "        (conv_1): Conv2d(384, 384, kernel_size=(7, 7), stride=(1, 1), padding=(3, 3), groups=384)\n",
              "        (bn_1): BatchNorm2d(384, eps=1e-05, momentum=0.1, affine=True, track_running_stats=True)\n",
              "        (conv_2): Conv2d(384, 1536, kernel_size=(1, 1), stride=(1, 1))\n",
              "        (gelu): GELU(approximate='none')\n",
              "        (conv_3): Conv2d(1536, 384, kernel_size=(1, 1), stride=(1, 1))\n",
              "        (stoch_depth): StochasticDepth(p=0.10054999589920044, mode=row)\n",
              "      )\n",
              "      (11): ConvNeXtBlock(\n",
              "        (conv_1): Conv2d(384, 384, kernel_size=(7, 7), stride=(1, 1), padding=(3, 3), groups=384)\n",
              "        (bn_1): BatchNorm2d(384, eps=1e-05, momentum=0.1, affine=True, track_running_stats=True)\n",
              "        (conv_2): Conv2d(384, 1536, kernel_size=(1, 1), stride=(1, 1))\n",
              "        (gelu): GELU(approximate='none')\n",
              "        (conv_3): Conv2d(1536, 384, kernel_size=(1, 1), stride=(1, 1))\n",
              "        (stoch_depth): StochasticDepth(p=0.10056249797344208, mode=row)\n",
              "      )\n",
              "      (12): ConvNeXtBlock(\n",
              "        (conv_1): Conv2d(384, 384, kernel_size=(7, 7), stride=(1, 1), padding=(3, 3), groups=384)\n",
              "        (bn_1): BatchNorm2d(384, eps=1e-05, momentum=0.1, affine=True, track_running_stats=True)\n",
              "        (conv_2): Conv2d(384, 1536, kernel_size=(1, 1), stride=(1, 1))\n",
              "        (gelu): GELU(approximate='none')\n",
              "        (conv_3): Conv2d(1536, 384, kernel_size=(1, 1), stride=(1, 1))\n",
              "        (stoch_depth): StochasticDepth(p=0.10057500004768372, mode=row)\n",
              "      )\n",
              "      (13): ConvNeXtBlock(\n",
              "        (conv_1): Conv2d(384, 384, kernel_size=(7, 7), stride=(1, 1), padding=(3, 3), groups=384)\n",
              "        (bn_1): BatchNorm2d(384, eps=1e-05, momentum=0.1, affine=True, track_running_stats=True)\n",
              "        (conv_2): Conv2d(384, 1536, kernel_size=(1, 1), stride=(1, 1))\n",
              "        (gelu): GELU(approximate='none')\n",
              "        (conv_3): Conv2d(1536, 384, kernel_size=(1, 1), stride=(1, 1))\n",
              "        (stoch_depth): StochasticDepth(p=0.10058749467134476, mode=row)\n",
              "      )\n",
              "      (14): ConvNeXtBlock(\n",
              "        (conv_1): Conv2d(384, 384, kernel_size=(7, 7), stride=(1, 1), padding=(3, 3), groups=384)\n",
              "        (bn_1): BatchNorm2d(384, eps=1e-05, momentum=0.1, affine=True, track_running_stats=True)\n",
              "        (conv_2): Conv2d(384, 1536, kernel_size=(1, 1), stride=(1, 1))\n",
              "        (gelu): GELU(approximate='none')\n",
              "        (conv_3): Conv2d(1536, 384, kernel_size=(1, 1), stride=(1, 1))\n",
              "        (stoch_depth): StochasticDepth(p=0.1005999967455864, mode=row)\n",
              "      )\n",
              "      (15): ConvNeXtBlock(\n",
              "        (conv_1): Conv2d(768, 768, kernel_size=(7, 7), stride=(1, 1), padding=(3, 3), groups=768)\n",
              "        (bn_1): BatchNorm2d(768, eps=1e-05, momentum=0.1, affine=True, track_running_stats=True)\n",
              "        (conv_2): Conv2d(768, 3072, kernel_size=(1, 1), stride=(1, 1))\n",
              "        (gelu): GELU(approximate='none')\n",
              "        (conv_3): Conv2d(3072, 768, kernel_size=(1, 1), stride=(1, 1))\n",
              "        (stoch_depth): StochasticDepth(p=0.10140000283718109, mode=row)\n",
              "      )\n",
              "      (16): ConvNeXtBlock(\n",
              "        (conv_1): Conv2d(768, 768, kernel_size=(7, 7), stride=(1, 1), padding=(3, 3), groups=768)\n",
              "        (bn_1): BatchNorm2d(768, eps=1e-05, momentum=0.1, affine=True, track_running_stats=True)\n",
              "        (conv_2): Conv2d(768, 3072, kernel_size=(1, 1), stride=(1, 1))\n",
              "        (gelu): GELU(approximate='none')\n",
              "        (conv_3): Conv2d(3072, 768, kernel_size=(1, 1), stride=(1, 1))\n",
              "        (stoch_depth): StochasticDepth(p=0.10144999623298645, mode=row)\n",
              "      )\n",
              "      (17): ConvNeXtBlock(\n",
              "        (conv_1): Conv2d(768, 768, kernel_size=(7, 7), stride=(1, 1), padding=(3, 3), groups=768)\n",
              "        (bn_1): BatchNorm2d(768, eps=1e-05, momentum=0.1, affine=True, track_running_stats=True)\n",
              "        (conv_2): Conv2d(768, 3072, kernel_size=(1, 1), stride=(1, 1))\n",
              "        (gelu): GELU(approximate='none')\n",
              "        (conv_3): Conv2d(3072, 768, kernel_size=(1, 1), stride=(1, 1))\n",
              "        (stoch_depth): StochasticDepth(p=0.1014999970793724, mode=row)\n",
              "      )\n",
              "    )\n",
              "    (embeddings): Sequential(\n",
              "      (0): AdaptiveAvgPool2d(output_size=1)\n",
              "      (1): BatchNorm2d(768, eps=1e-05, momentum=0.1, affine=True, track_running_stats=True)\n",
              "      (2): Flatten(start_dim=1, end_dim=-1)\n",
              "    )\n",
              "    (classification): Linear(in_features=768, out_features=7000, bias=True)\n",
              "  )\n",
              ")"
            ]
          },
          "metadata": {},
          "execution_count": 19
        }
      ]
    },
    {
      "cell_type": "code",
      "execution_count": null,
      "id": "b10c79ed",
      "metadata": {
        "colab": {
          "base_uri": "https://localhost:8080/"
        },
        "id": "b10c79ed",
        "outputId": "7a8a056b-1eea-4494-bb0b-48fe591354c7"
      },
      "outputs": [
        {
          "output_type": "execute_result",
          "data": {
            "text/plain": [
              "0"
            ]
          },
          "metadata": {},
          "execution_count": 15
        }
      ],
      "source": [
        "torch.cuda.empty_cache()\n",
        "gc.collect()"
      ]
    },
    {
      "cell_type": "code",
      "execution_count": null,
      "id": "1e27b610",
      "metadata": {
        "id": "1e27b610"
      },
      "outputs": [],
      "source": [
        "criterion = torch.nn.CrossEntropyLoss(label_smoothing=0.2)\n",
        "optimizer = torch.optim.SGD(model.parameters(), lr=config['lr'], momentum=0.9, weight_decay=1e-4)\n",
        "#scheduler = torch.optim.lr_scheduler.ReduceLROnPlateau(optimizer, patience=4, factor=0.5,mode = 'max',verbose=True)\n",
        "\n",
        "scheduler = torch.optim.lr_scheduler.CosineAnnealingLR(optimizer, T_max=(len(train_loader) * config['epochs']))\n",
        "scaler = torch.cuda.amp.GradScaler()\n",
        "\n",
        "\n",
        "# TODO: Implement a scheduler (Optional but Highly Recommended)\n",
        "# You can try ReduceLRonPlateau, StepLR, MultistepLR, CosineAnnealing, etc.\n",
        "# Good news. We have FP16 (Mixed precision training) implemented for you\n",
        "# It is useful only in the case of compatible GPUs such as T4/V100"
      ]
    },
    {
      "cell_type": "code",
      "execution_count": null,
      "id": "5fc27084",
      "metadata": {
        "id": "5fc27084"
      },
      "outputs": [],
      "source": [
        "def train(model, dataloader, optimizer, criterion):\n",
        "    \n",
        "    model.train()\n",
        "\n",
        "    # Progress Bar \n",
        "    batch_bar   = tqdm(total=len(dataloader), dynamic_ncols=True, leave=False, position=0, desc='Train', ncols=5) \n",
        "\n",
        "    num_correct = 0\n",
        "    total_loss  = 0\n",
        "\n",
        "    for i, (images, labels) in enumerate(dataloader):\n",
        "        \n",
        "        optimizer.zero_grad() # Zero gradients\n",
        "\n",
        "        images, labels = images.to(DEVICE), labels.to(DEVICE)\n",
        "        \n",
        "        with torch.cuda.amp.autocast(): # This implements mixed precision. Thats it! \n",
        "            outputs = model(images)\n",
        "            loss    = criterion(outputs, labels)\n",
        "\n",
        "        # Update no. of correct predictions & loss as we iterate\n",
        "        num_correct     += int((torch.argmax(outputs, axis=1) == labels).sum())\n",
        "        total_loss      += float(loss.item())\n",
        "\n",
        "        # tqdm lets you add some details so you can monitor training as you train.\n",
        "        batch_bar.set_postfix(\n",
        "            acc         = \"{:.04f}%\".format(100 * num_correct / (config['batch_size']*(i + 1))),\n",
        "            loss        = \"{:.04f}\".format(float(total_loss / (i + 1))),\n",
        "            num_correct = num_correct,\n",
        "            lr          = \"{:.04f}\".format(float(optimizer.param_groups[0]['lr']))\n",
        "        )\n",
        "        \n",
        "        scaler.scale(loss).backward() # This is a replacement for loss.backward()\n",
        "        scaler.step(optimizer) # This is a replacement for optimizer.step()\n",
        "        scaler.update() \n",
        "        scheduler.step()\n",
        "\n",
        "        # TODO? Depending on your choice of scheduler,\n",
        "        # You may want to call some schdulers inside the train function. What are these?\n",
        "      \n",
        "        batch_bar.update() # Update tqdm bar\n",
        "\n",
        "    batch_bar.close() # You need this to close the tqdm bar\n",
        "\n",
        "    acc         = 100 * num_correct / (config['batch_size']* len(dataloader))\n",
        "    total_loss  = float(total_loss / len(dataloader))\n",
        "\n",
        "    return acc, total_loss"
      ]
    },
    {
      "cell_type": "code",
      "execution_count": null,
      "id": "1161f499",
      "metadata": {
        "id": "1161f499"
      },
      "outputs": [],
      "source": [
        "def validate(model, dataloader, criterion):\n",
        "  \n",
        "    model.eval()\n",
        "    batch_bar = tqdm(total=len(dataloader), dynamic_ncols=True, position=0, leave=False, desc='Val', ncols=5)\n",
        "\n",
        "    num_correct = 0.0\n",
        "    total_loss = 0.0\n",
        "\n",
        "    for i, (images, labels) in enumerate(dataloader):\n",
        "        \n",
        "        # Move images to device\n",
        "        images, labels = images.to(DEVICE), labels.to(DEVICE)\n",
        "        \n",
        "        # Get model outputs\n",
        "        with torch.inference_mode():\n",
        "            outputs = model(images)\n",
        "            loss = criterion(outputs, labels)\n",
        "\n",
        "        num_correct += int((torch.argmax(outputs, axis=1) == labels).sum())\n",
        "        total_loss += float(loss.item())\n",
        "\n",
        "        batch_bar.set_postfix(\n",
        "            acc=\"{:.04f}%\".format(100 * num_correct / (config['batch_size']*(i + 1))),\n",
        "            loss=\"{:.04f}\".format(float(total_loss / (i + 1))),\n",
        "            num_correct=num_correct)\n",
        "\n",
        "        batch_bar.update()\n",
        "        \n",
        "    batch_bar.close()\n",
        "    acc = 100 * num_correct / (config['batch_size']* len(dataloader))\n",
        "    total_loss = float(total_loss / len(dataloader))\n",
        "    return acc, total_loss"
      ]
    },
    {
      "cell_type": "code",
      "execution_count": null,
      "id": "31a1ad70",
      "metadata": {
        "colab": {
          "base_uri": "https://localhost:8080/"
        },
        "id": "31a1ad70",
        "outputId": "10bc61c6-03f6-48f2-d601-4aa7ce08e8b7"
      },
      "outputs": [
        {
          "output_type": "execute_result",
          "data": {
            "text/plain": [
              "0"
            ]
          },
          "metadata": {},
          "execution_count": 19
        }
      ],
      "source": [
        "torch.cuda.empty_cache()\n",
        "gc.collect()"
      ]
    },
    {
      "cell_type": "code",
      "execution_count": null,
      "id": "362d82ec",
      "metadata": {
        "colab": {
          "base_uri": "https://localhost:8080/"
        },
        "id": "362d82ec",
        "outputId": "94255df6-52d3-4207-ae4a-96658f41b00b"
      },
      "outputs": [
        {
          "output_type": "stream",
          "name": "stderr",
          "text": [
            "\u001b[34m\u001b[1mwandb\u001b[0m: W&B API key is configured. Use \u001b[1m`wandb login --relogin`\u001b[0m to force relogin\n",
            "\u001b[34m\u001b[1mwandb\u001b[0m: \u001b[33mWARNING\u001b[0m If you're specifying your api key in code, ensure this code is not shared publicly.\n",
            "\u001b[34m\u001b[1mwandb\u001b[0m: \u001b[33mWARNING\u001b[0m Consider setting the WANDB_API_KEY environment variable, or running `wandb login` from the command line.\n",
            "\u001b[34m\u001b[1mwandb\u001b[0m: Appending key for api.wandb.ai to your netrc file: /root/.netrc\n"
          ]
        },
        {
          "output_type": "execute_result",
          "data": {
            "text/plain": [
              "True"
            ]
          },
          "metadata": {},
          "execution_count": 20
        }
      ],
      "source": [
        "wandb.login(key=\"a0b5e594abd47863b3c9a38a1319b7dbecb14246\")"
      ]
    },
    {
      "cell_type": "code",
      "execution_count": null,
      "id": "7f9e34f8",
      "metadata": {
        "colab": {
          "base_uri": "https://localhost:8080/",
          "height": 121
        },
        "id": "7f9e34f8",
        "outputId": "fe4cd301-eb5f-453d-ebcd-31803b982241"
      },
      "outputs": [
        {
          "output_type": "stream",
          "name": "stderr",
          "text": [
            "\u001b[34m\u001b[1mwandb\u001b[0m: Currently logged in as: \u001b[33madritad\u001b[0m (\u001b[33miw\u001b[0m). Use \u001b[1m`wandb login --relogin`\u001b[0m to force relogin\n"
          ]
        },
        {
          "output_type": "display_data",
          "data": {
            "text/plain": [
              "<IPython.core.display.HTML object>"
            ],
            "text/html": [
              "Tracking run with wandb version 0.14.0"
            ]
          },
          "metadata": {}
        },
        {
          "output_type": "display_data",
          "data": {
            "text/plain": [
              "<IPython.core.display.HTML object>"
            ],
            "text/html": [
              "Run data is saved locally in <code>/content/wandb/run-20230323_140041-7ue0bdot</code>"
            ]
          },
          "metadata": {}
        },
        {
          "output_type": "display_data",
          "data": {
            "text/plain": [
              "<IPython.core.display.HTML object>"
            ],
            "text/html": [
              "Syncing run <strong><a href='https://wandb.ai/iw/hw2p2-ablations/runs/7ue0bdot' target=\"_blank\">SmallConvNeXt-lr-1e-3-sgd</a></strong> to <a href='https://wandb.ai/iw/hw2p2-ablations' target=\"_blank\">Weights & Biases</a> (<a href='https://wandb.me/run' target=\"_blank\">docs</a>)<br/>"
            ]
          },
          "metadata": {}
        },
        {
          "output_type": "display_data",
          "data": {
            "text/plain": [
              "<IPython.core.display.HTML object>"
            ],
            "text/html": [
              " View project at <a href='https://wandb.ai/iw/hw2p2-ablations' target=\"_blank\">https://wandb.ai/iw/hw2p2-ablations</a>"
            ]
          },
          "metadata": {}
        },
        {
          "output_type": "display_data",
          "data": {
            "text/plain": [
              "<IPython.core.display.HTML object>"
            ],
            "text/html": [
              " View run at <a href='https://wandb.ai/iw/hw2p2-ablations/runs/7ue0bdot' target=\"_blank\">https://wandb.ai/iw/hw2p2-ablations/runs/7ue0bdot</a>"
            ]
          },
          "metadata": {}
        }
      ],
      "source": [
        "# Create your wandb run\n",
        "run = wandb.init(\n",
        "     name = \"SmallConvNeXt-lr-1e-3-sgd\", ## Wandb creates random run names if you skip this field\n",
        "     reinit = True, ### Allows reinitalizing runs when you re-run this cell\n",
        "     #run_id = run-qasgkozm-history:v0, #Insert specific run id here if you want to resume a previous run\n",
        "     #resume = \"must\", ### You need this to resume previous runs, but comment out reinit = True when using this\n",
        "     project = \"hw2p2-ablations\", ### Project should be created in your wandb account \n",
        "     config = config ### Wandb Config for your run\n",
        " )"
      ]
    },
    {
      "cell_type": "code",
      "execution_count": null,
      "id": "8bcf2909",
      "metadata": {
        "colab": {
          "base_uri": "https://localhost:8080/"
        },
        "id": "8bcf2909",
        "outputId": "4ef1d700-d50d-4e27-e766-da9ba3d328c2"
      },
      "outputs": [
        {
          "output_type": "execute_result",
          "data": {
            "text/plain": [
              "0"
            ]
          },
          "metadata": {},
          "execution_count": 23
        }
      ],
      "source": [
        "torch.cuda.empty_cache()\n",
        "gc.collect()"
      ]
    },
    {
      "cell_type": "code",
      "execution_count": null,
      "id": "b0294b3b",
      "metadata": {
        "colab": {
          "base_uri": "https://localhost:8080/"
        },
        "id": "b0294b3b",
        "outputId": "d11d6ee9-3151-4926-8ca6-f09ce892e503"
      },
      "outputs": [
        {
          "metadata": {
            "tags": null
          },
          "name": "stderr",
          "output_type": "stream",
          "text": [
            ""
          ]
        },
        {
          "metadata": {
            "tags": null
          },
          "name": "stdout",
          "output_type": "stream",
          "text": [
            "\n",
            "Epoch 183/230: \n",
            "Train Acc 99.9386%\t Train Loss 2.3901\t Learning Rate 0.0010\n"
          ]
        },
        {
          "metadata": {
            "tags": null
          },
          "name": "stderr",
          "output_type": "stream",
          "text": [
            ""
          ]
        },
        {
          "metadata": {
            "tags": null
          },
          "name": "stdout",
          "output_type": "stream",
          "text": [
            "Val Acc 91.2191%\t Val Loss 3.2150\n",
            "Saving model\n"
          ]
        },
        {
          "metadata": {
            "tags": null
          },
          "name": "stderr",
          "output_type": "stream",
          "text": [
            ""
          ]
        },
        {
          "metadata": {
            "tags": null
          },
          "name": "stdout",
          "output_type": "stream",
          "text": [
            "\n",
            "Epoch 184/230: \n",
            "Train Acc 99.9300%\t Train Loss 2.3906\t Learning Rate 0.0010\n"
          ]
        },
        {
          "metadata": {
            "tags": null
          },
          "name": "stderr",
          "output_type": "stream",
          "text": [
            ""
          ]
        },
        {
          "metadata": {
            "tags": null
          },
          "name": "stdout",
          "output_type": "stream",
          "text": [
            "Val Acc 91.2420%\t Val Loss 3.2014\n",
            "Saving model\n"
          ]
        },
        {
          "metadata": {
            "tags": null
          },
          "name": "stderr",
          "output_type": "stream",
          "text": [
            ""
          ]
        },
        {
          "metadata": {
            "tags": null
          },
          "name": "stdout",
          "output_type": "stream",
          "text": [
            "\n",
            "Epoch 185/230: \n",
            "Train Acc 99.9350%\t Train Loss 2.3908\t Learning Rate 0.0010\n"
          ]
        },
        {
          "metadata": {
            "tags": null
          },
          "name": "stderr",
          "output_type": "stream",
          "text": [
            ""
          ]
        },
        {
          "metadata": {
            "tags": null
          },
          "name": "stdout",
          "output_type": "stream",
          "text": [
            "Val Acc 91.1934%\t Val Loss 3.2086\n"
          ]
        },
        {
          "metadata": {
            "tags": null
          },
          "name": "stderr",
          "output_type": "stream",
          "text": [
            ""
          ]
        },
        {
          "metadata": {
            "tags": null
          },
          "name": "stdout",
          "output_type": "stream",
          "text": [
            "\n",
            "Epoch 186/230: \n",
            "Train Acc 99.9364%\t Train Loss 2.3909\t Learning Rate 0.0010\n"
          ]
        },
        {
          "metadata": {
            "tags": null
          },
          "name": "stderr",
          "output_type": "stream",
          "text": [
            ""
          ]
        },
        {
          "metadata": {
            "tags": null
          },
          "name": "stdout",
          "output_type": "stream",
          "text": [
            "Val Acc 91.1220%\t Val Loss 3.1982\n"
          ]
        },
        {
          "metadata": {
            "tags": null
          },
          "name": "stderr",
          "output_type": "stream",
          "text": [
            ""
          ]
        },
        {
          "metadata": {
            "tags": null
          },
          "name": "stdout",
          "output_type": "stream",
          "text": [
            "\n",
            "Epoch 187/230: \n",
            "Train Acc 99.9314%\t Train Loss 2.3909\t Learning Rate 0.0010\n"
          ]
        },
        {
          "metadata": {
            "tags": null
          },
          "name": "stderr",
          "output_type": "stream",
          "text": [
            ""
          ]
        },
        {
          "metadata": {
            "tags": null
          },
          "name": "stdout",
          "output_type": "stream",
          "text": [
            "Val Acc 91.1820%\t Val Loss 3.2059\n"
          ]
        },
        {
          "metadata": {
            "tags": null
          },
          "name": "stderr",
          "output_type": "stream",
          "text": [
            ""
          ]
        },
        {
          "metadata": {
            "tags": null
          },
          "name": "stdout",
          "output_type": "stream",
          "text": [
            "\n",
            "Epoch 188/230: \n",
            "Train Acc 99.9286%\t Train Loss 2.3906\t Learning Rate 0.0010\n"
          ]
        },
        {
          "metadata": {
            "tags": null
          },
          "name": "stderr",
          "output_type": "stream",
          "text": [
            ""
          ]
        },
        {
          "metadata": {
            "tags": null
          },
          "name": "stdout",
          "output_type": "stream",
          "text": [
            "Val Acc 91.1734%\t Val Loss 3.1917\n"
          ]
        },
        {
          "metadata": {
            "tags": null
          },
          "name": "stderr",
          "output_type": "stream",
          "text": [
            ""
          ]
        },
        {
          "metadata": {
            "tags": null
          },
          "name": "stdout",
          "output_type": "stream",
          "text": [
            "\n",
            "Epoch 189/230: \n",
            "Train Acc 99.9400%\t Train Loss 2.3901\t Learning Rate 0.0010\n"
          ]
        },
        {
          "metadata": {
            "tags": null
          },
          "name": "stderr",
          "output_type": "stream",
          "text": [
            ""
          ]
        },
        {
          "metadata": {
            "tags": null
          },
          "name": "stdout",
          "output_type": "stream",
          "text": [
            "Val Acc 91.1877%\t Val Loss 3.1985\n"
          ]
        },
        {
          "metadata": {
            "tags": null
          },
          "name": "stderr",
          "output_type": "stream",
          "text": [
            ""
          ]
        },
        {
          "metadata": {
            "tags": null
          },
          "name": "stdout",
          "output_type": "stream",
          "text": [
            "\n",
            "Epoch 190/230: \n",
            "Train Acc 99.9350%\t Train Loss 2.3902\t Learning Rate 0.0010\n"
          ]
        },
        {
          "metadata": {
            "tags": null
          },
          "name": "stderr",
          "output_type": "stream",
          "text": [
            ""
          ]
        },
        {
          "metadata": {
            "tags": null
          },
          "name": "stdout",
          "output_type": "stream",
          "text": [
            "Val Acc 91.1449%\t Val Loss 3.1979\n"
          ]
        },
        {
          "metadata": {
            "tags": null
          },
          "name": "stderr",
          "output_type": "stream",
          "text": [
            ""
          ]
        },
        {
          "metadata": {
            "tags": null
          },
          "name": "stdout",
          "output_type": "stream",
          "text": [
            "\n",
            "Epoch 191/230: \n",
            "Train Acc 99.9372%\t Train Loss 2.3896\t Learning Rate 0.0010\n"
          ]
        },
        {
          "metadata": {
            "tags": null
          },
          "name": "stderr",
          "output_type": "stream",
          "text": [
            ""
          ]
        },
        {
          "metadata": {
            "tags": null
          },
          "name": "stdout",
          "output_type": "stream",
          "text": [
            "Val Acc 91.2077%\t Val Loss 3.1891\n"
          ]
        },
        {
          "metadata": {
            "tags": null
          },
          "name": "stderr",
          "output_type": "stream",
          "text": [
            ""
          ]
        },
        {
          "metadata": {
            "tags": null
          },
          "name": "stdout",
          "output_type": "stream",
          "text": [
            "\n",
            "Epoch 192/230: \n",
            "Train Acc 99.9322%\t Train Loss 2.3909\t Learning Rate 0.0010\n"
          ]
        },
        {
          "metadata": {
            "tags": null
          },
          "name": "stderr",
          "output_type": "stream",
          "text": [
            ""
          ]
        },
        {
          "metadata": {
            "tags": null
          },
          "name": "stdout",
          "output_type": "stream",
          "text": [
            "Val Acc 91.2191%\t Val Loss 3.2086\n"
          ]
        },
        {
          "metadata": {
            "tags": null
          },
          "name": "stderr",
          "output_type": "stream",
          "text": [
            ""
          ]
        },
        {
          "metadata": {
            "tags": null
          },
          "name": "stdout",
          "output_type": "stream",
          "text": [
            "\n",
            "Epoch 193/230: \n",
            "Train Acc 99.9293%\t Train Loss 2.3912\t Learning Rate 0.0010\n"
          ]
        },
        {
          "metadata": {
            "tags": null
          },
          "name": "stderr",
          "output_type": "stream",
          "text": [
            ""
          ]
        },
        {
          "metadata": {
            "tags": null
          },
          "name": "stdout",
          "output_type": "stream",
          "text": [
            "Val Acc 91.1992%\t Val Loss 3.2060\n"
          ]
        },
        {
          "metadata": {
            "tags": null
          },
          "name": "stderr",
          "output_type": "stream",
          "text": [
            ""
          ]
        },
        {
          "metadata": {
            "tags": null
          },
          "name": "stdout",
          "output_type": "stream",
          "text": [
            "\n",
            "Epoch 194/230: \n",
            "Train Acc 99.9372%\t Train Loss 2.3897\t Learning Rate 0.0010\n"
          ]
        },
        {
          "metadata": {
            "tags": null
          },
          "name": "stderr",
          "output_type": "stream",
          "text": [
            ""
          ]
        },
        {
          "metadata": {
            "tags": null
          },
          "name": "stdout",
          "output_type": "stream",
          "text": [
            "Val Acc 91.2420%\t Val Loss 3.2055\n",
            "Saving model\n"
          ]
        },
        {
          "metadata": {
            "tags": null
          },
          "name": "stderr",
          "output_type": "stream",
          "text": [
            ""
          ]
        },
        {
          "metadata": {
            "tags": null
          },
          "name": "stdout",
          "output_type": "stream",
          "text": [
            "\n",
            "Epoch 195/230: \n",
            "Train Acc 99.9279%\t Train Loss 2.3904\t Learning Rate 0.0010\n"
          ]
        },
        {
          "metadata": {
            "tags": null
          },
          "name": "stderr",
          "output_type": "stream",
          "text": [
            ""
          ]
        },
        {
          "metadata": {
            "tags": null
          },
          "name": "stdout",
          "output_type": "stream",
          "text": [
            "Val Acc 91.2020%\t Val Loss 3.2172\n"
          ]
        },
        {
          "metadata": {
            "tags": null
          },
          "name": "stderr",
          "output_type": "stream",
          "text": [
            ""
          ]
        },
        {
          "metadata": {
            "tags": null
          },
          "name": "stdout",
          "output_type": "stream",
          "text": [
            "\n",
            "Epoch 196/230: \n",
            "Train Acc 99.9357%\t Train Loss 2.3906\t Learning Rate 0.0010\n"
          ]
        },
        {
          "metadata": {
            "tags": null
          },
          "name": "stderr",
          "output_type": "stream",
          "text": [
            ""
          ]
        },
        {
          "metadata": {
            "tags": null
          },
          "name": "stdout",
          "output_type": "stream",
          "text": [
            "Val Acc 91.2334%\t Val Loss 3.2133\n"
          ]
        },
        {
          "metadata": {
            "tags": null
          },
          "name": "stderr",
          "output_type": "stream",
          "text": [
            ""
          ]
        },
        {
          "metadata": {
            "tags": null
          },
          "name": "stdout",
          "output_type": "stream",
          "text": [
            "\n",
            "Epoch 197/230: \n",
            "Train Acc 99.9236%\t Train Loss 2.3909\t Learning Rate 0.0010\n"
          ]
        },
        {
          "metadata": {
            "tags": null
          },
          "name": "stderr",
          "output_type": "stream",
          "text": [
            ""
          ]
        },
        {
          "metadata": {
            "tags": null
          },
          "name": "stdout",
          "output_type": "stream",
          "text": [
            "Val Acc 91.2363%\t Val Loss 3.2245\n"
          ]
        },
        {
          "metadata": {
            "tags": null
          },
          "name": "stderr",
          "output_type": "stream",
          "text": [
            ""
          ]
        },
        {
          "metadata": {
            "tags": null
          },
          "name": "stdout",
          "output_type": "stream",
          "text": [
            "\n",
            "Epoch 198/230: \n",
            "Train Acc 99.9272%\t Train Loss 2.3907\t Learning Rate 0.0010\n"
          ]
        },
        {
          "metadata": {
            "tags": null
          },
          "name": "stderr",
          "output_type": "stream",
          "text": [
            ""
          ]
        },
        {
          "metadata": {
            "tags": null
          },
          "name": "stdout",
          "output_type": "stream",
          "text": [
            "Val Acc 91.2191%\t Val Loss 3.1881\n"
          ]
        },
        {
          "metadata": {
            "tags": null
          },
          "name": "stderr",
          "output_type": "stream",
          "text": [
            ""
          ]
        },
        {
          "metadata": {
            "tags": null
          },
          "name": "stdout",
          "output_type": "stream",
          "text": [
            "\n",
            "Epoch 199/230: \n",
            "Train Acc 99.9336%\t Train Loss 2.3901\t Learning Rate 0.0010\n"
          ]
        },
        {
          "metadata": {
            "tags": null
          },
          "name": "stderr",
          "output_type": "stream",
          "text": [
            ""
          ]
        },
        {
          "metadata": {
            "tags": null
          },
          "name": "stdout",
          "output_type": "stream",
          "text": [
            "Val Acc 91.2449%\t Val Loss 3.2152\n",
            "Saving model\n"
          ]
        },
        {
          "metadata": {
            "tags": null
          },
          "name": "stderr",
          "output_type": "stream",
          "text": [
            ""
          ]
        },
        {
          "metadata": {
            "tags": null
          },
          "name": "stdout",
          "output_type": "stream",
          "text": [
            "\n",
            "Epoch 200/230: \n",
            "Train Acc 99.9422%\t Train Loss 2.3896\t Learning Rate 0.0010\n"
          ]
        },
        {
          "metadata": {
            "tags": null
          },
          "name": "stderr",
          "output_type": "stream",
          "text": [
            ""
          ]
        },
        {
          "metadata": {
            "tags": null
          },
          "name": "stdout",
          "output_type": "stream",
          "text": [
            "Val Acc 91.1592%\t Val Loss 3.2214\n"
          ]
        },
        {
          "metadata": {
            "tags": null
          },
          "name": "stderr",
          "output_type": "stream",
          "text": [
            ""
          ]
        },
        {
          "metadata": {
            "tags": null
          },
          "name": "stdout",
          "output_type": "stream",
          "text": [
            "\n",
            "Epoch 201/230: \n",
            "Train Acc 99.9307%\t Train Loss 2.3900\t Learning Rate 0.0010\n"
          ]
        },
        {
          "metadata": {
            "tags": null
          },
          "name": "stderr",
          "output_type": "stream",
          "text": [
            ""
          ]
        },
        {
          "metadata": {
            "tags": null
          },
          "name": "stdout",
          "output_type": "stream",
          "text": [
            "Val Acc 91.1963%\t Val Loss 3.1936\n"
          ]
        },
        {
          "metadata": {
            "tags": null
          },
          "name": "stderr",
          "output_type": "stream",
          "text": [
            ""
          ]
        },
        {
          "metadata": {
            "tags": null
          },
          "name": "stdout",
          "output_type": "stream",
          "text": [
            "\n",
            "Epoch 202/230: \n",
            "Train Acc 99.9364%\t Train Loss 2.3895\t Learning Rate 0.0010\n"
          ]
        },
        {
          "metadata": {
            "tags": null
          },
          "name": "stderr",
          "output_type": "stream",
          "text": [
            ""
          ]
        },
        {
          "metadata": {
            "tags": null
          },
          "name": "stdout",
          "output_type": "stream",
          "text": [
            "Val Acc 91.1363%\t Val Loss 3.2077\n"
          ]
        },
        {
          "metadata": {
            "tags": null
          },
          "name": "stderr",
          "output_type": "stream",
          "text": [
            ""
          ]
        },
        {
          "metadata": {
            "tags": null
          },
          "name": "stdout",
          "output_type": "stream",
          "text": [
            "\n",
            "Epoch 203/230: \n",
            "Train Acc 99.9314%\t Train Loss 2.3904\t Learning Rate 0.0010\n"
          ]
        },
        {
          "metadata": {
            "tags": null
          },
          "name": "stderr",
          "output_type": "stream",
          "text": [
            ""
          ]
        },
        {
          "metadata": {
            "tags": null
          },
          "name": "stdout",
          "output_type": "stream",
          "text": [
            "Val Acc 91.2191%\t Val Loss 3.2216\n"
          ]
        },
        {
          "metadata": {
            "tags": null
          },
          "name": "stderr",
          "output_type": "stream",
          "text": [
            ""
          ]
        },
        {
          "metadata": {
            "tags": null
          },
          "name": "stdout",
          "output_type": "stream",
          "text": [
            "\n",
            "Epoch 204/230: \n",
            "Train Acc 99.9407%\t Train Loss 2.3895\t Learning Rate 0.0010\n"
          ]
        },
        {
          "metadata": {
            "tags": null
          },
          "name": "stderr",
          "output_type": "stream",
          "text": [
            ""
          ]
        },
        {
          "metadata": {
            "tags": null
          },
          "name": "stdout",
          "output_type": "stream",
          "text": [
            "Val Acc 91.2077%\t Val Loss 3.2224\n"
          ]
        },
        {
          "metadata": {
            "tags": null
          },
          "name": "stderr",
          "output_type": "stream",
          "text": [
            ""
          ]
        },
        {
          "metadata": {
            "tags": null
          },
          "name": "stdout",
          "output_type": "stream",
          "text": [
            "\n",
            "Epoch 205/230: \n",
            "Train Acc 99.9286%\t Train Loss 2.3895\t Learning Rate 0.0010\n"
          ]
        },
        {
          "metadata": {
            "tags": null
          },
          "name": "stderr",
          "output_type": "stream",
          "text": [
            ""
          ]
        },
        {
          "metadata": {
            "tags": null
          },
          "name": "stdout",
          "output_type": "stream",
          "text": [
            "Val Acc 91.2020%\t Val Loss 3.1949\n"
          ]
        },
        {
          "metadata": {
            "tags": null
          },
          "name": "stderr",
          "output_type": "stream",
          "text": [
            ""
          ]
        },
        {
          "metadata": {
            "tags": null
          },
          "name": "stdout",
          "output_type": "stream",
          "text": [
            "\n",
            "Epoch 206/230: \n",
            "Train Acc 99.9329%\t Train Loss 2.3900\t Learning Rate 0.0010\n"
          ]
        },
        {
          "metadata": {
            "tags": null
          },
          "name": "stderr",
          "output_type": "stream",
          "text": [
            ""
          ]
        },
        {
          "metadata": {
            "tags": null
          },
          "name": "stdout",
          "output_type": "stream",
          "text": [
            "Val Acc 91.1592%\t Val Loss 3.2071\n"
          ]
        },
        {
          "metadata": {
            "tags": null
          },
          "name": "stderr",
          "output_type": "stream",
          "text": [
            ""
          ]
        },
        {
          "metadata": {
            "tags": null
          },
          "name": "stdout",
          "output_type": "stream",
          "text": [
            "\n",
            "Epoch 207/230: \n",
            "Train Acc 99.9314%\t Train Loss 2.3894\t Learning Rate 0.0010\n"
          ]
        },
        {
          "metadata": {
            "tags": null
          },
          "name": "stderr",
          "output_type": "stream",
          "text": [
            ""
          ]
        },
        {
          "metadata": {
            "tags": null
          },
          "name": "stdout",
          "output_type": "stream",
          "text": [
            "Val Acc 91.1820%\t Val Loss 3.2113\n"
          ]
        },
        {
          "metadata": {
            "tags": null
          },
          "name": "stderr",
          "output_type": "stream",
          "text": [
            ""
          ]
        },
        {
          "metadata": {
            "tags": null
          },
          "name": "stdout",
          "output_type": "stream",
          "text": [
            "\n",
            "Epoch 208/230: \n",
            "Train Acc 99.9336%\t Train Loss 2.3892\t Learning Rate 0.0010\n"
          ]
        },
        {
          "metadata": {
            "tags": null
          },
          "name": "stderr",
          "output_type": "stream",
          "text": [
            ""
          ]
        },
        {
          "metadata": {
            "tags": null
          },
          "name": "stdout",
          "output_type": "stream",
          "text": [
            "Val Acc 91.2506%\t Val Loss 3.2035\n",
            "Saving model\n"
          ]
        },
        {
          "metadata": {
            "tags": null
          },
          "name": "stderr",
          "output_type": "stream",
          "text": [
            ""
          ]
        },
        {
          "metadata": {
            "tags": null
          },
          "name": "stdout",
          "output_type": "stream",
          "text": [
            "\n",
            "Epoch 209/230: \n",
            "Train Acc 99.9357%\t Train Loss 2.3896\t Learning Rate 0.0010\n"
          ]
        },
        {
          "metadata": {
            "tags": null
          },
          "name": "stderr",
          "output_type": "stream",
          "text": [
            ""
          ]
        },
        {
          "metadata": {
            "tags": null
          },
          "name": "stdout",
          "output_type": "stream",
          "text": [
            "Val Acc 91.2449%\t Val Loss 3.1878\n"
          ]
        },
        {
          "metadata": {
            "tags": null
          },
          "name": "stderr",
          "output_type": "stream",
          "text": [
            ""
          ]
        },
        {
          "metadata": {
            "tags": null
          },
          "name": "stdout",
          "output_type": "stream",
          "text": [
            "\n",
            "Epoch 210/230: \n",
            "Train Acc 99.9357%\t Train Loss 2.3897\t Learning Rate 0.0010\n"
          ]
        },
        {
          "metadata": {
            "tags": null
          },
          "name": "stderr",
          "output_type": "stream",
          "text": [
            ""
          ]
        },
        {
          "metadata": {
            "tags": null
          },
          "name": "stdout",
          "output_type": "stream",
          "text": [
            "Val Acc 91.1763%\t Val Loss 3.2075\n"
          ]
        },
        {
          "metadata": {
            "tags": null
          },
          "name": "stderr",
          "output_type": "stream",
          "text": [
            ""
          ]
        },
        {
          "metadata": {
            "tags": null
          },
          "name": "stdout",
          "output_type": "stream",
          "text": [
            "\n",
            "Epoch 211/230: \n",
            "Train Acc 99.9414%\t Train Loss 2.3890\t Learning Rate 0.0010\n"
          ]
        },
        {
          "metadata": {
            "tags": null
          },
          "name": "stderr",
          "output_type": "stream",
          "text": [
            ""
          ]
        },
        {
          "metadata": {
            "tags": null
          },
          "name": "stdout",
          "output_type": "stream",
          "text": [
            "Val Acc 91.2220%\t Val Loss 3.2073\n"
          ]
        },
        {
          "metadata": {
            "tags": null
          },
          "name": "stderr",
          "output_type": "stream",
          "text": [
            ""
          ]
        },
        {
          "metadata": {
            "tags": null
          },
          "name": "stdout",
          "output_type": "stream",
          "text": [
            "\n",
            "Epoch 212/230: \n",
            "Train Acc 99.9329%\t Train Loss 2.3898\t Learning Rate 0.0010\n"
          ]
        },
        {
          "metadata": {
            "tags": null
          },
          "name": "stderr",
          "output_type": "stream",
          "text": [
            ""
          ]
        },
        {
          "metadata": {
            "tags": null
          },
          "name": "stdout",
          "output_type": "stream",
          "text": [
            "Val Acc 91.1649%\t Val Loss 3.1954\n"
          ]
        },
        {
          "metadata": {
            "tags": null
          },
          "name": "stderr",
          "output_type": "stream",
          "text": [
            ""
          ]
        },
        {
          "metadata": {
            "tags": null
          },
          "name": "stdout",
          "output_type": "stream",
          "text": [
            "\n",
            "Epoch 213/230: \n",
            "Train Acc 99.9443%\t Train Loss 2.3883\t Learning Rate 0.0010\n"
          ]
        },
        {
          "metadata": {
            "tags": null
          },
          "name": "stderr",
          "output_type": "stream",
          "text": [
            ""
          ]
        },
        {
          "metadata": {
            "tags": null
          },
          "name": "stdout",
          "output_type": "stream",
          "text": [
            "Val Acc 91.2249%\t Val Loss 3.2150\n"
          ]
        },
        {
          "metadata": {
            "tags": null
          },
          "name": "stderr",
          "output_type": "stream",
          "text": [
            ""
          ]
        },
        {
          "metadata": {
            "tags": null
          },
          "name": "stdout",
          "output_type": "stream",
          "text": [
            "\n",
            "Epoch 214/230: \n",
            "Train Acc 99.9393%\t Train Loss 2.3888\t Learning Rate 0.0010\n"
          ]
        },
        {
          "metadata": {
            "tags": null
          },
          "name": "stderr",
          "output_type": "stream",
          "text": [
            ""
          ]
        },
        {
          "metadata": {
            "tags": null
          },
          "name": "stdout",
          "output_type": "stream",
          "text": [
            "Val Acc 91.2220%\t Val Loss 3.2024\n"
          ]
        },
        {
          "metadata": {
            "tags": null
          },
          "name": "stderr",
          "output_type": "stream",
          "text": [
            ""
          ]
        },
        {
          "metadata": {
            "tags": null
          },
          "name": "stdout",
          "output_type": "stream",
          "text": [
            "\n",
            "Epoch 215/230: \n",
            "Train Acc 99.9300%\t Train Loss 2.3894\t Learning Rate 0.0010\n"
          ]
        },
        {
          "metadata": {
            "tags": null
          },
          "name": "stderr",
          "output_type": "stream",
          "text": [
            ""
          ]
        },
        {
          "metadata": {
            "tags": null
          },
          "name": "stdout",
          "output_type": "stream",
          "text": [
            "Val Acc 91.2963%\t Val Loss 3.1917\n",
            "Saving model\n"
          ]
        },
        {
          "metadata": {
            "tags": null
          },
          "name": "stderr",
          "output_type": "stream",
          "text": [
            ""
          ]
        },
        {
          "metadata": {
            "tags": null
          },
          "name": "stdout",
          "output_type": "stream",
          "text": [
            "\n",
            "Epoch 216/230: \n",
            "Train Acc 99.9272%\t Train Loss 2.3891\t Learning Rate 0.0010\n"
          ]
        },
        {
          "metadata": {
            "tags": null
          },
          "name": "stderr",
          "output_type": "stream",
          "text": [
            ""
          ]
        },
        {
          "metadata": {
            "tags": null
          },
          "name": "stdout",
          "output_type": "stream",
          "text": [
            "Val Acc 91.2677%\t Val Loss 3.1847\n"
          ]
        },
        {
          "metadata": {
            "tags": null
          },
          "name": "stderr",
          "output_type": "stream",
          "text": [
            ""
          ]
        },
        {
          "metadata": {
            "tags": null
          },
          "name": "stdout",
          "output_type": "stream",
          "text": [
            "\n",
            "Epoch 217/230: \n",
            "Train Acc 99.9329%\t Train Loss 2.3892\t Learning Rate 0.0009\n"
          ]
        },
        {
          "metadata": {
            "tags": null
          },
          "name": "stderr",
          "output_type": "stream",
          "text": [
            ""
          ]
        },
        {
          "metadata": {
            "tags": null
          },
          "name": "stdout",
          "output_type": "stream",
          "text": [
            "Val Acc 91.2191%\t Val Loss 3.1915\n"
          ]
        },
        {
          "metadata": {
            "tags": null
          },
          "name": "stderr",
          "output_type": "stream",
          "text": [
            ""
          ]
        },
        {
          "metadata": {
            "tags": null
          },
          "name": "stdout",
          "output_type": "stream",
          "text": [
            "\n",
            "Epoch 218/230: \n",
            "Train Acc 99.9357%\t Train Loss 2.3885\t Learning Rate 0.0009\n"
          ]
        },
        {
          "metadata": {
            "tags": null
          },
          "name": "stderr",
          "output_type": "stream",
          "text": [
            ""
          ]
        },
        {
          "metadata": {
            "tags": null
          },
          "name": "stdout",
          "output_type": "stream",
          "text": [
            "Val Acc 91.1620%\t Val Loss 3.1918\n"
          ]
        },
        {
          "metadata": {
            "tags": null
          },
          "name": "stderr",
          "output_type": "stream",
          "text": [
            ""
          ]
        },
        {
          "metadata": {
            "tags": null
          },
          "name": "stdout",
          "output_type": "stream",
          "text": [
            "\n",
            "Epoch 219/230: \n",
            "Train Acc 99.9336%\t Train Loss 2.3884\t Learning Rate 0.0009\n"
          ]
        },
        {
          "metadata": {
            "tags": null
          },
          "name": "stderr",
          "output_type": "stream",
          "text": [
            ""
          ]
        },
        {
          "metadata": {
            "tags": null
          },
          "name": "stdout",
          "output_type": "stream",
          "text": [
            "Val Acc 91.3363%\t Val Loss 3.1940\n",
            "Saving model\n"
          ]
        },
        {
          "metadata": {
            "tags": null
          },
          "name": "stderr",
          "output_type": "stream",
          "text": [
            ""
          ]
        },
        {
          "metadata": {
            "tags": null
          },
          "name": "stdout",
          "output_type": "stream",
          "text": [
            "\n",
            "Epoch 220/230: \n",
            "Train Acc 99.9322%\t Train Loss 2.3892\t Learning Rate 0.0009\n"
          ]
        },
        {
          "metadata": {
            "tags": null
          },
          "name": "stderr",
          "output_type": "stream",
          "text": [
            ""
          ]
        },
        {
          "metadata": {
            "tags": null
          },
          "name": "stdout",
          "output_type": "stream",
          "text": [
            "Val Acc 91.3106%\t Val Loss 3.1935\n"
          ]
        },
        {
          "metadata": {
            "tags": null
          },
          "name": "stderr",
          "output_type": "stream",
          "text": [
            ""
          ]
        },
        {
          "metadata": {
            "tags": null
          },
          "name": "stdout",
          "output_type": "stream",
          "text": [
            "\n",
            "Epoch 221/230: \n",
            "Train Acc 99.9350%\t Train Loss 2.3886\t Learning Rate 0.0009\n"
          ]
        },
        {
          "metadata": {
            "tags": null
          },
          "name": "stderr",
          "output_type": "stream",
          "text": [
            ""
          ]
        },
        {
          "metadata": {
            "tags": null
          },
          "name": "stdout",
          "output_type": "stream",
          "text": [
            "Val Acc 91.2220%\t Val Loss 3.1995\n"
          ]
        },
        {
          "metadata": {
            "tags": null
          },
          "name": "stderr",
          "output_type": "stream",
          "text": [
            ""
          ]
        },
        {
          "metadata": {
            "tags": null
          },
          "name": "stdout",
          "output_type": "stream",
          "text": [
            "\n",
            "Epoch 222/230: \n",
            "Train Acc 99.9372%\t Train Loss 2.3885\t Learning Rate 0.0009\n"
          ]
        },
        {
          "metadata": {
            "tags": null
          },
          "name": "stderr",
          "output_type": "stream",
          "text": [
            ""
          ]
        },
        {
          "metadata": {
            "tags": null
          },
          "name": "stdout",
          "output_type": "stream",
          "text": [
            "Val Acc 91.3163%\t Val Loss 3.2055\n"
          ]
        },
        {
          "metadata": {
            "tags": null
          },
          "name": "stderr",
          "output_type": "stream",
          "text": [
            ""
          ]
        },
        {
          "metadata": {
            "tags": null
          },
          "name": "stdout",
          "output_type": "stream",
          "text": [
            "\n",
            "Epoch 223/230: \n",
            "Train Acc 99.9250%\t Train Loss 2.3892\t Learning Rate 0.0009\n"
          ]
        },
        {
          "metadata": {
            "tags": null
          },
          "name": "stderr",
          "output_type": "stream",
          "text": [
            ""
          ]
        },
        {
          "metadata": {
            "tags": null
          },
          "name": "stdout",
          "output_type": "stream",
          "text": [
            "Val Acc 91.3048%\t Val Loss 3.2058\n"
          ]
        },
        {
          "metadata": {
            "tags": null
          },
          "name": "stderr",
          "output_type": "stream",
          "text": [
            ""
          ]
        },
        {
          "metadata": {
            "tags": null
          },
          "name": "stdout",
          "output_type": "stream",
          "text": [
            "\n",
            "Epoch 224/230: \n",
            "Train Acc 99.9372%\t Train Loss 2.3881\t Learning Rate 0.0009\n"
          ]
        },
        {
          "metadata": {
            "tags": null
          },
          "name": "stderr",
          "output_type": "stream",
          "text": [
            ""
          ]
        },
        {
          "metadata": {
            "tags": null
          },
          "name": "stdout",
          "output_type": "stream",
          "text": [
            "Val Acc 91.2934%\t Val Loss 3.2107\n"
          ]
        },
        {
          "metadata": {
            "tags": null
          },
          "name": "stderr",
          "output_type": "stream",
          "text": [
            ""
          ]
        },
        {
          "metadata": {
            "tags": null
          },
          "name": "stdout",
          "output_type": "stream",
          "text": [
            "\n",
            "Epoch 225/230: \n",
            "Train Acc 99.9372%\t Train Loss 2.3884\t Learning Rate 0.0009\n"
          ]
        },
        {
          "metadata": {
            "tags": null
          },
          "name": "stderr",
          "output_type": "stream",
          "text": [
            ""
          ]
        },
        {
          "metadata": {
            "tags": null
          },
          "name": "stdout",
          "output_type": "stream",
          "text": [
            "Val Acc 91.1563%\t Val Loss 3.1906\n"
          ]
        },
        {
          "metadata": {
            "tags": null
          },
          "name": "stderr",
          "output_type": "stream",
          "text": [
            ""
          ]
        },
        {
          "metadata": {
            "tags": null
          },
          "name": "stdout",
          "output_type": "stream",
          "text": [
            "\n",
            "Epoch 226/230: \n",
            "Train Acc 99.9393%\t Train Loss 2.3886\t Learning Rate 0.0009\n"
          ]
        },
        {
          "metadata": {
            "tags": null
          },
          "name": "stderr",
          "output_type": "stream",
          "text": [
            ""
          ]
        },
        {
          "metadata": {
            "tags": null
          },
          "name": "stdout",
          "output_type": "stream",
          "text": [
            "Val Acc 91.2220%\t Val Loss 3.1940\n"
          ]
        },
        {
          "metadata": {
            "tags": null
          },
          "name": "stderr",
          "output_type": "stream",
          "text": [
            ""
          ]
        },
        {
          "metadata": {
            "tags": null
          },
          "name": "stdout",
          "output_type": "stream",
          "text": [
            "\n",
            "Epoch 227/230: \n",
            "Train Acc 99.9400%\t Train Loss 2.3880\t Learning Rate 0.0009\n"
          ]
        },
        {
          "metadata": {
            "tags": null
          },
          "name": "stderr",
          "output_type": "stream",
          "text": [
            ""
          ]
        },
        {
          "metadata": {
            "tags": null
          },
          "name": "stdout",
          "output_type": "stream",
          "text": [
            "Val Acc 91.2449%\t Val Loss 3.1893\n"
          ]
        },
        {
          "metadata": {
            "tags": null
          },
          "name": "stderr",
          "output_type": "stream",
          "text": [
            ""
          ]
        },
        {
          "metadata": {
            "tags": null
          },
          "name": "stdout",
          "output_type": "stream",
          "text": [
            "\n",
            "Epoch 228/230: \n",
            "Train Acc 99.9414%\t Train Loss 2.3878\t Learning Rate 0.0009\n"
          ]
        },
        {
          "metadata": {
            "tags": null
          },
          "name": "stderr",
          "output_type": "stream",
          "text": [
            ""
          ]
        },
        {
          "metadata": {
            "tags": null
          },
          "name": "stdout",
          "output_type": "stream",
          "text": [
            "Val Acc 91.2506%\t Val Loss 3.1881\n"
          ]
        },
        {
          "output_type": "stream",
          "name": "stderr",
          "text": [
            "Train:  89%|████████▊ | 1941/2188 [13:46<01:44,  2.35it/s, acc=99.9533%, loss=2.3884, lr=0.0009, num_correct=124166]"
          ]
        }
      ],
      "source": [
        "best_valacc = 0.0\n",
        "\n",
        "for epoch in range(e,config['epochs']):\n",
        "\n",
        "    curr_lr = float(optimizer.param_groups[0]['lr'])\n",
        "\n",
        "    train_acc, train_loss = train(model, train_loader, optimizer, criterion)\n",
        "    \n",
        "    print(\"\\nEpoch {}/{}: \\nTrain Acc {:.04f}%\\t Train Loss {:.04f}\\t Learning Rate {:.04f}\".format(\n",
        "        epoch + 1,\n",
        "        config['epochs'],\n",
        "        train_acc,\n",
        "        train_loss,\n",
        "        curr_lr))\n",
        "    \n",
        "    val_acc, val_loss = validate(model, valid_loader, criterion)\n",
        "    \n",
        "    print(\"Val Acc {:.04f}%\\t Val Loss {:.04f}\".format(val_acc, val_loss))\n",
        "\n",
        "    wandb.log({\"train_loss\":train_loss, 'train_Acc': train_acc, 'validation_Acc':val_acc, \n",
        "               'validation_loss': val_loss, \"learning_Rate\": curr_lr})\n",
        "    \n",
        "\n",
        "    \n",
        "    # If you are using a scheduler in your train function within your iteration loop, you may want to log\n",
        "    # your learning rate differently \n",
        "\n",
        "    # #Save model in drive location if val_acc is better than best recorded val_acc\n",
        "    if val_acc >= best_valacc:\n",
        "      #path = os.path.join(root, model_directory, 'checkpoint' + '.pth')\n",
        "      print(\"Saving model\")\n",
        "      torch.save({'model_state_dict':model.state_dict(),\n",
        "                  'optimizer_state_dict':optimizer.state_dict(),\n",
        "                  'scheduler_state_dict':scheduler.state_dict(),\n",
        "                  'val_acc': val_acc, \n",
        "                  'epoch': epoch}, \"/content/drive/MyDrive/checkpoint/chk_\"+str(epoch)+\".pth\")\n",
        "      best_valacc = val_acc\n",
        "      wandb.save('checkpoint.pth')\n",
        "      # You may find it interesting to exlplore Wandb Artifcats to version your models\n",
        "run.finish()"
      ]
    },
    {
      "cell_type": "code",
      "execution_count": null,
      "id": "c1dc2cb0",
      "metadata": {
        "id": "c1dc2cb0",
        "colab": {
          "base_uri": "https://localhost:8080/",
          "height": 381
        },
        "outputId": "fe60c9e9-0f15-47c5-aaca-bc356ef4dcf6"
      },
      "outputs": [
        {
          "output_type": "error",
          "ename": "FileNotFoundError",
          "evalue": "ignored",
          "traceback": [
            "\u001b[0;31m---------------------------------------------------------------------------\u001b[0m",
            "\u001b[0;31mFileNotFoundError\u001b[0m                         Traceback (most recent call last)",
            "\u001b[0;32m<ipython-input-29-3077d05535be>\u001b[0m in \u001b[0;36m<module>\u001b[0;34m\u001b[0m\n\u001b[0;32m----> 1\u001b[0;31m \u001b[0mcheckpoint\u001b[0m \u001b[0;34m=\u001b[0m \u001b[0mtorch\u001b[0m\u001b[0;34m.\u001b[0m\u001b[0mload\u001b[0m\u001b[0;34m(\u001b[0m\u001b[0;34m\"/content/drive/MyDrive/checkpoint/chk_\"\u001b[0m\u001b[0;34m+\u001b[0m\u001b[0mstr\u001b[0m\u001b[0;34m(\u001b[0m\u001b[0;36m226\u001b[0m\u001b[0;34m)\u001b[0m\u001b[0;34m+\u001b[0m\u001b[0;34m\".pth\"\u001b[0m\u001b[0;34m)\u001b[0m\u001b[0;34m\u001b[0m\u001b[0;34m\u001b[0m\u001b[0m\n\u001b[0m\u001b[1;32m      2\u001b[0m \u001b[0mmodel\u001b[0m\u001b[0;34m.\u001b[0m\u001b[0mload_state_dict\u001b[0m\u001b[0;34m(\u001b[0m\u001b[0mcheckpoint\u001b[0m\u001b[0;34m[\u001b[0m\u001b[0;34m'model_state_dict'\u001b[0m\u001b[0;34m]\u001b[0m\u001b[0;34m)\u001b[0m\u001b[0;34m\u001b[0m\u001b[0;34m\u001b[0m\u001b[0m\n\u001b[1;32m      3\u001b[0m \u001b[0moptimizer\u001b[0m\u001b[0;34m.\u001b[0m\u001b[0mload_state_dict\u001b[0m\u001b[0;34m(\u001b[0m\u001b[0mcheckpoint\u001b[0m\u001b[0;34m[\u001b[0m\u001b[0;34m'optimizer_state_dict'\u001b[0m\u001b[0;34m]\u001b[0m\u001b[0;34m)\u001b[0m\u001b[0;34m\u001b[0m\u001b[0;34m\u001b[0m\u001b[0m\n\u001b[1;32m      4\u001b[0m \u001b[0moptimizer\u001b[0m\u001b[0;34m.\u001b[0m\u001b[0mparam_groups\u001b[0m\u001b[0;34m[\u001b[0m\u001b[0;36m0\u001b[0m\u001b[0;34m]\u001b[0m\u001b[0;34m[\u001b[0m\u001b[0;34m'lr'\u001b[0m\u001b[0;34m]\u001b[0m \u001b[0;34m=\u001b[0m \u001b[0;36m0.001\u001b[0m\u001b[0;34m\u001b[0m\u001b[0;34m\u001b[0m\u001b[0m\n\u001b[1;32m      5\u001b[0m \u001b[0me\u001b[0m \u001b[0;34m=\u001b[0m \u001b[0mcheckpoint\u001b[0m\u001b[0;34m[\u001b[0m\u001b[0;34m'epoch'\u001b[0m\u001b[0;34m]\u001b[0m \u001b[0;34m+\u001b[0m \u001b[0;36m1\u001b[0m\u001b[0;34m\u001b[0m\u001b[0;34m\u001b[0m\u001b[0m\n",
            "\u001b[0;32m/usr/local/lib/python3.9/dist-packages/torch/serialization.py\u001b[0m in \u001b[0;36mload\u001b[0;34m(f, map_location, pickle_module, weights_only, **pickle_load_args)\u001b[0m\n\u001b[1;32m    769\u001b[0m         \u001b[0mpickle_load_args\u001b[0m\u001b[0;34m[\u001b[0m\u001b[0;34m'encoding'\u001b[0m\u001b[0;34m]\u001b[0m \u001b[0;34m=\u001b[0m \u001b[0;34m'utf-8'\u001b[0m\u001b[0;34m\u001b[0m\u001b[0;34m\u001b[0m\u001b[0m\n\u001b[1;32m    770\u001b[0m \u001b[0;34m\u001b[0m\u001b[0m\n\u001b[0;32m--> 771\u001b[0;31m     \u001b[0;32mwith\u001b[0m \u001b[0m_open_file_like\u001b[0m\u001b[0;34m(\u001b[0m\u001b[0mf\u001b[0m\u001b[0;34m,\u001b[0m \u001b[0;34m'rb'\u001b[0m\u001b[0;34m)\u001b[0m \u001b[0;32mas\u001b[0m \u001b[0mopened_file\u001b[0m\u001b[0;34m:\u001b[0m\u001b[0;34m\u001b[0m\u001b[0;34m\u001b[0m\u001b[0m\n\u001b[0m\u001b[1;32m    772\u001b[0m         \u001b[0;32mif\u001b[0m \u001b[0m_is_zipfile\u001b[0m\u001b[0;34m(\u001b[0m\u001b[0mopened_file\u001b[0m\u001b[0;34m)\u001b[0m\u001b[0;34m:\u001b[0m\u001b[0;34m\u001b[0m\u001b[0;34m\u001b[0m\u001b[0m\n\u001b[1;32m    773\u001b[0m             \u001b[0;31m# The zipfile reader is going to advance the current file position.\u001b[0m\u001b[0;34m\u001b[0m\u001b[0;34m\u001b[0m\u001b[0m\n",
            "\u001b[0;32m/usr/local/lib/python3.9/dist-packages/torch/serialization.py\u001b[0m in \u001b[0;36m_open_file_like\u001b[0;34m(name_or_buffer, mode)\u001b[0m\n\u001b[1;32m    268\u001b[0m \u001b[0;32mdef\u001b[0m \u001b[0m_open_file_like\u001b[0m\u001b[0;34m(\u001b[0m\u001b[0mname_or_buffer\u001b[0m\u001b[0;34m,\u001b[0m \u001b[0mmode\u001b[0m\u001b[0;34m)\u001b[0m\u001b[0;34m:\u001b[0m\u001b[0;34m\u001b[0m\u001b[0;34m\u001b[0m\u001b[0m\n\u001b[1;32m    269\u001b[0m     \u001b[0;32mif\u001b[0m \u001b[0m_is_path\u001b[0m\u001b[0;34m(\u001b[0m\u001b[0mname_or_buffer\u001b[0m\u001b[0;34m)\u001b[0m\u001b[0;34m:\u001b[0m\u001b[0;34m\u001b[0m\u001b[0;34m\u001b[0m\u001b[0m\n\u001b[0;32m--> 270\u001b[0;31m         \u001b[0;32mreturn\u001b[0m \u001b[0m_open_file\u001b[0m\u001b[0;34m(\u001b[0m\u001b[0mname_or_buffer\u001b[0m\u001b[0;34m,\u001b[0m \u001b[0mmode\u001b[0m\u001b[0;34m)\u001b[0m\u001b[0;34m\u001b[0m\u001b[0;34m\u001b[0m\u001b[0m\n\u001b[0m\u001b[1;32m    271\u001b[0m     \u001b[0;32melse\u001b[0m\u001b[0;34m:\u001b[0m\u001b[0;34m\u001b[0m\u001b[0;34m\u001b[0m\u001b[0m\n\u001b[1;32m    272\u001b[0m         \u001b[0;32mif\u001b[0m \u001b[0;34m'w'\u001b[0m \u001b[0;32min\u001b[0m \u001b[0mmode\u001b[0m\u001b[0;34m:\u001b[0m\u001b[0;34m\u001b[0m\u001b[0;34m\u001b[0m\u001b[0m\n",
            "\u001b[0;32m/usr/local/lib/python3.9/dist-packages/torch/serialization.py\u001b[0m in \u001b[0;36m__init__\u001b[0;34m(self, name, mode)\u001b[0m\n\u001b[1;32m    249\u001b[0m \u001b[0;32mclass\u001b[0m \u001b[0m_open_file\u001b[0m\u001b[0;34m(\u001b[0m\u001b[0m_opener\u001b[0m\u001b[0;34m)\u001b[0m\u001b[0;34m:\u001b[0m\u001b[0;34m\u001b[0m\u001b[0;34m\u001b[0m\u001b[0m\n\u001b[1;32m    250\u001b[0m     \u001b[0;32mdef\u001b[0m \u001b[0m__init__\u001b[0m\u001b[0;34m(\u001b[0m\u001b[0mself\u001b[0m\u001b[0;34m,\u001b[0m \u001b[0mname\u001b[0m\u001b[0;34m,\u001b[0m \u001b[0mmode\u001b[0m\u001b[0;34m)\u001b[0m\u001b[0;34m:\u001b[0m\u001b[0;34m\u001b[0m\u001b[0;34m\u001b[0m\u001b[0m\n\u001b[0;32m--> 251\u001b[0;31m         \u001b[0msuper\u001b[0m\u001b[0;34m(\u001b[0m\u001b[0m_open_file\u001b[0m\u001b[0;34m,\u001b[0m \u001b[0mself\u001b[0m\u001b[0;34m)\u001b[0m\u001b[0;34m.\u001b[0m\u001b[0m__init__\u001b[0m\u001b[0;34m(\u001b[0m\u001b[0mopen\u001b[0m\u001b[0;34m(\u001b[0m\u001b[0mname\u001b[0m\u001b[0;34m,\u001b[0m \u001b[0mmode\u001b[0m\u001b[0;34m)\u001b[0m\u001b[0;34m)\u001b[0m\u001b[0;34m\u001b[0m\u001b[0;34m\u001b[0m\u001b[0m\n\u001b[0m\u001b[1;32m    252\u001b[0m \u001b[0;34m\u001b[0m\u001b[0m\n\u001b[1;32m    253\u001b[0m     \u001b[0;32mdef\u001b[0m \u001b[0m__exit__\u001b[0m\u001b[0;34m(\u001b[0m\u001b[0mself\u001b[0m\u001b[0;34m,\u001b[0m \u001b[0;34m*\u001b[0m\u001b[0margs\u001b[0m\u001b[0;34m)\u001b[0m\u001b[0;34m:\u001b[0m\u001b[0;34m\u001b[0m\u001b[0;34m\u001b[0m\u001b[0m\n",
            "\u001b[0;31mFileNotFoundError\u001b[0m: [Errno 2] No such file or directory: '/content/drive/MyDrive/checkpoint/chk_226.pth'"
          ]
        }
      ],
      "source": [
        "checkpoint = torch.load(\"/content/drive/MyDrive/checkpoint/chk_\"+str(226)+\".pth\")\n",
        "model.load_state_dict(checkpoint['model_state_dict'])\n",
        "optimizer.load_state_dict(checkpoint['optimizer_state_dict'])\n",
        "optimizer.param_groups[0]['lr'] = 0.001\n",
        "e = checkpoint['epoch'] + 1"
      ]
    },
    {
      "cell_type": "code",
      "execution_count": null,
      "id": "50784970",
      "metadata": {
        "id": "50784970"
      },
      "outputs": [],
      "source": [
        "def test(model,dataloader):\n",
        "\n",
        "  model.eval()\n",
        "  batch_bar = tqdm(total=len(dataloader), dynamic_ncols=True, position=0, leave=False, desc='Test')\n",
        "  test_results = []\n",
        "  \n",
        "  for i, (images) in enumerate(dataloader):\n",
        "      # TODO: Finish predicting on the test set.\n",
        "      images = images.to(DEVICE)\n",
        "\n",
        "      with torch.inference_mode():\n",
        "        outputs = model(images)\n",
        "\n",
        "      outputs = torch.argmax(outputs, axis=1).detach().cpu().numpy().tolist()\n",
        "      test_results.extend(outputs)\n",
        "      \n",
        "      batch_bar.update()\n",
        "      \n",
        "  batch_bar.close()\n",
        "  return test_results"
      ]
    },
    {
      "cell_type": "code",
      "execution_count": null,
      "id": "f933ad3a",
      "metadata": {
        "id": "f933ad3a",
        "colab": {
          "base_uri": "https://localhost:8080/"
        },
        "outputId": "c526f5c6-848a-4cec-d27c-54c1e6d7548b"
      },
      "outputs": [
        {
          "output_type": "stream",
          "name": "stderr",
          "text": [
            "                                                       "
          ]
        },
        {
          "output_type": "stream",
          "name": "stdout",
          "text": [
            "[2210, 5459, 762, 2928, 2863, 3610, 3126, 2953, 1988, 5882, 5331, 1392, 3637, 2292, 6609, 6991, 2623, 3199, 6878, 801, 6978, 5166, 848, 182, 341, 5238, 1259, 6664, 3317, 1820, 2559, 4417, 1894, 538, 1668, 2507, 899, 745, 89, 4957, 1572, 6554, 6933, 1843, 1303, 465, 1412, 6480, 5289, 3531, 3718, 5924, 6913, 2456, 2642, 4481, 1272, 600, 4492, 5470, 3777, 6893, 5326, 2555, 5627, 3018, 5426, 2464, 5736, 147, 4357, 5770, 1126, 3768, 2009, 3926, 5506, 3684, 5766, 2264, 6174, 2114, 2089, 5012, 322, 363, 4988, 5579, 304, 3537, 3968, 1556, 1989, 409, 5268, 368, 5142, 6275, 4433, 1283, 5285, 5181, 662, 4872, 4167, 3106, 1326, 914, 1115, 1886, 1778, 3796, 4176, 3915, 6902, 1403, 5098, 1643, 3847, 178, 5431, 2977, 5440, 6008, 6504, 3282, 5596, 2019, 2457, 3598, 1316, 2, 2876, 4633, 11, 3271, 4931, 3072, 901, 5499, 6243, 5663, 2981, 5154, 3131, 3056, 2907, 823, 6686, 4039, 3254, 6175, 5109, 2237, 5849, 3116, 165, 5440, 6418, 1067, 3244, 4451, 5069, 1443, 1267, 4797, 5369, 3942, 2441, 5212, 2071, 4421, 6503, 6692, 6921, 271, 5156, 2466, 1379, 4570, 6550, 2899, 3012, 294, 6747, 3482, 5165, 518, 472, 6229, 6068, 2015, 2683, 1910, 5638, 83, 1740, 217, 6699, 1555, 602, 354, 3483, 2283, 1443, 3045, 4849, 6472, 6651, 2842, 5773, 2365, 3463, 1769, 4965, 4949, 6266, 3146, 3526, 749, 2867, 344, 1078, 3983, 3853, 3346, 5417, 1807, 4757, 6411, 1566, 30, 4157, 4538, 345, 4961, 3238, 4579, 1037, 1403, 5230, 4766, 575, 6987, 2379, 4654, 1604, 5222, 2136, 3697, 4241, 5158, 365, 3977, 2125, 3153, 2372, 5865, 5058, 1297, 4771, 6722, 6114, 238, 6750, 4233, 269, 3846, 1810, 6982, 5983, 3327, 2971, 4277, 3633, 455, 4599, 6559, 4387, 5648, 4738, 5277, 3669, 1650, 6854, 996, 51, 2752, 2526, 4861, 2492, 4491, 762, 767, 162, 6736, 3019, 4235, 3331, 4382, 110, 4222, 2838, 2353, 5061, 5357, 3675, 3408, 596, 1895, 1671, 49, 4632, 847, 6291, 6185, 209, 1691, 4015, 2452, 3083, 51, 1746, 5961, 1419, 3733, 6265, 4915, 3369, 5911, 653, 2410, 126, 4754, 5831, 1079, 2981, 4517, 6365, 2953, 255, 6382, 2682, 894, 4173, 1236, 3749, 5664, 4321, 5799, 2749, 4252, 1452, 4532, 2396, 6115, 4005, 4370, 1002, 4082, 5107, 2122, 3631, 3549, 4958, 4716, 6392, 4168, 3999, 1991, 236, 4625, 1801, 6932, 5202, 6705, 4907, 492, 5804, 6939, 6776, 3476, 3278, 518, 230, 3250, 1239, 4643, 4060, 325, 3161, 323, 2260, 406, 3094, 2537, 3140, 1918, 4662, 4822, 3406, 3332, 1497, 3032, 3537, 1952, 3790, 1314, 3364, 4778, 2698, 2336, 3264, 4645, 5818, 885, 5546, 558, 6113, 136, 1661, 1242, 575, 4310, 2143, 3777, 5158, 868, 2342, 502, 2865, 6994, 1605, 2688, 5999, 1464, 979, 3204, 1462, 6518, 1119, 4539, 3981, 4881, 2219, 4064, 5879, 3594, 3872, 6861, 3929, 4990, 5751, 5886, 1286, 621, 65, 1707, 4920, 3574, 768, 1748, 3751, 752, 6353, 3077, 3259, 6761, 3113, 6218, 2166, 3365, 4339, 3569, 6816, 6240, 1897, 3719, 4238, 2149, 6120, 1247, 228, 284, 1859, 4791, 4171, 2175, 6569, 6522, 2951, 2445, 5740, 1449, 3205, 4258, 2962, 3243, 6404, 6353, 6331, 717, 3500, 2319, 6891, 867, 1192, 4375, 5901, 4936, 538, 1198, 541, 4872, 2952, 4317, 2551, 5502, 2588, 5104, 2045, 6569, 6213, 3671, 2564, 1795, 4936, 565, 4376, 5567, 2322, 2877, 264, 231, 2702, 3804, 3209, 649, 2030, 5754, 3663, 761, 2795, 1922, 3845, 3374, 4501, 4800, 1643, 2197, 3393, 448, 1381, 5179, 1907, 2451, 229, 1959, 2671, 2234, 5801, 2600, 1968, 1450, 5179, 1056, 244, 647, 6353, 3603, 3476, 4833, 6464, 3257, 2214, 3413, 4608, 6324, 5923, 5383, 4440, 2109, 4309, 6582, 971, 2198, 1034, 1946, 2930, 4182, 5207, 4111, 3402, 3846, 4137, 1309, 967, 1313, 6401, 2017, 1416, 6952, 2511, 6488, 2171, 4264, 5162, 5610, 2421, 3370, 2302, 1055, 199, 3591, 4765, 6247, 2742, 3880, 1232, 91, 2143, 6602, 6152, 1751, 6289, 2238, 6127, 767, 197, 2735, 4916, 4355, 1922, 507, 5242, 4341, 310, 2850, 2115, 1926, 6699, 5826, 2771, 4505, 1470, 5140, 936, 1739, 1915, 4128, 5054, 3199, 4547, 5574, 690, 4477, 5942, 5161, 6275, 5627, 2937, 5078, 2438, 2781, 1530, 3105, 3481, 4998, 1443, 4047, 269, 6242, 4765, 6283, 797, 165, 219, 4378, 5213, 5771, 2407, 3678, 4794, 6025, 2565, 1281, 4156, 506, 6577, 976, 6960, 3371, 874, 5310, 1951, 2836, 967, 2883, 3348, 5743, 3436, 3376, 2659, 1093, 5178, 800, 2890, 6582, 3859, 46, 3832, 243, 4928, 4481, 1288, 3811, 5610, 2721, 5280, 5964, 6495, 4127, 1976, 3173, 1460, 1912, 1720, 2236, 1597, 2995, 960, 4064, 754, 1315, 1879, 3920, 528, 4534, 6511, 5820, 3292, 2546, 1760, 5736, 3746, 2592, 715, 5027, 5745, 2557, 5911, 5184, 5085, 609, 6424, 2420, 5844, 434, 3426, 2479, 1549, 614, 3792, 3600, 2049, 1872, 636, 1213, 6349, 2159, 5104, 1656, 5427, 6360, 5261, 2163, 2194, 2769, 3452, 5605, 6031, 4437, 4322, 1248, 3877, 6329, 1808, 5308, 439, 6073, 6902, 5189, 1114, 103, 4860, 3609, 3971, 2566, 5161, 5825, 2153, 2530, 3375, 3299, 1774, 5749, 2029, 607, 1831, 4645, 2157, 380, 6513, 159, 6093, 498, 4045, 3018, 6937, 2984, 2280, 4529, 3157, 3462, 1092, 1502, 6456, 2296, 2958, 6387, 4696, 4774, 41, 5286, 3476, 339, 1261, 2038, 316, 5662, 2218, 4470, 3165, 924, 5231, 6003, 2595, 2165, 731, 3044, 3665, 6297, 1382, 2382, 2488, 5999, 2189, 3051, 1733, 4781, 304, 5338, 4330, 663, 6725, 3935, 2237, 3163, 2199, 2653, 1814, 2695, 2236, 4224, 464, 1268, 2900, 3391, 2070, 1026, 3661, 744, 3062, 4083, 1332, 6103, 5489, 3895, 3990, 4730, 6481, 1976, 4730, 2818, 5314, 4662, 895, 5076, 6156, 2490, 5506, 5112, 6405, 5347, 4409, 6029, 142, 4668, 6502, 5980, 5735, 103, 6274, 3874, 1033, 6608, 4444, 2432, 1480, 4267, 1488, 2240, 3304, 760, 3659, 5170, 4489, 5558, 5223, 57, 6777, 2687, 2755, 1728, 371, 5714, 2233, 4642, 3374, 6841, 2338, 1921, 1325, 211, 5612, 1568, 1034, 6614, 910, 1172, 1175, 3670, 6793, 72, 4905, 5179, 1278, 1257, 4230, 1355, 4963, 2125, 1875, 4817, 937, 2771, 2034, 2696, 2452, 383, 1805, 6843, 510, 1026, 4740, 3435, 2030, 687, 5623, 6592, 3710, 6036, 5454, 4093, 3860, 3659, 440, 3587, 2642, 1766, 4131, 6840, 1113, 1714, 3002, 4847, 5814, 3597, 3724, 6470, 5835, 445, 628, 6860, 3317, 481, 3946, 6059, 5109, 3014, 2072, 3028, 1112, 2273, 5739, 4945, 5592, 2089, 6910, 5986, 5892, 6082, 6772, 1225, 1036, 3441, 411, 3650, 1677, 3752, 2348, 5634, 5861, 957, 3762, 3726, 5190, 3667, 3634, 3302, 3805, 2713, 527, 5959, 6122, 483, 5758, 2159, 6083, 3785, 1051, 3274, 1397, 5372, 552, 4507, 5765, 3979, 3913, 880, 2903, 6067, 6166, 3440, 4644, 4999, 2541, 6984, 3194, 5681, 2339, 4016, 5824, 1788, 3992, 4747, 1349, 140, 1463, 5168, 2323, 5042, 6520, 6113, 1085, 4704, 5460, 6360, 4744, 4150, 2285, 2026, 3150, 5421, 495, 2320, 1389, 5819, 417, 4535, 4365, 5659, 1424, 3564, 1173, 1828, 5735, 6063, 856, 3544, 2140, 5581, 4853, 1163, 2731, 5022, 2942, 43, 3494, 6603, 4189, 3984, 3854, 2547, 1159, 2597, 4064, 5713, 2636, 6184, 1789, 39, 616, 1396, 2437, 3683, 3269, 6259, 1281, 1315, 4303, 54, 6314, 5195, 4859, 5092, 1908, 4770, 769, 4022, 3198, 6434, 1405, 3837, 268, 5244, 3510, 6061, 160, 812, 3341, 3575, 4951, 645, 6511, 4152, 6737, 1110, 4898, 519, 1272, 5484, 5020, 3995, 965, 4061, 5346, 1348, 2323, 2871, 1673, 2294, 6928, 2068, 5917, 22, 1946, 5536, 22, 448, 2078, 3218, 6688, 6375, 4819, 5010, 1149, 31, 2874, 6687, 6950, 2315, 1429, 6786, 3341, 3861, 4336, 6076, 4353, 3261, 3546, 3835, 2178, 4956, 67, 5689, 481, 2179, 4568, 4488, 4319, 4265, 1864, 1593, 2875, 2469, 5711, 5216, 2735, 6399, 2650, 1750, 5625, 4983, 4830, 4077, 2720, 6407, 5072, 433, 6039, 6294, 2476, 274, 5875, 5912, 231, 1661, 5571, 5256, 1069, 3699, 3637, 2961, 2043, 2012, 2734, 4540, 1034, 4320, 1367, 5582, 1735, 4567, 3831, 5995, 673, 4556, 6050, 3373, 1413, 391, 6004, 4831, 6564, 3526, 1448, 1457, 4220, 4985, 838, 2243, 1024, 6375, 6083, 6638, 5412, 5483, 1190, 1058, 2257, 2031, 136, 4411, 751, 706, 916, 2945, 3830, 3392, 1030, 499, 2933, 641, 993, 883, 6990, 2535, 1204, 5451, 4106, 4732, 1966, 2368, 3110, 2074, 5562, 4083, 6410, 6878, 207, 2589, 5251, 5448, 5313, 2822, 1691, 3717, 1099, 4812, 1397, 3675, 2092, 1976, 3922, 5612, 2110, 418, 1353, 1906, 5790, 1585, 2261, 5998, 1954, 1177, 2005, 5560, 151, 6360, 2599, 4006, 2638, 1099, 5180, 5365, 2519, 2985, 1857, 2067, 3092, 6332, 1045, 901, 2927, 5420, 289, 3439, 1088, 6743, 6070, 4252, 3677, 1141, 1285, 6047, 5329, 2052, 6751, 5145, 3773, 1860, 3954, 407, 3800, 929, 1647, 5824, 5030, 6914, 200, 3799, 1529, 1951, 4708, 5257, 5047, 4475, 1306, 644, 6568, 948, 4081, 387, 895, 221, 128, 106, 1286, 365, 4792, 6587, 5014, 4531, 1818, 6403, 3209, 6262, 5178, 2934, 4630, 2321, 5028, 5219, 3655, 726, 1023, 5107, 80, 2642, 2624, 4864, 3042, 2795, 6483, 1836, 166, 3441, 6196, 5251, 2800, 4442, 2769, 876, 3563, 4775, 4941, 5019, 4815, 6889, 6868, 6391, 4937, 3098, 4116, 281, 5995, 3907, 6638, 2982, 4983, 5464, 1717, 2034, 6686, 4463, 4078, 748, 1297, 3011, 607, 5082, 1606, 4271, 6836, 630, 1262, 756, 6435, 3800, 1648, 1071, 1439, 5216, 5340, 5760, 6516, 6748, 3346, 3658, 4712, 1764, 4813, 2251, 438, 1533, 5120, 5247, 5436, 580, 6214, 1311, 2840, 5620, 299, 1457, 2770, 3377, 3666, 4701, 1172, 3871, 4028, 375, 2774, 4795, 5395, 6711, 671, 972, 16, 3264, 710, 2289, 2130, 927, 6354, 6960, 3868, 2223, 2348, 4409, 4933, 734, 5351, 6299, 1743, 1762, 6806, 855, 239, 164, 4116, 4272, 772, 452, 3352, 361, 1557, 4688, 2324, 127, 2187, 891, 5624, 4026, 5579, 6736, 5836, 5708, 5125, 5262, 3973, 5574, 3248, 2726, 2447, 3902, 5267, 2155, 3187, 4905, 2594, 4017, 2195, 293, 4555, 5570, 2857, 5591, 683, 6443, 2514, 4437, 3196, 190, 4379, 19, 6669, 2772, 5388, 4394, 4472, 1390, 320, 3796, 998, 680, 1282, 1304, 1634, 1359, 1044, 1118, 1935, 5198, 4962, 2096, 4236, 5799, 2037, 5131, 4737, 1802, 5310, 4166, 2577, 6600, 187, 4064, 3545, 470, 2335, 2199, 4352, 1858, 4154, 5133, 1520, 2444, 1421, 6172, 120, 602, 6133, 3933, 2130, 615, 2156, 3417, 6631, 5148, 5935, 1187, 1880, 5938, 4468, 3687, 5426, 2238, 6057, 5184, 4326, 5331, 4350, 2504, 4481, 773, 3806, 1806, 5750, 1611, 753, 6090, 1554, 5818, 4617, 6298, 1081, 5335, 6170, 5697, 6439, 6016, 874, 2446, 677, 6578, 6306, 5511, 6153, 5603, 5687, 3064, 1181, 1098, 2458, 5113, 6621, 4733, 5220, 3298, 4431, 213, 4950, 6723, 5317, 5939, 1654, 2631, 1089, 5475, 3326, 563, 2226, 1624, 5638, 6434, 1379, 5574, 5059, 4660, 6335, 6724, 642, 2920, 5070, 4945, 2049, 5441, 4337, 5600, 6615, 1842, 5620, 5026, 672, 3397, 705, 3989, 2393, 247, 309, 221, 3530, 2471, 3847, 6487, 4988, 4072, 1934, 6975, 6046, 1519, 6138, 973, 24, 1422, 4841, 804, 5050, 1438, 6283, 4671, 6591, 1292, 2904, 6321, 837, 3329, 5208, 4075, 4789, 1046, 4937, 6111, 186, 3800, 1997, 6882, 2870, 189, 1458, 1584, 3891, 5376, 5467, 3624, 6384, 6511, 3556, 6544, 4142, 3122, 5626, 1365, 3798, 6287, 3897, 234, 4087, 5835, 2619, 4988, 5616, 5999, 1821, 1665, 2246, 6794, 3778, 4789, 5709, 5704, 2026, 6632, 3280, 2152, 2865, 1684, 2347, 6513, 2748, 5344, 2501, 4035, 4447, 5415, 1705, 5136, 4018, 4658, 1847, 6357, 3657, 167, 3279, 666, 1106, 5518, 724, 1514, 5348, 3010, 4137, 5691, 6479, 3459, 6731, 4366, 25, 1136, 806, 5119, 6992, 5773, 6659, 3638, 2823, 6229, 272, 555, 475, 1666, 539, 3324, 1715, 3589, 3563, 3165, 71, 6292, 5813, 3472, 6621, 4105, 2953, 5218, 347, 1616, 6678, 6596, 6440, 2035, 6163, 3601, 5725, 5905, 3524, 232, 537, 4258, 1646, 893, 3727, 4073, 2631, 6653, 6929, 3441, 2242, 583, 2184, 2385, 3882, 5405, 1683, 3681, 177, 3122, 681, 1223, 3563, 564, 4980, 5942, 1170, 2263, 5401, 4202, 2499, 4347, 1615, 3710, 6075, 1309, 354, 1992, 608, 5509, 5910, 2100, 5685, 3810, 3281, 2054, 1647, 3393, 3538, 3073, 1636, 5991, 1004, 2476, 1241, 2180, 3132, 752, 5632, 1864, 6834, 1547, 1458, 5346, 5302, 1711, 3447, 4238, 6684, 1891, 3584, 5411, 3782, 1055, 1419, 2456, 3222, 2864, 1160, 1710, 30, 3391, 827, 3924, 6333, 6668, 590, 3309, 1183, 1408, 1168, 3158, 4201, 2139, 4659, 4185, 2952, 3577, 608, 6974, 1593, 1488, 4513, 6921, 304, 6374, 3195, 906, 564, 2482, 3820, 1148, 5719, 798, 1110, 2444, 6135, 6878, 412, 1388, 1927, 2543, 1582, 6857, 5038, 3251, 1068, 1764, 5200, 5166, 4274, 894, 2157, 6516, 1752, 5256, 4269, 2047, 4278, 4523, 6204, 1598, 6433, 4149, 6382, 1684, 5649, 1363, 1969, 1869, 3882, 5444, 1292, 6977, 5750, 6749, 2963, 5134, 2030, 2596, 4878, 3535, 4764, 5645, 6264, 826, 529, 2612, 4437, 1763, 1887, 566, 336, 1087, 4863, 618, 4288, 5660, 3969, 6708, 1736, 1220, 6641, 288, 2087, 2009, 740, 3433, 5631, 1662, 4044, 3335, 559, 33, 598, 2649, 4683, 2951, 1697, 2700, 3268, 4404, 1378, 1906, 6148, 436, 1235, 878, 2108, 2569, 619, 835, 6967, 4455, 6424, 2134, 3337, 1481, 2508, 6245, 3707, 6356, 3537, 3236, 739, 3095, 220, 5522, 5019, 2596, 3914, 1058, 2279, 3604, 1618, 5712, 2383, 5139, 6415, 5252, 2292, 6637, 3051, 6531, 899, 6579, 3618, 4181, 1417, 6601, 1100, 2245, 842, 2993, 3212, 534, 2798, 3221, 4292, 5088, 4549, 4659, 5439, 1399, 840, 4276, 5664, 5429, 437, 5350, 2999, 2783, 6487, 2322, 215, 5921, 311, 3428, 3295, 4875, 6793, 3993, 4695, 6674, 522, 4759, 5507, 1135, 5177, 5838, 1746, 2376, 3876, 6550, 5521, 4642, 4805, 2394, 6980, 4976, 6904, 2277, 531, 2453, 6820, 4841, 4711, 5894, 1703, 6975, 5651, 4958, 1851, 3192, 5842, 4023, 3052, 5229, 706, 4375, 3959, 3335, 3642, 3877, 1708, 1562, 94, 307, 6377, 3592, 4266, 1651, 662, 2084, 879, 4894, 6049, 2978, 5377, 3166, 848, 5287, 3577, 639, 5683, 4024, 3304, 2916, 5480, 1970, 548, 5838, 1464, 5163, 6379, 1392, 6183, 2303, 2648, 5442, 6568, 282, 5198, 3994, 6665, 1210, 5740, 2929, 1837, 5345, 5049, 1480, 175, 3582, 5727, 4373, 5597, 1829, 4842, 6323, 436, 3944, 3568, 4120, 904, 479, 1959, 2298, 5962, 5764, 2399, 4229, 3570, 1341, 6223, 1272, 6574, 133, 891, 5439, 6033, 6613, 4597, 6688, 4677, 2210, 6484, 6303, 1520, 919, 6306, 6752, 5993, 347, 4634, 6214, 4566, 5842, 3089, 3848, 5193, 3118, 1957, 3508, 4358, 3960, 3630, 3626, 263, 5641, 6061, 1977, 4605, 4505, 1686, 5870, 1537, 6696, 6117, 3542, 2990, 823, 238, 891, 6799, 5669, 5452, 5850, 11, 2435, 4210, 4290, 1923, 5898, 4391, 5139, 2743, 6530, 5455, 5199, 5732, 5256, 6324, 1059, 5141, 5469, 678, 6183, 5956, 935, 3978, 3091, 5918, 4340, 4710, 579, 2841, 2629, 5445, 4148, 2346, 11, 824, 76, 2553, 6026, 2261, 214, 2682, 646, 792, 1467, 3027, 4098, 6262, 2207, 1730, 1932, 3819, 5570, 4237, 6808, 6149, 6557, 5801, 1001, 5566, 6458, 2818, 5789, 3510, 2582, 6010, 122, 3612, 889, 3735, 3684, 4212, 6812, 4194, 1299, 1453, 123, 2375, 3159, 1521, 903, 5424, 6662, 288, 358, 6898, 5805, 4609, 2029, 628, 6195, 2667, 412, 426, 5719, 2019, 4640, 2118, 1890, 5981, 4464, 3625, 4335, 2055, 6833, 4400, 6727, 2509, 3995, 1737, 3903, 2211, 6739, 5621, 5272, 1797, 3821, 1841, 1, 6738, 626, 5397, 4576, 1212, 5300, 3001, 6479, 6613, 5355, 3136, 6081, 3014, 873, 1134, 5452, 1263, 1462, 2702, 1688, 5250, 6844, 2348, 6312, 6598, 6244, 3365, 2261, 5466, 2232, 326, 4683, 3937, 5134, 6426, 4186, 2586, 1443, 291, 6883, 533, 35, 4702, 4934, 3688, 537, 4561, 2719, 3285, 3437, 4079, 2713, 3573, 6964, 4014, 3494, 6950, 1312, 4858, 1132, 4431, 2141, 6565, 5269, 3071, 5153, 1615, 5123, 4742, 3020, 4886, 5384, 658, 3777, 5520, 1941, 1463, 1305, 2469, 262, 1897, 5326, 3435, 892, 130, 4753, 224, 4895, 5781, 6386, 1863, 3893, 2908, 384, 2491, 2392, 679, 785, 871, 3806, 2617, 6944, 2652, 3111, 3894, 800, 2096, 5157, 1625, 5945, 2997, 292, 3628, 6943, 1155, 6995, 1586, 2795, 897, 531, 1234, 5231, 5303, 1612, 1262, 3713, 5960, 854, 2553, 513, 4937, 3353, 2933, 6177, 1302, 1567, 1615, 5070, 3093, 4224, 248, 5774, 3276, 4236, 1569, 2988, 6939, 3536, 5803, 2595, 6349, 4785, 4357, 6925, 5107, 6033, 4827, 2844, 3126, 1905, 4012, 6656, 1146, 2385, 3063, 258, 5920, 5289, 6717, 4563, 6366, 1981, 1837, 3939, 2820, 1471, 1416, 2887, 3942, 4034, 6777, 4236, 2167, 521, 6566, 2991, 1360, 2046, 5607, 2535, 5969, 5290, 3456, 5144, 5362, 194, 12, 3892, 2999, 1943, 1096, 2433, 1176, 4506, 4180, 2222, 5150, 1940, 6153, 3128, 893, 4754, 2708, 2736, 1918, 4445, 6701, 4229, 346, 3092, 701, 5881, 6130, 2571, 2893, 5035, 4105, 3758, 1188, 677, 2632, 3780, 3440, 6623, 2831, 530, 2965, 5845, 385, 480, 3279, 3873, 5213, 170, 684, 5832, 4537, 3956, 3865, 5470, 5972, 1333, 4861, 6013, 5006, 4459, 2449, 5540, 3643, 4989, 2407, 3086, 4296, 440, 5669, 1092, 3127, 1890, 5700, 5912, 6685, 390, 5449, 5335, 5261, 697, 4002, 5602, 1980, 6662, 1229, 4280, 6451, 15, 3724, 2637, 440, 1104, 5586, 824, 461, 5413, 6141, 3968, 1451, 972, 548, 3633, 1938, 5779, 4629, 3131, 3069, 5072, 4701, 6588, 1808, 5174, 4504, 5164, 318, 1521, 6203, 3775, 2225, 196, 4199, 4608, 181, 6030, 2928, 5805, 3576, 1054, 2232, 2977, 5275, 829, 549, 5300, 1662, 6784, 6551, 2460, 2126, 1937, 1374, 4848, 693, 2051, 938, 2701, 96, 6463, 2788, 6934, 6601, 1217, 1599, 2576, 5662, 2969, 1616, 6112, 4162, 4606, 1029, 602, 4116, 5008, 116, 641, 5860, 2733, 699, 1521, 2707, 625, 2361, 1928, 3066, 6807, 6549, 1844, 1695, 3194, 3620, 6039, 6616, 6845, 6716, 3497, 4158, 5364, 2024, 5913, 2434, 5151, 1976, 3741, 3463, 5715, 3755, 5072, 5881, 5384, 5782, 2580, 1047, 1112, 6201, 4661, 5744, 5563, 4040, 2506, 1357, 1120, 4713, 5925, 3769, 2145, 4809, 3455, 3376, 2587, 2464, 322, 2390, 5717, 5479, 5696, 1509, 954, 417, 368, 6461, 6278, 1247, 1506, 6736, 1446, 206, 1345, 159, 4224, 1692, 883, 2627, 4606, 5515, 356, 772, 2966, 901, 876, 4292, 2465, 2503, 2906, 4247, 898, 6707, 2032, 4768, 1696, 2528, 3356, 6960, 5573, 6594, 1379, 1102, 5358, 3840, 5096, 4600, 1228, 5589, 6, 4701, 4146, 1002, 2270, 1401, 2063, 430, 6908, 4662, 5167, 6748, 5696, 6075, 3527, 3531, 3627, 840, 5045, 2624, 1136, 4849, 1980, 3499, 1262, 1340, 3502, 4558, 1766, 2761, 5295, 2251, 2508, 3772, 6139, 6120, 2790, 1244, 1489, 2845, 3651, 2505, 3016, 830, 4804, 2075, 5544, 5977, 1485, 3732, 4096, 1900, 232, 1735, 4776, 59, 4831, 6388, 3161, 6801, 997, 2994, 252, 5050, 1471, 1359, 4003, 3286, 4291, 2856, 3213, 4730, 3321, 6354, 3315, 870, 5874, 5301, 5746, 6929, 6782, 5150, 6191, 409, 1299, 3386, 3501, 273, 3054, 5366, 3689, 3700, 1548, 1797, 5594, 4333, 2280, 6042, 3760, 1228, 1334, 1917, 3894, 845, 49, 6651, 3449, 6182, 3672, 3179, 354, 4402, 4303, 5120, 6479, 6750, 564, 2289, 6615, 6803, 2330, 167, 5870, 3057, 2113, 3852, 6257, 2250, 6351, 3086, 5183, 3155, 6833, 3622, 3238, 2643, 6397, 6574, 5851, 6477, 4858, 6630, 1932, 2134, 1193, 5804, 6093, 6852, 4787, 2463, 2824, 2718, 1206, 3571, 1217, 6670, 3754, 5561, 5110, 3114, 2257, 2426, 857, 3745, 1823, 1424, 296, 6976, 1637, 3907, 379, 2814, 2939, 4114, 4356, 4821, 1727, 1291, 1623, 129, 779, 2518, 1393, 4875, 4101, 841, 5447, 2268, 5011, 5744, 3175, 2745, 4975, 980, 6058, 6924, 3212, 1959, 5400, 2550, 5564, 984, 1540, 702, 510, 2712, 5470, 6876, 5327, 1696, 1481, 811, 5710, 511, 6683, 6202, 5660, 355, 3126, 2076, 372, 1926, 2585, 6670, 209, 2412, 1969, 215, 2408, 2240, 2832, 5768, 4506, 3077, 6734, 6716, 6810, 3568, 2048, 6980, 6421, 6760, 2172, 1696, 6568, 1187, 844, 1840, 6188, 2579, 4865, 5913, 4406, 6149, 2175, 6708, 447, 6154, 4755, 4663, 6889, 403, 149, 5177, 6465, 2568, 4468, 1887, 6278, 4778, 5173, 3760, 822, 36, 3582, 616, 1109, 2656, 3372, 2694, 2834, 2459, 2861, 2930, 5440, 4848, 3869, 1456, 179, 5474, 117, 5536, 2521, 3200, 1453, 3984, 1729, 328, 4885, 886, 1684, 2446, 6860, 2417, 4636, 6073, 6259, 1534, 1966, 297, 5599, 5227, 1041, 1033, 4973, 1040, 1952, 6465, 6105, 5974, 4220, 5212, 1354, 3478, 188, 6231, 1103, 5886, 19, 2973, 71, 5545, 2377, 3412, 791, 6724, 4297, 6617, 2506, 2072, 2728, 6521, 1063, 4573, 380, 728, 1628, 318, 6286, 56, 5418, 6599, 2209, 2310, 4889, 3749, 1209, 281, 3587, 5813, 6344, 2119, 3048, 3240, 4358, 5063, 5618, 1414, 644, 1743, 3040, 509, 5674, 4726, 1426, 3603, 1866, 3497, 3466, 1013, 5246, 324, 5608, 751, 900, 2048, 3496, 1894, 1461, 124, 1024, 6493, 6288, 1026, 2617, 376, 6817, 979, 3566, 6839, 976, 6321, 702, 3924, 4789, 2528, 6218, 1692, 2015, 4940, 941, 4809, 1982, 3610, 122, 4111, 3636, 4572, 5844, 6051, 5408, 5898, 6106, 5095, 1656, 3508, 5982, 990, 2706, 2800, 2019, 5199, 2215, 6769, 5703, 4774, 1641, 4126, 4350, 1975, 1287, 2199, 3224, 4410, 4478, 3606, 1955, 6728, 4980, 1872, 3543, 218, 686, 2154, 4853, 2760, 5650, 1822, 1917, 3159, 5583, 4072, 5975, 6522, 4621, 2609, 6308, 3318, 1507, 5433, 5907, 4439, 5547, 2691, 2382, 270, 966, 3559, 3652, 614, 6517, 4174, 2222, 4760, 445, 3603, 3224, 722, 5669, 5145, 626, 3297, 3966, 6028, 4461, 6439, 3521, 6679, 6692, 2346, 370, 6479, 3206, 3739, 1141, 5972, 4339, 5878, 102, 4749, 6908, 4489, 2290, 6199, 2976, 5650, 2748, 4459, 715, 4454, 2302, 2526, 708, 1289, 1872, 6207, 5385, 2612, 4106, 6437, 4051, 6553, 1335, 2797, 1134, 1415, 5930, 6958, 3138, 6656, 1577, 1817, 6504, 5663, 5908, 6831, 1682, 537, 1646, 107, 2816, 5942, 2948, 731, 4838, 4729, 2844, 3200, 4346, 796, 1368, 5417, 4935, 6914, 4929, 5034, 2950, 6806, 6100, 1414, 428, 1031, 6872, 3599, 3602, 4167, 387, 3359, 4496, 6665, 3882, 603, 4061, 1979, 2039, 2107, 2145, 4775, 6532, 5298, 1627, 2534, 5751, 4212, 4415, 1602, 5926, 3652, 2814, 5733, 6994, 2692, 3165, 3612, 2498, 3160, 3478, 2434, 4811, 2583, 3042, 824, 5313, 4443, 2589, 4719, 3318, 3807, 844, 6238, 3470, 2176, 882, 525, 3598, 5137, 4587, 6674, 314, 3866, 6531, 5308, 6685, 5074, 6519, 1454, 1070, 2123, 5639, 5253, 4510, 2883, 2443, 3444, 6826, 6269, 605, 5935, 1433, 2384, 773, 6184, 4204, 1040, 3420, 4343, 1080, 6962, 1437, 6378, 2180, 3000, 2553, 4091, 578, 6892, 2141, 3660, 4930, 2202, 5276, 2584, 3773, 1432, 1120, 5933, 6766, 3812, 2945, 2281, 3901, 6882, 3558, 6802, 3418, 2976, 4718, 1755, 916, 1361, 6958, 6995, 2719, 1488, 2977, 2468, 554, 1531, 2855, 3952, 1203, 4005, 1583, 2969, 2708, 4907, 6000, 4513, 1299, 3990, 3205, 5062, 4713, 2446, 15, 4295, 3064, 2087, 5032, 3002, 655, 5826, 399, 3494, 2267, 2151, 120, 4557, 4831, 4795, 3686, 6390, 5487, 2385, 1785, 8, 6667, 6331, 4844, 6205, 1985, 2670, 2082, 4967, 5584, 496, 623, 2405, 5869, 2329, 939, 266, 5242, 3980, 3198, 2504, 4343, 1157, 6577, 2947, 2036, 527, 3425, 6192, 1793, 2564, 336, 240, 5715, 3362, 5102, 5872, 3765, 5451, 1105, 5822, 1944, 2274, 6270, 1698, 1965, 6022, 1686, 4485, 1525, 6764, 1693, 5507, 989, 3725, 3834, 3815, 4651, 6609, 4067, 4864, 2899, 5902, 6843, 4356, 1155, 2007, 178, 6975, 828, 2356, 5742, 5972, 2270, 4920, 3786, 6940, 5450, 6157, 238, 5573, 2660, 3190, 735, 3342, 3950, 2135, 3038, 2936, 6474, 4802, 3748, 6693, 4804, 6881, 1361, 1708, 3163, 4174, 4291, 4999, 4225, 3356, 3796, 5371, 2084, 4144, 1978, 1460, 707, 3375, 3851, 4833, 5880, 1314, 4386, 4516, 6085, 3110, 5393, 4954, 4507, 3661, 964, 2010, 5264, 6800, 5963, 5828, 4202, 598, 6399, 819, 12, 792, 821, 4931, 3742, 1267, 5735, 2103, 2572, 3931, 4330, 6181, 3830, 1899, 4385, 4627, 4138, 2763, 455, 3273, 3110, 210, 4507, 913, 4050, 423, 726, 1238, 1314, 1741, 697, 2344, 3637, 2791, 2869, 5190, 3566, 6927, 3118, 3938, 5930, 4949, 6834, 430, 5076, 3459, 4503, 3082, 4091, 530, 2285, 4280, 2964, 2929, 5431, 6439, 529, 2605, 372, 1944, 4777, 3514, 3466, 618, 340, 3612, 5847, 3728, 2476, 6717, 5815, 728, 2053, 4438, 268, 1624, 5565, 1580, 2170, 1526, 6832, 5195, 3407, 5399, 2352, 4766, 900, 6848, 3355, 4838, 5833, 3075, 87, 5967, 2439, 5406, 3798, 2439, 2641, 1140, 5603, 6551, 6983, 3437, 1996, 4349, 3285, 2143, 5093, 6366, 2835, 623, 4509, 4018, 2518, 2871, 1634, 5902, 3875, 907, 2851, 2328, 4490, 1093, 5174, 753, 2934, 3650, 3031, 5563, 2462, 133, 5425, 3592, 1384, 4706, 2489, 3067, 3276, 748, 4453, 2901, 945, 2963, 6790, 2877, 3725, 1095, 62, 2901, 568, 6339, 5175, 6219, 5370, 1667, 6321, 4733, 4557, 4923, 3486, 5228, 359, 1571, 6577, 1955, 4205, 2244, 2081, 6383, 1873, 4305, 5151, 1589, 961, 6486, 6658, 6185, 1937, 6843, 4130, 210, 4974, 4282, 6461, 6238, 3124, 4553, 3106, 3485, 6388, 3816, 1675, 880, 4854, 1192, 3493, 4722, 2298, 3088, 350, 4590, 4636, 1323, 432, 6045, 3685, 3191, 1361, 6179, 2871, 1498, 6763, 3862, 409, 5359, 2356, 5520, 3830, 5006, 1360, 4712, 280, 4717, 2511, 4466, 5203, 6270, 2849, 3119, 1000, 85, 2054, 3613, 2561, 6263, 3593, 5642, 4950, 6067, 5698, 3488, 6810, 6106, 6293, 3141, 2541, 1466, 193, 5635, 5316, 5614, 1662, 421, 6118, 3654, 6987, 4356, 824, 4002, 1168, 4477, 3998, 490, 6769, 5833, 5655, 3537, 6977, 5304, 5083, 464, 6729, 6930, 4100, 6084, 6985, 3982, 4684, 6554, 6013, 6952, 2522, 169, 6597, 1715, 1387, 2709, 2581, 3954, 2388, 5250, 2568, 3696, 814, 5362, 2177, 3039, 2224, 4728, 4888, 325, 6744, 3405, 6467, 1483, 4220, 5116, 6585, 5165, 3530, 3961, 4748, 1274, 4100, 2103, 6066, 5449, 3542, 2782, 6405, 369, 4731, 1143, 3982, 3546, 4760, 2170, 1108, 637, 3512, 4669, 709, 3590, 1170, 6789, 2473, 1317, 2817, 91, 3810, 3123, 3875, 368, 199, 6194, 2382, 3313, 1283, 6703, 4485, 3383, 896, 1993, 88, 4898, 2277, 1903, 28, 5194, 1565, 5289, 1523, 4516, 5514, 4288, 6558, 5038, 619, 1765, 4394, 3546, 6561, 3864, 6148, 84, 6049, 6161, 3148, 6899, 2185, 4646, 3722, 962, 211, 5097, 6027, 534, 2245, 635, 3311, 971, 3056, 4419, 3966, 202, 435, 1504, 2456, 869, 4816, 835, 4282, 3652, 1757, 3944, 5287, 4098, 3972, 1046, 1808, 1995, 505, 4441, 2237, 3903, 6635, 5496, 6667, 6013, 302, 2137, 6020, 5885, 490, 744, 3392, 6071, 191, 4937, 5490, 4845, 4330, 2632, 6411, 939, 3463, 2059, 4810, 3079, 4603, 3177, 4569, 4629, 3682, 1150, 4080, 1142, 6715, 3814, 4481, 3843, 3429, 4580, 4783, 5843, 4682, 4520, 5273, 5038, 4892, 2950, 4338, 3329, 5064, 4631, 2087, 5227, 486, 2993, 1466, 91, 6805, 4962, 2915, 491, 6588, 3712, 5924, 4245, 6531, 5149, 1146, 4036, 5646, 433, 1577, 4465, 566, 3700, 2436, 698, 3802, 1803, 52, 5863, 6676, 2827, 1924, 2730, 3839, 5423, 5364, 1310, 3914, 6497, 2844, 2412, 5124, 5087, 4542, 2543, 3953, 101, 4335, 5140, 1737, 569, 688, 2143, 6727, 5876, 3670, 3585, 4608, 6326, 5527, 2969, 3994, 1138, 2710, 1351, 886, 1819, 1914, 3315, 2440, 4945, 6944, 2265, 1472, 2338, 1942, 3470, 669, 698, 543, 82, 400, 6235, 6484, 6876, 3951, 4556, 4553, 6685, 2740, 499, 121, 1261, 226, 1842, 425, 4154, 1307, 1738, 2639, 6442, 4108, 283, 2952, 4210, 613, 6329, 592, 3513, 6043, 2914, 883, 4709, 3764, 274, 1871, 6133, 5162, 1091, 2948, 2946, 456, 4806, 6461, 6759, 6336, 5926, 3923, 6492, 3419, 1763, 5495, 3723, 106, 6674, 3468, 1711, 4819, 64, 972, 1369, 2160, 6597, 6342, 572, 2355, 4115, 2144, 2156, 103, 4127, 6517, 5636, 3188, 2938, 371, 2884, 1188, 4825, 1788, 3715, 1035, 871, 3171, 263, 1878, 122, 5499, 6866, 6637, 6959, 358, 2232, 373, 3589, 3101, 2660, 473, 4800, 2000, 2728, 2306, 3834, 2395, 1077, 5697, 306, 224, 3289, 2322, 6854, 3068, 3029, 3949, 3742, 1625, 5234, 5651, 5645, 3646, 6877, 1502, 5563, 5175, 5257, 5862, 6895, 98, 5506, 1036, 6226, 134, 5776, 4800, 1288, 3625, 1423, 3392, 349, 1229, 2851, 5203, 4231, 3169, 1136, 5061, 1398, 1309, 5661, 4280, 4246, 5045, 4467, 6254, 1595, 2714, 5243, 2601, 4600, 3299, 2916, 4356, 459, 4232, 861, 5690, 1809, 4369, 736, 551, 2258, 1683, 4991, 4949, 2238, 4529, 1173, 2823, 3623, 6971, 2836, 70, 4858, 6188, 193, 5010, 2771, 470, 3003, 4689, 5037, 1926, 1490, 5017, 5874, 376, 3930, 349, 471, 4654, 3311, 5686, 4538, 4986, 1193, 2803, 4616, 273, 2145, 6159, 1492, 2995, 6205, 3135, 4311, 1, 631, 4200, 5946, 6202, 4002, 5746, 6311, 2438, 2823, 1117, 634, 61, 1848, 3289, 4429, 5673, 4934, 1151, 386, 607, 2104, 3129, 6195, 4472, 707, 4709, 6404, 826, 2222, 1501, 1388, 1373, 2722, 2643, 2479, 3866, 331, 4632, 1552, 4497, 2615, 5416, 2666, 173, 4496, 5162, 4824, 565, 3985, 6307, 6817, 3797, 480, 183, 580, 2986, 2351, 6780, 4129, 4318, 3756, 3801, 6581, 4821, 1235, 1147, 5130, 404, 3562, 1690, 5753, 3374, 4863, 4977, 2620, 784, 1426, 6475, 6166, 2780, 5194, 4375, 6237, 6301, 6260, 4841, 3427, 2312, 4492, 5954, 5282, 5538, 2693, 2303, 3555, 1720, 803, 546, 6884, 2223, 3249, 5677, 3139, 1261, 6419, 2700, 4857, 2609, 5345, 4655, 5459, 3508, 1758, 4232, 2880, 4770, 5239, 4690, 3882, 818, 2842, 4029, 2631, 5654, 727, 6758, 6576, 2218, 3307, 3258, 4469, 2736, 3437, 1230, 2203, 5190, 4273, 1593, 2128, 2475, 3858, 5293, 1247, 89, 6626, 214, 483, 6636, 2125, 4625, 2711, 6116, 3206, 5390, 6575, 1324, 2167, 3893, 1546, 4348, 3696, 1248, 3280, 5066, 1560, 2593, 3144, 603, 691, 6763, 6523, 4038, 5409, 2369, 6959, 2572, 1849, 6595, 6087, 5305, 4250, 500, 4631, 4087, 3357, 5616, 762, 2921, 11, 93, 2077, 4174, 3965, 1278, 1142, 5686, 6894, 3423, 317, 1139, 6303, 1282, 1221, 6270, 375, 5849, 3960, 321, 2574, 2584, 2190, 5884, 3953, 3659, 891, 1937, 4037, 701, 1566, 736, 526, 4776, 6388, 6324, 4211, 411, 1318, 4487, 766, 326, 1896, 4562, 809, 1923, 6909, 4055, 2650, 6240, 1412, 2760, 5971, 4455, 2802, 5594, 5267, 1292, 1801, 4281, 4944, 6714, 2344, 442, 4052, 2648, 5437, 3313, 1224, 1015, 4754, 2794, 847, 5977, 654, 16, 2700, 2386, 5039, 5633, 1328, 4471, 5621, 3235, 5520, 413, 1873, 4538, 3813, 3140, 2061, 4748, 1620, 6543, 1785, 2390, 6937, 3460, 5790, 6652, 1303, 2989, 3413, 738, 2264, 4855, 1884, 1845, 6367, 5086, 1509, 1193, 1253, 1641, 254, 2132, 1081, 6005, 3699, 5101, 5299, 1585, 2956, 2188, 6589, 4191, 1238, 6874, 2349, 6662, 1417, 5375, 5992, 4462, 427, 372, 6189, 758, 795, 863, 248, 4735, 4470, 4046, 6115, 2029, 2392, 3413, 5246, 2051, 1939, 5580, 2014, 5517, 894, 437, 6942, 1001, 6022, 2260, 2215, 2227, 5757, 5487, 6485, 3702, 233, 6588, 6446, 1313, 125, 3395, 1160, 155, 3791, 2116, 1083, 4695, 230, 4022, 3572, 3430, 6719, 5478, 6921, 2312, 4060, 43, 6854, 1046, 5182, 1765, 4193, 6681, 2680, 5264, 1625, 3910, 5713, 1952, 4126, 5463, 2802, 5958, 2754, 1836, 483, 4188, 4823, 4481, 4464, 5545, 6947, 5721, 1225, 3359, 4313, 6440, 2479, 5311, 2026, 6693, 5182, 5051, 5233, 766, 1710, 5420, 4724, 3974, 2910, 5053, 5614, 1420, 912, 6843, 1871, 3777, 4901, 2010, 1289, 1310, 323, 5893, 6954, 6980, 4121, 5891, 2961, 5041, 942, 5499, 6035, 255, 663, 4445, 4847, 4978, 841, 344, 139, 5693, 2408, 5235, 6168, 842, 1277, 1053, 2787, 3112, 4566, 262, 4945, 6415, 4319, 5727, 6341, 6184, 775, 1368, 579, 4445, 4887, 6129, 2724, 4255, 1231, 3005, 6207, 429, 3630, 5718, 3779, 5933, 1342, 1767, 1789, 4753, 6419, 1275, 2197, 6084, 2151, 2500, 4563, 1412, 2462, 1773, 2935, 1502, 4703, 1804, 6643, 2362, 5834, 886, 6421, 3985, 1855, 791, 1067, 2425, 450, 4144, 5636, 2275, 6819, 2134, 3192, 3424, 3360, 1707, 4047, 4247, 6392, 6534, 5006, 2278, 1509, 1508, 6893, 4428, 5459, 2567, 2633, 5631, 3740, 6528, 3566, 3330, 3595, 693, 2230, 2989, 6554, 5089, 846, 3598, 5710, 6704, 2379, 5177, 2811, 6234, 3539, 5034, 6126, 2647, 6701, 438, 47, 1316, 938, 5934, 5445, 120, 6838, 128, 2341, 1712, 943, 3406, 1472, 3708, 693, 710, 670, 5167, 3918, 5427, 1182, 5734, 542, 5353, 5882, 552, 5801, 3394, 2018, 5426, 652, 1738, 5992, 4911, 6944, 850, 5496, 6077, 5155, 5581, 4457, 1708, 2928, 5107, 2182, 608, 3642, 3435, 1887, 1157, 2623, 3559, 4088, 3712, 4275, 6918, 1658, 1418, 1186, 1019, 705, 6728, 431, 4569, 6970, 4332, 3747, 5320, 908, 5771, 5027, 6797, 4252, 902, 3169, 4132, 1215, 1286, 3975, 4056, 4898, 30, 178, 6634, 1200, 5211, 439, 659, 6999, 941, 5141, 3838, 3835, 3706, 2453, 1429, 1088, 3177, 4495, 6617, 5305, 6180, 1031, 1586, 6419, 177, 5801, 5659, 5701, 2057, 5434, 3081, 4075, 6845, 0, 4149, 3028, 951, 3465, 6853, 6322, 2008, 67, 5367, 3793, 1990, 6086, 570, 3575, 5797, 2578, 574, 6203, 3711, 179, 5279, 1510, 4411, 2860, 1577, 2003, 2311, 1323, 1534, 2110, 4348, 4800, 5068, 1915, 4017, 3, 1832, 1268, 2645, 2725, 2749, 2918, 4208, 1342, 6514, 2357, 2416, 4785, 4237, 3122, 6506, 5117, 6986, 912, 2815, 851, 5968, 3402, 4704, 6947, 4528, 2465, 2909, 3021, 1899, 6594, 5021, 5497, 443, 4212, 4274, 3912, 1798, 5247, 5095, 1263, 6861, 1608, 3698, 2123, 2211, 5839, 5825, 3788, 4132, 2514, 4914, 3006, 2521, 3552, 3837, 4549, 6474, 1739, 2791, 738, 5704, 6144, 6400, 5530, 6350, 4680, 3867, 2807, 5167, 2840, 4474, 4112, 6056, 5081, 4138, 799, 409, 4844, 6092, 3346, 3027, 900, 3352, 2283, 3935, 4370, 3753, 144, 1593, 795, 5698, 2989, 2727, 69, 2904, 2423, 4528, 5624, 6872, 4737, 2418, 4323, 5925, 4147, 5696, 2887, 5979, 3390, 1448, 882, 6482, 4591, 3524, 1012, 1244, 6733, 5168, 843, 2636, 6219, 1835, 4878, 1115, 2925, 6506, 5822, 6661, 519, 1048, 2773, 3630, 4121, 4217, 3217, 4734, 5043, 5190, 4829, 2366, 6848, 2152, 523, 5407, 264, 2168, 5782, 1692, 4932, 3211, 3666, 4845, 3557, 5015, 4071, 2839, 4047, 244, 6587, 6648, 4712, 741, 231, 3318, 1981, 5395, 4795, 6137, 5607, 5042, 3089, 3584, 6292, 2120, 4310, 5517, 5698, 2440, 189, 34, 3839, 3446, 231, 4087, 5620, 3661, 1051, 3032, 115, 1391, 1347, 6508, 4198, 4664, 5650, 3319, 5138, 5695, 756, 3539, 5781, 667, 4582, 3300, 1047, 915, 6171, 3277, 3580, 887, 6374, 5361, 247, 1534, 2656, 937, 549, 5809, 1320, 3037, 2380, 6399, 3405, 4811, 4517, 6182, 3509, 2602, 5935, 2162, 4626, 4806, 4381, 2001, 465, 1029, 4953, 3216, 2504, 584, 349, 4198, 1678, 6384, 3764, 850, 1532, 4206, 5131, 908, 56, 5487, 796, 2086, 3346, 3679, 3382, 3400, 5643, 789, 3676, 4998, 6931, 6242, 728, 3219, 855, 5765, 963, 5210, 5859, 2090, 3712, 4327, 3554, 1072, 6726, 1376, 6257, 1277, 739, 6249, 6855, 3457, 6733, 1756, 5213, 5461, 3096, 730, 3094, 624, 4236, 110, 5679, 601, 3613, 275, 3869, 5646, 6394, 3868, 1470, 6346, 3209, 2929, 6821, 5599, 74, 623, 6630, 3442, 6710, 252, 39, 2406, 3337, 1335, 3133, 2090, 5537, 4868, 203, 5630, 6757, 71, 3234, 4496, 6972, 4568, 6125, 2118, 6474, 6871, 5157, 2077, 1133, 5198, 1607, 3117, 2583, 3227, 1508, 5818, 5590, 643, 5766, 476, 3436, 3973, 1258, 6688, 2912, 2827, 4190, 895, 2262, 1180, 6489, 5675, 3251, 1699, 331, 706, 2822, 507, 5447, 6315, 4441, 4773, 5634, 1324, 2606, 6725, 356, 6206, 93, 6561, 3081, 3050, 6119, 1310, 4564, 3311, 1044, 6360, 4337, 822, 138, 2665, 4688, 3179, 1042, 2386, 3825, 4522, 5925, 2021, 4874, 1975, 3771, 545, 3314, 3662, 3749, 3471, 3117, 3017, 6584, 2872, 4267, 4678, 5145, 6260, 6428, 618, 1885, 4085, 3185, 3778, 1397, 3268, 4537, 5871, 79, 3055, 288, 2839, 2086, 5400, 5162, 3106, 3397, 4611, 6462, 5111, 1129, 968, 1539, 1712, 875, 4481, 1662, 487, 4184, 109, 1268, 2065, 2938, 186, 5799, 3824, 6524, 2775, 5990, 1038, 4518, 965, 5300, 6496, 412, 5437, 6968, 3651, 6171, 3364, 5212, 1898, 2644, 3290, 1583, 5154, 4124, 2273, 1303, 1312, 1496, 2837, 4942, 5828, 617, 5670, 2045, 6507, 5880, 239, 2207, 6578, 3686, 500, 2711, 950, 1018, 2036, 2478, 4218, 3505, 338, 714, 4325, 1828, 2978, 1202, 3717, 5898, 6343, 615, 2061, 74, 4787, 5018, 4238, 1786, 4607, 1956, 2397, 6432, 1637, 2136, 3191, 2502, 5922, 4717, 6749, 6803, 5337, 4878, 3918, 4956, 5199, 6520, 5445, 6467, 5197, 6516, 2197, 800, 4203, 57, 812, 2992, 1834, 1958, 5523, 388, 5692, 2360, 6369, 1736, 5020, 1078, 6843, 4661, 3200, 3461, 2721, 3256, 10, 4607, 2789, 4574, 919, 4044, 2237, 2851, 4494, 13, 3021, 1104, 4213, 699, 2276, 6589, 1329, 198, 3909, 2583, 4568, 2446, 2472, 1859, 6322, 1769, 977, 4617, 2155, 3354, 4425, 4793, 4447, 3475, 3779, 3169, 6000, 356, 1173, 2448, 3246, 5046, 432, 131, 5069, 2513, 790, 4903, 6041, 815, 6095, 6027, 3007, 1677, 3376, 4818, 1440, 4435, 2042, 3904, 2267, 4597, 27, 5728, 1367, 5462, 2198, 3589, 2412, 6158, 4480, 4309, 5962, 3201, 6176, 3215, 4268, 6181, 1925, 2384, 1541, 4283, 2159, 6142, 1770, 3919, 4038, 3053, 6051, 403, 3761, 1250, 3347, 2481, 4442, 2210, 6438, 6773, 6637, 304, 2842, 4192, 1491, 3329, 6632, 1730, 3166, 2355, 1438, 6693, 2345, 5831, 5537, 618, 1119, 5530, 970, 4078, 5554, 2363, 360, 5601, 2789, 4905, 5086, 6074, 4344, 3244, 5176, 6880, 554, 4641, 1050, 3855, 984, 2453, 3137, 5495, 6380, 1321, 6327, 1401, 505, 1065, 2678, 6652, 6562, 251, 4103, 1318, 3081, 2696, 6492, 5929, 3493, 1415, 5991, 5931, 4907, 6731, 1604, 1061, 1195, 4055, 3323, 5996, 778, 2091, 4716, 5529, 5493, 4033, 2572, 5464, 758, 302, 4100, 1444, 1530, 3053, 6089, 477, 5900, 6186, 5088, 4977, 4640, 1428, 6592, 1143, 3004, 364, 4148, 1035, 2493, 6886, 2092, 746, 4577, 2024, 896, 1241, 1431, 2904, 6223, 2349, 4209, 1675, 4835, 3515, 6269, 4172, 898, 4757, 4041, 1344, 2423, 1780, 10, 6600, 5821, 2539, 6011, 3751, 6965, 972, 2384, 948, 1976, 2428, 5998, 5700, 2147, 733, 6956, 6605, 1569, 1224, 3655, 4833, 2556, 1505, 1486, 2743, 788, 6234, 4719, 3189, 1343, 1562, 4394, 6092, 1725, 1597, 2695, 2630, 3477, 2265, 812, 57, 4409, 5329, 2086, 2491, 196, 6737, 3656, 6960, 6615, 5883, 4758, 4175, 1299, 3740, 1526, 2633, 5205, 2177, 2400, 2331, 2099, 4247, 3811, 4312, 3, 2454, 4970, 503, 267, 2131, 3924, 5499, 5013, 2725, 3467, 4992, 1596, 6941, 6405, 6879, 1328, 3431, 1469, 3119, 5284, 1125, 4621, 6253, 1765, 3619, 2930, 3418, 2523, 4391, 5654, 3881, 3692, 5254, 5782, 4928, 2864, 240, 3092, 4403, 920, 259, 2282, 2413, 1949, 5898, 806, 4213, 1022, 698, 181, 2755, 6429, 1264, 682, 3445, 1070, 1179, 4367, 724, 2878, 788, 2277, 3063, 5492, 2686, 450, 5994, 5220, 1063, 6973, 2812, 5596, 3632, 5707, 4572, 1689, 6899, 3032, 1206, 6349, 6636, 6812, 6552, 6308, 4552, 3678, 927, 3238, 3699, 1394, 4206, 817, 5507, 1103, 1352, 3080, 3572, 5682, 1625, 918, 562, 2453, 6602, 2329, 5036, 1792, 3170, 1079, 2866, 5622, 1172, 225, 3377, 2983, 6046, 175, 6746, 6332, 5299, 2337, 4283, 5999, 4965, 6273, 4743, 6984, 1510, 6811, 2435, 6423, 4608, 800, 1321, 3259, 4095, 2766, 4803, 4484, 2567, 460, 947, 368, 3228, 5261, 5952, 5910, 3680, 4359, 5195, 2667, 478, 2998, 2646, 2161, 6683, 3693, 2631, 244, 3543, 4854, 3216, 4355, 4914, 4969, 3076, 1257, 2062, 6641, 6618, 4685, 5329, 3944, 4203, 5147, 1400, 2856, 312, 1400, 469, 4106, 6020, 5375, 6211, 3036, 2852, 6128, 1645, 430, 4268, 1531, 6613, 5419, 96, 956, 6763, 234, 3184, 5894, 327, 1464, 6326, 6480, 6618, 3960, 5778, 6120, 6110, 5946, 3225, 4086, 5223, 5004, 6490, 4581, 6521, 6592, 4295, 2795, 3932, 5143, 5820, 6393, 4430, 3772, 3222, 2984, 4032, 4379, 3548, 2639, 5984, 3302, 4810, 5565, 4155, 326, 1736, 2880, 4645, 5270, 3466, 693, 3849, 5772, 4929, 4305, 1910, 2827, 69, 6191, 5071, 6059, 1647, 2619, 3044, 1737, 4480, 2474, 578, 3701, 3394, 6733, 3736, 3712, 5994, 5830, 4720, 4087, 1783, 6197, 1532, 5752, 6013, 2237, 2954, 2191, 2838, 6734, 6125, 2641, 3483, 664, 1381, 5566, 5833, 6045, 5137, 75, 2854, 6124, 4714, 6814, 4071, 3429, 6167, 2175, 4287, 5662, 1799, 3490, 2185, 6994, 1864, 2114, 2713, 2727, 83, 905, 2889, 1720, 6177, 2298, 3402, 878, 30, 372, 888, 6187, 2309, 4418, 2201, 6172, 6691, 4839, 1192, 6623, 4561, 3184, 3586, 6220, 1182, 4996, 3178, 4596, 2013, 3097, 5968, 1983, 5583, 5680, 556, 1804, 283, 3621, 2714, 1311, 4793, 1031, 408, 619, 6059, 4472, 481, 5372, 4217, 201, 5477, 1774, 1041, 6625, 2746, 1114, 2391, 691, 1032, 4916, 5415, 6738, 4836, 6164, 4895, 6355, 1132, 3464, 6478, 6628, 5826, 1458, 1983, 1021, 5671, 2856, 40, 3430, 3424, 2663, 80, 3183, 1726, 2800, 3823, 4082, 6586, 6726, 653, 1497, 5293, 1590, 1816, 1200, 1713, 2472, 4460, 4063, 1983, 5705, 784, 1316, 4508, 3778, 5486, 6723, 303, 5500, 1571, 6414, 6271, 5995, 4244, 3035, 2779, 3450, 2478, 4525, 4097, 4588, 3275, 6143, 6660, 253, 5092, 3119, 1949, 1815, 3287, 5576, 5043, 5272, 2752, 3967, 1860, 4234, 1913, 6500, 778, 4163, 5106, 6774, 3318, 5000, 4171, 3814, 6815, 2419, 6650, 3066, 4786, 6327, 1847, 3025, 539, 2246, 1911, 2207, 315, 6029, 2529, 6669, 6796, 21, 5554, 2375, 5793, 5278, 3242, 5353, 5739, 4110, 6246, 4299, 2108, 4546, 535, 3829, 6052, 4809, 4913, 5026, 1366, 6696, 1650, 676, 4060, 2617, 6180, 321, 1666, 2550, 4971, 382, 3775, 4752, 5409, 2840, 2723, 5526, 2806, 2759, 333, 4146, 5436, 2287, 4648, 1506, 2088, 1297, 2457, 5311, 3201, 4309, 1730, 2293, 836, 135, 1058, 6529, 689, 6274, 1607, 1745, 5372, 4903, 517, 6977, 2113, 1732, 3601, 5679, 5185, 3666, 1947, 725, 3622, 694, 3137, 3759, 5503, 1591, 6667, 6931, 2683, 991, 6782, 1203, 38, 3558, 2039, 1915, 514, 1130, 3638, 6442, 5161, 6866, 857, 4768, 257, 5283, 4160, 5415, 5478, 455, 1910, 2102, 1596, 1190, 839, 2064, 90, 5803, 6721, 1653, 712, 6198, 4118, 5939, 2530, 6298, 440, 1383, 4539, 6182, 5620, 6434, 329, 593, 2784, 310, 6845, 4942, 5547, 6181, 4792, 4960, 1559, 5465, 2199, 6546, 4856, 4139, 5905, 1601, 5418, 868, 3182, 4112, 3519, 3302, 2439, 2450, 3462, 3032, 5864, 4189, 4108, 6208, 2659, 5057, 5564, 4170, 4406, 1437, 1783, 6951, 3770, 4507, 3674, 5556, 1445, 4516, 5900, 1576, 4111, 4272, 2506, 3933, 3865, 6019, 5476, 2714, 111, 4263, 4317, 3955, 5938, 6250, 6683, 3105, 3277, 1819, 1365, 1490, 6123, 3190, 780, 6457, 211, 5516, 2829, 6372, 6417, 1657, 6638, 1177, 3025, 3994, 2738, 6463, 3049, 2009, 4006, 3588, 6415, 6157, 4960, 3989, 651, 5966, 2487, 975, 4476, 6586, 2002, 215, 2426, 5374, 4383, 1376, 1941, 595, 4208, 2307, 3721, 4458, 162, 2866, 2649, 1327, 3807, 3859, 1822, 591, 1624, 4145, 1809, 916, 6785, 5667, 6876, 5204, 3952, 2847, 1629, 1754, 6835, 1386, 4322, 980, 994, 671, 1454, 2127, 179, 5709, 621, 4536, 5264, 6939, 9, 959, 5191, 1614, 3225, 164, 2167, 5404, 1628, 4032, 1919, 1118, 5555, 559, 994, 6422, 921, 6612, 4367, 1900, 4270, 1609, 3833, 1834, 4578, 1988, 932, 6697, 6704, 3489, 704, 2314, 3970, 6540, 1481, 2477, 6433, 6581, 4215, 1393, 180, 5229, 1078, 3805, 6732, 4783, 977, 630, 168, 6805, 6945, 2018, 3460, 5005, 819, 508, 20, 6068, 914, 1243, 4756, 1133, 2318, 86, 4323, 553, 2381, 365, 5568, 4197, 1952, 5606, 5145, 1394, 2369, 615, 723, 4810, 2610, 6280, 4979, 2948, 2297, 3381, 6589, 1224, 6890, 1962, 5233, 524, 6766, 3415, 629, 1626, 6882, 781, 4385, 6325, 4758, 21, 6362, 6231, 3977, 5249, 284, 3943, 37, 4616, 6887, 5565, 6488, 1135, 4410, 3620, 3813, 6614, 2861, 3610, 2600, 3305, 654, 949, 4427, 260, 32, 6414, 193, 5238, 2294, 6718, 2968, 3258, 5562, 1700, 1489, 5663, 5181, 5112, 2825, 5372, 2510, 468, 2657, 6032, 2020, 6658, 1682, 4061, 1131, 5125, 4808, 2781, 4634, 1978, 792, 4761, 4577, 6770, 3554, 1309, 3310, 2271, 6014, 4989, 6207, 3900, 502, 6742, 3330, 1377, 2533, 2095, 4511, 4790, 2076, 5057, 717, 4177, 2307, 3218, 2475, 5544, 3039, 5922, 4089, 1713, 2282, 1904, 5519, 4788, 5173, 1506, 2404, 5748, 5150, 6544, 5058, 4275, 4583, 1825, 4715, 449, 4884, 799, 4991, 381, 5981, 4500, 997, 4540, 6206, 2528, 5972, 1588, 813, 2295, 6004, 393, 2932, 3019, 6221, 6518, 6378, 6124, 2606, 4509, 6038, 5132, 3156, 1722, 3876, 3477, 6806, 3239, 3613, 5185, 836, 2744, 6348, 1855, 6752, 1366, 3113, 643, 6944, 5931, 3086, 2626, 359, 1110, 5380, 4449, 6288, 4968, 2492, 6892, 6115, 656, 2855, 5280, 5974, 4747, 1760, 1684, 5987, 4525, 8, 1237, 1563, 5512, 5808, 1407, 143, 829, 6798, 5740, 5730, 2363, 6460, 5333, 6099, 340, 6244, 4665, 5137, 1226, 5025, 1941, 499, 307, 945, 6956, 879, 6948, 4920, 4059, 2367, 3156, 5496, 3306, 214, 3423, 4239, 1027, 1347, 5561, 6702, 5474, 5092, 6252, 6277, 5314, 1612, 3859, 5691, 1100, 3372, 6221, 4725, 2785, 2617, 1553, 3010, 1196, 4955, 4298, 456, 6286, 578, 5348, 5858, 5831, 110, 366, 442, 5904, 1456, 4626, 4343, 2856, 80, 4245, 4958, 1466, 5490, 6564, 5223, 781, 839, 6979, 884, 602, 3971, 6158, 5087, 786, 5937, 3805, 118, 1662, 6368, 5604, 3183, 6577, 1815, 6863, 4365, 618, 1296, 6546, 4654, 686, 256, 909, 3155, 3549, 658, 5348, 3138, 4946, 3717, 2042, 6198, 4321, 539, 3161, 6309, 5051, 5842, 2956, 4785, 3673, 132, 6378, 6051, 6884, 6603, 3822, 4524, 879, 1752, 6116, 3403, 6020, 3885, 649, 655, 6815, 4942, 626, 606, 4103, 2819, 1913, 5348, 3394, 6151, 1917, 2996, 6519, 280, 5944, 6200, 6668, 5838, 2088, 2021, 4686, 5018, 5565, 6472, 4367, 4290, 5388, 2707, 6069, 3230, 1329, 377, 5961, 2327, 1360, 5196, 4942, 3262, 6552, 2888, 5325, 6633, 5322, 3625, 1501, 4764, 2081, 6454, 2057, 1060, 2012, 4587, 3434, 6086, 2302, 3599, 6864, 3803, 2738, 2065, 4492, 3548, 170, 6512, 55, 1911, 4543, 4368, 4366, 1905, 5438, 5461, 3540, 2111, 6212, 3911, 5579, 151, 2685, 3867, 2284, 898, 3118, 225, 3640, 837, 5633, 3246, 3723, 4635, 3910, 4825, 444, 6163, 6556, 3707, 893, 3406, 4993, 3130, 5003, 50, 6052, 3395, 229, 3177, 5540, 962, 5988, 3842, 5304, 5589, 3602, 5267, 1259, 2838, 4558, 6437, 2507, 6905, 796, 2010, 6815, 801, 6514, 1189, 453, 6846, 4530, 2062, 2396, 2608, 1972, 2698, 5895, 4408, 1137, 4675, 1031, 1592, 3522, 1992, 3386, 992, 858, 4369, 1232, 4029, 4514, 980, 5593, 4751, 6738, 3069, 4665, 4255, 2329, 6015, 6964, 3521, 4031, 6527, 4281, 4184, 783, 6745, 6822, 6069, 1741, 1685, 4473, 3418, 1031, 1659, 5138, 1845, 1945, 6842, 2571, 765, 6227, 661, 4066, 3662, 2805, 3813, 303, 4476, 2106, 6711, 6701, 305, 3781, 666, 1713, 5731, 2247, 2449, 771, 3361, 5964, 396, 576, 6838, 4794, 4495, 6203, 5795, 1965, 724, 5623, 5251, 5172, 6236, 1151, 6318, 5242, 4390, 2540, 1391, 1870, 4215, 3776, 346, 3886, 3614, 34, 4975, 6479, 6463, 952, 5427, 2892, 5649, 6405, 1982, 326, 6044, 4740, 1731, 6682, 5083, 3065, 537, 3151, 2875, 860, 2514, 3987, 3766, 2776, 1439, 2706, 1251, 2326, 592, 403, 975, 326, 6955, 3562, 946, 5312, 1985, 3056, 5297, 5380, 1678, 2681, 6380, 1557, 6246, 5498, 6534, 3645, 5931, 1839, 5985, 6949, 5458, 6527, 6440, 2290, 959, 5450, 534, 4920, 19, 52, 3884, 5639, 5629, 1099, 3758, 2933, 833, 3333, 4691, 1287, 2969, 5687, 2799, 5702, 6785, 6711, 5273, 4333, 5726, 1482, 6808, 4105, 2124, 1886, 4320, 3549, 1564, 6146, 6690, 1506, 2383, 6336, 958, 6286, 5206, 822, 5552, 6151, 2468, 112, 3230, 1866, 3745, 3348, 2729, 2852, 4773, 6390, 5458, 5688, 2101, 6503, 6337, 2924, 4857, 6661, 6471, 3241, 4817, 6394, 5928, 479, 5067, 616, 6598, 1792, 4276, 66, 249, 2382, 4104, 4883, 28, 90, 5699, 3901, 426, 6570, 4334, 2116, 4689, 5882, 4302, 5620, 4890, 2153, 140, 3993, 5308, 6285, 6746, 6666, 113, 2730, 2404, 4997, 783, 1310, 6572, 684, 5987, 4801, 250, 6755, 4610, 4259, 5871, 5301, 2665, 2107, 128, 4888, 6702, 1928, 4210, 3742, 6031, 5332, 3299, 2983, 6706, 1216, 1434, 3498, 5064, 3091, 4443, 5393, 4663, 1166, 4491, 1061, 369, 3831, 2252, 6734, 2185, 642, 2954, 2590, 2991, 1017, 6634, 260, 3538, 1916, 3459, 2827, 3268, 5427, 1867, 1149, 5469, 4444, 5527, 5030, 3356, 1248, 871, 5690, 3318, 5815, 3059, 5067, 834, 6553, 4383, 4298, 3249, 74, 3493, 5769, 5751, 1693, 5264, 5577, 5954, 5399, 3128, 5505, 5836, 6865, 5965, 6922, 1521, 4650, 3854, 3767, 5406, 1644, 1071, 5945, 4392, 5091, 2976, 1236, 3432, 5129, 1573, 6883, 2205, 2678, 1035, 6167, 4197, 5613, 3731, 6486, 6648, 5103, 4554, 5254, 1250, 2742, 4960, 4715, 820, 2890, 5366, 1535, 4238, 6998, 5124, 6952, 3847, 5909, 5535, 6106, 6800, 290, 4357, 4607, 6689, 2485, 5506, 5355, 3369, 924, 2648, 3139, 1987, 2222, 1526, 4196, 4015, 2223, 4201, 504, 3220, 4005, 6288, 628, 4959, 5531, 4656, 6827, 3657, 3275, 5931, 6151, 5904, 1373, 6755, 2423, 4953, 3448, 6975, 5817, 295, 6647, 4521, 4790, 599, 3432, 6617, 5873, 2947, 4719, 6094, 4356, 4805, 4398, 2336, 6999, 4182, 1853, 2308, 6575, 951, 95, 5919, 299, 56, 170, 2157, 2316, 612, 2057, 6476, 2658, 721, 5121, 2762, 3029, 4384, 6085, 506, 129, 4676, 2419, 4464, 3389, 1064, 130, 4645, 6673, 4469, 4119, 5028, 1519, 6493, 63, 4781, 1038, 3817, 2140, 2668, 115, 2208, 44, 1191, 2262, 5062, 856, 5508, 4400, 5075, 5608, 2839, 6296, 1238, 4287, 5136, 4390, 2331, 6791, 5875, 5441, 1126, 5871, 6931, 1320, 5350, 4721, 6914, 2056, 1925, 4859, 5303, 3557, 1772, 4426, 2098, 146, 9, 5480, 5787, 6514, 2859, 1778, 3006, 3479, 4535, 5741, 1326, 300, 5766, 4384, 4527, 2935, 432, 4934, 4811, 2853, 3108, 976, 305, 6662, 2520, 4526, 1362, 4089, 777, 5955, 2092, 3540, 461, 4183, 2148, 682, 431, 3363, 1845, 3055, 4536, 1814, 1478, 6900, 6423, 3695, 2343, 4225, 4748, 2448, 6263, 5577, 4720, 279, 6101, 594, 3507, 4584, 2426, 5058, 3821, 1135, 1748, 4568, 173, 6349, 5354, 5081, 6023, 2381, 3160, 4471, 4689, 2347, 3476, 2478, 1993, 3332, 5108, 6376, 6212, 1369, 5224, 3711, 39, 810, 4529, 4747, 6739, 4653, 2807, 2423, 4472, 6561, 4636, 2901, 4902, 3026, 5718, 5047, 455, 1067, 2046, 5381, 2937, 3443, 6552, 4607, 3498, 2949, 3937, 3848, 444, 4527, 6245, 4332, 2752, 3273, 4418, 5186, 6498, 335, 2350, 4844, 2357, 2484, 5040, 4978, 6298, 6371, 1172, 4088, 3912, 2280, 1578, 1529, 2597, 5832, 912, 329, 730, 3058, 229, 2441, 4783, 3764, 2319, 5549, 5183, 5929, 2346, 3237, 844, 6783, 5288, 4166, 1582, 38, 3453, 3358, 1974, 3545, 6069, 1806, 6258, 4620, 3543, 1761, 5611, 87, 6269, 2406, 2770, 3494, 2528, 3947, 6418, 381, 4030, 3434, 4557, 151, 3520, 3418, 5594, 4114, 5286, 4214, 6201, 2823, 735, 3723, 6853, 370, 3827, 4832, 5254, 536, 6037, 1333, 3486, 1424, 4157, 4350, 1263, 912, 3440, 3761, 2133, 2284, 4553, 4786, 3957, 5986, 4748, 4524, 5977, 5443, 3418, 3658, 5031, 6097, 1086, 3401, 6767, 1699, 1126, 3198, 4462, 5714, 392, 6101, 36, 3701, 6612, 3718, 623, 6620, 4275, 6204, 2544, 4483, 2545, 1660, 731, 4987, 6164, 3953, 6886, 1877, 4099, 3219, 2201, 6976, 2311, 389, 5276, 5402, 5939, 1695, 5912, 1164, 5980, 73, 2847, 6785, 4467, 406, 2164, 4088, 2071, 480, 5132, 1820, 678, 2685, 3681, 3754, 1965, 2188, 4388, 2624, 2345, 5461, 1081, 4797, 5764, 2585, 901, 2056, 5133, 2652, 6932, 6741, 6529, 2458, 1094, 5023, 6104, 2186, 1598, 5713, 2218, 5809, 653, 1375, 6723, 2989, 5681, 3660, 101, 863, 5871, 2688, 4063, 111, 3289, 2154, 90, 1277, 3182, 3312, 1889, 4430, 5776, 1764, 2005, 3167, 2243, 3798, 2666, 4169, 3528, 130, 4559, 3709, 2144, 3467, 1556, 3246, 1467, 5908, 448, 4779, 1250, 2156, 3856, 1592, 6431, 2593, 195, 6138, 4175, 6236, 4407, 1002, 4062, 6299, 6498, 179, 3120, 6112, 5929, 6395, 3862, 76, 3868, 329, 4213, 163, 1978, 1832, 1205, 4337, 3502, 5284, 6521, 1233, 3729, 172, 2570, 2124, 4530, 2423, 5909, 6551, 126, 2411, 5207, 3116, 6308, 915, 2856, 707, 4419, 881, 3597, 1991, 2470, 5230, 833, 1260, 1578, 4165, 6688, 1896, 1610, 3077, 6072, 4721, 1711, 340, 884, 2394, 5201, 1842, 2626, 3283, 6148, 2527, 4324, 4127, 812, 4788, 4429, 1256, 269, 3230, 2929, 6570, 5946, 1841, 1147, 513, 2917, 100, 2050, 6364, 2358, 746, 866, 4870, 6928, 2047, 1074, 2759, 5572, 1874, 410, 3345, 4426, 6930, 5213, 1024, 5598, 1537, 761, 423, 5918, 2790, 4488, 2342, 4429, 819, 3252, 3451, 1704, 3559, 6599, 550, 4022, 4508, 4637, 828, 6522, 917, 2937, 837, 2626, 532, 2979, 1329, 3214, 6841, 445, 6243, 1664, 4415, 3521, 6163, 2237, 81, 6141, 577, 1668, 1523, 1320, 1923, 1430, 126, 6666, 3309, 1401, 6047, 2256, 6326, 1525, 2123, 3085, 2404, 3947, 930, 3888, 6817, 2970, 1578, 3727, 5382, 1486, 1733, 2738, 6518, 4651, 5814, 5529, 544, 245, 2896, 2955, 800, 3896, 5795, 207, 2649, 4157, 3153, 5918, 4697, 3555, 2036, 577, 4248, 4156, 6671, 4311, 773, 2895, 2195, 2450, 5642, 6997, 6969, 4331, 2803, 568, 227, 3936, 152, 4102, 2730, 4018, 4528, 1900, 4855, 6462, 6278, 5778, 5034, 3780, 1813, 2401, 5507, 6798, 1759, 76, 5592, 2799, 1158, 725, 685, 4053, 3910, 2399, 1068, 1847, 3169, 3482, 2986, 1395, 3100, 818, 1279, 947, 2501, 2469, 3757, 4984, 3248, 5612, 677, 1203, 4186, 3518, 3774, 854, 3371, 689, 551, 1512, 2578, 1846, 2556, 4872, 1262, 6190, 3605, 4643, 5941, 808, 6770, 5257, 4602, 145, 2731, 2440, 4372, 2356, 1392, 3128, 1293, 6400, 6431, 6642, 3431, 2729, 2565, 1801, 2426, 56, 5816, 2038, 6894, 197, 3325, 1300, 713, 3606, 3880, 3214, 1784, 2091, 6224, 3716, 1764, 2678, 6525, 3933, 4659, 3262, 1413, 5720, 1079, 123, 6640, 5553, 5885, 171, 3608, 2889, 899, 3139, 5389, 6679, 3697, 4265, 4547, 4478, 3900, 544, 3987, 4758, 4111, 3216, 2192, 3157, 938, 2864, 1003, 4773, 2484, 5924, 4056, 2768, 5846, 4013, 774, 5086, 6380, 4101, 4460, 3618, 4084, 1491, 6537, 668, 714, 731, 5472, 4172, 4827, 2606, 1918, 1717, 6510, 5807, 392, 6253, 6778, 2451, 5077, 4765, 6954, 3345, 1974, 1340, 5856, 3539, 1098, 6317, 771, 5969, 1376, 3472, 6030, 1468, 4736, 5100, 3559, 6298, 5655, 1640, 4876, 5060, 1756, 6230, 4335, 1258, 1651, 6973, 2661, 5798, 3348, 6940, 5811, 5515, 4952, 4519, 972, 3220, 6373, 4712, 4187, 2480, 2251, 3865, 2822, 6251, 892, 338, 6168, 3168, 6197, 2171, 3535, 4877, 42, 332, 2474, 650, 463, 5489, 2923, 1857, 3230, 816, 3282, 4980, 1842, 2357, 3145, 61, 4138, 6071, 6002, 2085, 4950, 2746, 1649, 2503, 3678, 6845, 319, 3326, 1671, 5783, 1459, 5015, 524, 6616, 6885, 5668, 2626, 6670, 4952, 1246, 4358, 1071, 3795, 213, 4840, 2573, 1549, 4732, 3185, 3041, 3721, 409, 6768, 6525, 243, 4611, 3011, 3676, 6098, 1122, 2853, 847, 6757, 3162, 2358, 404, 1237, 380, 5427, 1001, 6493, 4849, 4809, 4408, 827, 2909, 5403, 522, 2200, 1231, 4380, 3936, 4685, 6029, 96, 4217, 341, 6490, 5319, 4568, 6738, 2944, 1542, 466, 1830, 741, 2992, 3763, 226, 384, 4096, 3503, 3964, 5774, 4652, 4545, 3288, 6570, 53, 4131, 1382, 2055, 1070, 3775, 1127, 5381, 3152, 2547, 6512, 1161, 4680, 1489, 2931, 1295, 624, 31, 5778, 6509, 1076, 6755, 310, 4163, 3821, 6028, 5822, 1660, 2052, 4915, 6501, 4326, 659, 6808, 1123, 651, 4252, 5856, 154, 582, 125, 3959, 4031, 4335, 6231, 6268, 5671, 5877, 2550, 5378, 5484, 5838, 2187, 4006, 2429, 5099, 5812, 273, 1191, 2580, 2257, 1728, 2791, 1026, 1242, 3816, 1574, 6743, 1695, 1010, 4354, 5461, 2509, 628, 2619, 2113, 1492, 3472, 3893, 1615, 3165, 5464, 918, 5815, 2727, 3228, 2219, 1894, 6885, 2865, 3097, 6712, 5923, 1927, 2967, 4152, 6007, 5084, 4452, 3760, 3630, 5267, 2283, 6216, 2437, 3301, 3074, 3138, 1729, 2160, 2970, 5160, 6652, 6729, 3387, 5957, 3903, 1308, 5793, 1774, 5435, 5160, 4188, 4073, 1344, 923, 5030, 1013, 6518, 4287, 3897, 2622, 4387, 6609, 794, 5952, 1337, 1457, 5720, 3237, 1215, 1303, 134, 2706, 5313, 3552, 1924, 2604, 4780, 6520, 1390, 1398, 5855, 1879, 12, 621, 1209, 6380, 2355, 4730, 1093, 6427, 3905, 1459, 4398, 1957, 3217, 5020, 5928, 6796, 4163, 571, 5817, 627, 1007, 3422, 3362, 5322, 1084, 6561, 5683, 218, 3797, 4342, 6124, 2014, 6146, 5894, 342, 6517, 5712, 6054, 6231, 4970, 6033, 1814, 3770, 4019, 648, 657, 5664, 6193, 2295, 6041, 2214, 2084, 3396, 2695, 3213, 5784, 3765, 2257, 3540, 4069, 198, 3625, 5720, 2361, 5351, 3071, 3546, 6954, 1334, 5746, 55, 5225, 5114, 6885, 25, 4235, 3186, 1873, 3590, 1892, 2032, 217, 2249, 364, 929, 5734, 3553, 1691, 4142, 6580, 3340, 6867, 5945, 1077, 6654, 4686, 3575, 5445, 2145, 6910, 5951, 3790, 6864, 5419, 2711, 3397, 6464, 5931, 572, 3294, 4631, 3858, 3886, 5658, 3155, 1213, 1471, 687, 6012, 3679, 2441, 4666, 1103, 3566, 5483, 2256, 5119, 4855, 2835, 4854, 5038, 6587, 2979, 3521, 6709, 5488, 2194, 722, 663, 3130, 3297, 3468, 4179, 2698, 1991, 2108, 6057, 6930, 1276, 1826, 6439, 6580, 4480, 1487, 3471, 4226, 4456, 4103, 3582, 1769, 3001, 4621, 2179, 1288, 6270, 6428, 2767, 4307, 2238, 4355, 6255, 5525, 3272, 6326, 2794, 4982, 5531, 4426, 1622, 1771, 28, 4341, 4190, 2791, 3774, 6223, 1109, 4250, 6683, 1261, 4918, 5929, 1465, 3845, 6077, 1156, 5568, 5775, 1850, 1048, 417, 1493, 2128, 2956, 3019, 980, 632, 4486, 6277, 2061, 6408, 3038, 1220, 6028, 2804, 4673, 4256, 4587, 5288, 5180, 2455, 5987, 3912, 6760, 4793, 2359, 506, 5019, 6907, 1639, 631, 5684, 5101, 1748, 3926, 6816, 4124, 5010, 2001, 1612, 3932, 5711, 964, 5940, 6848, 1640, 1158, 6483, 5595, 1215, 5470, 894, 3521, 5216, 2043, 671, 3792, 1785, 4278, 6, 2889, 4197, 696, 3993, 843, 5343, 1851, 5320, 4772, 2205, 2334, 118, 995, 6186, 5182, 469, 3926, 2671, 2231, 1216, 5995, 5272, 3515, 3079, 5845, 3146, 4377, 1962, 1208, 4232, 4475, 6154, 1304, 4851, 3823, 3842, 4922, 6316, 4869, 377, 5975, 720, 808, 1090, 6345, 5414, 2499, 298, 4439, 3001, 1336, 2242, 2125, 4782, 4350, 5953, 6072, 3309, 3522, 5680, 3636, 1182, 2119, 175, 3215, 689, 6263, 2809, 442, 3066, 3664, 2671, 1902, 2716, 740, 3136, 2552, 6860, 3756, 1451, 4562, 6325, 5959, 4870, 6655, 5832, 421, 6783, 5733, 1968, 5429, 4183, 1477, 1219, 2320, 1465, 6994, 877, 831, 3451, 6469, 5615, 4913, 843, 4221, 1818, 2801, 1003, 1820, 1486, 6398, 189, 1924, 6314, 639, 4449, 6760, 475, 3550, 3477, 3927, 6290, 1810, 2932, 4500, 417, 3349, 4622, 3948, 5781, 4200, 3622, 4043, 4378, 6160, 5743, 5706, 3585, 6968, 865, 3351, 2940, 4648, 6571, 6166, 1761, 3657, 6741, 3088, 6792, 4777, 3174, 1020, 5757, 925, 1319, 4373, 1098, 5847, 3905, 956, 2427, 5582, 5191, 1940, 4999, 331, 2317, 1545, 3316, 350, 6746, 4043, 2857, 4164, 4386, 5965, 713, 1854, 1123, 1987, 1129, 776, 1888, 1761, 1783, 3252, 4109, 2253, 3801, 5236, 629, 2216, 3300, 931, 1886, 43, 5841, 1953, 3639, 5587, 498, 6570, 5093, 2950, 306, 6314, 1554, 1884, 2736, 1380, 5853, 4833, 1535, 1518, 3408, 1655, 3084, 3644, 89, 5280, 2113, 3660, 4169, 5625, 4218, 1429, 381, 793, 4644, 3269, 5695, 5791, 4271, 773, 1098, 858, 38, 3322, 155, 3832, 5522, 5803, 2971, 3167, 2796, 6759, 5794, 1258, 159, 5462, 6420, 6920, 2723, 2128, 2947, 5313, 3996, 6768, 2828, 5133, 6689, 1335, 3874, 6503, 4949, 2100, 3414, 6589, 3851, 4425, 6563, 5716, 3049, 1264, 6541, 1221, 3491, 1587, 4775, 6784, 3321, 5213, 1160, 2846, 6856, 6267, 6083, 3078, 3098, 258, 2876, 6282, 3364, 3519, 2129, 6967, 2775, 2893, 700, 5058, 54, 6215, 5197, 3456, 2977, 4217, 6232, 2137, 3276, 5302, 5559, 2292, 6988, 6306, 2766, 1133, 2378, 4479, 5102, 5413, 6825, 1362, 4897, 3688, 1569, 6239, 3780, 5730, 3804, 3691, 383, 4490, 2242, 6877, 287, 4176, 1796, 5356, 1240, 1131, 1120, 1164, 3922, 6089, 319, 6986, 1192, 4396, 5048, 4164, 632, 3956, 4908, 5249, 3189, 3720, 180, 5906, 4656, 2306, 6992, 3496, 1608, 6338, 4127, 3850, 6539, 1102, 22, 5945, 1574, 6852, 549, 4963, 5830, 6046, 1778, 5669, 6465, 879, 3189, 5353, 2554, 738, 3454, 501, 777, 2161, 1458, 1470, 3059, 914, 1843, 4887, 1758, 67, 3156, 6544, 293, 5585, 420, 5969, 4169, 5702, 4432, 5478, 3027, 6196, 6575, 3229, 205, 6108, 402, 5516, 5487, 3201, 4618, 936, 5636, 3276, 3392, 4708, 3647, 4119, 1279, 2254, 5277, 4196, 5751, 3884, 3632, 6211, 1996, 5104, 5275, 4036, 2641, 4125, 5463, 3619, 976, 3419, 1857, 503, 458, 2959, 2513, 2800, 4900, 6284, 4002, 1075, 4390, 601, 2374, 6526, 3645, 5339, 636, 4316, 1029, 6780, 6773, 544, 6554, 4094, 5347, 5253, 1567, 6489, 4746, 5858, 6480, 6569, 878, 1124, 5735, 3725, 3768, 285, 3546, 6671, 6001, 4122, 2924, 3254, 6521, 523, 765, 6776, 6311, 3199, 3602, 3643, 2194, 99, 4740, 708, 6194, 3224, 2445, 673, 6883, 1499, 5108, 458, 3225, 6481, 4622, 5533, 4888, 5431, 604, 989, 2607, 4834, 1069, 4976, 3843, 4818, 300, 6235, 4223, 4672, 1111, 5602, 3891, 6477, 5756, 6363, 6252, 6456, 6116, 3356, 754, 3297, 237, 567, 5890, 4954, 5079, 6088, 1291, 6825, 2265, 2349, 2764, 2775, 4062, 2408, 734, 5307, 6129, 3767, 1807, 3225, 3807, 1744, 3987, 2003, 6079, 5843, 949, 530, 3518, 970, 3829, 2272, 3478, 3711, 1144, 704, 6983, 2491, 6794, 4080, 4622, 3795, 5281, 865, 560, 3402, 6347, 6817, 5802, 4093, 522, 3444, 5311, 6718, 1619, 4520, 5103, 6425, 4047, 6645, 1336, 6598, 1766, 1755, 4209, 3547, 3283, 1453, 2498, 5808, 6098, 2530, 4393, 5076, 3154, 6680, 5027, 4505, 1843, 3949, 6920, 865, 3615, 6842, 4661, 5866, 4159, 2675, 827, 2682, 5854, 5444, 181, 2500, 4022, 1062, 3835, 134, 828, 5513, 1614, 4944, 5093, 3833, 6990, 6924, 1633, 1548, 6227, 6740, 4799, 2447, 6101, 3601, 3526, 5676, 5053, 4042, 3861, 2630, 1813, 4761, 6572, 4460, 4679, 202, 5824, 5958, 3867, 6872, 1729, 5739, 2046, 2838, 2148, 2386, 2306, 3474, 6398, 5322, 5432, 435, 4898, 494, 4622, 3519, 1164, 5547, 1089, 1562, 5422, 4323, 2258, 6895, 1434, 4505, 5259, 4910, 5704, 1916, 4669, 1505, 2139, 6329, 6380, 6699, 6254, 987, 4897, 5534, 5702, 1913, 5807, 6008, 1388, 6310, 6912, 6335, 5478, 385, 3373, 3512, 3342, 4436, 2535, 4436, 2877, 4998, 2748, 6010, 1137, 4671, 6679, 1561, 5863, 333, 2052, 1331, 764, 815, 5426, 3481, 3653, 313, 2127, 5270, 6400, 3139, 1688, 3916, 3035, 2910, 502, 3703, 3125, 5113, 2512, 1147, 1865, 4552, 598, 3177, 2244, 4268, 3387, 713, 6588, 1342, 294, 2789, 2469, 3530, 3348, 1057, 6392, 5855, 928, 4696, 4395, 4194, 315, 4377, 1917, 387, 3606, 869, 1061, 774, 2213, 5480, 5207, 2424, 1875, 5508, 119, 4249, 2253, 5254, 3375, 5055, 2977, 3404, 1380, 2452, 6851, 6209, 4479, 2786, 4517, 5278, 1095, 4095, 5212, 3203, 6123, 2962, 4955, 66, 804, 1975, 114, 5396, 6354, 1860, 578, 5334, 4506, 5613, 4939, 3937, 5921, 4582, 956, 4906, 6840, 5474, 3920, 5534, 4134, 581, 2020, 3310, 1748, 2739, 1658, 1753, 6795, 882, 2663, 577, 4811, 1214, 3238, 3879, 4211, 2577, 628, 3354, 4020, 380, 2517, 284, 6536, 4713, 5118, 3225, 6, 4035, 5281, 2086, 6776, 6183, 3584, 6985, 2826, 2803, 616, 2788, 6556, 5003, 2927, 2348, 5963, 3945, 6958, 2139, 5120, 3611, 5900, 4257, 6364, 5376, 4229, 5853, 1794, 4698, 1735, 2559, 6780, 4238, 6436, 4712, 104, 4019, 3573, 316, 4448, 4744, 6867, 5458, 6444, 2542, 2592, 4983, 4017, 2788, 4699, 5676, 2312, 256, 5003, 4347, 586, 94, 6085, 5538, 6158, 3399, 5138, 606, 5394, 6990, 5833, 1244, 5474, 3525, 581, 2271, 6070, 3616, 1424, 3461, 2255, 3794, 4303, 946, 1416, 5951, 5021, 4957, 464, 3761, 6000, 5734, 5481, 831, 607, 410, 5292, 6560, 930, 3279, 3718, 6300, 2643, 1591, 6359, 384, 1929, 1636, 3510, 2954, 6309, 2897, 6452, 1175, 6659, 6330, 6823, 6870, 1353, 5422, 583, 2354, 4118, 4939, 6064, 1850, 4257, 2344, 3490, 3863, 1375, 4660, 2753, 2556, 4766, 2576, 3010, 5132, 3362, 6348, 5324, 5565, 1431, 3611, 3960, 6777, 2898, 6425, 1197, 4122, 891, 6859, 3888, 5858, 1305, 755, 718, 4857, 1631, 5711, 2902, 371, 1487, 1370, 5956, 2095, 4554, 1563, 5872, 3280, 1535, 759, 1783, 787, 992, 6645, 3503, 1992, 1200, 841, 4649, 5073, 4889, 4487, 297, 1274, 2780, 4324, 6430, 152, 1432, 4841, 1152, 1712, 1505, 4495, 3474, 6863, 5503, 6384, 2034, 794, 3787, 3295, 5017, 3967, 1798, 384, 3220, 5525, 2402, 5725, 420, 4675, 1914, 6390, 1601, 4749, 5653, 3918, 580, 4190, 1707, 1842, 1716, 498, 5175, 1476, 909, 6249, 6175, 4947, 3857, 407, 4735, 2104, 3836, 4203, 6447, 1027, 5193, 904, 265, 632, 3575, 2896, 2833, 6053, 295, 4132, 2802, 6413, 5703, 1391, 6187, 6107, 5849, 17, 3896, 5305, 4422, 2229, 4769, 4482, 4965, 5296, 2345, 6692, 569, 5262, 1492, 6427, 5868, 6806, 985, 316, 1410, 723, 5544, 88, 4742, 4037, 2657, 5704, 5989, 3706, 6940, 2615, 3350, 4075, 5551, 460, 5334, 5052, 3876, 2879, 6137, 6108, 903, 52, 2408, 3262, 1542, 6558, 4474, 6846, 1571, 5098, 5903, 3664, 5225, 19, 5951, 6022, 630, 6333, 1376, 6661, 5676, 5626, 1650, 3718, 78, 4272, 2926, 5434, 2991, 2943, 3233, 5032, 5005, 6831, 1722, 6426, 843, 150, 4910, 1919, 95, 5415, 6340, 6873, 6653, 4697, 4136, 1369, 6120, 283, 3290, 6787, 6899, 351, 1502, 5043, 5660, 476, 5662, 1884, 4304, 4977, 2040, 5457, 2213, 1008, 3990, 2376, 4088, 5150, 210, 1676, 3592, 2226, 6393, 1139, 1739, 3149, 4447, 6852, 551, 1004, 3153, 5217, 3793, 5981, 3516, 3647, 4808, 2973, 3460, 2562, 6709, 1555, 4242, 5408, 5538, 5349, 605, 1479, 4883, 672, 4168, 1651, 4299, 4670, 3005, 4406, 6119, 1646, 3136, 955, 2398, 6093, 5596, 4225, 5727, 1420, 3251, 3143, 4061, 1888, 4604, 6844, 6555, 6326, 4146, 3231, 3387, 3293, 1969, 1516, 3739, 1212, 2908, 152, 4876, 2107, 5127, 1569, 884, 5562, 4112, 2882, 2080, 4171, 4541, 6387, 780, 4010, 3900, 3372, 4410, 2482, 3901, 2193, 5744, 6175, 4728, 6497, 4296, 4634, 4600, 5687, 3223, 3062, 3243, 4371, 3733, 4477, 4361, 6237, 803, 1559, 4186, 4177, 5813, 313, 4235, 3886, 378, 1470, 3506, 443, 1727, 334, 1161, 4355, 3994, 5214, 5134, 3638, 4645, 5660, 5319, 3071, 2580, 2966, 2575, 4550, 613, 6571, 475, 3194, 2234, 2546, 3746, 6211, 498, 2368, 6057, 6715, 3004, 1978, 2944, 5311, 117, 4227, 4698, 4869, 5067, 253, 2068, 793, 5437, 2436, 4682, 1688, 4484, 2516, 3638, 3037, 870, 4733, 4079, 2572, 2588, 5556, 4, 3405, 5156, 1258, 1691, 3447, 4562, 2870, 603, 2502, 4521, 3190, 3011, 746, 2253, 3495, 3793, 3403, 3778, 2050, 4682, 3881, 3478, 6608, 3735, 60, 1484, 4646, 3717, 268, 3222, 5412, 1829, 3963, 1408, 5941, 329, 335, 6891, 5365, 2455, 2259, 5047, 225, 4614, 6647, 4973, 2831, 1834, 3388, 3827, 6847, 1410, 66, 3138, 3439, 1437, 6164, 4128, 4000, 6713, 391, 4321, 2380, 1941, 5107, 2981, 2100, 1595, 2094, 3512, 6953, 6115, 5148, 1335, 5380, 1179, 4077, 1638, 5970, 2668, 5451, 2325, 6493, 561, 5601, 1180, 1387, 950, 6760, 2377, 6771, 5723, 1450, 2860, 2221, 4204, 1374, 425, 554, 3577, 5192, 3681, 1996, 5234, 2722, 6224, 6079, 6257, 4835, 3002, 225, 3074, 4630, 2226, 1864, 6782, 5383, 1339, 2767, 62, 6386, 2389, 2409, 2414, 1021, 5467, 1139, 6894, 5797, 4130, 4318, 2418, 125, 6639, 3444, 3182, 6828, 1514, 5668, 3352, 4107, 136, 3361, 723, 645, 2505, 1203, 2888, 2915, 5777, 596, 6384, 4365, 6907, 4863, 3782, 424, 2326, 4762, 6134, 1777, 4746, 5354, 6659, 3556, 4483, 386, 3242, 525, 6843, 2593, 5792, 4395, 1536, 1070, 1580, 4832, 2674, 5359, 383, 5291, 6409, 2876, 1294, 5756, 2509, 3462, 1723, 2298, 2801, 4570, 3715, 4327, 3142, 2449, 2455, 4401, 3956, 5590, 3153, 3604, 4068, 8, 2569, 1589, 3709, 6625, 5027, 494, 1443, 6085, 385, 2383, 5576, 404, 4382, 5811, 1497, 1856, 5796, 5247, 3112, 525, 4954, 3646, 1541, 303, 4781, 2401, 5040, 847, 5879, 1016, 761, 64, 5762, 2844, 4146, 360, 570, 5887, 4019, 1331, 2415, 4074, 2906, 851, 342, 6988, 6007, 5497, 3921, 6158, 3927, 4602, 6590, 4379, 4526, 2741, 5090, 995, 2234, 1289, 4474, 5889, 2605, 1370, 4296, 3253, 6266, 648, 762, 509, 3087, 4339, 6074, 4143, 4915, 398, 915, 4408, 6693, 1006, 1731, 2327, 5073, 6743, 46, 6157, 1558, 5191, 5233, 3118, 2038, 4240, 6970, 2340, 5018, 2803, 2874, 1610, 1790, 6541, 855, 4371, 1418, 1125, 4753, 1051, 6274, 188, 1153, 5396, 1569, 405, 427, 106, 493, 5866, 5794, 3865, 5540, 4753, 1220, 6398, 3798, 2006, 3017, 5149, 149, 1292, 4253, 4072, 3571, 6961, 3551, 5738, 4157, 1920, 911, 1122, 5790, 2687, 1477, 3049, 538, 6627, 5617, 6313, 5916, 2996, 2853, 1145, 6232, 4925, 5964, 3942, 2230, 5827, 4152, 5783, 2950, 1551, 5258, 6673, 1627, 5964, 5483, 3815, 2059, 5991, 2148, 3292, 2688, 3068, 974, 4139, 3553, 4991, 5234, 4154, 4070, 2085, 6305, 2507, 1933, 4276, 530, 5770, 205, 2017, 4358, 239, 3806, 4201, 2927, 6936, 1762, 2322, 1395, 6912, 1792, 5934, 6799, 6987, 5707, 4075, 1784, 3905, 281, 5498, 6766, 4869, 156, 3927, 2370, 6697, 1459, 3072, 3211, 61, 341, 6729, 6208, 6743, 1195, 6036, 5224, 1018, 3603, 1753, 3198, 5007, 4204, 1028, 6226, 2880, 6930, 2584, 3448, 4891, 4681, 396, 2880, 6083, 6993, 1020, 4255, 1799, 6918, 6534, 1246, 5498, 6744, 6375, 4262, 385, 2790, 3470, 4783, 5146, 1848, 393, 4865, 5791, 2692, 3860, 1776, 2848, 4596, 898, 2033, 3500, 4269, 6032, 5039, 3663, 3115, 3594, 3135, 4502, 6491, 2529, 5366, 4075, 6779, 5075, 3903, 219, 1813, 557, 5801, 5630, 5328, 1298, 5909, 1747, 2150, 5971, 2002, 1518, 1689, 1416, 6862, 1221, 2691, 2812, 5737, 5362, 522, 6332, 3444, 4649, 1934, 2975, 1396, 3987, 4301, 4010, 5706, 4415, 1356, 2533, 2276, 3803, 4923, 566, 6019, 4395, 6158, 1965, 2333, 5543, 4942, 2050, 2968, 268, 181, 3796, 839, 6680, 6644, 3413, 4463, 108, 1812, 5041, 4745, 3439, 5787, 5996, 6580, 3360, 5416, 5570, 5202, 4255, 5723, 1514, 4520, 1567, 239, 5333, 1629, 5679, 5682, 2708, 6126, 4079, 2204, 4593, 5995, 2946, 1, 6241, 5674, 2309, 2624, 2464, 2619, 3500, 6916, 4027, 271, 6795, 1663, 4128, 1559, 2912, 4670, 1322, 6274, 2502, 5874, 4532, 5873, 751, 6823, 1747, 6546, 6587, 1593, 714, 5954, 510, 4458, 2380, 4766, 1656, 2384, 716, 2615, 5024, 1980, 5515, 4711, 4092, 282, 3544, 526, 3558, 3715, 3354, 6742, 3703, 2133, 511, 4155, 1537, 4251, 6284, 203, 1633, 1233, 2903, 3243, 1227, 5533, 5235, 234, 1039, 4717, 2601, 3724, 5701, 4531, 985, 3738, 222, 3288, 5330, 6938, 4513, 1660, 3237, 5808, 5393, 6062, 1073, 4066, 6714, 5187, 2720, 6827, 1496, 5403, 3062, 676, 4853, 1232, 3854, 2224, 3110, 4825, 2686, 3513, 3506, 2512, 6228, 2158, 5976, 2819, 2033, 5748, 1744, 5499, 4603, 6982, 5433, 5892, 158, 6329, 5522, 6797, 3474, 5596, 5754, 5132, 1462, 5382, 2142, 135, 3337, 1177, 877, 5118, 3180, 5551, 6165, 4208, 6346, 5471, 4668, 2994, 6955, 2531, 4368, 558, 4978, 6027, 6330, 6591, 4283, 2201, 324, 3790, 4393, 2669, 4726, 1833, 1535, 4679, 3358, 4236, 3373, 5919, 6746, 3572, 6331, 6084, 4560, 2156, 2167, 3727, 22, 3757, 5908, 6152, 6138, 3626, 2040, 6890, 3449, 790, 245, 2757, 3070, 2039, 5710, 6756, 5389, 2552, 5578, 4, 6868, 3541, 5019, 4937, 3231, 4827, 4955, 3837, 586, 4559, 3388, 6754, 5644, 3685, 123, 2503, 6515, 3378, 3134, 3086, 1793, 5557, 3121, 5156, 4450, 5015, 4724, 3028, 4566, 6914, 1265, 6522, 675, 2613, 4293, 2775, 173, 5603, 549, 4457, 806, 501, 5639, 6491, 3981, 640, 2648, 375, 4748, 5304, 6873, 3065, 2830, 1705, 198, 6533, 6501, 404, 6486, 1436, 1274, 6393, 823, 2174, 3429, 5013, 3886, 5454, 1552, 3645, 6399, 5604, 810, 2850, 37, 5974, 6477, 6446, 6470, 6251, 3278, 6187, 373, 2501, 3091, 5066, 2462, 3319, 78, 1691, 2564, 6903, 803, 6401, 1604, 4764, 4198, 5215, 370, 3773, 2381, 4668, 1489, 1451, 1094, 1768, 3676, 352, 1561, 374, 3984, 2004, 5578, 3227, 5971, 6294, 5535, 3096, 5466, 4384, 2560, 2165, 4909, 1377, 459, 4910, 3538, 5001, 4287, 2637, 553, 1549, 3895, 6114, 3860, 5046, 5476, 5448, 3131, 4394, 1613, 2481, 5647, 3182, 2003, 1754, 3457, 423, 195, 5891, 1632, 405, 4325, 721, 6618, 5890, 795, 1780, 492, 6325, 4651, 1325, 4957, 6753, 6435, 535, 6953, 3784, 1166, 3575, 3456, 5263, 852, 682, 1086, 2630, 1049, 462, 2207, 4510, 2666, 2646, 540, 2807, 2085, 5163, 3063, 2488, 4083, 6440, 1393, 5410, 6338, 1454, 5454, 4782, 2925, 1851, 635, 4120, 6090, 6769, 2850, 2508, 282, 2221, 3130, 1545, 3809, 6881, 2518, 4574, 5948, 1782, 3324, 240, 553, 792, 4202, 4896, 4197, 4203, 4757, 402, 4489, 2770, 3082, 3748, 3192, 862, 830, 540, 2274, 3047, 933, 4997, 6812, 290, 4185, 1322, 2604, 2419, 3251, 2931, 6705, 648, 2996, 2886, 3721, 999, 6394, 2962, 443, 1884, 4432, 2090, 4572, 5571, 5613, 6806, 4942, 30, 153, 966, 4089, 361, 5440, 233, 2638, 4692, 5552, 3090, 182, 944, 1993, 4799, 2652, 3745, 4091, 6155, 6991, 5084, 2805, 6854, 4708, 5687, 1447, 6168, 3786, 594, 531, 4070, 4890, 5093, 5418, 1885, 3046, 3621, 5350, 2077, 6636, 1104, 1327, 6258, 2973, 2810, 1943, 4896, 4037, 1084, 797, 4672, 5315, 1182, 5032, 995, 439, 3421, 4354, 6570, 3095, 2970, 6957, 5264, 4048, 4807, 1558, 6114, 1342, 1927, 2422, 5244, 3529, 5265, 509, 2022, 396, 2006, 3468, 164, 2397, 4973, 4596, 6072, 761, 734, 1289, 685, 4432, 621, 3547, 6162, 1839, 2573, 6317, 5077, 6744, 3411, 5288, 4788, 1187, 6248, 2196, 1533, 4917, 5651, 6261, 2192, 4112, 4161, 2313, 4454, 3363, 1865, 3224, 1961, 834, 1484, 2694, 3400, 6068, 6678, 4656, 97, 164, 3762, 5642, 2182, 6752, 6086, 2356, 104, 3084, 6517, 3905, 2203, 2749, 497, 3146, 2599, 5089, 6526, 5468, 6949, 820, 6500, 6742, 2518, 3730, 1217, 1314, 2616, 2829, 2217, 3171, 3022, 4286, 1485, 3140, 6193, 6402, 4008, 2463, 3607, 3663, 5488, 40, 5448, 2420, 1113, 6371, 1822, 1964, 3401, 4427, 3264, 449, 6179, 5368, 5530, 1010, 2178, 239, 1202, 5774, 4269, 6665, 489, 563, 2015, 6140, 5269, 3166, 2668, 4024, 6935, 6820, 874, 3568, 4549, 940, 3255, 2897, 4791, 4416, 4922, 2020, 1918, 6889, 3213, 5892, 913, 649, 5348, 5388, 2532, 6086, 4919, 3786, 5360, 3561, 4824, 3264, 6232, 4658, 5959, 4801, 570, 3562, 4547, 1933, 3533, 675, 1201, 2718, 2063, 214, 4906, 2360, 5994, 2181, 1951, 5981, 5941, 5505, 5610, 5847, 6875, 695, 1543, 2189, 2509, 2430, 2492, 6813, 1049, 1476, 4293, 4401, 3985, 1499, 1541, 4860, 711, 3594, 6566, 3205, 931, 1254, 5099, 19, 5064, 5604, 4250, 4885, 6671, 3099, 2328, 757, 2389, 5590, 1938, 526, 3816, 2256, 821, 1758, 2890, 836, 4453, 827, 5078, 3142, 2072, 6429, 5021, 666, 353, 887, 3096, 6617, 172, 4762, 1053, 4172, 746, 2610, 6257, 1475, 1703, 979, 6162, 1066, 5196, 4624, 6205, 4197, 6053, 1716, 490, 5118, 2296, 5819, 4403, 5425, 2699, 6182, 5045, 4503, 3662, 3278, 2266, 6353, 2173, 2815, 4743, 4351, 3377, 6455, 1344, 2350, 3405, 5201, 6103, 1201, 3079, 4160, 5904, 2628, 2467, 844, 867, 6135, 6276, 3941, 2903, 6939, 3291, 1386, 5192, 390, 6184, 646, 6614, 2830, 6179, 1155, 1949, 3181, 6730, 302, 1935, 3499, 6031, 4665, 4200, 6014, 3970, 2430, 1716, 1468, 2395, 3892, 4471, 6271, 2812, 5275, 6438, 22, 2075, 5446, 2660, 5978, 4795, 195, 6429, 6740, 510, 3730, 832, 2002, 4864, 2284, 5475, 2861, 5602, 1593, 1383, 3379, 4060, 3455, 1853, 3949, 550, 5056, 2606, 5275, 2902, 1621, 1744, 2575, 3301, 2324, 5408, 5456, 6522, 5419, 4778, 4047, 4828, 5751, 1306, 1251, 92, 2311, 1531, 5822, 1752, 4566, 4389, 1668, 4195, 2542, 4820, 3598, 2742, 6094, 5323, 291, 4914, 2377, 1749, 1136, 5630, 3989, 6871, 2025, 4840, 2973, 4953, 2616, 6140, 3287, 4211, 1240, 3066, 5026, 4250, 6488, 282, 3374, 2628, 102, 2496, 6539, 1877, 6809, 605, 4307, 3972, 3448, 3398, 2602, 925, 4420, 3152, 5888, 1945, 1729, 1347, 1417, 2402, 2352, 1969, 2280, 6898, 6744, 3680, 64, 5303, 6781, 2428, 6132, 923, 4856, 4581, 4933, 6636, 1283, 4300, 426, 2082, 2590, 4512, 1629, 1337, 795, 571, 4299, 5629, 1330, 81, 2015, 3567, 3348, 5915, 2581, 1065, 6160, 4444, 3668, 3316, 3030, 44, 3983, 2919, 1190, 6858, 4698, 4576, 5136, 4063, 5793, 6224, 2365, 2946, 6896, 2224, 4720, 1989, 1609, 6264, 3339, 5062, 4900, 5001, 4953, 4346, 3018, 5144, 752, 6999, 5199, 6427, 3071, 516, 6108, 2490, 5338, 1109, 1465, 4084, 2634, 6605, 1630, 1171, 4995, 4612, 4302, 1928, 2585, 3494, 493, 5956, 6940, 2398, 1130, 2419, 2616, 1030, 3759, 2008, 381, 6550, 6970, 6957, 1000, 284, 2220, 1646, 3719, 4363, 4499, 2592, 4528, 5983, 6868, 1892, 5452, 5598, 3694, 1874, 6059, 4068, 2627, 541, 6616, 3458, 5759, 2473, 1967, 6075, 3783, 4305, 1009, 4697, 5783, 1551, 5224, 5402, 5016, 474, 394, 4643, 5521, 4796, 879, 6459, 6663, 4837, 6318, 2790, 4495, 769, 5870, 2895, 1018, 6655, 2093, 6449, 2960, 6445, 1079, 1235, 3698, 576, 4919, 4238, 2817, 2364, 2886, 131, 2490, 2690, 6877, 5016, 4914, 5933, 2400, 2468, 2406, 2799, 3036, 1340, 61, 5192, 3506, 3623, 3458, 373, 4005, 5775, 317, 1249, 466, 4297, 376, 3099, 1190, 6079, 4060, 5747, 610, 6065, 1001, 6913, 1163, 6851, 3894, 5852, 4201, 4855, 6991, 286, 5730, 4912, 1391, 6600, 4285, 2704, 947, 2958, 1903, 3543, 4194, 6539, 1369, 6018, 1280, 4767, 4071, 2607, 3159, 6102, 2511, 2804, 2177, 3335, 3138, 5971, 2517, 21, 6858, 1703, 5759, 1856, 4965, 4619, 1700, 4598, 374, 292, 1603, 2132, 4160, 5513, 2786, 2873, 2539, 5840, 4322, 6841, 80, 1907, 4480, 5086, 550, 2207, 4431, 3581, 2353, 3850, 561, 6118, 5466, 2196, 6378, 6009, 6005, 789, 1853, 4947, 4938, 4952, 6017, 4751, 838, 1348, 3005, 4446, 1509, 4020, 55, 3111, 1434, 2272, 5576, 1187, 379, 3800, 2969, 6625, 413, 4213, 5999, 4634, 2262, 6225, 5630, 6913, 4545, 4750, 4375, 6790, 296, 2563, 2161, 4675, 1316, 4027, 6148, 4596, 2695, 536, 6534, 6410, 1019, 4982, 6894, 6789, 2631, 5581, 6067, 3120, 6823, 209, 167, 2733, 2459, 3649, 6128, 4032, 3619, 5336, 3204, 6538, 2354, 2701, 1199, 4311, 5347, 4198, 3591, 829, 6348, 1876, 2320, 1422, 4005, 4454, 2542, 3977, 6811, 5618, 6395, 4770, 6915, 4286, 3598, 2596, 2479, 1861, 4687, 1826, 4048, 4492, 5121, 1646, 2979, 4090, 5325, 544, 6503, 1587, 4830, 2564, 4433, 5454, 2622, 942, 5555, 596, 625, 3353, 6010, 558, 430, 5394, 3593, 5336, 1945, 2043, 6434, 1782, 276, 228, 258, 1893, 1757, 6969, 2686, 1673, 5295, 6905, 5391, 3480, 262, 4460, 5242, 6074, 4862, 5577, 1960, 379, 5848, 5738, 6274, 423, 4660, 6430, 5373, 2031, 6066, 5947, 4568, 3400, 4283, 922, 5638, 3006, 4044, 1142, 1307, 991, 4864, 3545, 2410, 1444, 3560, 6290, 6641, 2502, 6222, 2854, 5070, 2173, 3158, 943, 535, 5766, 5067, 6744, 1684, 2786, 1138, 6821, 6045, 2753, 21, 6247, 1338, 5891, 1508, 6006, 6640, 75, 6554, 4974, 3811, 4370, 5937, 3014, 6808, 4691, 2051, 4221, 2205, 5619, 3615, 6368, 68, 4420, 1725, 6081, 6558, 4860, 200, 3733, 2579, 1573, 5329, 5102, 3731, 2806, 3514, 6438, 1989, 4972, 3476, 1854, 5300, 4933, 4331, 844, 3112, 1278, 2560, 1258, 1254, 4345, 4359, 5933, 6174, 4912, 6600, 413, 470, 6559, 3818, 3135, 401, 5553, 3423, 1948, 3337, 2399, 4385, 3627, 4434, 3821, 149, 2742, 2362, 5911, 5752, 601, 2018, 6073, 2224, 6011, 3236, 219, 6076, 5230, 1128, 5279, 285, 5141, 3013, 2941, 6314, 3506, 3368, 2303, 6436, 3468, 2077, 1425, 2219, 5695, 3298, 5434, 3270, 362, 2220, 5425, 3404, 542, 3947, 4467, 5274, 2202, 6354, 1804, 6481, 4678, 6307, 3033, 5424, 5320, 6646, 6081, 6874, 6578, 3753, 3170, 3245, 1032, 5013, 2679, 6743, 1270, 3981, 4635, 1714, 3837, 1501, 2167, 1709, 6135, 1562, 1576, 833, 2940, 2947, 2705, 1073, 2006, 997, 3083, 3728, 1420, 5014, 4691, 3240, 4624, 2802, 469, 4344, 6475, 3726, 4962, 4655, 1826, 1001, 755, 2161, 5612, 6035, 1910, 1356, 1284, 6868, 6389, 5769, 1570, 149, 5950, 297, 1719, 4028, 5810, 6684, 4526, 5398, 1399, 684, 1207, 1877, 6572, 3618, 6451, 84, 158, 654, 6215, 3034, 598, 6372, 3911, 4028, 3639, 809, 3538, 1487, 6282, 2254, 2752, 5416, 4993, 6734, 1202, 68, 775, 3017, 3488, 3267, 674, 3154, 2051, 5230, 589, 626, 6557, 4515, 2962, 1828, 3565, 3512, 1902, 656, 4014, 3644, 81, 641, 1190, 1425, 6449, 6729, 6933, 5396, 4141, 591, 5423, 5897, 6501, 3301, 5922, 178, 6984, 1527, 4657, 534, 301, 1986, 6818, 491, 5061, 3855, 2308, 3061, 5359, 635, 2153, 2429, 1592, 1064, 6166, 3708, 6905, 2042, 4661, 5405, 5952, 3786, 3265, 6581, 1119, 6285, 2885, 1655, 809, 5164, 6957, 6799, 278, 1208, 4744, 6100, 1641, 2010, 1301, 4667, 297, 3959, 115, 483, 5717, 6311, 1648, 6445, 1565, 6537, 6512, 622, 5521, 2900, 647, 3925, 785, 6811, 2623, 4524, 3723, 1512, 1526, 5518, 1431, 3249, 1356, 5686, 2908, 2688, 2147, 4929, 5240, 3455, 2433, 5218, 6223, 6300, 5340, 6431, 5965, 4810, 5468, 6272, 2723, 416, 5784, 500, 2619, 337, 2457, 972, 6721, 2739, 1119, 6362, 5774, 208, 2304, 1885, 608, 5723, 3295, 4690, 1239, 3445, 3621, 723, 2882, 839, 6033, 405, 1349, 3961, 1687, 5098, 5868, 2770, 3433, 1811, 2789, 6216, 5927, 6142, 1842, 6150, 3926, 3300, 1153, 5349, 6442, 2596, 4328, 1200, 3907, 5071, 5220, 2891, 6648, 587, 2274, 6698, 4624, 830, 6666, 935, 2845, 3330, 1306, 4185, 5809, 214, 5180, 1159, 6075, 3703, 1360, 3025, 3883, 1530, 6953, 3668, 6057, 4744, 1356, 5726, 5773, 6137, 565, 747, 3109, 3644, 2675, 1893, 4472, 1170, 4093, 3999, 3638, 156, 6916, 3639, 1421, 6365, 441, 5290, 5335, 3829, 3550, 6353, 353, 6675, 1513, 5428, 918, 6451, 6501, 5568, 1025, 2129, 2959, 2498, 1515, 6403, 3258, 1351, 6280, 2555, 3143, 2404, 4414, 2618, 2217, 3889, 6006, 4076, 5405, 3391, 847, 6395, 4267, 5797, 3844, 2452, 4330, 1249, 2284, 2625, 3417, 4036, 6270, 143, 6677, 154, 6946, 2306, 2199, 998, 1389, 1827, 17, 6596, 4992, 3704, 3106, 3520, 1510, 3117, 5451, 4173, 29, 3212, 566, 6185, 5448, 5939, 5708, 3968, 2620, 5221, 4682, 6193, 921, 3013, 6676, 3820, 1533, 4087, 3047, 3917, 45, 4313, 850, 5441, 6545, 98, 1064, 6356, 2073, 6415, 5220, 6098, 3104, 5237, 67, 6260, 6274, 2150, 2706, 6314, 6585, 4044, 3124, 4434, 1961, 4794, 2266, 6803, 2461, 3762, 5686, 2174, 1440, 4637, 342, 2420, 6460, 818, 6905, 489, 1214, 524, 5266, 5651, 1036, 2654, 6716, 1752, 5938, 370, 3147, 963, 249, 111, 4156, 3269, 5605, 3650, 4586, 2939, 5493, 2395, 4692, 1963, 428, 6983, 2352, 46, 4448, 6890, 5786, 6541, 6317, 5209, 4231, 171, 18, 4361, 4160, 3005, 6717, 4662, 1022, 2724, 5488, 1921, 6427, 5381, 969, 2988, 2127, 3678, 6228, 56, 5393, 6964, 3773, 2088, 3951, 1696, 4786, 1097, 5416, 6269, 4565, 271, 6849, 4296, 2847, 6302, 2366, 1829, 1402, 193, 1269, 4718, 3003, 6564, 5270, 4053, 4604, 112, 6885, 3893, 4095, 4610, 6200, 3144, 5055, 5067, 2849, 182, 536, 4026, 166, 2836, 770, 3477, 3650, 4385, 2891, 324, 6753, 6970, 6198, 4994, 5889, 3921, 5291, 3228, 121, 1960, 3488, 5102, 3303, 3149, 6735, 987, 6983, 5056, 1985, 2437, 5600, 750, 2347, 1833, 114, 1290, 216, 1220, 3919, 3149, 2683, 4957, 394, 3203, 6511, 1824, 4259, 5741, 3298, 4067, 926, 2060, 5657, 2832, 5677, 4619, 1255, 1224, 3365, 3171, 3163, 6576, 1088, 5000, 1519, 4975, 1635, 5380, 3746, 2035, 718, 5726, 5472, 3977, 3422, 440, 2376, 4393, 1634, 6538, 1579, 6974, 383, 6068, 2444, 1709, 6519, 3470, 3744, 1827, 4009, 3501, 3514, 815, 132, 3460, 1643, 4234, 6496, 6756, 3390, 1848, 6541, 5226, 5988, 5484, 2343, 4722, 5081, 5899, 6637, 3828, 750, 2105, 6682, 4321, 2747, 3119, 5103, 3418, 5758, 3121, 1900, 3536, 4369, 1419, 4382, 2555, 2278, 2972, 94, 3003, 2117, 6435, 6961, 1039, 864, 2003, 6631, 1182, 5768, 1832, 3528, 5903, 6280, 1245, 2161, 3290, 1189, 1920, 5798, 2655, 6412, 6558, 1113, 142, 1766, 2751, 1187, 4882, 2513, 3100, 5031, 1675, 1789, 2333, 2745, 3166, 2218, 4964, 721, 5410, 1030, 6532, 1249, 4856, 3432, 918, 1872, 5018, 2225, 4248, 1345, 6174, 2461, 1361, 3836, 1713, 6144, 4573, 1426, 3328, 6237, 3602, 672, 2425, 6071, 519, 1482, 5294, 976, 6773, 517, 487, 5813, 1347, 4622, 4265, 738, 5836, 3836, 4774, 1772, 6087, 5141, 5485, 6929, 1246, 2021, 5052, 6494, 2628, 2415, 5910, 680, 5743, 225, 3358, 5345, 2106, 6594, 4901, 2869, 1784, 1218, 5854, 1925, 4040, 81, 2548, 3102, 4393, 6626, 5253, 1794, 4000, 1965, 289, 1718, 2226, 3035, 6499, 6578, 274, 6747, 2533, 3064, 1214, 3353, 547, 2209, 5985, 5098, 2500, 2324, 2272, 3122, 3890, 596, 1006, 1397, 6664, 670, 2717, 6047, 5302, 3039, 2756, 5135, 2751, 4151, 4636, 774, 1498, 2009, 519, 3950, 306, 776, 2906, 5811, 4041, 1085, 6296, 1916, 151, 2155, 2388, 3879, 5475, 4883, 6067, 3284, 3630, 5109, 3888, 5826, 3421, 2202, 5841, 4348, 3804, 4056, 1222, 4450, 6688, 184, 5927, 3793, 5659, 4235, 4924, 1228, 1936, 862, 3801, 1087, 5287, 1866, 4069, 5609, 4918, 4109, 1215, 4033, 4563, 981, 6894, 4205, 3808, 3257, 5476, 5136, 3241, 3870, 1271, 4551, 1779, 5937, 6725, 4241, 6759, 2779, 4499, 2277, 3271, 3000, 3142, 1312, 3763, 2807, 3278, 3490, 1213, 2581, 3387, 1550, 4987, 1528, 4148, 6349, 2581, 393, 320, 4601, 2450, 2434, 3747, 2681, 2845, 753, 3351, 2330, 4261, 907, 7, 139, 6730, 2897, 1266, 5266, 1963, 1449, 1049, 4062, 1151, 2438, 4982, 5589, 3174, 4686, 4037, 5314, 5110, 253, 5172, 3240, 3664, 1357, 5415, 1703, 4318, 546, 5862, 4634, 3060, 2241, 2422, 185, 246, 5039, 6317, 2352, 2363, 5232, 3320, 2413, 4393, 5671, 3490, 81, 434, 1635, 6533, 275, 1436, 604, 5354, 1578, 5395, 3691, 2964, 3247, 6660, 2536, 6917, 3509, 5593, 456, 3082, 896, 5444, 727, 3172, 3221, 6986, 1744, 6110, 5932, 1678, 5465, 2477, 2021, 2890, 2484, 4932, 2106, 4063, 260, 952, 3018, 4889, 1804, 5298, 2706, 2926, 3291, 3078, 2825, 5136, 6448, 2318, 2286, 2366, 4179, 5286, 3940, 6978, 6079, 1840, 117, 5642, 4240, 6935, 6220, 1839, 5990, 1818, 2023, 3025, 6812, 4663, 5721, 2349, 911, 2516, 3054, 4966, 3742, 5376, 2638, 5940, 4453, 3887, 689, 4219, 3674, 5461, 1497, 722, 1988, 5371, 5685, 4626, 3090, 2624, 1168, 3825, 2088, 2813, 424, 1166, 798, 6721, 3498, 5964, 3318, 1658, 3820, 5240, 6799, 3416, 5877, 5999, 252, 220, 4863, 1586, 3437, 1210, 4163, 416, 3220, 3254, 1555, 4058, 1266, 6990, 3136, 5646, 5829, 4702, 821, 592, 1400, 3055, 3992, 615, 749, 3750, 4257, 5448, 3207, 4924, 6246, 1732, 5212, 5052, 290, 5381, 5763, 5261, 451, 2030, 6837, 227, 677, 3065, 1590, 1797, 2974, 2495, 10, 5667, 4646, 5651, 4359, 1124, 4118, 3308, 6, 4082, 1760, 1273, 3366, 6859, 6633, 3628, 4411, 5837, 2261, 5023, 1722, 4739, 5412, 1929, 4336, 4131, 5886, 6183, 4579, 5008, 105, 373, 6506, 6262, 940, 5962, 5978, 6853, 911, 1351, 5358, 3939, 1780, 5365, 2841, 4985, 5049, 5115, 5492, 5669, 3528, 328, 4650, 1721, 2930, 5, 937, 6600, 2959, 6026, 4228, 6475, 4824, 1269, 6904, 1751, 3641, 6066, 5443, 969, 3370, 1941, 5126, 1980, 1789, 4945, 2941, 1427, 6201, 4971, 2811, 1977, 5965, 1903, 6435, 1286, 719, 3845, 2255, 2154, 4353, 2669, 4781, 6695, 2070, 6134, 2367, 2436, 1783, 1043, 527, 2565, 6927, 1587, 6818, 3894, 2797, 4781, 2561, 3277, 139, 2588, 1778, 4251, 1855, 4451, 6267, 2945, 6535, 982, 4936, 4241, 3914, 1215, 992, 6118, 5152, 298, 1912, 4336, 1380, 2296, 1493, 2347, 6395, 1014, 6945, 6785, 999, 1593, 3907, 3362, 5296, 5861, 3978, 3158, 6853, 2826, 1496, 3164, 4117, 2763, 6334, 5181, 3450, 313, 3757, 5765, 5849, 3937, 3735, 6750, 5526, 5038, 925, 471, 2085, 1494, 6090, 2320, 5580, 410, 4207, 516, 4601, 1011, 2344, 4684, 6621, 122, 2958, 6096, 233, 5887, 3146, 6172, 2959, 3340, 2571, 3253, 2111, 4482, 4586, 399, 4237, 3420, 5610, 83, 4183, 4421, 2974, 720, 2515, 4556, 5853, 4236, 1723, 933, 1682, 6899, 6948, 4729, 547, 3477, 1341, 2815, 1703, 740, 2975, 5, 5831, 1425, 379, 6788, 2903, 4891, 3652, 869, 2884, 3883, 6422, 693, 3227, 3556, 2079, 6526, 1529, 5374, 1075, 3243, 3452, 1085, 1630, 1500, 640, 3716, 4104, 5913, 4179, 3263, 5866, 2921, 2099, 4184, 4385, 698, 4824, 1460, 4367, 5833, 548, 4478, 4652, 2338, 2860, 821, 1948, 6002, 2533, 2316, 3545, 6960, 5105, 3353, 5116, 2172, 1585, 1998, 261, 352, 2262, 6058, 732, 785, 1967, 601, 6128, 6720, 5264, 5665, 2236, 942, 9, 5504, 6106, 2135, 5775, 3880, 5617, 6419, 3641, 2632, 5317, 2680, 5863, 6856, 3317, 1225, 1600, 5539, 4028, 4861, 4344, 493, 4438, 1717, 2584, 5831, 6260, 6839, 1122, 3089, 4997, 6791, 4429, 4491, 5455, 6506, 6091, 5850, 6478, 2512, 3303, 1817, 6255, 4575, 1243, 1289, 4229, 2843, 3702, 2628, 1908, 6657, 3206, 1341, 3644, 1060, 3525, 447, 5134, 1005, 1577, 5117, 2826, 3491, 2048, 4134, 3393, 2718, 52, 5986, 5173, 4694, 3722, 4314, 3938, 1409, 3426, 612, 4296, 5205, 5230, 6232, 1378, 2787, 3664, 1870, 1104, 5599, 5063, 1985, 2536, 2484, 5444, 339, 4177, 2550, 2204, 3199, 5976, 2882, 4246, 4548, 913, 382, 4524, 4786, 3320, 4776, 3976, 6096, 6017, 3571, 6113, 1462, 3782, 6362, 3408, 4583, 6147, 5488, 6380, 4870, 3402, 5196, 5917, 4974, 5447, 195, 4510, 6095, 6062, 5714, 2158, 5884, 6339, 6400, 203, 4571, 1599, 2855, 1950, 6084, 866, 2665, 5621, 928, 5765, 2266, 3522, 3697, 954, 5986, 3134, 1507, 3917, 6045, 6807, 6248, 6633, 1384, 4281, 1382, 905, 6203, 3617, 5815, 2845, 3062, 4734, 2060, 2867, 570, 436, 3622, 3016, 930, 2856, 278, 5647, 6764, 3016, 5672, 2938, 742, 2051, 6043, 1947, 2573, 4628, 1333, 4375, 5400, 2325, 1251, 3513, 6410, 6239, 3211, 3729, 367, 3216, 744, 784, 6933, 4534, 4108, 993, 3107, 295, 503, 5544, 3873, 961, 550, 6809, 1653, 2773, 1898, 538, 2699, 5827, 2901, 6008, 2309, 2502, 4719, 4051, 3154, 5973, 6023, 6500, 3878, 6846, 6129, 6644, 841, 3053, 343, 717, 1108, 3082, 6042, 1412, 2245, 4362, 3935, 6041, 2716, 2925, 6889, 5528, 5494, 1862, 340, 2109, 5116, 3990, 1530, 3542, 6895, 779, 3100, 4850, 6103, 3120, 7, 1829, 2103, 3904, 5583, 5673, 1318, 1021, 5741, 4672, 5383, 4704, 472, 2427, 2726, 184, 3070, 5988, 1743, 6882, 1299, 904, 6487, 4201, 4317, 4649, 5081, 1255, 2152, 2705, 2777, 1907, 6484, 6475, 4289, 5142, 2244, 5106, 3173, 3503, 4989, 2157, 1269, 3271, 2934, 936, 6252, 3666, 3322, 2750, 637, 2659, 5058, 427, 2817, 1441, 1341, 3151, 5295, 2919, 1810, 3679, 6340, 2868, 5538, 2170, 3113, 437, 5875, 3098, 312, 2788, 271, 905, 4339, 5835, 4602, 5556, 766, 6290, 4518, 1385, 5664, 3866, 544, 3310, 3023, 2171, 6439, 5631, 5546, 6645, 969, 2669, 5159, 6638, 6409, 3151, 2676, 6602, 125, 1588, 3462, 2340, 1569, 5099, 1732, 6457, 5543, 3451, 5738, 6786, 609, 5313, 2321, 3883, 1331, 1986, 5069, 6247, 4251, 4999, 88, 3040, 5468, 636, 2668, 6542, 3998, 4710, 2734, 3356, 920, 6790, 6172, 5237, 3511, 924, 3999, 1929, 556, 3650, 5683, 4400, 716, 337, 4348, 1149, 2577, 3196, 6836, 4068, 4735, 2931, 2579, 729, 3524, 561, 2893, 4666, 6973, 341, 6312, 4415, 4946, 2637, 2569, 4320, 5344, 5269, 1470, 3091, 3949, 1730, 5612, 2626, 325, 2348, 6943, 3507, 802, 769, 488, 5712, 946, 2213, 3057, 959, 2969, 4114, 1654, 5293, 3272, 6369, 4639, 989, 3759, 6126, 4713, 6683, 4507, 2305, 5596, 5299, 375, 1529, 653, 1429, 3652, 1392, 4058, 220, 336, 1852, 2361, 1698, 2881, 5324, 5188, 1544, 1869, 3091, 3376, 1557, 2044, 325, 5460, 4153, 5941, 2913, 4783, 4985, 4546, 85, 2070, 5609, 199, 6892, 6409, 6710, 4100, 1771, 5598, 1844, 1999, 4185, 1988, 501, 708, 4765, 4019, 3714, 5606, 4511, 4326, 5417, 3258, 4008, 1669, 5101, 5332, 2289, 910, 704, 4930, 6222, 2938, 4261, 2397, 6775, 5542, 277, 2731, 4970, 1350, 631, 1454, 6611, 2064, 5633, 1389, 2031, 5974, 2559, 997, 1614, 2569, 2242, 388, 275, 2532, 2727, 6728, 3322, 4502, 648, 2439, 5304, 2558, 2004, 5949, 4004, 961, 4329, 2782, 206, 6242, 1640, 429, 106, 5996, 6822, 4277, 3976, 515, 5000, 971, 89, 156, 5328, 801, 713, 6205, 1604, 6589, 5562, 989, 4871, 1336, 3880, 2029, 544, 142, 2046, 2200, 1008, 5634, 4695, 5743, 5895, 4629, 873, 1095, 1812, 1197, 3103, 4434, 2396, 5454, 2526, 2226, 2083, 2309, 1340, 3196, 3961, 4058, 6528, 617, 4683, 921, 5056, 414, 5127, 5586, 5017, 3862, 2824, 1573, 3133, 6357, 2482, 4171, 6300, 4922, 5124, 3975, 6363, 2146, 4512, 194, 3221, 1840, 597, 4107, 4837, 4128, 314, 6807, 2921, 157, 6859, 5941, 5915, 6466, 4496, 2194, 5239, 4398, 6284, 246, 4372, 5238, 4399, 1554, 3494, 5587, 4988, 3817, 658, 3810, 4365, 2300, 1821, 4646, 2067, 1072, 660, 445, 5279, 3650, 1955, 2843, 6068, 698, 2733, 5748, 1716, 3480, 1415, 1358, 4856, 654, 2480, 1242, 398, 6955, 166, 6646, 5207, 3961, 6441, 22, 6470, 311, 48, 1302, 43, 1966, 364, 6785, 137, 3816, 793, 1649, 1479, 1178, 4407, 1733, 3286, 3522, 4225, 1440, 5361, 5297, 2915, 5958, 4585, 5631, 2741, 6095, 2971, 4704, 558, 5036, 4814, 3312, 1422, 6526, 4396, 1897, 6134, 3312, 54, 323, 2614, 3809, 366, 5386, 3090, 6076, 2447, 1500, 2354, 3487, 5483, 3837, 1600, 700, 5002, 354, 4871, 4838, 1669, 1762, 624, 2858, 3471, 3644, 77, 6506, 6519, 4991, 1527, 898, 3460, 5421, 4589, 617, 1379, 1940, 4997, 4059, 433, 5997, 3130, 5248, 2842, 1800, 6487, 330, 2850, 6802, 4050, 16, 5802, 3929, 3866, 4653, 6888, 962, 322, 967, 5332, 1594, 4953, 3179, 257, 1503, 4853, 5382, 2333, 4079, 688, 1107, 7, 3600, 5240, 1230, 2033, 4338, 2577, 3445, 4180, 4961, 6871, 4189, 981, 70, 3123, 3796, 1368, 3509, 4142, 3846, 6308, 1976, 2281, 662, 2327, 5432, 6101, 2999, 2102, 5061, 358, 1467, 3367, 6567, 1389, 3283, 3690, 4238, 161, 6471, 4668, 3826, 2453, 6873, 2011, 2170, 5729, 5726, 2706, 4863, 6872, 5374, 933, 983, 4979, 1883, 5532, 1317, 2291, 674, 4618, 616, 5252, 5442, 3696, 6027, 9, 3523, 714, 3742, 2506, 5692, 5848, 5947, 6937, 2668, 1982, 2595, 4711, 4850, 390, 2320, 2012, 3248, 4098, 2996, 654, 1190, 3835, 2329, 2423, 47, 6330, 3354, 5441, 6498, 6386, 3906, 2004, 5094, 2016, 3062, 2975, 1636, 952, 3502, 2343, 426, 4279, 3308, 5065, 5541, 4144, 3038, 3309, 2685, 4670, 5602, 5647, 1473, 3908, 6942, 1061, 2111, 1984, 3703, 383, 6523, 6446, 5553, 263, 1893, 3574, 4373, 1203, 4412, 289, 5618, 6557, 2663, 540, 1284, 1599, 2673, 5334, 6966, 4057, 2248, 3107, 790, 5047, 5078, 4145, 3265, 2354, 4405, 4902, 1726, 2220, 1326, 423, 3022, 3261, 5429, 3398, 457, 3147, 400, 5204, 3010, 1998, 732, 1750, 5412, 3732, 4699, 2565, 78, 5356, 6898, 896, 313, 2705, 2635, 620, 5571, 6585, 3434, 3363, 4304, 3724, 3307, 1619, 6931, 5107, 6265, 1066, 5557, 4288, 272, 512, 3759, 3316, 2611, 601, 1167, 1280, 4754, 6575, 3570, 6153, 4329, 3021, 3863, 2588, 4939, 6574, 4364, 2337, 2295, 4561, 857, 2652, 1523, 2191, 3142, 798, 4845, 991, 4602, 3374, 5879, 4922, 2016, 4476, 771, 5829, 6758, 657, 1327, 4853, 3252, 5202, 4611, 5841, 1267, 5700, 6020, 5205, 4729, 1873, 6258, 4548, 5001, 912, 590, 2068, 4065, 1843, 368, 2775, 6888, 158, 1338, 6572, 1207, 587, 923, 1230, 3737, 6897, 2210, 6225, 3706, 6352, 3365, 4617, 6952, 5516, 3012, 6819, 916, 1154, 5169, 757, 4419, 523, 6710, 597, 6546, 2263, 6211, 2276, 2400, 2596, 2372, 3263, 2796, 1020, 2300, 4078, 1680, 6887, 2779, 2207, 1787, 3124, 6979, 6376, 5155, 4631, 5398, 1904, 1659, 738, 2929, 3157, 6658, 843, 204, 745, 2949, 5351, 3488, 5915, 3275, 772, 4399, 1394, 5408, 731, 5096, 367, 1358, 3160, 313, 2981, 5430, 3733, 6989, 3482, 6792, 737, 5190, 3351, 1171, 3166, 3828, 147, 4961, 3060, 2781, 5890, 1736, 662, 3297, 2133, 6049, 2050, 294, 6569, 1328, 5714, 1489, 6885, 3378, 1432, 1835, 3733, 692, 1718, 766, 3305, 468, 6461, 889, 4932, 241, 5770, 5711, 6971, 5542, 1550, 2707, 5944, 256, 4837, 2213, 5390, 4030, 5281, 45, 4780, 4606, 3301, 1913, 1798, 5789, 4055, 2557, 6143, 5877, 3191, 3485, 1001, 5494, 1526, 2203, 4626, 2955, 3112, 315, 6269, 5059, 4490, 2452, 5741, 4821, 6390, 2611, 6511, 2219, 6891, 6500, 6822, 1757, 6213, 703, 4917, 4294, 1867, 977, 6546, 3705, 4948, 4090, 1144, 1865, 4326, 6701, 1325, 6658, 1178, 273, 4584, 6131, 1795, 6182, 3224, 5283, 42, 4967, 3786, 1630, 6630, 5267, 5786, 3594, 620, 443, 6169, 2810, 5665, 3559, 6849, 2208, 3641, 6335, 2392, 2287, 1529, 1591, 1043, 2352, 6143, 6272, 408, 4392, 1576, 4276, 2069, 3152, 3681, 3674, 6684, 1735, 1685, 2833, 4644, 1940, 4477, 2229, 234, 2786, 6549, 3260, 5722, 1688, 6845, 1176, 3133, 6473, 1852, 6136, 5779, 6367, 112, 6922, 2387, 782, 2812, 4404, 4741, 5809, 6291, 6663, 6453, 386, 27, 4025, 3744, 3098, 3269, 279, 1312, 4829, 1676, 2766, 1611, 543, 2368, 3168, 3543, 5897, 6391, 6717, 846, 3078, 4921, 2823, 6093, 191, 4564, 148, 2541, 5122, 2345, 2462, 1396, 3065, 5084, 2935, 4815, 1760, 3391, 6425, 3106, 1077, 1100, 6298, 6199, 5014, 2704, 5909, 6149, 1109, 5187, 250, 3432, 922, 2825, 4148, 6703, 4987, 5208, 2432, 3846, 3497, 3142, 6835, 1998, 142, 3805, 6191, 4640, 3758, 4929, 3676, 6185, 6048, 4962, 4114, 4525, 1114, 276, 1414, 1616, 4332, 5983, 5407, 1243, 6794, 467, 4214, 4126, 3587, 4306, 4318, 6678, 1158, 2948, 6064, 4891, 3181, 6290, 1757, 4391, 3007, 6962, 6167, 3754, 705, 680, 5346, 1366, 860, 6756, 4468, 5173, 4319, 1073, 6117, 4706, 3076, 3763, 2328, 2843, 1291, 4049, 6725, 3734, 3950, 2955, 4485, 1043, 1693, 1543, 2711, 5004, 6773, 5689, 111, 4571, 3480, 74, 5094, 4561, 5142, 1719, 6182, 3649, 5785, 4899, 3262, 695, 3122, 6625, 266, 820, 2225, 2103, 2955, 1045, 3664, 418, 498, 3193, 4646, 1077, 3422, 1220, 2541, 2372, 5043, 707, 4455, 1137, 1987, 99, 6275, 4084, 2956, 508, 2917, 2694, 1205, 2862, 2364, 6455, 6767, 5035, 6445, 1290, 4148, 6150, 2216, 2235, 6569, 6321, 2548, 495, 2414, 5622, 4332, 3995, 5761, 5767, 4066, 2963, 795, 6174, 5294, 896, 1619, 3195, 2867, 2942, 2371, 189, 3956, 6745, 1323, 6946, 973, 4542, 5367, 6665, 6894, 2480, 2645, 6047, 2974, 3383, 1838, 4208, 2826, 5495, 241, 4092, 5055, 4714, 4037, 1015, 3936, 4015, 829, 6289, 5789, 2449, 1316, 6913, 2245, 1939, 1295, 6251, 691, 669, 6612, 4438, 6273, 705, 2099, 160, 5071, 5472, 1186, 1811, 476, 97, 2372, 974, 4481, 6003, 5652, 2041, 3182, 3071, 5950, 1063, 3949, 6159, 39, 6835, 6850, 206, 1226, 2815, 1647, 202, 5643, 2011, 3329, 6082, 386, 4016, 5207, 962, 4785, 4848, 2174, 3968, 5481, 4302, 36, 5439, 1142, 1533, 666, 4333, 6904, 5528, 2861, 874, 432, 1096, 2316, 5665, 3240, 5340, 6816, 769, 1107, 3925, 5373, 4738, 1631, 4439, 4425, 1346, 6646, 1522, 3004, 3174, 6319, 1101, 681, 5452, 2816, 3538, 4170, 1255, 1666, 1482, 6942, 2945, 3370, 6398, 6927, 1576, 765, 2983, 3479, 402, 2707, 2644, 4979, 3609, 3085, 6594, 613, 2191, 2280, 6040, 2056, 4987, 96, 5327, 5482, 5215, 1009, 1824, 2148, 6362, 41, 670, 1970, 921, 6772, 2808, 6638, 6475, 1217, 1038, 6060, 952, 3800, 6618, 6227, 825, 4959, 2522, 6605, 2126, 6856, 6574, 5725, 6981, 2545, 6230, 5762, 4329, 2665, 5371, 6628, 194, 4647, 2087, 4483, 1255, 2258, 5922, 6788, 1225, 6160, 2747, 760, 391, 4015, 4466, 1879, 6108, 5916, 5169, 151, 1346, 6152, 4168, 5149, 2970, 5529, 2627, 5675, 1967, 2115, 6438, 5759, 3720, 17, 756, 4899, 2471, 3868, 5831, 2804, 5661, 6244, 431, 260, 3977, 499, 504, 4902, 665, 6926, 5518, 4226, 3642, 406, 1474, 56, 4147, 945, 2756, 5432, 1955, 6926, 2961, 196, 355, 4363, 5420, 5674, 5656, 461, 5091, 5539, 6333, 6972, 2416, 1768, 293, 6243, 1940, 2391, 3797, 5290, 5829, 2610, 1849, 1273, 4262, 1032, 5807, 4803, 3424, 560, 2892, 1770, 1007, 5635, 5573, 3312, 6726, 6209, 1086, 1267, 6562, 3197, 6771, 3452, 4250, 2262, 6702, 4473, 4593, 3349, 6454, 5060, 2944, 2526, 3706, 4762, 5058, 1482, 3313, 742, 4395, 3058, 5342, 1452, 4077, 168, 5567, 2002, 3255, 1372, 3586, 5518, 2868, 90, 3001, 2206, 576, 2004, 1403, 5670, 2238, 3650, 1570, 5765, 3560, 5416, 2653, 1858, 1485, 1062, 1906, 1538, 2358, 1346, 4718, 5882, 240, 3475, 6565, 4981, 6355, 2721, 5409, 1985, 2039, 3366, 6606, 3649, 5404, 3296, 1998, 3093, 6488, 4159, 1102, 838, 2714, 853, 5620, 5139, 5854, 4659, 4941, 657, 4728, 5867, 3107, 5063, 6287, 5674, 3126, 6432, 6711, 4517, 168, 6532, 3021, 4046, 2672, 2905, 2527, 710, 4302, 5073, 2001, 54, 4341, 6606, 1246, 3778, 5691, 3808, 2928, 2211, 5636, 6219, 1037, 3445, 5799, 436, 2434, 1195, 208, 6668, 1356, 5448, 3906, 3039, 2243, 269, 3843, 2924, 4056, 548, 4380, 5867, 6012, 5934, 1451, 1460, 2457, 3137, 5763, 4223, 6420, 6748, 1190, 2867, 6014, 3466, 4155, 1536, 3488, 5702, 6533, 857, 305, 1696, 4555, 1796, 3270, 1139, 1045, 5681, 1883, 5535, 4672, 119, 3985, 1140, 2894, 6593, 6003, 736, 2655, 150, 3469, 6567, 5745, 5478, 3210, 2327, 4948, 5216, 3004, 1176, 926, 6623, 509, 1890, 6268, 1882, 3648, 2998, 3539, 6786, 2540, 4345, 82, 4434, 2670, 4436, 5685, 2805, 3263, 3384, 3246, 4687, 227, 3045, 5698, 1924, 4981, 2784, 2028, 2367, 1612, 4541, 6091, 686, 3170, 823, 5976, 69, 145, 2923, 4603, 5377, 1613, 492, 1392, 4268, 4538, 2735, 3863, 3102, 2497, 5810, 5278, 1190, 2203, 4331, 1617, 826, 5617, 4901, 5009, 5552, 5065, 6899, 4373, 5777, 4023, 45, 6281, 5889, 2262, 2877, 1572, 5504, 3971, 4656, 3929, 6933, 4478, 6563, 5599, 4001, 4142, 300, 1762, 5206, 5349, 2759, 5329, 2013, 2228, 3349, 2029, 2772, 6086, 320, 4815, 378, 6924, 3849, 3243, 5274, 5057, 2758, 643, 1936, 5917, 6325, 1672, 6963, 1551, 2022, 2202, 5042, 2164, 79, 339, 3610, 87, 4968, 6981, 3197, 1725, 1798, 4456, 1737, 3661, 2054, 5888, 3314, 2405, 401, 3459, 4228, 488, 1907, 5469, 3517, 1490, 3328, 4009, 3931, 1183, 3613, 4565, 6993, 556, 3172, 278, 4084, 3901, 932, 4476, 2715, 4364, 5340, 1765, 1893, 5994, 3091, 5692, 2359, 191, 1064, 4658, 3106, 4135, 5701, 226, 922, 5083, 6644, 1404, 6728, 3523, 2131, 2537, 5471, 3383, 733, 3252, 6136, 1799, 5295, 2719, 4954, 3052, 1469, 2760, 2810, 1875, 2272, 146, 4196, 3111, 6716, 5692, 3965, 820, 5580, 1410, 1092, 4206, 1969, 1295, 2005, 3506, 3083, 1594, 4980, 4081, 3947, 6155, 5002, 2428, 3844, 1469, 3073, 4798, 5864, 463, 5015, 4156, 5524, 5447, 1494, 343, 6979, 6339, 1603, 2804, 5312, 2121, 3833, 3304, 4219, 1033, 6472, 2370, 2469, 4884, 4521, 6772, 4298, 6525, 6768, 3573, 1718, 5315, 1743, 2453, 3619, 356, 1391, 5276, 5633, 2995, 2583, 1852, 3018, 6226, 75, 3831, 5687, 3684, 6146, 6547, 74, 4938, 4167, 3266, 6007, 162, 3649, 1628, 6686, 5071, 4045, 6130, 142, 2119, 2455, 5318, 3216, 1968, 5681, 4927, 1044, 4711, 4978, 2449, 4067, 4609, 909, 3580, 4872, 1372, 759, 5246, 1868, 968, 6510, 3371, 1264, 2830, 6761, 1974, 6996, 6507, 3958, 2858, 6768, 3148, 3121, 4802, 1973, 6272, 2091, 2337, 4905, 6770, 6889, 2969, 2567, 453, 3531, 1217, 6456, 6704, 3129, 6409, 4134, 6706, 9, 277, 444, 6872, 2443, 3876, 4701, 2407, 5036, 4202, 1444, 2968, 6334, 605, 789, 6982, 1574, 2091, 3349, 2458, 1644, 2675, 981, 2965, 6947, 758, 3048, 561, 128, 2819, 5201, 297, 4273, 4219, 3425, 2069, 5059, 76, 596, 4074, 5122, 745, 3997, 6667, 5707, 3817, 4038, 3988, 939, 5312, 5437, 5504, 5982, 688, 1051, 1164, 5723, 5035, 2892, 6285, 4967, 1421, 6957, 1933, 5501, 4121, 4963, 4143, 4364, 5129, 98, 5282, 1447, 6466, 6989, 4055, 5523, 1024, 4152, 6621, 1863, 4592, 6787, 3897, 5237, 5679, 6480, 723, 3585, 2412, 6443, 3484, 6380, 1592, 708, 6604, 877, 6881, 710, 4673, 4762, 4245, 6976, 3991, 1770, 4755, 6161, 5680, 6707, 1791, 885, 3836, 4035, 4440, 5558, 485, 3898, 5686, 2033, 3993, 2697, 740, 1840, 5408, 1846, 2139, 5911, 4748, 460, 4264, 1817, 5842, 5657, 5728, 5963, 1037, 3439, 3146, 1423, 3490, 1399, 2254, 2278, 6833, 6462, 4722, 2818, 6404, 6561, 6098, 1120, 3078, 68, 5188, 6297, 6247, 3908, 4810, 2718, 627, 2427, 5859, 6102, 1905, 6560, 6, 5954, 782, 1592, 4891, 996, 5531, 6366, 535, 419, 1241, 1135, 5068, 4965, 1616, 4100, 5930, 4728, 2780, 6573, 6793, 4221, 3673, 250, 3260, 6117, 67, 152, 4279, 6016, 1631, 6741, 915, 3543, 170, 676, 2670, 4242, 951, 5599, 3700, 1090, 2778, 3705, 6300, 1606, 6333, 5028, 6742, 4161, 202, 3670, 5231, 3667, 1129, 2611, 43, 5114, 6871, 2895, 2182, 3067, 2390, 4919, 6834, 4763, 1494, 3922, 1207, 1086, 1295, 6950, 6693, 6701, 5351, 708, 5919, 2987, 1294, 1092, 5528, 6500, 4801, 2298, 6192, 4956, 2920, 810, 1825, 2852, 3719, 718, 2734, 6667, 6237, 3207, 3422, 2066, 5958, 1754, 5555, 4331, 1365, 1365, 6195, 72, 1020, 5123, 1824, 6847, 5688, 754, 6159, 2276, 5214, 5524, 4062, 6332, 4433, 3998, 5004, 4924, 6900, 2116, 695, 5868, 1406, 6366, 4120, 1322, 2071, 692, 6210, 1971, 6050, 1015, 3079, 4847, 955, 348, 4874, 1770, 5390, 2038, 6446, 2066, 4424, 5303, 2587, 5154, 3951, 1219, 4158, 978, 4703, 3702, 5447, 5353, 4968, 251, 1204, 1003, 1568, 6680, 5825, 4485, 919, 3898, 4458, 2110, 4421, 5959, 4585, 580, 529, 3991, 5640, 4478, 1435, 6651, 6811, 6440, 1195, 1013, 4456, 1389, 4893, 1849, 4699, 1405, 6344, 4523, 2997, 2158, 5391, 5739, 650, 1349, 291, 5857, 4317, 2974, 1073, 6880, 5970, 5863, 585, 775, 5477, 1046, 5308, 4737, 3946, 2544, 6277, 5240, 5483, 4782, 1487, 5512, 3187, 6498, 4376, 5678, 3020, 6061, 6714, 4779, 4995, 2300, 4551, 5089, 3486, 3957, 1939, 840, 2269, 6883, 2481, 5404, 5781, 3328, 3188, 5441, 2579, 2512, 4809, 3006, 6113, 4942, 5200, 691, 1603, 1385, 1326, 5865, 897, 3863, 4751, 204, 1163, 435, 1759, 3848, 1317, 6255, 5288, 4991, 1588, 2401, 2601, 2147, 4123, 6936, 506, 3956, 77, 822, 4737, 1688, 2984, 676, 5292, 5746, 2717, 1960, 227, 1888, 2107, 1501, 213, 4388, 5474, 845, 3334, 6449, 6994, 5543, 4756, 2072, 5579, 3046, 5821, 4798, 3298, 2890, 4099, 745, 2499, 427, 4497, 2214, 4907, 1759, 2455, 3632, 936, 6006, 2614, 2710, 2926, 2465, 4038, 3407, 6023, 3925, 4605, 2068, 2163, 3247, 5688, 5160, 4836, 6109, 1524, 6502, 4292, 204, 2875, 5383, 4205, 4117, 3794, 2422, 344, 6968, 4730, 5469, 2947, 3822, 1544, 2324, 1053, 3601, 2263, 6031, 4681, 1557, 3541, 4249, 5381, 5178, 424, 5443, 2320, 2914, 145, 315, 3593, 5837, 2227, 2028, 2854, 2235, 574, 2409, 5171, 4149, 4194, 1083, 5188, 646, 6231, 2305, 263, 6276, 1950, 5123, 3747, 3430, 1438, 5557, 6129, 4151, 3017, 6789, 2360, 2491, 741, 4916, 5754, 6470, 6988, 2662, 3325, 5355, 6173, 390, 1004, 2101, 6739, 6000, 6918, 3571, 5449, 5625, 1544, 1398, 4315, 5102, 2274, 5762, 5043, 4676, 2052, 1273, 5750, 2873, 3874, 4693, 4828, 4253, 4152, 2783, 5601, 1494, 5023, 1775, 5131, 1362, 4895, 1172, 510, 4039, 6710, 4370, 70, 3061, 1165, 4552, 1874, 297, 5585, 2996, 5691, 5981, 1915, 1786, 5681, 3928, 3222, 5593, 6686, 5666, 2922, 2678, 2431, 5740, 3113, 6449, 4829, 1208, 2557, 2118, 6360, 793, 4514, 1124, 3627, 4996, 5497, 5576, 478, 4361, 5629, 6873, 5429, 6371, 4259, 1731, 1160, 6444, 1382, 2493, 683, 2853, 1290, 3523, 4001, 5661, 4363, 2575, 852, 47, 5113, 899, 962, 6996, 5390, 2485, 967, 4031, 5584, 6169, 6675, 2840, 6838, 2144, 649, 6562, 4632, 1663, 1673, 5690, 6111, 612, 3408, 3047, 1524, 163, 2905, 5967, 931, 3695, 6617, 3188, 29, 158, 3034, 3202, 6535, 4878, 5915, 1933, 2098, 3433, 2261, 146, 3861, 5895, 3649, 3943, 709, 1365, 414, 873, 1868, 3886, 244, 6236, 46, 3296, 3470, 4671, 5101, 1575, 4288, 540, 5653, 6783, 570, 1811, 4256, 295, 155, 2910, 4261, 2267, 5100, 3244, 4183, 768, 2688, 3096, 1251, 3917, 1586, 245, 2429, 2493, 3941, 3142, 6392, 5844, 2254, 6186, 1774, 6970, 3117, 1968, 316, 2435, 2624, 4635, 5550, 756, 4043, 1185, 2074, 3105, 2697, 2467, 811, 143, 4374, 5067, 4095, 842, 668, 2603, 6607, 2231, 2416, 59, 2477, 2785, 6228, 4294, 1559, 2286, 608, 2279, 6965, 2124, 2741, 2888, 3771, 1675, 5751, 5887, 3693, 1837, 4588, 5536, 978, 709, 1363, 2531, 938, 4781, 6599, 1722, 2365, 3216, 1854, 380, 1326, 5463, 4972, 4288, 4166, 6006, 1879, 1368, 5578, 1055, 2230, 222, 4512, 5403, 26, 3099, 1536, 6177, 4181, 927, 4283, 4065, 3327, 3027, 6088, 611, 5727, 1768, 4050, 4984, 3575, 4169, 5956, 6669, 5125, 6657, 6341, 1864, 5094, 1698, 3380, 587, 3920, 6459, 211, 4763, 5862, 4207, 4591, 1175, 4647, 1500, 760, 2515, 4233, 3637, 1608, 1686, 949, 2511, 5083, 5330, 3573, 5492, 1449, 6430, 4620, 2153, 1990, 5266, 1679, 3588, 3263, 3109, 3383, 5601, 4418, 629, 2722, 3319, 3557, 6328, 5428, 5826, 847, 1, 4096, 5746, 6301, 6764, 1618, 1282, 2176, 3051, 2641, 5824, 3560, 3074, 6508, 4704, 4486, 3581, 2749, 775, 157, 3751, 3948, 5628, 4160, 4028, 2776, 5847, 4720, 1176, 4745, 5900, 3162, 3844, 5769, 1856, 2904, 2047, 4817, 3518, 5926, 5650, 5420, 712, 4311, 5810, 1150, 6921, 298, 6505, 4910, 5049, 1306, 5231, 5499, 294, 4265, 2075, 4271, 4743, 5067, 3040, 4569, 387, 5074, 1855, 2331, 6412, 2978, 6602, 2228, 3284, 1153, 5834, 402, 3896, 3404, 4913, 2225, 2379, 5528, 5948, 5590, 3912, 1240, 1835, 2740, 904, 1549, 5501, 4095, 3584, 4054, 1644, 3007, 5115, 325, 3381, 1943, 2862, 4803, 3623, 2042, 2034, 2806, 584, 1311, 6526, 4981, 5641, 3552, 5540, 5149, 264, 6382, 2383, 4912, 3443, 2846, 6391, 6907, 747, 5137, 4984, 4456, 4639, 2089, 1673, 3389, 6461, 933, 2366, 6635, 2241, 1377, 5115, 2180, 2516, 597, 4371, 419, 3011, 6244, 4188, 6390, 3701, 4109, 5787, 5208, 5158, 609, 2318, 5337, 4469, 3545, 571, 5877, 6356, 4110, 160, 5086, 441, 2250, 1348, 6989, 3188, 4490, 3736, 2907, 2239, 4013, 6682, 747, 3894, 109, 3943, 1738, 1025, 3327, 1245, 5487, 4234, 1359, 4685, 4629, 562, 4096, 4600, 6951, 3542, 407, 3093, 3605, 4298, 6831, 520, 6374, 1606, 5675, 4003, 556, 6962, 4572, 6381, 2471, 1510, 6564, 1645, 6611, 2510, 4400, 4092, 163, 1204, 5841, 3324, 5178, 3316, 6246, 3080, 1565, 4744, 6433, 317, 3582, 5648, 5694, 659, 670, 5286, 4458, 2754, 3016, 3428, 3151, 2, 6321, 6208, 1143, 3160, 389, 4205, 4227, 6491, 5441, 2080, 2761, 267, 321, 2197, 6013, 565, 5934, 6509, 4770, 5618, 2830, 2285, 6292, 287, 808, 3511, 2549, 367, 4390, 309, 6779, 500, 6908, 5157, 3186, 3842, 4312, 1185, 985, 2695, 5009, 1675, 2794, 5151, 4616, 5087, 266, 401, 661, 639, 339, 3020, 6432, 4295, 1791, 3536, 6667, 581, 5726, 6414, 3024, 4077, 3398, 6686, 6147, 3502, 1716, 1601, 5852, 1996, 3370, 4293, 1848, 1121, 1019, 1603, 5879, 1846, 2145, 1699, 880, 5149, 2681, 2589, 6883, 3860, 4618, 3996, 1606, 1741, 1666, 2921, 3816, 1635, 555, 5269, 1797, 1640, 6595, 2427, 4879, 243, 1594, 1945, 2990, 6559, 4186, 320, 4702, 6190, 2425, 963, 5895, 6140, 2168, 1436, 2000, 2808, 6881, 4515, 5184, 6789, 5738, 5846, 3085, 3788, 3949, 4972, 6486, 4717, 101, 5406, 1079, 5614, 4604, 5446, 593, 3878, 108, 3881, 2025, 5017, 5914, 1074, 864, 1955, 6906, 4178, 127, 1626, 730, 1858, 3564, 767, 4946, 2313, 5291, 3955, 1942, 3406, 5277, 1385, 4256, 5969, 5195, 3279, 1912, 3446, 2910, 4011, 4690, 2804, 5575, 1321, 109, 6141, 2342, 5858, 1866, 4125, 6549, 3943, 2324, 964, 1320, 1287, 5328, 3103, 3407, 2839, 4, 2104, 1181, 2259, 3116, 120, 5615, 6125, 1358, 1169, 3961, 403, 1796, 6593, 2620, 2732, 2020, 2642, 6508, 5474, 2756, 1437, 5002, 4823, 3329, 49, 2606, 6900, 687, 6188, 6565, 4034, 6250, 4226, 6453, 4562, 1679, 6487, 5227, 5792, 2625, 5938, 4366, 839, 5404, 4117, 5128, 3812, 6793, 5386, 355, 2243, 84, 3398, 3624, 6035, 6490, 4176, 1537, 6644, 2582, 301, 2169, 2534, 6443, 3449, 4490, 5296, 2113, 45, 79, 5189, 2183, 6814, 4045, 3015, 2623, 2663, 4911, 6913, 4573, 6579, 5160, 4903, 6627, 5813, 471, 3685, 1317, 4366, 5700, 3965, 899, 4035, 192, 545, 1709, 5287, 2495, 4199, 270, 630, 4628, 6352, 1771, 6131, 3614, 3655, 2339, 6279, 461, 6344, 1589, 4553, 588, 6089, 5682, 1043, 6456, 3990, 4554, 369, 5951, 3765, 2747, 592, 859, 6443, 4230, 1211, 6266, 3179, 1628, 3876, 3344, 6910, 787, 5948, 4440, 3429, 4882, 5951, 4599, 1706, 17, 3741, 4683, 6304, 3576, 1881, 74, 6134, 5476, 1334, 2192, 1690, 6896, 2781, 4494, 2796, 4847, 4517, 4334, 1256, 2196, 3255, 1117, 911, 1452, 6161, 6001, 1554, 4282, 4806, 5544, 4709, 3720, 2220, 6918, 192, 5724, 5445, 3024, 1938, 6030, 3636, 4592, 629, 3414, 4103, 6267, 5748, 3087, 6676, 5442, 145, 237, 6548, 2514, 6649, 2474, 2411, 4398, 3807, 4560, 1989, 2662, 1042, 5980, 3281, 1623, 726, 5075, 5864, 1701, 5462, 3662, 4113, 4511, 2210, 4578, 568, 2729, 4046, 5787, 622, 3104, 888, 5453, 4124, 3604, 6509, 1825, 6605, 4761, 2315, 978, 2535, 249, 2559, 3831, 3428, 1856, 2031, 2126, 3505, 5327, 6662, 4813, 4223, 2657, 6698, 4598, 2630, 5671, 5776, 4879, 4635, 6428, 5641, 2576, 4723, 3192, 2687, 2760, 6092, 1605, 6894, 5672, 266, 1909, 5072, 2432, 2116, 433, 2755, 5304, 3012, 3898, 2613, 5582, 935, 5572, 6571, 3360, 1542, 6612, 6786, 5875, 3590, 5491, 1007, 198, 84, 1031, 2662, 5173, 4043, 4313, 514, 1735, 5693, 1049, 1483, 878, 362, 3626, 3107, 2433, 2415, 6647, 4582, 6118, 1336, 5828, 1244, 280, 116, 3648, 3906, 1707, 3557, 2750, 4902, 1748, 4784, 5785, 4090, 1631, 1795, 3333, 883, 4334, 5241, 5749, 6396, 3495, 1253, 2603, 5560, 4300, 634, 5710, 2209, 3180, 4697, 33, 1971, 5429, 2683, 1064, 3131, 4595, 5838, 5803, 4981, 5079, 3933, 1681, 2111, 6305, 5190, 6312, 6893, 3380, 4234, 6655, 1728, 6492, 4874, 6485, 5956, 3065, 3359, 6871, 804, 6142, 2654, 3727, 2094, 6423, 2831, 127, 3480, 6265, 4260, 6733, 3701, 5927, 2429, 5512, 6941, 1072, 5697, 1455, 5830, 1622, 3108, 75, 1511, 4719, 2725, 6417, 4969, 6713, 5500, 2200, 4046, 4065, 5060, 1658, 3708, 6726, 5320, 309, 6154, 2189, 5037, 2429, 492, 6167, 5979, 318, 941, 1671, 3654, 1913, 2890, 64, 703, 6270, 2407, 5019, 3627, 673, 4277, 6199, 3076, 6103, 1232, 719, 2000, 4894, 5125, 4196, 1056, 417, 4300, 789, 3211, 5709, 1725, 6448, 6024, 2797, 6849, 2898, 937, 4394, 3415, 6549, 348, 1430, 4960, 4722, 169, 5579, 5193, 5680, 5855, 4533, 713, 403, 2350, 5804, 1448, 5325, 4444, 3981, 1678, 860, 603, 2790, 4301, 2304, 1206, 3802, 3183, 6445, 6169, 4356, 3384, 1387, 4558, 4994, 4303, 3341, 5307, 1216, 1162, 4484, 429, 4252, 1921, 2586, 5012, 5473, 3782, 1636, 1595, 3854, 4174, 1090, 3037, 6102, 5271, 2181, 5259, 4446, 5479, 4457, 2482, 2190, 3859, 2673, 2173, 2000, 2996, 3577, 2118, 5979, 138, 3233, 1581, 5096, 2202, 231, 2789, 1089, 4377, 5423, 3584, 1211, 2521, 2897, 1867, 2966, 1887, 2862, 1141, 5897, 3260, 6354, 5721, 3800, 2969, 6978, 2494, 6155, 5491, 4057, 5125, 2251, 4831, 3282, 3385, 6423, 2792, 127, 6196, 4191, 5877, 3955, 6207, 1793, 4266, 3514, 986, 4273, 5792, 4889, 3205, 6331, 1379, 3978, 3107, 1433, 5925, 2094, 2434, 5482, 3549, 3035, 2677, 6162, 1992, 5075, 815, 2373, 1532, 3158, 5729, 1168, 1080, 430, 611, 375, 3840, 845, 3623, 3228, 5167, 1235, 1592, 6459, 2923, 739, 6234, 4232, 3948, 5753, 4219, 2608, 235, 3503, 3319, 2833, 1764, 1866, 4248, 2411, 1450, 2039, 5468, 4807, 1388, 3920, 779, 6486, 451, 2842, 4920, 3385, 6876, 201, 3735, 6038, 360, 1115, 2793, 4107, 1943, 5239, 4189, 5890, 5870, 812, 58, 221, 6640, 173, 930, 3351, 5916, 3011, 573, 2716, 1894, 2182, 2612, 4918, 5509, 360, 6739, 5991, 2275, 1329, 5411, 1930, 5260, 4461, 3498, 1608, 4099, 4447, 5743, 2686, 2851, 4271, 5030, 3496, 3192, 6351, 2112, 1861, 3604, 6308, 6792, 3044, 2270, 478, 2674, 1738, 1833, 4243, 5976, 4458, 363, 975, 355, 1776, 2178, 212, 338, 5219, 4427, 4280, 3352, 988, 34, 1170, 4611, 4871, 6341, 4712, 6473, 6119, 3815, 3988, 2848, 1174, 3375, 1359, 2653, 3857, 216, 6940, 3857, 377, 3334, 3114, 6165, 2643, 964, 5927, 5126, 2503, 3579, 1652, 4412, 5627, 1541, 2524, 3123, 1226, 1274, 4078, 1658, 6706, 6959, 4796, 3021, 2344, 5737, 1373, 487, 3087, 2500, 6358, 2696, 3621, 2784, 870, 1171, 502, 4165, 5004, 1323, 6026, 5697, 5004, 5993, 2061, 4479, 2340, 3171, 5319, 3995, 245, 484, 807, 1719, 3748, 5193, 191, 407, 4331, 1811, 4317, 5675, 2053, 4471, 6848, 886, 5920, 3315, 6295, 6953, 5962, 6482, 959, 289, 6259, 6548, 2454, 3495, 86, 4799, 457, 2035, 680, 1798, 3635, 4038, 5505, 2879, 2369, 2, 3000, 4254, 6812, 1257, 6906, 2957, 1277, 994, 1419, 2231, 6220, 4687, 4247, 177, 1812, 1404, 5510, 2525, 1022, 6647, 2292, 3222, 3807, 5270, 4301, 6256, 476, 2637, 1776, 6585, 1023, 3273, 4097, 855, 2075, 6518, 1378, 2832, 6950, 6355, 657, 5720, 335, 5798, 5418, 2918, 669, 574, 2028, 5718, 2722, 530, 4588, 3396, 1908, 4915, 3978, 6730, 1007, 3682, 3293, 6652, 568, 4392, 1025, 2394, 234, 6415, 3719, 3616, 6828, 2805, 2436, 1721, 5197, 2926, 1422, 5991, 5510, 2301, 2548, 4237, 261, 2058, 3617, 6411, 5521, 1679, 5128, 5800, 1231, 1234, 6160, 4932, 5647, 848, 3373, 2729, 1319, 3692, 3063, 5554, 877, 428, 2574, 1363, 2474, 3325, 5082, 3576, 5730, 5366, 4912, 4322, 4549, 2566, 1143, 1325, 31, 2254, 4851, 5336, 3771, 5685, 1844, 6407, 2241, 3889, 6705, 981, 2847, 6831, 2531, 1869, 2151, 3302, 4967, 2428, 47, 5077, 476, 3759, 2167, 1342, 1990, 75, 1527, 3485, 5593, 31, 6311, 4032, 597, 4119, 4009, 6751, 1767, 1766, 3873, 2961, 1644, 3433, 4474, 2339, 6940, 3321, 4892, 5120, 3447, 3631, 2034, 4254, 5768, 5210, 5107, 642, 2460, 2236, 3546, 4194, 6042, 4727, 2980, 559, 6538, 5605, 1272, 1561, 6850, 728, 3368, 5703, 1371, 233, 2183, 4867, 2140, 2139, 4134, 3828, 190, 2371, 2370, 4550, 1838, 2050, 610, 6359, 540, 6631, 4247, 1265, 4030, 5550, 1566, 4397, 1469, 693, 4581, 3176, 1052, 1167, 6458, 3103, 3059, 2101, 1651, 4123, 4756, 4054, 1556, 2374, 5382, 5203, 6372, 6426, 6611, 1377, 5608, 801, 667, 2951, 3541, 2049, 6842, 3932, 6955, 4316, 716, 2412, 1256, 5621, 3741, 3915, 6650, 5358, 3325, 5719, 1647, 5108, 5628, 5460, 1411, 6826, 6674, 4844, 1322, 6862, 1931, 6740, 1697, 1780, 1785, 6145, 5639, 3611, 3317, 4038, 2815, 366, 3331, 6855, 6234, 6211, 2358, 2451, 6777, 2864, 4308, 5525, 5309, 2303, 5247, 6442, 2636, 1307, 6440, 2629, 5619, 711, 5837, 2787, 4447, 6319, 2095, 2840, 5444, 1425, 6114, 3597, 1526, 2612, 6432, 4834, 1633, 997, 2329, 4432, 4206, 652, 2203, 3214, 5013, 422, 4041, 2183, 6049, 3635, 1401, 4582, 5245, 2485, 6329, 2947, 606, 2347, 5453, 2942, 1250, 2279, 2136, 452, 1971, 1102, 5243, 4538, 3828, 4824, 3283, 4441, 2074, 365, 4308, 1234, 3704, 6099, 1064, 1591, 1165, 5736, 2731, 958, 6759, 3970, 3454, 2738, 552, 193, 922, 6641, 5987, 4351, 6482, 2654, 3824, 3698, 4503, 764, 2045, 750, 346, 415, 4173, 3871, 948, 875, 115, 953, 1315, 1367, 1292, 6736, 6018, 613, 3933, 6154, 2208, 5829, 5483, 1566, 3744, 259, 6655, 679, 6428, 2257, 775, 3683, 3454, 5093, 3350, 4711, 1394, 1205, 4787, 1503, 3868, 2213, 2919, 6294, 1455, 665, 4452, 4165, 2240, 6303, 305, 113, 1009, 1296, 2031, 4416, 3804, 6228, 1227, 772, 3186, 1617, 6450, 6316, 4629, 6776, 4873, 4917, 1093, 6002, 6642, 2544, 2952, 2250, 854, 2960, 138, 6198, 3264, 1912, 4867, 3029, 4774, 3958, 2487, 3377, 2982, 2739, 920, 3419, 1268, 4708, 4667, 6162, 4007, 1525, 1823, 6757, 5364, 3539, 1646, 215, 1471, 5412, 5029, 5419, 464, 4790, 5679, 1162, 4739, 6520, 3045, 2690, 1827, 3322, 3236, 4612, 3972, 5431, 4333, 6697, 5728, 646, 3960, 434, 4129, 2535, 6807, 1004, 5973, 3794, 138, 2497, 5022, 1194, 6229, 1870, 6721, 5502, 4828, 5202, 4618, 6828, 4684, 6283, 3338, 6164, 4552, 958, 6290, 1597, 934, 405, 832, 1467, 484, 4139, 32, 2139, 3101, 6630, 4353, 1380, 1270, 4940, 975, 342, 696, 3050, 40, 3959, 5620, 2107, 2828, 6264, 5658, 1610, 6040, 3471, 4584, 2497, 6689, 406, 3129, 4379, 28, 1584, 4662, 3648, 6948, 1637, 6973, 1462, 6510, 2674, 4329, 3879, 2897, 5526, 1563, 5249, 3393, 1898, 3558, 4867, 4190, 6259, 5179, 4314, 1893, 3909, 3574, 6863, 5567, 5923, 5452, 772, 1803, 2539, 1451, 5878, 6454, 1779, 946, 6764, 4768, 6946, 5147, 5711, 1088, 2311, 4598, 5311, 6179, 2676, 4590, 6923, 4828, 5491, 1790, 5763, 3644, 3415, 4969, 2655, 1150, 1310, 4397, 1705, 3030, 4008, 196, 2677, 1649, 1381, 3936, 4202, 515, 1345, 5384, 1150, 6701, 6007, 5950, 6373, 6044, 4782, 4847, 388, 487, 3696, 2242, 5457, 674, 6676, 2773, 3003, 2109, 694, 2529, 4267, 5385, 4073, 2432, 2999, 5169, 809, 2379, 4691, 974, 1685, 1339, 5311, 1841, 4943, 452, 3160, 4175, 5035, 1714, 3020, 2158, 3737, 6528, 2354, 4516, 5822, 1363, 6200, 5944, 2527, 4239, 4933, 5120, 6495, 735, 4466, 2120, 1087, 3046, 3529, 6788, 3564, 1751, 909, 1802, 272, 4538, 4613, 2129, 3928, 2693, 1652, 2768, 3688, 6641, 3946, 4068, 5056, 5654, 3600, 1035, 103, 2331, 2117, 625, 71, 3885, 2081, 4637, 5823, 5588, 6601, 6304, 6279, 6662, 1263, 3742, 3786, 1169, 4307, 4250, 3159, 6051, 3083, 4082, 5032, 3365, 482, 6896, 3484, 1778, 4126, 2942, 3043, 590, 3314, 4508, 5975, 584, 3005, 3609, 777, 2399, 5051, 2504, 6177, 2179, 5022, 16, 6629, 5690, 6837, 845, 1128, 4064, 1327, 3401, 2910, 733, 1620, 2135, 2718, 148, 103, 5118, 2016, 2650, 2892, 6041, 1764, 3916, 3075, 3504, 2339, 2371, 6691, 1225, 4983, 6919, 5959, 1572, 3221, 5597, 3614, 2934, 5955, 6021, 6597, 5083, 6989, 5750, 6996, 2651, 1787, 5369, 2083, 6771, 6317, 4967, 255, 151, 5350, 6383, 668, 5438, 5310, 449, 4415, 4601, 5153, 3705, 2546, 6034, 2982, 1406, 504, 5693, 6379, 4818, 4116, 1313, 5007, 5777, 308, 6754, 868, 5397, 3859, 3597, 6467, 2202, 404, 6169, 2030, 2109, 2194, 5827, 2169, 321, 943, 6992, 2918, 3012, 6401, 5327, 6865, 4381, 656, 61, 3492, 5430, 4675, 5509, 3127, 5133, 6383, 4545, 3658, 4503, 929, 6513, 2586, 363, 4479, 6521, 3388, 5755, 4584, 5447, 3611, 791, 3106, 6783, 6535, 2288, 6447, 4963, 1776, 6854, 4739, 1375, 4345, 542, 6284, 5816, 5156, 747, 1121, 6219, 5839, 3303, 6867, 5386, 4777, 4042, 1180, 2921, 6187, 5681, 5368, 5291, 5506, 1428, 6880, 4738, 1839, 226, 1152, 1777, 3311, 6654, 735, 1481, 5226, 5200, 854, 6015, 841, 4315, 286, 2386, 4262, 1583, 2780, 6734, 1620, 4856, 5416, 4074, 3473, 927, 2639, 1833, 2266, 3456, 6398, 6056, 1452, 4515, 5430, 3338, 5859, 6679, 3516, 5328, 2380, 1148, 5152, 837, 3675, 6147, 4153, 5065, 4887, 3921, 2592, 6603, 6042, 835, 4327, 5758, 5436, 2053, 1007, 6915, 749, 4523, 392, 1770, 468, 5596, 1609, 2080, 759, 1165, 4829, 194, 2923, 306, 5116, 6032, 5891, 343, 1402, 2486, 6318, 1661, 1786, 4074, 2287, 88, 828, 6526, 1858, 5116, 1235, 1920, 3638, 2065, 3790, 2689, 2332, 4554, 3867, 2389, 157, 1643, 4747, 2082, 640, 644, 5295, 25, 872, 97, 4707, 2730, 5074, 4764, 4718, 2421, 1437, 2849, 4822, 5016, 2982, 1116, 5593, 858, 5150, 6452, 613, 4284, 3746, 276, 870, 3778, 2869, 4603, 6722, 532, 5716, 4361, 3750, 6961, 4525, 4795, 4164, 964, 3851, 1946, 6345, 1633, 2594, 507, 1421, 884, 1647, 905, 4997, 5421, 5061, 391, 3901, 2448, 3343, 6743, 1357, 1585, 4926, 6727, 4377, 3054, 3769, 4418, 6757, 4264, 1407, 5598, 6794, 1021, 1125, 760, 4198, 4336, 5935, 1169, 1750, 6441, 2860, 4574, 930, 4426, 3339, 5871, 2659, 851, 1687, 2608, 3449, 626, 5230, 1560, 3475, 6173, 125, 383, 6775, 1618, 6867, 2765, 3281, 1285, 2520, 323, 3919, 1878, 352, 2821, 0, 728, 6304, 2271, 6271, 4803, 2645, 4073, 38, 6810, 3587, 5198, 4719, 1344, 4316, 5559, 1902, 2454, 1501, 593, 2985, 5943, 3155, 1161, 210, 5732, 6660, 3953, 4014, 3582, 2109, 3258, 182, 6980, 5791, 978, 2289, 1575, 6169, 796, 5278, 5138, 1094, 2686, 5652, 1774, 552, 1090, 5796, 1780, 315, 5814, 6672, 1938, 4802, 2486, 5191, 2637, 388, 4761, 6753, 2493, 2916, 3936, 3784, 1350, 1012, 4996, 23, 51, 5672, 261, 3699, 6190, 3509, 5321, 4652, 13, 88, 1393, 367, 4862, 5465, 5265, 4026, 5616, 535, 6276, 1679, 2994, 5740, 1796, 1912, 4860, 5198, 1854, 4216, 197, 969, 963, 5726, 4423, 3471, 5927, 4177, 3948, 2812, 1166, 3527, 5938, 6251, 5511, 743, 5084, 3775, 4509, 1504, 1504, 6296, 929, 2782, 471, 814, 3574, 3268, 3706, 1497, 4396, 1065, 4417, 6100, 5414, 986, 5531, 872, 6373, 787, 250, 5504, 3757, 6742, 724, 6909, 3939, 2482, 5724, 6249, 5400, 1314, 3318, 5660, 2027, 5038, 1695, 2772, 1128, 5173, 1759, 1101, 6499, 1621, 5928, 6310, 6363, 6581, 2012, 208, 2597, 3473, 2806, 1352, 4769, 6304, 5585, 5430, 3135, 5002, 2566, 768, 3754, 6542, 2304, 1481, 5899, 6902, 6997, 2178, 15, 1882, 3125, 5785, 2067, 6554, 999, 5178, 3234, 2817, 2691, 6622, 1621, 906, 2968, 3363, 3371, 1105, 2093, 1048, 6416, 3628, 6540, 6133, 4609, 1043, 5483, 1518, 2627, 1999, 6298, 5371, 1704, 5102, 4480, 5737, 612, 3709, 3661, 2418, 974, 6104, 6220, 5861, 5680, 6288, 4861, 4207, 703, 6856, 4525, 1998, 1965, 3245, 337, 6017, 6538, 3635, 6268, 2319, 25, 1155, 5678, 2560, 5097, 6877, 1456, 124, 3442, 3960, 6748, 6440, 4590, 4322, 5013, 2776, 5788, 6170, 2706, 2173, 4405, 666, 1837, 1472, 917, 4696, 5661, 395, 2879, 3403, 5803, 1812, 5741, 129, 3197, 1331, 2890, 941, 5878, 893, 3697, 322, 4110, 2538, 4799, 3518, 2925, 4226, 6465, 3730, 2123, 1480, 5889, 6146, 1644, 4619, 5379, 5891, 5413, 4322, 4911, 1594, 3941, 397, 1991, 3131, 3423, 3995, 4193, 811, 1714, 1909, 2144, 1999, 6316, 1867, 496, 4489, 1787, 2392, 1107, 4039, 2630, 4924, 5250, 1825, 6283, 4260, 200, 6231, 4908, 5853, 4638, 5926, 5827, 748, 4433, 4335, 3674, 6160, 499, 4256, 5623, 570, 1091, 2963, 1339, 4352, 4106, 1349, 6938, 2121, 2858, 3315, 6072, 4048, 2378, 1364, 319, 2512, 243, 2358, 5733, 5260, 4755, 2387, 5915, 6316, 4178, 6126, 6389, 453, 5705, 5797, 2281, 5501, 6906, 1515, 2828, 2823, 3446, 742, 628, 2359, 5147, 5327, 1539, 5493, 6035, 5517, 1497, 3737, 700, 1709, 1931, 6424, 802, 6733, 879, 6458, 4520, 3588, 403, 5364, 65, 5943, 557, 883, 2098, 3788, 1517, 4661, 3714, 5802, 3766, 906, 189, 5308, 5047, 5825, 4132, 6383, 3969, 3726, 6176, 3265, 1842, 5292, 4565, 4402, 3389, 1188, 5930, 5057, 2227, 1228, 6056, 3805, 1068, 1095, 1128, 5572, 6238, 6965, 3034, 995, 382, 2357, 466, 2199, 3180, 4029, 3690, 2955, 4735, 5461, 5439, 1919, 3180, 5068, 2417, 202, 1831, 4008, 6765, 4595, 5458, 2417, 5950, 6375, 2983, 3873, 1086, 2012, 154, 4791, 2824, 5780, 3124, 5795, 4666, 1732, 6190, 1400, 137, 3453, 6841, 975, 2501, 6785, 3864, 5714, 4577, 1455, 1546, 3594, 450, 2528, 133, 4656, 4465, 1259, 4853, 5587, 2270, 35, 5788, 451, 1227, 5935, 2004, 688, 5962, 3031, 5946, 242, 4070, 290, 1091, 1030, 5466, 4224, 4150, 2587, 450, 5152, 446, 451, 1093, 1152, 3075, 4792, 633, 2255, 3381, 4738, 2168, 6487, 1152, 4487, 4843, 817, 2519, 991, 1892, 1000, 5684, 769, 6082, 192, 4560, 5749, 508, 199, 3241, 4147, 5569, 1970, 1404, 1597, 2975, 1089, 1213, 1003, 5361, 5298, 5131, 6467, 3420, 3308, 2286, 6161, 4740, 5310, 1016, 6890, 6442, 5063, 4576, 3046, 3197, 3776, 6753, 834, 5448, 5804, 4115, 3900, 1416, 4616, 1538, 5534, 6495, 5343, 4153, 453, 3607, 6099, 1127, 2769, 3930, 2652, 189, 4625, 1227, 41, 5146, 2557, 156, 5374, 6765, 4397, 3136, 1163, 1999, 6183, 5628, 743, 5509, 2990, 6583, 1443, 5151, 6368, 2603, 1922, 335, 6095, 5809, 1737, 6402, 732, 5340, 813, 2762, 1758, 4462, 4477, 6300, 1604, 6656, 1674, 1433, 5140, 4469, 3286, 642, 6604, 2792, 3088, 278, 3303, 957, 6719, 780, 4880, 2097, 1436, 573, 6665, 1281, 6230, 3275, 2899, 2899, 4263, 1727, 6158, 845, 1131, 3945, 6656, 3343, 2653, 5392, 1958, 2129, 569, 55, 1859, 6598, 6229, 6080, 983, 5529, 1476, 5804, 3450, 5688, 6572, 2835, 1586, 13, 3788, 5896, 1870, 392, 6531, 5795, 4170, 2279, 2274, 4455, 447, 1892, 4305, 1805, 5236, 4464, 5088, 6811, 5578, 5342, 1069, 5897, 1692, 307, 6863, 1919, 1022, 4266, 1300, 3141, 6277, 978, 3322, 6698, 4062, 4280, 4353, 3911, 6110, 448, 869, 6606, 1846, 6647, 6357, 4248, 6809, 132, 6015, 3465, 6435, 4888, 5165, 4245, 6660, 662, 53, 3033, 2006, 4137, 3435, 6925, 2547, 4016, 3041, 4530, 6089, 3241, 242, 4756, 6335, 2885, 6155, 3640, 2871, 2727, 187, 5603, 3940, 4291, 3609, 5970, 545, 764, 4181, 3345, 389, 3877, 1054, 3806, 3317, 5582, 3654, 26, 2177, 2981, 2027, 4451, 701, 3193, 2597, 1979, 3069, 3523, 2114, 715, 1433, 3707, 6254, 5255, 1995, 1653, 3678, 3008, 6915, 5567, 2405, 4435, 6258, 6009, 5534, 5176, 2127, 1400, 6516, 5026, 1676, 6103, 3069, 2651, 3637, 6536, 3599, 6223, 718, 6901, 6587, 6396, 5413, 2527, 3874, 6462, 1177, 3366, 3832, 1906, 2217, 6210, 6998, 4157, 2162, 3034, 5654, 3776, 6798, 2334, 2732, 4300, 201, 4313, 859, 817, 60, 3529, 584, 6176, 980, 3537, 678, 4333, 2071, 4585, 5238, 1568, 6689, 1317, 664, 534, 4184, 4633, 5005, 5074, 5515, 5389, 5354, 6650, 6610, 2022, 4903, 1257, 2206, 5222, 334, 170, 3517, 1444, 4687, 5399, 553, 97, 5745, 153, 548, 279, 3903, 1635, 3159, 5008, 264, 586, 3655, 2825, 2260, 1804, 592, 802, 4557, 6608, 1973, 4736, 2283, 120, 2896, 6703, 4880, 4301, 4887, 6742, 6135, 3526, 6213, 1994, 6271, 4043, 264, 5080, 5470, 2843, 4281, 3406, 5057, 3040, 6548, 1201, 1169, 353, 6153, 5545, 581, 1484, 4615, 4968, 4729, 1657, 657, 1185, 786, 5840, 5143, 6908, 3858, 2122, 2916, 4515, 5627, 5096, 1646, 3904, 2805, 5572, 6411, 1066, 1917, 3128, 176, 2314, 6416, 3410, 3160, 6365, 2136, 6441, 1550, 1349, 6385, 3301, 4169, 105, 2979, 633, 6266, 4012, 3251, 2105, 3137, 3454, 4138, 285, 3770, 4975, 6635, 3856, 4988, 448, 1957, 2809, 3269, 4769, 2777, 2471, 2487, 2440, 4526, 6251, 5402, 5251, 6140, 6779, 2459, 1375, 5201, 215, 300, 4516, 1044, 3898, 853, 6801, 2230, 3332, 3696, 4210, 6989, 1170, 4929, 2966, 2893, 2570, 2082, 6859, 5143, 6105, 2896, 2343, 1664, 4275, 639, 1571, 3660, 87, 3460, 5588, 33, 4745, 3295, 925, 4512, 1572, 4772, 4475, 4378, 2642, 4173, 3412, 5580, 1523, 6596, 5977, 3841, 4263, 6379, 5186, 3305, 4663, 934, 585, 3857, 4927, 1260, 2659, 6666, 5924, 1978, 3635, 332, 2716, 627, 1616, 4934, 3338, 3688, 3595, 3044, 3010, 4105, 4790, 1891, 3567, 6525, 3250, 5099, 6469, 3, 3148, 3256, 5064, 725, 3312, 3620, 6171, 787, 394, 6039, 1702, 4095, 6297, 3840, 4428, 1267, 5233, 1810, 5588, 3554, 5053, 2480, 3520, 5341, 4285, 4578, 356, 5514, 3214, 1410, 1755, 6142, 3950, 3908, 416, 6032, 1651, 2617, 2440, 4306, 429, 5519, 2290, 2115, 1607, 5290, 6808, 6207, 1668, 4059, 2159, 4459, 1018, 2301, 5587, 783, 5782, 4009, 4380, 5611, 4473, 6595, 2643, 3132, 3319, 4262, 3414, 6971, 1517, 945, 6518, 4716, 2994, 2409, 5600, 4627, 5617, 5625, 4734, 5294, 4594, 6962, 1062, 2954, 3616, 4066, 2526, 2074, 1006, 4718, 595, 5141, 1867, 5916, 1059, 1722, 2796, 5009, 6858, 3647, 1963, 437, 3740, 378, 2922, 3860, 4325, 6151, 2578, 5421, 3162, 1379, 3870, 4131, 2925, 4352, 2127, 932, 3650, 3632, 2427, 6956, 6928, 587, 3223, 2171, 5580, 2159, 5210, 3908, 3569, 3579, 6087, 5255, 711, 6087, 5975, 6111, 6801, 2163, 2701, 4761, 163, 5147, 4966, 2058, 2852, 5407, 5823, 5471, 2726, 5189, 6606, 2888, 1075, 597, 440, 1184, 5560, 6547, 278, 1727, 3864, 3863, 5175, 3865, 2887, 6134, 78, 2143, 5657, 4360, 3481, 5084, 6433, 2314, 2848, 4531, 2373, 82, 1120, 1725, 3822, 2822, 1877, 6573, 5252, 5056, 3795, 4195, 2294, 3560, 1450, 4999, 24, 2568, 6905, 886, 5253, 3240, 5870, 6469, 5428, 3615, 5126, 1974, 6568, 1937, 1620, 5299, 926, 350, 878, 3081, 1480, 6258, 1157, 3380, 3250, 3129, 6784, 3244, 4592, 319, 4973, 6120, 1233, 6697, 5106, 4742, 1191, 6535, 866, 6830, 1105, 2517, 1154, 5637, 2282, 776, 2179, 4613, 6404, 4895, 190, 5904, 6217, 5357, 1650, 4727, 967, 6525, 1652, 494, 5869, 965, 5271, 3081, 3215, 4232, 90, 5438, 3753, 5304, 248, 732, 4739, 2921, 584, 2054, 5588, 5318, 2736, 2175, 127, 2665, 6355, 5257, 1931, 3800, 1910, 4499, 2222, 2130, 2248, 4182, 214, 4620, 1964, 1834, 4164, 2723, 4579, 5573, 1293, 1117, 6621, 4102, 2192, 1961, 3148, 3461, 6874, 1272, 3369, 2960, 4865, 6634, 329, 1689, 6865, 714, 23, 4061, 2287, 3435, 2722, 3115, 3621, 2037, 1378, 1478, 4695, 1362, 4206, 6374, 131, 5543, 859, 360, 6833, 4591, 956, 1087, 485, 1261, 2278, 4639, 4498, 667, 5553, 3207, 3651, 5296, 4606, 4851, 5301, 138, 3424, 2821, 1638, 1521, 1540, 4628, 2684, 6240, 3862, 3989, 5265, 209, 4725, 2357, 4589, 4726, 4726, 888, 2744, 3629, 5594, 689, 5736, 5533, 3207, 5974, 5234, 1716, 4041, 5479, 3177, 1607, 6645, 3297, 5291, 2083, 212, 83, 2342, 4381, 6205, 5175, 757, 6904, 4789, 4675, 6011, 2330, 3285, 6448, 5401, 1944, 5589, 2204, 3364, 2830, 1639, 1358, 6364, 5579, 3061, 838, 4630, 6911, 3983, 4614, 307, 107, 5319, 275, 390, 4950, 411, 1681, 4493, 5885, 1632, 4610, 3448, 790, 2085, 3450, 6642, 1192, 2300, 1667, 1994, 1788, 5779, 1353, 34, 2430, 3234, 3591, 1243, 966, 4984, 1598, 6274, 5898, 3376, 6624, 1118, 6416, 6220, 24, 2317, 495, 5243, 557, 2146, 3144, 4875, 3462, 4938, 5511, 6946, 798, 6981, 2396, 5698, 4384, 462, 2160, 1372, 2233, 1831, 2832, 4363, 6782, 4935, 6839, 3642, 2171, 4161, 3287, 4493, 1902, 944, 5137, 4959, 5355, 2758, 3028, 6557, 6347, 3329, 6841, 6286, 919, 4231, 3273, 4986, 5312, 3783, 6131, 5013, 4647, 2192, 6172, 6798, 797, 6730, 2753, 1258, 4076, 3416, 6705, 2776, 1922, 50, 5168, 1706, 4372, 633, 248, 1871, 6109, 5581, 4513, 5824, 102, 5135, 6516, 3805, 5650, 3752, 4396, 2255, 2852, 4215, 3968, 6407, 2343, 2887, 5252, 2278, 630, 6293, 560, 5170, 1633, 5133, 4149, 1990, 3883, 5749, 3906, 2771, 2582, 6679, 1555, 1869, 2248, 330, 4438, 1667, 4278, 2972, 5323, 4424, 132, 265, 2919, 6917, 4843, 4548, 3596, 6998, 4501, 1595, 6385, 2160, 6127, 6394, 3788, 4151, 510, 4027, 3841, 2120, 5835, 6146, 1654, 2405, 3299, 3492, 2079, 5541, 849, 1876, 4541, 5085, 617, 609, 2551, 5893, 6787, 1199, 3024, 5224, 4135, 722, 534, 4633, 4090, 6913, 1092, 1959, 4685, 241, 4820, 2338, 2965, 1830, 3751, 3579, 5788, 6054, 4883, 421, 6111, 4094, 3965, 1720, 1350, 2273, 6713, 3409, 4777, 2199, 2184, 3704, 6803, 4192, 1413, 3395, 5274, 1638, 1274, 2756, 1599, 1298, 2264, 1219, 6168, 2177, 5955, 3583, 2721, 24, 5649, 4057, 5684, 1074, 5211, 3261, 6976, 5345, 206, 4567, 2389, 2595, 2349, 5131, 6361, 5995, 3741, 3525, 1808, 2591, 6342, 5215, 6515, 1797, 5352, 5228, 1487, 2229, 3228, 6704, 4349, 5992, 3222, 6919, 2131, 359, 176, 3464, 164, 5778, 2692, 4346, 3895, 3342, 5763, 3294, 4222, 5449, 5914, 4959, 1876, 3887, 2594, 4374, 1899, 205, 187, 4773, 3328, 230, 4792, 6485, 1813, 296, 6368, 2371, 3565, 3954, 4897, 5724, 6127, 567, 2914, 2293, 118, 2793, 3854, 3323, 6938, 4762, 1635, 2961, 1905, 379, 3400, 2154, 6255, 2059, 1703, 6799, 2188, 5433, 3366, 3121, 426, 6081, 3595, 4638, 6198, 4030, 2928, 6151, 998, 3231, 4572, 2108, 1330, 6584, 2940, 286, 6361, 6361, 6958, 2288, 2187, 4961, 3977, 1440, 4360, 3132, 822, 857, 6091, 3910, 206, 1280, 4223, 5887, 5666, 4255, 1206, 3516, 2384, 1390, 1343, 5121, 2709, 6849, 1953, 3655, 4069, 3190, 4187, 518, 3651, 1920, 4304, 4451, 159, 6274, 96, 3367, 6640, 929, 5171, 4388, 4145, 6310, 5494, 6319, 2246, 5725, 4052, 326, 4500, 3428, 576, 486, 203, 4580, 2345, 5044, 108, 3596, 1003, 4985, 6524, 5113, 3343, 583, 1308, 4340, 4294, 5133, 5073, 254, 1670, 2406, 4673, 3791, 6757, 2807, 1319, 1637, 4763, 5690, 2956, 5581, 908, 3593, 3383, 810, 1025, 5800, 2121, 5597, 4678, 1993, 531, 5081, 5485, 3303, 6559, 6111, 324, 6941, 414, 4130, 3282, 1765, 4938, 2168, 1532, 2463, 330, 5344, 2844, 6010, 757, 5352, 3235, 5100, 3784, 3721, 960, 6997, 1352, 1764, 1239, 12, 4290, 4732, 5689, 4914, 4532, 6533, 1475, 2226, 739, 3163, 2689, 3564, 6537, 6059, 1303, 1600, 2445, 6103, 5485, 1138, 6281, 2258, 4364, 1222, 3856, 4011, 2027, 5020, 2312, 965, 2862, 6820, 3771, 5737, 1548, 5362, 6276, 6774, 3336, 6552, 6750, 1245, 6232, 807, 6706, 3766, 2570, 2340, 3596, 3671, 2857, 887, 1030, 2463, 6184, 3449, 1183, 3612, 4235, 5065, 6768, 5718, 1809, 1211, 5070, 3818, 5758, 5613, 4513, 3109, 3689, 2176, 5575, 3825, 3974, 2765, 6069, 5843, 6320, 3881, 771, 5117, 1085, 1765, 6654, 3361, 5208, 4461, 4319, 4994, 732, 2940, 6011, 5338, 591, 6301, 3497, 275, 1965, 5541, 5857, 1916, 42, 3849, 1687, 3234, 497, 2494, 5379, 2096, 956, 6685, 4827, 3620, 4217, 5632, 3241, 362, 2755, 6531, 2483, 1551, 5273, 4428, 2070, 1251, 3229, 236, 865, 536, 5980, 2562, 1156, 1082, 5525, 3743, 1938, 1923, 4420, 158, 3702, 5903, 5450, 4601, 5473, 2591, 6033, 4797, 48, 1594, 890, 2305, 1811, 5180, 3958, 3294, 6619, 2082, 6052, 4432, 1428, 4877, 1850, 1014, 3783, 3766, 2395, 5396, 5580, 2550, 5860, 2239, 1405, 4859, 4408, 3270, 6403, 3813, 3091, 89, 4493, 4746, 6937, 4771, 5471, 3761, 3385, 5835, 739, 2324, 656, 588, 4485, 2408, 6243, 5339, 6582, 1486, 5929, 3774, 5851, 73, 3304, 3940, 212, 5444, 2475, 4995, 6345, 1507, 4399, 4531, 3732, 3763, 124, 1799, 6915, 5260, 3212, 6432, 6562, 5277, 2939, 4711, 3262, 4144, 1952, 6109, 66, 2458, 4667, 4231, 6707, 566, 2942, 1872, 4024, 1478, 2134, 6294, 1984, 4784, 6323, 6210, 831, 1878, 3043, 1035, 1173, 6687, 4331, 5461, 5970, 2112, 755, 4533, 1547, 2325, 415, 4541, 4688, 1694, 6214, 3184, 6420, 1625, 817, 4318, 3955, 5904, 35, 3416, 6529, 4729, 4522, 6770, 2532, 6974, 4407, 844, 1313, 5357, 1096, 4117, 4862, 3811, 2658, 3300, 40, 5966, 1861, 4170, 5940, 1168, 5886, 2724, 5407, 112, 6972, 4674, 831, 1987, 3542, 1721, 4841, 925, 1933, 3266, 1544, 3944, 2024, 917, 4500, 622, 4876, 2725, 6498, 3177, 1879, 1742, 824, 6524, 3784, 1693, 2244, 1586, 4273, 5066, 1280, 4960, 2542, 4792, 6911, 5760, 6716, 2121, 2168, 2540, 140, 5752, 5779, 86, 2679, 2448, 1730, 4866, 4449, 1706, 5217, 753, 2943, 698, 4681, 465, 6158, 421, 4546, 2081, 512, 1992, 1427, 4723, 141, 6749, 3874, 1982, 6252, 5491, 1816, 1772, 2555, 6729, 4802, 1578, 1067, 6602, 1560, 5306, 1262, 3313, 4284, 189, 2441, 4200, 5203, 3580, 6218, 3508, 1697, 3695, 3157, 1158, 6329, 2689, 1029, 5792, 2693, 104, 2543, 200, 4145, 3728, 3401, 2292, 2673, 1548, 491, 1977, 442, 6961, 3660, 3313, 6697, 3404, 1301, 2183, 5648, 5305, 5423, 4092, 2431, 987, 3484, 6842, 6216, 1618, 6604, 2334, 5164, 3934, 4389, 2749, 5200, 3617, 6977, 3733, 1130, 355, 2188, 3565, 5722, 4931, 135, 4325, 3223, 6178, 1411, 6086, 4628, 6643, 5708, 4990, 3692, 5547, 4842, 3846, 5558, 4425, 302, 1005, 5622, 5037, 6924, 6848, 2769, 1487, 325, 78, 3646, 2106, 5237, 4154, 1514, 6460, 702, 4930, 886, 2231, 377, 852, 6168, 1936, 6359, 966, 5770, 5163, 6660, 1157, 3567, 429, 1545, 6956, 3955, 6034, 1280, 2067, 1076, 869, 1086, 1072, 143, 4504, 1015, 2483, 5435, 3788, 3918, 6745, 1073, 437, 4270, 352, 6207, 6693, 6609, 3809, 4107, 5800, 2437, 6245, 2407, 4512, 6090, 84, 1364, 2157, 4589, 3096, 6064, 5003, 6978, 2415, 1252, 2849, 1129, 2980, 1221, 6363, 4349, 2591, 4342, 4002, 993, 2991, 1128, 5232, 6682, 31, 567, 5542, 3494, 1118, 1874, 4054, 299, 2423, 6564, 2108, 2676, 4473, 325, 708, 6573, 6672, 6048, 2868, 2347, 525, 140, 237, 805, 711, 6773, 6078, 3877, 710, 4858, 6136, 965, 2696, 3260, 4866, 5767, 6436, 2146, 3760, 6021, 5204, 2447, 1541, 3195, 3647, 222, 6778, 6823, 6193, 1995, 2699, 2409, 5367, 5074, 5095, 4143, 3233, 185, 6979, 3046, 3450, 765, 3043, 4804, 2228, 1951, 6107, 3769, 3765, 2757, 1606, 167, 5703, 5920, 6493, 4913, 4370, 2960, 2816, 228, 1366, 4623, 2737, 3997, 3060, 5789, 6053, 3041, 4491, 3033, 5933, 321, 4693, 4716, 3381, 3559, 5716, 952, 902, 5392, 2009, 319, 2025, 1584, 5321, 4035, 3452, 5650, 2779, 400, 1019, 197, 6940, 72, 3834, 1196, 4594, 3381, 1328, 2192, 5862, 3394, 4846, 4722, 5575, 4848, 1642, 3245, 1200, 1868, 1293, 1386, 1895, 4287, 6625, 421, 3833, 3847, 6107, 1493, 2215, 1081, 895, 2924, 5287, 1903, 6080, 5467, 3108, 5321, 3252, 496, 6377, 414, 4840, 3305, 3513, 5903, 3232, 6886, 1418, 3667, 6378, 92, 3279, 6006, 6436, 1580, 2767, 845, 1768, 3041, 6328, 4861, 6560, 2271, 3710, 5057, 6480, 1823, 6009, 2793, 2318, 4075, 3500, 82, 5461, 3107, 5638, 3986, 1414, 3258, 3519, 661, 2429, 2523, 1348, 6234, 3208, 1706, 3233, 1461, 3953, 1701, 2926, 43, 5379, 5671, 3447, 706, 2878, 842, 3330, 3669, 178, 2414, 1825, 5309, 5990, 3938, 4940, 4736, 1897, 5963, 4351, 6387, 5932, 3052, 1500, 2897, 4575, 3449, 3935, 3966, 129, 3618, 2752, 6067, 4879, 6824, 6361, 3593, 4231, 5486, 1587, 1337, 660, 6318, 26, 1816, 4230, 4719, 2905, 2247, 4492, 3249, 5236, 4121, 4852, 5579, 673, 2606, 3475, 563, 600, 6608, 1571, 3903, 18, 4118, 6444, 3219, 5989, 662, 5095, 6000, 599, 1229, 6062, 5754, 5868, 2326, 4527, 4689, 6579, 1926, 3114, 4746, 3504, 1246, 6868, 3595, 1421, 6438, 5731, 265, 4362, 749, 4263, 6467, 2829, 6478, 3645, 5182, 2854, 4836, 6550, 3611, 2492, 223, 6804, 86, 2682, 2417, 3799, 263, 5410, 5336, 2579, 6586, 3320, 3175, 5592, 863, 1904, 5773, 2858, 5808, 6416, 1321, 761, 3047, 611, 6236, 5576, 4498, 5384, 5223, 4, 5388, 2889, 1070, 2082, 4476, 1460, 5330, 6795, 2068, 3468, 5578, 5591, 2268, 403, 1934, 5742, 2569, 3378, 385, 5248, 1148, 5507, 6213, 765, 4785, 5382, 135, 5730, 6011, 3247, 2837, 2646, 6465, 1491, 4049, 4815, 4199, 2390, 3506, 665, 4980, 3771, 4164, 6664, 4119, 1902, 3437, 517, 1376, 6196, 6245, 1078, 2537, 2073, 5689, 3504, 223, 6124, 4814, 5161, 5480, 1323, 4146, 2212, 6893, 1360, 2708, 3019, 6066, 1383, 5887, 5524, 3803, 3641, 866, 1387, 1435, 995, 3585, 4881, 3694, 5539, 3472, 4226, 2909, 880, 2267, 6043, 6859, 6839, 6036, 6946, 5322, 422, 460, 446, 1196, 364, 863, 6908, 5453, 4462, 3106, 2894, 1849, 2915, 595, 2507, 1361, 2673, 1295, 2518, 3022, 6281, 6603, 5258, 4858, 4599, 3818, 1021, 175, 575, 4694, 6725, 6520, 4904, 4678, 6573, 6669, 1488, 1032, 5947, 6332, 1834, 4308, 5885, 1403, 2416, 6740, 6018, 2675, 1260, 6984, 4996, 1836, 2939, 3985, 1969, 2832, 2899, 158, 5241, 5858, 33, 681, 2317, 3282, 6977, 6981, 4130, 5937, 3956, 6783, 5046, 4448, 6259, 5832, 3840, 577, 4542, 4437, 5872, 1099, 5367, 4676, 6775, 4715, 2402, 625, 2120, 5245, 710, 4911, 818, 3852, 3915, 867, 2132, 5308, 3247, 6248, 3909, 5508, 4000, 5021, 2644, 1338, 59, 729, 2919, 1640, 4580, 4668, 6117, 3828, 6197, 1883, 1745, 3601, 449, 2764, 5467, 2022, 6261, 742, 1210, 4964, 4118, 3374, 3761, 4383, 408, 4461, 2137, 4768, 3814, 3495, 1058, 3355, 3416, 5881, 3084, 6626, 4574, 1769, 2616, 2106, 6830, 3988, 1092, 2990, 2532, 3563, 2368, 4523, 3274, 1903, 1581, 2747, 6312, 5521, 5557, 6609, 2044, 2876, 107, 5219, 220, 1488, 2509, 9, 1824, 1665, 1254, 6290, 2591, 3021, 3689, 1081, 3607, 2593, 2045, 1563, 6860, 2492, 5910, 2117, 6997, 5564, 238, 5404, 265, 3878, 1794, 3339, 2260, 562, 1578, 940, 2290, 5993, 6307, 4987, 854, 2589, 2146, 139, 748, 6401, 4895, 2250, 2576, 4085, 2140, 642, 2895, 2055, 4070, 4237, 5745, 2996, 910, 655, 3287, 2622, 311, 6510, 5937, 3281, 2538, 3143, 5895, 6315, 3822, 2442, 6018, 2632, 4800, 6744, 6108, 647, 497, 3529, 3001, 5548, 2206, 3067, 5829, 2058, 3627, 3043, 4285, 912, 2967, 650, 5889, 3271, 2571, 2506, 129, 6542, 3705, 3139, 6123, 3859, 1453, 5786, 1928, 4312, 4842, 5485, 2961, 237, 6484, 6398, 5863, 2650, 6599, 5197, 4187, 1233, 3276, 4849, 5343, 2259, 3653, 5985, 6763, 1381, 5221, 1577, 2610, 4873, 6772, 6722, 5678, 3853, 6399, 6478, 1835, 5906, 707, 4894, 6450, 462, 6536, 494, 5029, 3226, 1753, 2741, 3438, 6401, 1960, 6305, 1319, 1607, 685, 2041, 1567, 783, 5787, 2003, 1366, 6333, 3752, 1276, 1716, 174, 841, 3890, 5664, 6847, 4892, 6885, 830, 458, 3293, 4674, 1726, 2726, 2902, 3812, 1109, 5231, 1305, 1349, 5050, 3007, 1180, 74, 4357, 6253, 1561, 3273, 5562, 3984, 5723, 2511, 6368, 3299, 4421, 971, 349, 3082, 814, 4632, 1781, 446, 6796, 4012, 3425, 5111, 6821, 1298, 6265, 6403, 6454, 2684, 3667, 944, 5847, 1868, 4684, 2763, 2178, 872, 6088, 6802, 5772, 3303, 1832, 1904, 5015, 5860, 2651, 3482, 5054, 6937, 3602, 649, 6420, 764, 1606, 5857, 5577, 3895, 831, 1324, 1624, 579, 1971, 5638, 2983, 2353, 3469, 664, 1793, 543, 6978, 1138, 1597, 5312, 4908, 6456, 2487, 1288, 3267, 5851, 3188, 5456, 2750, 2758, 5332, 3823, 1539, 4876, 6751, 5531, 5278, 4884, 1800, 6407, 3845, 1550, 102, 6155, 2918, 692, 6004, 6535, 4337, 3716, 627, 1483, 3836, 1223, 766, 1443, 2472, 6870, 500, 91, 5298, 1582, 1289, 1297, 5560, 468, 2875, 6949, 3288, 2917, 3792, 6185, 5982, 4289, 5037, 6686, 4984, 3342, 2560, 6129, 3850, 2312, 1787, 345, 6696, 1357, 287, 4735, 258, 1745, 6585, 4405, 4739, 1123, 5684, 4026, 3843, 5786, 1293, 1207, 6330, 677, 6046, 804, 5346, 1355, 2442, 1803, 4583, 701, 597, 3547, 6756, 4906, 1052, 1176, 3511, 5256, 4814, 5502, 2584, 6672, 6176, 2180, 4195, 2038, 5688, 6385, 4909, 72, 1345, 748, 2717, 23, 2582, 3921, 5994, 4574, 2407, 5105, 6813, 6463, 3552, 3239, 4508, 398, 6530, 1954, 2239, 2454, 1734, 4460, 2700, 4142, 2, 5675, 5252, 6905, 973, 2372, 4996, 3789, 888, 3686, 248, 6762, 4678, 6045, 393, 3747, 259, 3103, 2703, 6278, 6967, 4753, 6350, 3324, 5251, 3467, 2407, 6850, 5761, 3045, 20, 5629, 4414, 467, 2668, 5366, 2614, 5789, 4699, 3141, 4551, 3892, 1132, 1106, 5895, 6376, 1579, 6832, 1473, 6490, 3608, 3436, 5330, 4941, 2367, 6137, 1983, 2307, 5014, 2858, 2149, 4354, 4013, 6829, 6468, 3336, 4677, 5884, 5622, 6523, 2797, 2299, 3469, 3368, 4181, 6293, 5036, 347, 486, 6512, 2773, 5605, 2476, 4073, 2011, 6884, 161, 363, 4797, 4780, 3962, 4468, 3271, 1654, 6906, 4951, 3759, 6731, 6972, 4585, 4551, 2957, 5876, 5664, 3987, 3386, 6192, 3126, 6353, 6325, 1234, 3349, 727, 217, 5942, 6315, 642, 4902, 3240, 2820, 5464, 4213, 5113, 2272, 4613, 6313, 6613, 2598, 3918, 737, 1474, 1198, 1682, 1756, 5921, 4943, 5441, 2761, 2064, 6453, 5490, 5497, 6030, 6663, 5553, 60, 6262, 4608, 2884, 4743, 3141, 4697, 1075, 532, 4658, 567, 4844, 2488, 5542, 431, 1936, 2063, 1598, 4221, 1332, 4675, 1677, 2834, 5030, 3227, 4927, 1711, 507, 2900, 3933, 528, 3991, 354, 3694, 4300, 3624, 5211, 327, 5197, 1741, 4664, 5528, 5462, 387, 3075, 684, 6343, 3424, 212, 2795, 6395, 2936, 3516, 1684, 6954, 865, 3925, 6350, 6037, 6203, 3962, 1023, 4735, 1461, 1399, 1513, 2293, 1896, 6073, 4727, 6557, 4081, 6247, 4048, 5106, 4882, 4484, 1786, 572, 3569, 4967, 4642, 1463, 4808, 3548, 1059, 4939, 1656, 6335, 4303, 5893, 861, 2765, 464, 3015, 2508, 2483, 1560, 494, 4773, 3570, 4410, 1552, 3343, 614, 3403, 3077, 6256, 1050, 3140, 6901, 2557, 1161, 3446, 4437, 6404, 4926, 6831, 3178, 5776, 6709, 3642, 1351, 4125, 950, 1977, 4900, 3117, 2337, 611, 2645, 5948, 2083, 2037, 3711, 5007, 6365, 6865, 4465, 3691, 4017, 4564, 5441, 112, 6714, 3093, 517, 5875, 3226, 2365, 6888, 5148, 4243, 1122, 6257, 4671, 6896, 2651, 6614, 6023, 1901, 6828, 1017, 1282, 6443, 4245, 595, 346, 2316, 5637, 6694, 904, 2259, 1777, 2521, 1794, 1833, 4430, 469, 6779, 3713, 229, 2304, 2540, 2104, 3943, 2176, 2378, 4003, 1134, 6343, 1689, 3765, 2384, 897, 7, 1792, 5884, 3919, 4703, 5650, 5359, 1108, 4709, 6655, 6119, 6593, 6838, 3058, 2984, 3891, 3679, 4468, 2897, 93, 463, 1595, 803, 2651, 1433, 5507, 4570, 2865, 4036, 3417, 1428, 6574, 5434, 1073, 6905, 3708, 705, 4129, 5507, 4724, 463, 3189, 4852, 816, 3739, 4174, 5080, 3695, 6227, 5062, 6174, 4617, 2513, 378, 5229, 6385, 6112, 6700, 6307, 691, 34, 1520, 5831, 1986, 3183, 6939, 4916, 4705, 5996, 2882, 3923, 141, 5276, 5772, 491, 3151, 2568, 2634, 5360, 2026, 2953, 5059, 1698, 5147, 4054, 2246, 521, 3535, 2200, 103, 2855, 6546, 5997, 2998, 5870, 3911, 1082, 4576, 2653, 4045, 6186, 329, 966, 6200, 2005, 4181, 6152, 5641, 5350, 978, 1533, 287, 4647, 416, 1701, 6214, 922, 3853, 1389, 5187, 5907, 3069, 4714, 5689, 5693, 4556, 813, 5019, 2372, 449, 3355, 497, 4218, 5631, 528, 1102, 1706, 6707, 4359, 957, 715, 4878, 1750, 3597, 4422, 5617, 2303, 4836, 2079, 3697, 2866, 5044, 1692, 2409, 2541, 5253, 4896, 3806, 4104, 3275, 5988, 1210, 4474, 491, 5523, 5818, 6283, 401, 6338, 1632, 3226, 999, 3891, 6462, 5181, 4919, 582, 5087, 3540, 1463, 2197, 1493, 1449, 461, 2056, 4695, 4058, 833, 3117, 4352, 849, 4196, 1975, 65, 2524, 4392, 6253, 4297, 6836, 2702, 6256, 6517, 4291, 5735, 6969, 4714, 3786, 4633, 2029, 6878, 2398, 6951, 3952, 1686, 2087, 6455, 4793, 4269, 6986, 4436, 2195, 6314, 1222, 4667, 6765, 1491, 5305, 2725, 3059, 6315, 4676, 6791, 6312, 2886, 3425, 4627, 1806, 1032, 1281, 2078, 2537, 5360, 730, 5130, 4976, 3332, 6969, 4003, 3704, 1121, 2848, 1959, 4453, 2644, 2661, 1438, 4216, 562, 156, 679, 3989, 2095, 2458, 1294, 1204, 2590, 6454, 6736, 3899, 758, 1456, 115, 235, 4483, 2149, 3038, 6416, 923, 5830, 3436, 5806, 1740, 6021, 6474, 5093, 4544, 4020, 3464, 2582, 542, 6027, 4351, 6421, 1091, 994, 791, 5526, 316, 270, 4137, 1479, 5270, 4657, 505, 3232, 3054, 419, 5513, 6923, 205, 3179, 5332, 5549, 2603, 5198, 3600, 3958, 2018, 6822, 6241, 2206, 1923, 4535, 14, 2223, 6089, 3937, 1964, 792, 1717, 2950, 1745, 4764, 2831, 2083, 5446, 1402, 5924, 1715, 4008, 3241, 3998, 4595, 6738, 284, 165, 4617, 4867, 4692, 5532, 5899, 4256, 6127, 6388, 2870, 6844, 1184, 1266, 6942, 333, 2968, 6826, 128, 2528, 3045, 4650, 288, 1455, 678, 4334, 755, 2983, 4080, 2301, 6282, 3196, 3458, 4266, 2245, 6757, 957, 376, 3798, 479, 4100, 4723, 3225, 2602, 5244, 3382, 2544, 4896, 5563, 5575, 5011, 5856, 683, 6292, 3755, 1980, 2834, 5145, 478, 699, 3086, 4033, 2495, 1364, 6288, 6629, 5521, 3824, 6364, 1512, 119, 4714, 3493, 5866, 4754, 3622, 4725, 6092, 5705, 1283, 3654, 5342, 6891, 4118, 1507, 5280, 3922, 2764, 1247, 6355, 3951, 538, 397, 4767, 1755, 2762, 733, 1358, 3165, 1294, 4941, 1121, 6851, 1699, 3399, 1753, 5652, 1652, 4866, 4598, 910, 3200, 2196, 1131, 6983, 3031, 2318, 2243, 1747, 3659, 6439, 1185, 5121, 4360, 2487, 1257, 4778, 5271, 6093, 1518, 5804, 3088, 6239, 5040, 6558, 6916, 4906, 6005, 5265, 3554, 1238, 4749, 5940, 6215, 5446, 6584, 4710, 6178, 6879, 6045, 4953, 6209, 2894, 2411, 5880, 625, 1461, 1435, 5179, 1793, 216, 3008, 4878, 2758, 3491, 5651, 6598, 4655, 247, 6331, 2111, 1932, 3921, 5966, 161, 3033, 6609, 3111, 4156, 2381, 6638, 3686, 3629, 668, 683, 1886, 3588, 3154, 541, 2720, 2464, 2152, 5044, 4325, 6939, 4679, 6779, 2655, 6899, 6734, 3829, 1457, 3305, 3336, 5335, 5640, 2149, 254, 5316, 4513, 1600, 2298, 2995, 1313, 6080, 3327, 6096, 4543, 5354, 6144, 5732, 169, 6654, 2437, 6629, 4916, 6337, 2164, 6107, 5274, 2191, 321, 6319, 2065, 4649, 3777, 6220, 4676, 3326, 3048, 6504, 1301, 963, 1406, 1126, 2782, 2491, 4129, 1742, 2895, 6901, 2629, 988, 2282, 3275, 5852, 1844, 5859, 5939, 6252, 4570, 4890, 3705, 3677, 2346, 3143, 2013, 955, 3951, 5727, 2613, 2642, 539, 5352, 4067, 6448, 4660, 4128, 1788, 5348, 3784, 3762, 2534, 4541, 6170, 147, 5489, 2764, 4298, 3740, 5364, 4201, 6880, 6358, 2908, 6911, 5788, 5123, 6139, 1956, 990, 3117, 3838, 904, 4913, 3150, 1950, 1214, 5462, 5103, 4467, 6760, 3986, 870, 151, 520, 2715, 4482, 5869, 3730, 4901, 276, 1648, 4528, 3605, 528, 4387, 2086, 6130, 5960, 11, 1881, 4496, 3721, 1248, 3974, 6688, 2844, 604, 2766, 6164, 5781, 458, 4563, 3882, 356, 4479, 2187, 2381, 2295, 2128, 6664, 4677, 4728, 5165, 3890, 2869, 3755, 5602, 6966, 1792, 1405, 185, 1052, 6702, 6987, 4389, 2793, 4401, 3157, 1285, 6024, 82, 268, 286, 6447, 6432, 146, 1937, 6145, 1721, 4130, 6551, 1574, 2538, 2825, 4043, 3037, 6590, 3161, 650, 3945, 6115, 1015, 5460, 2190, 1065, 6083, 644, 5668, 4020, 6389, 5183, 1763, 821, 4494, 2713, 3192, 6586, 1752, 6591, 5944, 4022, 2463, 2982, 4520, 6799, 4294, 2065, 5907, 6623, 4347, 2035, 6544, 2960, 1448, 5229, 6932, 4606, 6687, 793, 4690, 5968, 4705, 5777, 5306, 3614, 4826, 4293, 481, 374, 1681, 3453, 750, 531, 2258, 5792, 6556, 5249, 5421, 2689, 3575, 5551, 4600, 3683, 1060, 203, 1918, 4253, 6907, 5177, 1132, 5101, 4669, 340, 608, 6512, 4374, 6078, 3672, 6694, 1005, 6691, 4526, 5854, 6295, 3732, 6139, 2137, 780, 3815, 4012, 4034, 185, 5418, 4928, 2539, 6265, 4027, 723, 3358, 18, 6499, 2767, 6954, 2456, 815, 4133, 3224, 1104, 3797, 1108, 5217, 6597, 477, 4431, 5973, 4244, 2997, 1310, 4489, 1408, 3274, 3504, 1013, 6318, 3723, 5523, 1939, 1434, 6769, 763, 5967, 20, 4731, 138, 4175, 5118, 2852, 1334, 934, 5119, 1412, 871, 3535, 5847, 1156, 2402, 174, 5490, 1660, 913, 1134, 5621, 1068, 5132, 1879, 4575, 141, 1888, 1601, 3669, 2675, 4484, 6411, 6996, 6654, 4190, 6863, 3578, 1017, 612, 5786, 4559, 2786, 5041, 4187, 2275, 5342, 3070, 411, 1296, 2574, 3971, 1107, 2837, 4422, 2525, 4660, 582, 2165, 4021, 1572, 1298, 5039, 2702, 4690, 72, 4725, 228, 6875, 6936, 1451, 3333, 1701, 1490, 1651, 6282, 6709, 4131, 2650, 2186, 4336, 4433, 2599, 1554, 6571, 4193, 5814, 187, 4036, 6882, 3871, 4687, 636, 1779, 3818, 2701, 4246, 3892, 3329, 1156, 4614, 4741, 2613, 3903, 1785, 2122, 4032, 3232, 4740, 6281, 4659, 6079, 2341, 2003, 4969, 132, 4398, 3506, 2456, 2218, 4944, 2294, 3852, 555, 167, 6230, 2097, 6097, 4845, 4947, 1830, 3432, 3885, 6964, 5029, 1242, 5017, 6919, 1008, 297, 6671, 1302, 762, 4312, 6951, 3593, 2110, 6609, 1704, 943, 1547, 1245, 5640, 3411, 556, 5839, 4319, 6210, 885, 1483, 4446, 2216, 4439, 5042, 1721, 2949, 2150, 2696, 5561, 4864, 5819, 2634, 4000, 3368, 6035, 1475, 5053, 2339, 6085, 351, 2878, 6224, 2293, 2881, 1583, 6215, 1736, 125, 4514, 3795, 986, 5873, 6903, 399, 2609, 1909, 6249, 5244, 1868, 2647, 3394, 186, 5188, 1962, 4624, 2394, 4635, 2889, 748, 5244, 3023, 5239, 4461, 810, 6718, 5347, 63, 4585, 3541, 743, 1232, 3899, 3670, 5746, 6955, 6564, 799, 726, 4125, 1630, 6543, 2486, 5363, 3211, 3549, 1552, 6762, 2501, 5319, 6096, 5283, 489, 6580, 2071, 2734, 4343, 4424, 2205, 5863, 1300, 3820, 2654, 2377, 5716, 2878, 1546, 5395, 673, 6541, 2299, 1018, 3633, 5554, 1540, 4889, 5170, 5085, 5203, 1863, 2033, 5869, 4413, 2768, 1366, 2593, 5658, 1187, 4323, 189, 4015, 5902, 5888, 3187, 6751, 300, 4115, 1453, 2139, 1241, 3381, 3483, 4434, 825, 4564, 579, 4412, 3698, 6490, 4216, 2923, 6675, 2510, 2414, 5987, 5883, 123, 1063, 4175, 3666, 1184, 2554, 3893, 5894, 1669, 6650, 5709, 2939, 1371, 5998, 6550, 3579, 174, 1807, 6846, 2126, 4504, 5376, 3533, 3671, 669, 6166, 6619, 4384, 2297, 4611, 4382, 3755, 5341, 4588, 292, 2028, 2103, 4184, 3063, 2138, 2788, 6372, 3693, 2547, 5474, 5788, 4289, 4109, 297, 1869, 4286, 3176, 6422, 5756, 5424, 3640, 2033, 4452, 353, 5338, 3438, 5285, 5244, 1196, 3272, 6923, 5812, 4818, 5318, 6862, 4531, 6357, 6596, 5821, 3816, 1430, 4010, 2468, 6492, 527, 5094, 5245, 6423, 5600, 1921, 4839, 5519, 2537, 2014, 6132, 3427, 1175, 2975, 3334, 5195, 4419, 5048, 3314, 424, 3486, 4577, 6175, 6930, 2964, 1329, 779, 1016, 3191, 5880, 5248, 3789, 1789, 2756, 457, 39, 671, 2461, 610, 3215, 465, 1062, 6784, 4724, 1623, 6202, 3507, 1106, 457, 4486, 1802, 6143, 1237, 180, 5611, 3395, 2805, 2635, 4812, 2912, 1781, 6805, 574, 2807, 1459, 6598, 5577, 6912, 6311, 584, 56, 6050, 4397, 598, 6698, 1185, 4803, 4885, 6781, 5135, 6656, 1786, 3265, 6133, 3648, 1111, 4843, 3234, 6392, 4832, 5559, 5008, 5912, 5800, 3839, 1954, 2242, 2801, 6788, 1095, 3953, 5949, 6911, 1973, 6539, 912, 5563, 6871, 6235, 3044, 1454, 6384, 5126, 3173, 3347, 3290, 606, 4586, 6554, 1231, 34, 1596, 638, 5216, 5976, 3520, 938, 3556, 3340, 2826, 1038, 6549, 4999, 4838, 4652, 320, 6616, 2050, 411, 3162, 5907, 2410, 2598, 2275, 4302, 1621, 3237, 1350, 477, 2078, 4406, 4857, 2376, 1384, 2014, 6496, 5831, 2993, 2435, 3481, 5570, 2252, 5561, 4725, 2711, 861, 6466, 6001, 3779, 4204, 1614, 4191, 6240, 6631, 4086, 6613, 3052, 418, 5949, 939, 6377, 960, 3578, 6265, 3400, 5011, 3009, 6760, 5176, 5073, 4649, 2750, 5747, 4281, 1445, 3361, 2743, 5105, 6543, 4299, 5943, 1346, 6624, 3888, 3701, 5816, 2142, 994, 6060, 235, 1823, 4306, 1546, 6243, 5815, 6397, 1352, 2244, 4328, 5555, 1534, 972, 4546, 3459, 5922, 6501, 4890, 3982, 5591, 5517, 4369, 3572, 3692, 2854, 2845, 1570, 6441, 851, 2421, 686, 6880, 4154, 4822, 4059, 3832, 3902, 2368, 5355, 4558, 5128, 296, 2922, 4375, 2505, 2928, 5852, 1238, 6337, 3242, 2677, 6735, 5012, 3678, 860, 479, 3050, 4412, 2424, 3071, 938, 4866, 2949, 4808, 3461, 3916, 3740, 6373, 2762, 3713, 2208, 10, 14, 764, 6143, 6712, 1993, 5317, 2902, 1755, 1467, 910, 5678, 5205, 6380, 3440, 4564, 6981, 2078, 1820, 4274, 4897, 3176, 6677, 1939, 808, 5652, 4550, 2657, 2482, 92, 5895, 2586, 4083, 3516, 309, 2098, 5202, 970, 6715, 2873, 5039, 2036, 685, 5082, 2958, 6601, 3363, 1708, 2374, 6631, 2458, 6112, 3720, 3496, 1751, 4172, 4724, 2714, 1964, 1446, 311, 4821, 6951, 5812, 493, 3155, 846, 1401, 6089, 2699, 1670, 4998, 3699, 6643, 5338, 4275, 3779, 1071, 3314, 3133, 157, 5936, 6749, 6034, 195, 1947, 4624, 2180, 6094, 6279, 5521, 3841, 5908, 6635, 1816, 3884, 2016, 4520, 4927, 4571, 4354, 2772, 1718, 4573, 339, 2713, 4192, 3738, 1596, 2874, 287, 1230, 4755, 2219, 6934, 475, 6566, 3236, 2057, 6370, 6183, 4359, 4699, 3952, 3436, 6943, 2772, 1211, 1896, 5133, 5310, 3175, 4540, 6261, 243, 2769, 145, 3971, 347, 1865, 4603, 5764, 578, 4435, 3922, 6053, 4180, 3578, 593, 4050, 3389, 5071, 3753, 4093, 4025, 97, 4497, 6705, 2190, 6209, 4427, 1167, 4023, 2969, 3750, 5294, 3671, 3485, 5068, 3500, 1292, 1655, 2596, 327, 3907, 5552, 2133, 3102, 5384, 1841, 4657, 3524, 6058, 4681, 6225, 3585, 328, 2836, 3236, 740, 6560, 4420, 900, 4006, 2819, 4601, 2813, 59, 4308, 3850, 5955, 1288, 2644, 3532, 5513, 148, 4930, 6393, 5182, 5738, 5263, 6771, 244, 3656, 4741, 4282, 2252, 1657, 1706, 5246, 3159, 6975, 6512, 3023, 3356, 285, 3528, 6279, 5438, 6653, 2745, 5732, 3236, 5240, 6813, 3801, 2073, 6148, 4505, 2941, 3064, 5294, 5545, 958, 5484, 6227, 5333, 3370, 6638, 6009, 3548, 4905, 4763, 5968, 6350, 4260, 1054, 2944, 4879, 1331, 5097, 4241, 6307, 1098, 3388, 109, 6218, 903, 2726, 2985, 1666, 6340, 1652, 3092, 2019, 5285, 2936, 1557, 4855, 6455, 2855, 750, 3256, 6922, 4330, 6381, 266, 5302, 2426, 6870, 5905, 4855, 6451, 5843, 4961, 265, 2861, 948, 3273, 1587, 5091, 984, 2460, 6163, 6004, 1417, 1210, 6906, 0, 495, 1603, 3563, 2489, 371, 6744, 5552, 6438, 5368, 2757, 6078, 1512, 3695, 6413, 1513, 104, 3678, 6649, 131, 6471, 1300, 3848, 3093, 2902, 1816, 6505, 3821, 2497, 2173, 6055, 314, 2176, 3220, 1706, 3860, 2328, 1077, 3196, 4529, 1050, 6866, 5476, 3744, 6862, 3780, 5598, 788, 2841, 2153, 1850, 5699, 6254, 3725, 4153, 6371, 6821, 5379, 6927, 8, 2941, 2670, 1520, 2718, 573, 5310, 281, 1115, 6109, 2217, 3344, 6810, 3675, 692, 5872, 5830, 4854, 100, 307, 254, 5219, 562, 6044, 1112, 445, 4566, 4721, 2340, 2156, 4502, 1649, 6846, 2863, 6813, 2767, 5952, 3628, 560, 2260, 6843, 6160, 3974, 2584, 3080, 461, 706, 1028, 3648, 6047, 4915, 6287, 1154, 5601, 1970, 5846, 3826, 5184, 6320, 5928, 1408, 6935, 5717, 2573, 4428, 6900, 3730, 172, 65, 2979, 6713, 465, 1373, 1961, 5254, 528, 5791, 1146, 6356, 1789, 1803, 1029, 4798, 2896, 4666, 5806, 3924, 4978, 5753, 780, 6497, 3639, 4487, 280, 5467, 2137, 6051, 6774, 4049, 1202, 3194, 1815, 2881, 4479, 6628, 5793, 2335, 2410, 3022, 4879, 6855, 638, 4499, 2016, 853, 3817, 1502, 4983, 4707, 4632, 4259, 2007, 1339, 298, 6473, 2268, 4024, 5520, 669, 3004, 6469, 1249, 5615, 3339, 816, 2269, 5914, 350, 4469, 1072, 6643, 4244, 362, 952, 6385, 5494, 3793, 2066, 4832, 3411, 4110, 6420, 4787, 6240, 6963, 600, 4171, 2894, 3164, 754, 308, 1143, 1609, 1103, 2008, 2401, 1855, 3561, 388, 1946, 6599, 2821, 3424, 941, 1980, 4413, 6127, 837, 4946, 3331, 5794, 2228, 3482, 2393, 4511, 4717, 2984, 752, 3013, 744, 1209, 5117, 1088, 6452, 2660, 4834, 1681, 6797, 3998, 2311, 6056, 6396, 5230, 2058, 6741, 479, 1252, 1353, 3250, 6033, 2197, 77, 2767, 6776, 6453, 3811, 2201, 4613, 6869, 3530, 4314, 4849, 5733, 4963, 6780, 3308, 1256, 2115, 5006, 1537, 384, 6128, 438, 836, 3431, 6239, 5035, 1680, 6291, 2310, 3299, 4097, 3288, 5587, 4597, 208, 5445, 6738, 1760, 420, 289, 873, 73, 5747, 4567, 1127, 6306, 1059, 5994, 3815, 2598, 6379, 6408, 6611, 4742, 3060, 1755, 5456, 4176, 1822, 3397, 150, 251, 6786, 2622, 3581, 4548, 186, 5689, 3057, 817, 2965, 1028, 786, 6417, 951, 2321, 1170, 5640, 2861, 5611, 1081, 1479, 5443, 2964, 4927, 3544, 1245, 1234, 3966, 4583, 5293, 2123, 1749, 6237, 2979, 5524, 1974, 1702, 458, 5104, 5677, 6139, 5446, 3346, 5397, 3734, 6787, 6151, 4229, 4805, 5082, 4623, 2147, 1553, 1051, 749, 6303, 5004, 5825, 1782, 2740, 41, 5443, 4816, 679, 493, 1962, 1807, 3139, 4399, 1418, 916, 4706, 5791, 1074, 480, 6063, 2021, 3969, 3853, 460, 142, 334, 2037, 4570, 438, 1801, 1667, 3503, 295, 3116, 6372, 6037, 2310, 4397, 1809, 6960, 559, 5702, 433, 418, 3351, 5645, 5649, 3954, 6197, 6853, 3167, 6350, 6469, 5048, 51, 558, 1427, 5203, 2737, 2118, 4501, 2325, 5632, 2588, 2615, 6961, 3809, 6053, 3743, 3635, 5805, 3923, 3656, 3605, 2784, 6066, 6091, 6757, 5223, 3322, 6377, 2490, 5808, 3, 1989, 5634, 6215, 4674, 2578, 1294, 4861, 259, 2563, 6337, 216, 2840, 5566, 16, 5227, 4119, 3385, 1277, 4339, 788, 3455, 1550, 246, 2558, 6837, 3980, 272, 4691, 3392, 5983, 573, 1475, 6327, 517, 4602, 2932, 512, 4917, 5177, 3474, 2465, 3668, 2247, 5817, 734, 3596, 2806, 2431, 3385, 6832, 5819, 4731, 983, 3472, 1734, 1978, 1060, 6289, 6206, 4809, 647, 2400, 346, 4503, 1136, 3711, 1129, 2717, 1914, 886, 4141, 6646, 98, 690, 5199, 4553, 5009, 4971, 5088, 408, 3785, 633, 41, 6594, 1687, 778, 2216, 4011, 1038, 1704, 5514, 6620, 533, 4948, 515, 91, 6948, 6362, 778, 3359, 5906, 4445, 3445, 3103, 5673, 6949, 4926, 2589, 2323, 4950, 2771, 2420, 6256, 6444, 2907, 2184, 1302, 5451, 2602, 2684, 6414, 5932, 6233, 4700, 4260, 3875, 403, 2892, 4589, 5695, 4162, 5953, 3838, 5087, 2343, 2735, 6273, 4989, 4613, 1491, 5303, 6877, 6797, 6365, 1726, 3233, 4183, 6452, 1566, 2099, 5154, 1369, 970, 625, 2824, 6233, 3472, 2149, 6995, 3589, 5471, 5106, 2240, 5174, 4279, 581, 4194, 2231, 4669, 1708, 3259, 2938, 6781, 3879, 2475, 2544, 4004, 3178, 6024, 5610, 764, 4807, 5481, 1056, 2283, 55, 2460, 2904, 6790, 986, 2166, 4033, 3789, 4031, 1322, 3226, 6370, 5263, 1046, 867, 4420, 5626, 4083, 2533, 3324, 5658, 4281, 4044, 2927, 310, 4005, 2394, 3568, 754, 3568, 2221, 1685, 443, 4511, 6216, 1039, 4327, 975, 2093, 5517, 2326, 3762, 4262, 6476, 5139, 5468, 872, 1729, 6627, 4457, 2644, 2751, 1021, 5719, 547, 1525, 4419, 4562, 1528, 6189, 5642, 428, 107, 5503, 6482, 6562, 3635, 224, 6932, 3187, 4615, 5372, 2355, 4609, 2593, 1471, 6052, 5403, 6718, 962, 209, 2634, 6585, 3632, 6937, 4202, 5370, 6402, 4117, 6524, 6125, 4383, 5005, 6374, 3623, 2728, 4837, 4192, 1731, 2047, 582, 5367, 5356, 5568, 1425, 5344, 1605, 1857, 2185, 387, 224, 2932, 5800, 5411, 1236, 1465, 6566, 5775, 1984, 5307, 2739, 5723, 3134, 5518, 5105, 5217, 4456, 1698, 290, 4121, 2539, 4404, 2465, 4091, 4760, 651, 4368, 2077, 5376, 265, 702, 6547, 1281, 2554, 4951, 2909, 2724, 5569, 4935, 2721, 5360, 6786, 6942, 2687, 5390, 1866, 1802, 2494, 3887, 3364, 1333, 4944, 5283, 383, 1075, 5917, 4940, 3820, 3596, 802, 2978, 6429, 5091, 5629, 3941, 1345, 1895, 3898, 2089, 1508, 2862, 3953, 2621, 4469, 6981, 3203, 776, 1308, 2672, 218, 6663, 4050, 1275, 5539, 2523, 1354, 2405, 5273, 3375, 2432, 5902, 2321, 2472, 4361, 5318, 2748, 6508, 1568, 6962, 3499, 545, 5255, 3654, 1056, 4482, 681, 1997, 718, 4767, 4523, 454, 674, 3357, 1746, 134, 5189, 100, 3205, 1194, 2639, 1962, 5511, 5850, 1419, 1936, 4729, 6671, 2207, 3421, 4133, 5221, 1037, 738, 1347, 1494, 2525, 3330, 5484, 270, 6060, 4823, 1446, 3442, 696, 4113, 3659, 6241, 2060, 4230, 6632, 2054, 6322, 2515, 4770, 4898, 5809, 5257, 4849, 1499, 2898, 76, 1724, 3505, 5561, 3999, 2011, 2080, 3548, 2472, 1057, 935, 6911, 2205, 4168, 6919, 3208, 4877, 1899, 1858, 2995, 3110, 2076, 3129, 252, 1094, 6661, 4749, 3210, 6212, 5432, 971, 5397, 6463, 4416, 5745, 1428, 5718, 3100, 2464, 4406, 2948, 1590, 1197, 3641, 6864, 5313, 529, 5957, 2524, 811, 1057, 954, 3852, 208, 1054, 4097, 4970, 1948, 700, 6692, 2641, 3536, 1586, 13, 3095, 5699, 1817, 5604, 35, 3192, 5426, 1784, 1585, 753, 6917, 5763, 1610, 5916, 1520, 4207, 68, 583, 4227, 5755, 5033, 2997, 3246, 1875, 4031, 4347, 247, 3884, 2403, 3881, 5892, 5387, 5748, 4094, 529, 4253, 4347, 3283, 903, 3062, 6250, 3048, 3302, 6351, 2719, 4519, 3736, 1296, 351, 3657, 6871, 1473, 3737, 3446, 996, 1364, 6673, 2110, 438, 4061, 984, 1236, 879, 3656, 2869, 3729, 4750, 4167, 1141, 4339, 5066, 3600, 5601, 2017, 867, 242, 3412, 622, 531, 1680, 1901, 49, 6778, 4669, 152, 184, 5805, 648, 5961, 4623, 701, 2673, 2878, 2140, 4175, 4042, 6828, 5153, 3470, 5071, 721, 2019, 5103, 1445, 4630, 1663, 6724, 3583, 364, 5921, 5724, 1740, 1420, 6592, 3269, 1689, 5613, 3996, 4376, 6277, 660, 5473, 4041, 3257, 4678, 2475, 6286, 5078, 6412, 5087, 3425, 5309, 2763, 6883, 3945, 5892, 2315, 1622, 5104, 3724, 2687, 99, 6221, 462, 6097, 5784, 293, 4534, 2820, 4205, 3438, 3618, 3640, 3215, 6879, 398, 4108, 640, 1581, 6530, 4760, 6199, 557, 1265, 6926, 4281, 2548, 5618, 660, 5204, 2959, 6543, 6330, 118, 4665, 6818, 2119, 1194, 2119, 5490, 1956, 4036, 3202, 3800, 2293, 2762, 381, 2632, 1417, 5712, 1416, 5361, 4703, 3113, 5215, 1883, 4010, 1140, 5000, 3942, 5356, 3676, 658, 6421, 3168, 1440, 3968, 2186, 351, 4448, 4817, 1729, 3603, 4836, 6322, 3027, 816, 2774, 1293, 6204, 6749, 5373, 2753, 4014, 6064, 6523, 6485, 3916, 3250, 6323, 3878, 6610, 1754, 2917, 2156, 1085, 5320, 1252, 3108, 6963, 3341, 3385, 5262, 241, 6163, 4266, 5551, 781, 3995, 670, 6827, 6122, 3899, 4221, 1817, 5411, 1690, 2635, 5946, 6173, 5307, 6721, 4591, 4466, 1292, 6857, 1286, 5341, 3406, 3209, 3975, 2868, 221, 3887, 6001, 5090, 3431, 3267, 6139, 3248, 222, 5052, 3627, 2311, 3802, 1686, 4322, 4452, 4947, 242, 4782, 4763, 1824, 3310, 121, 6218, 5755, 2517, 5306, 1967, 5375, 3934, 4909, 5549, 5626, 1059, 1464, 328, 3142, 2484, 4670, 4243, 6897, 2618, 2908, 6202, 2988, 4682, 3152, 892, 3296, 4964, 6925, 4282, 485, 3092, 1661, 113, 3193, 4269, 6978, 4961, 6874, 2872, 2810, 1983, 3646, 107, 697, 776, 3291, 1173, 3253, 5238, 6496, 5522, 5282, 4744, 119, 1661, 3239, 6663, 6540, 444, 4455, 4105, 1758, 2728, 3782, 4866, 1857, 3307, 229, 139, 1179, 309, 6584, 336, 4038, 2505, 1814, 2529, 5150, 6901, 1768, 4082, 763, 1320, 6145, 3851, 3379, 5090, 5094, 114, 5520, 485, 5825, 5906, 4407, 4540, 2989, 5450, 3022, 33, 3458, 6966, 3982, 1039, 705, 1088, 1779, 6057, 2077, 3257, 2883, 3124, 2916, 3681, 3738, 2627, 204, 4090, 4753, 1375, 6854, 338, 1078, 3606, 5873, 2717, 6104, 6915, 480, 1404, 6454, 2013, 4141, 3751, 3881, 2319, 4097, 1512, 2277, 1465, 1123, 3690, 1577, 32, 3460, 3255, 1227, 2951, 6540, 1515, 230, 875, 2956, 6619, 210, 4389, 5663, 6897, 2552, 3888, 3517, 6038, 553, 4946, 6364, 4412, 3478, 5333, 6637, 3714, 2406, 3269, 4931, 990, 1727, 6696, 190, 4617, 3321, 3492, 5170, 5255, 5041, 3690, 4086, 4180, 3284, 3575, 2816, 4349, 3958, 675, 3310, 2954, 6732, 4868, 675, 62, 415, 1648, 4033, 3712, 5609, 3964, 169, 661, 6344, 5507, 5331, 6665, 800, 4584, 3419, 6323, 3232, 2751, 3980, 6282, 4454, 1098, 1087, 3046, 1525, 2138, 4025, 3769, 5495, 3810, 1712, 2060, 1265, 3451, 5156, 5722, 392, 6972, 2146, 2450, 3925, 3157, 6723, 2015, 1654, 6419, 4560, 5968, 1613, 1594, 1343, 1756, 3346, 2123, 5584, 1617, 2025, 5848, 5152, 6121, 6310, 2206, 6097, 4000, 378, 4781, 1327, 5226, 5885, 570, 6584, 2553, 911, 2443, 6939, 6774, 1642, 2547, 4279, 4479, 1726, 3280, 1979, 2375, 4178, 6890, 987, 5753, 77, 1776, 5983, 4416, 3779, 1463, 70, 6422, 4958, 1169, 5420, 3354, 1431, 3718, 4515, 1587, 6748, 1006, 6238, 102, 4481, 3084, 4532, 2461, 439, 3380, 5265, 5436, 6078, 4071, 6054, 2379, 4195, 6063, 5424, 2915, 6024, 3384, 4483, 334, 274, 3109, 1988, 3009, 1808, 5432, 184, 6351, 6189, 3730, 2451, 6817, 4788, 6472, 6861, 1390, 6949, 6367, 4542, 2737, 4970, 940, 6343, 2739, 5757, 6105, 5845, 4664, 3305, 2104, 5836, 4338, 37, 6296, 1551, 5377, 3722, 1307, 6840, 5949, 62, 1438, 4378, 5146, 6344, 6626, 5622, 2189, 3409, 6610, 6212, 4584, 5157, 3533, 3128, 4078, 6152, 2848, 6770, 1702, 6728, 5317, 2728, 4277, 4030, 3000, 204, 2676, 4677, 5477, 6017, 5682, 1777, 6494, 43, 2269, 5224, 4600, 3589, 6922, 2635, 809, 768, 6027, 3256, 2911, 814, 6561, 1108, 1256, 3399, 961, 3477, 2962, 4703, 3879, 965, 4705, 1862, 5888, 4598, 1486, 1974, 945, 4455, 2169, 5944, 541, 4733, 4363, 505, 4070, 4390, 4909, 154, 5477, 4990, 3075, 5677, 48, 6996, 6070, 4838, 1586, 4950, 1233, 2217, 2268, 5823, 1189, 872, 792, 5434, 1549, 3885, 4834, 5146, 1750, 3580, 5226, 6002, 4638, 5489, 1860, 5073, 926, 1723, 1395, 5344, 3099, 2811, 4629, 6180, 165, 2719, 2192, 6551, 2640, 1430, 4995, 2554, 5302, 3487, 4341, 659, 1611, 6555, 3868, 2924, 5770, 4936, 1734, 1097, 4629, 6410, 6616, 2228, 2495, 4805, 4243, 5339, 5700, 4979, 1435, 117, 3396, 4395, 3293, 4147, 3230, 334, 1715, 5679, 2494, 2090, 6368, 4467, 6337, 2189, 789, 5682, 3843, 3168, 3727, 562, 6126, 3919, 4316, 1564, 2170, 1055, 6284, 4140, 5635, 412, 2335, 6730, 6460, 2336, 212, 2487, 1067, 4078, 6058, 5684, 101, 6680, 5624, 4811, 6875, 2264, 343, 4701, 6397, 53, 1968, 1404, 1969, 2386, 3352, 937, 6406, 6457, 3036, 893, 5552, 3683, 4109, 3663, 593, 6372, 6449, 3861, 1411, 1076, 5456, 3430, 6766, 5228, 6063, 2089, 6607, 861, 2990, 2393, 1915, 4054, 4671, 5282, 2957, 2397, 2117, 6959, 2685, 2885, 4175, 3970, 4881, 5359, 1130, 6965, 1011, 1445, 3696, 1899, 6706, 6604, 549, 3155, 2699, 1710, 6902, 419, 1761, 6859, 5904, 3944, 1555, 1544, 4715, 3059, 3994, 5099, 1384, 753, 6700, 507, 149, 4221, 1083, 5867, 3357, 4320, 3423, 6504, 5172, 4779, 3395, 1354, 1513, 5645, 4702, 3170, 1991, 800, 6635, 5522, 2121, 921, 5422, 2086, 4001, 6926, 344, 2143, 3695, 3615, 2286, 6555, 5455, 834, 5031, 3489, 5975, 2355, 1516, 906, 5995, 4880, 3000, 3336, 2432, 6055, 5918, 452, 4940, 4363, 3274, 5174, 759, 5792, 881, 6505, 6804, 1370, 412, 1819, 6754, 1496, 6217, 3148, 890, 6351, 6305, 4935, 4674, 3361, 2129, 5803, 4943, 2148, 2585, 1270, 2299, 1384, 607, 2531, 1377, 3656, 5378, 6473, 5103, 5358, 95, 6056, 3074, 58, 1219, 5947, 3008, 4518, 5502, 6576, 3952, 3714, 1701, 4569, 3563, 5595, 5633, 5504, 3541, 6031, 5692, 6208, 5752, 6996, 2518, 6154, 5978, 4018, 1710, 4693, 1682, 5060, 568, 2884, 922, 6119, 6610, 3555, 1863, 2294, 3930, 724, 1121, 5031, 2835, 2834, 4237, 6063, 4405, 6186, 4920, 5312, 2448, 1337, 889, 6879, 4403, 6966, 4764, 4560, 6336, 3112, 4291, 3973, 1474, 2732, 1749, 3345, 2369, 2670, 2263, 3427, 2562, 794, 5091, 832, 6418, 5453, 4939, 4698, 1393, 1726, 4387, 5405, 4782, 4099, 2818, 6715, 4250, 4890, 3008, 6080, 4180, 4133, 4517, 4345, 2805, 5673, 1022, 5462, 2333, 2994, 6268, 4342, 3838, 3507, 5776, 1, 1058, 6700, 2256, 6217, 459, 785, 5442, 4428, 3967, 821, 3794, 4165, 2288, 1027, 6566, 1236, 3589, 1896, 3897, 5121, 4591, 1427, 3976, 1232, 5538, 2643, 998, 6812, 5068, 6818, 3064, 6722, 1048, 2603, 1331, 5146, 6830, 5644, 4908, 6654, 2972, 6967, 5537, 1781, 2361, 2126, 2731, 2184, 3504, 160, 4274, 1229, 298, 3447, 311, 150, 2402, 5214, 2314, 1499, 167, 2344, 3566, 3838, 5258, 282, 5883, 3700, 966, 3259, 1943, 2352, 1119, 520, 5984, 1932, 4386, 6851, 303, 3665, 4193, 1413, 3957, 3649, 3009, 3625, 3532, 6515, 2072, 3435, 6026, 5584, 1778, 117, 727, 4450, 1304, 233, 4657, 3527, 2967, 4715, 47, 161, 3605, 148, 3119, 105, 1273, 743, 3534, 1826, 3341, 5009, 2937, 5502, 987, 2990, 3268, 5110, 6285, 6222, 6846, 2265, 2023, 4894, 382, 6991, 3889, 1285, 5564, 6022, 5065, 2907, 6703, 3856, 6191, 3551, 3547, 5648, 6458, 3779, 1968, 3006, 258, 4951, 2516, 3461, 1171, 6369, 4870, 3739, 6833, 6046, 4163, 4214, 3317, 203, 5584, 5425, 1181, 5233, 6736, 2734, 4486, 6916, 1457, 5398, 5537, 4504, 318, 3164, 6330, 3192, 1047, 5633, 3773, 950, 2067, 1995, 5639, 5024, 463, 213, 834, 6121, 6695, 5613, 6091, 4923, 5673, 6720, 4533, 491, 5309, 1921, 264, 1523, 1716, 6864, 5364, 6036, 3311, 6934, 6230, 1761, 605, 1563, 3331, 1654, 4085, 2269, 4674, 2741, 2987, 3296, 4388, 4806, 5167, 2207, 2669, 5752, 2705, 3695, 1130, 1902, 1629, 5943, 5573, 6988, 3781, 1426, 5339, 5031, 5050, 1997, 6422, 3334, 5668, 5722, 4025, 1479, 1944, 3931, 629, 2872, 4759, 4051, 6254, 3120, 2808, 3993, 4203, 3508, 4702, 1020, 1982, 5628, 6296, 5169, 6573, 480, 4875, 3343, 85, 807, 253, 2614, 5569, 301, 6437, 4215, 3950, 5637, 1665, 1950, 5266, 6408, 1757, 6800, 2196, 328, 819, 232, 3715, 3129, 5278, 2448, 2263, 1672, 1249, 2408, 2809, 6724, 1767, 2941, 5323, 3772, 4846, 2664, 2621, 6737, 2182, 3201, 6204, 4765, 3453, 2687, 6091, 5033, 3758, 1626, 3145, 5211, 2288, 4150, 6528, 6737, 3115, 6341, 38, 4327, 4885, 3604, 1418, 2405, 4292, 6198, 2625, 3677, 2325, 892, 4305, 5535, 2201, 4544, 1586, 3689, 3499, 1260, 6292, 4040, 350, 1673, 4827, 4717, 5014, 5322, 1287, 74, 251, 2476, 6980, 318, 2712, 6945, 5631, 756, 118, 4597, 144, 1178, 3902, 6341, 147, 43, 5232, 2042, 3680, 5535, 2966, 6803, 6295, 4527, 6517, 2618, 1439, 2364, 3095, 4822, 4102, 5989, 1788, 2306, 3278, 6971, 4131, 3203, 5362, 6306, 344, 6303, 6222, 5501, 4650, 5214, 6065, 359, 3570, 1669, 643, 6732, 4009, 6861, 3840, 6112, 6605, 4367, 590, 1507, 1813, 5111, 5010, 4382, 1300, 106, 1023, 3685, 2205, 5779, 5604, 4013, 940, 4548, 4842, 6502, 2472, 6796, 2667, 1637, 4626, 537, 4648, 4381, 6267, 3813, 2034, 5906, 3387, 585, 632, 2766, 4887, 4324, 6902, 628, 4588, 6334, 3689, 3158, 6428, 3411, 3884, 3992, 208, 6328, 3970, 1890, 2735, 3172, 6226, 3197, 6804, 5294, 4752, 4740, 1431, 3579, 86, 4110, 6633, 861, 1820, 4342, 3320, 4417, 4509, 2219, 6543, 6388, 2136, 6723, 3933, 849, 477, 6812, 5857, 3251, 3178, 799, 6340, 2177, 4645, 1821, 5049, 5868, 5275, 2335, 6303, 864, 5761, 6572, 5566, 5595, 2738, 4755, 1415, 5169, 3505, 1802, 1674, 6881, 281, 1733, 2073, 3483, 1645, 6938, 926, 1119, 2393, 5016, 277, 983, 6226, 4732, 2732, 1179, 477, 6991, 5183, 4144, 1643, 2141, 5692, 1738, 75, 1522, 5191, 3108, 1089, 6591, 3911, 4365, 4546, 2148, 4952, 3927, 6937, 6580, 533, 1831, 3535, 4807, 2335, 1728, 4579, 3414, 5076, 3026, 6656, 1747, 263, 6208, 1960, 5097, 193, 4355, 491, 4177, 4852, 5860, 3974, 6540, 559, 3490, 5084, 796, 394, 531, 5224, 973, 1140, 6968, 5924, 2705, 5345, 5022, 5417, 2198, 860, 345, 3800, 2572, 1167, 1765, 2888, 6076, 5279, 6691, 3556, 586, 4338, 533, 337, 3775, 6273, 6545, 150, 5051, 6177, 5910, 5573, 563, 650, 4659, 1640, 4933, 589, 177, 4974, 5840, 1934, 5054, 2466, 5500, 5662, 3056, 2691, 5762, 5609, 1918, 6417, 4697, 6021, 5261, 2258, 2971, 5059, 6848, 2206, 6241, 4482, 583, 6235, 5554, 2579, 4619, 4003, 5105, 436, 4509, 5341, 3501, 4891, 2786, 2836, 3150, 5936, 2746, 3335, 3527, 1559, 5170, 5000, 6800, 3493, 1116, 3379, 2499, 4045, 1939, 1591, 3561, 3119, 2985, 4046, 6585, 906, 6788, 665, 3190, 199, 3378, 5758, 6514, 4309, 2692, 4411, 4816, 5827, 5800, 2992, 3731, 5480, 3967, 5133, 2302, 2306, 4650, 5491, 244, 3454, 2495, 360, 109, 6060, 1018, 2523, 2479, 968, 934, 3298, 2625, 266, 1375, 2669, 4166, 4179, 6735, 400, 794, 1020, 5273, 5541, 4449, 1712, 5920, 3942, 923, 2607, 4500, 1641, 3155, 4516, 2873, 4510, 5749, 5558, 5503, 6347, 1960, 6337, 2426, 5496, 4007, 4449, 3381, 2005, 672, 6108, 6924, 3014, 4510, 2097, 4205, 6323, 144, 6040, 1494, 6170, 2474, 3410, 6194, 5235, 1171, 5585, 1474, 3442, 6922, 5401, 6253, 1433, 4893, 5621, 1558, 6774, 4757, 4058, 1138, 4998, 814, 2792, 1144, 5606, 2151, 2821, 4922, 2529, 5025, 3847, 4928, 93, 1564, 3836, 3100, 6948, 641, 1779, 3887, 3510, 435, 3390, 276, 4113, 5221, 2215, 2467, 3501, 24, 5827, 3141, 939, 4191, 4535, 5151, 1463, 806, 2048, 6154, 478, 1844, 4280, 931, 1291, 6158, 973, 3544, 4960, 6499, 3057, 1592, 2248, 5743, 3687, 3012, 1718, 532, 1150, 1547, 6040, 6887, 3946, 1062, 1838, 3202, 6861, 2179, 2557, 2748, 1290, 6844, 1311, 2063, 2397, 6898, 1860, 1562, 459, 4136, 2158, 184, 2075, 5957, 1115, 2691, 1527, 4459, 6553, 2297, 3360, 348, 4925, 468, 2477, 6007, 5079, 3969, 655, 4314, 6109, 4055, 5526, 4696, 6973, 3277, 3132, 1423, 5932, 1852, 2521, 3913, 5370, 1305, 1027, 6022, 5788, 5506, 4880, 2946, 2362, 2567, 1446, 5081, 4108, 5744, 545, 5901, 6641, 6620, 514, 4368, 2175, 4431, 6657, 5912, 4846, 3119, 1621, 1672, 5266, 61, 5174, 3673, 5875, 1700, 3416, 6473, 3253, 3323, 283, 6622, 5524, 4890, 2333, 5767, 3354, 6125, 4021, 153, 174, 17, 4136, 4265, 5321, 6132, 3050, 303, 3844, 3609, 3732, 4869, 1382, 3983, 4826, 136, 2881, 5733, 6258, 2425, 389, 779, 6646, 764, 5879, 5979, 1530, 2737, 2538, 6720, 2519, 1821, 6392, 4240, 4597, 5258, 2259, 3084, 5721, 4136, 6903, 3986, 5656, 3682, 1717, 5659, 1963, 6320, 2874, 2931, 5587, 2430, 391, 166, 1467, 5498, 1964, 1859, 5943, 3902, 3009, 737, 3940, 1466, 5477, 6807, 1477, 4374, 2339, 2092, 5717, 5997, 5498, 6856, 2084, 2249, 3551, 1889, 4399, 1818, 1279, 4653, 3567, 5643, 2097, 5878, 819, 4839, 66, 1271, 5453, 6114, 2246, 1833, 6328, 5963, 2305, 291, 5243, 6717, 4559, 3922, 6009, 4727, 1997, 5918, 2604, 1146, 1087, 1880, 453, 3629, 5637, 770, 1194, 1124, 6267, 2899, 2236, 2088, 2708, 3873, 5310, 4644, 3344, 6716, 3499, 3127, 4935, 3328, 1288, 2663, 5672, 2534, 2305, 2008, 1795, 1116, 475, 6259, 144, 6108, 3017, 6504, 207, 5222, 947, 2211, 1061, 2079, 6125, 5747, 50, 6342, 5989, 3707, 333, 399, 5457, 4448, 5268, 2829, 3178, 6699, 1056, 4150, 2212, 5607, 5110, 4025, 1538, 6675, 1330, 6838, 2531, 2442, 5194, 4723, 4653, 698, 4497, 6489, 3431, 6038, 2900, 5628, 2387, 3451, 2351, 2440, 6729, 3104, 1540, 6639, 6041, 6122, 4071, 1246, 1026, 2162, 515, 5289, 3242, 2726, 6895, 3764, 1330, 3157, 3070, 2535, 6971, 3026, 428, 4638, 4775, 3316, 3333, 5180, 493, 1871, 4543, 6491, 3321, 7, 5243, 6830, 2850, 3950, 2286, 3427, 471, 2041, 3367, 3219, 522, 5670, 5542, 502, 3520, 4442, 5510, 656, 2867, 3042, 2675, 5235, 509, 2906, 4892, 5905, 1291, 521, 1000, 1036, 1719, 2831, 3719, 4443, 5089, 722, 6900, 1782, 4141, 2378, 977, 482, 3735, 3457, 4713, 6180, 1405, 5069, 2636, 1041, 6634, 1518, 1740, 6376, 3347, 5413, 2295, 4014, 5324, 2616, 5, 6074, 4295, 611, 263, 2265, 3714, 6559, 5897, 5759, 2400, 2561, 4760, 3463, 2357, 5624, 4689, 3257, 4873, 1853, 1371, 5700, 6758, 4716, 1147, 1688, 126, 5865, 2945, 65, 5225, 241, 4595, 2341, 3957, 1634, 4299, 6694, 4354, 2773, 3289, 1799, 2613, 2655, 345, 2629, 3979, 3751, 4966, 4195, 1239, 4812, 140, 6929, 1853, 3345, 5412, 4840, 935, 470, 903, 5428, 5051, 2321, 6361, 178, 1114, 2222, 1278, 2843, 5715, 288, 2036, 2948, 3783, 4233, 1270, 6781, 3974, 6273, 4340, 3755, 2835, 6208, 5877, 1159, 6448, 5608, 3105, 3676, 4077, 3240, 6720, 4845, 505, 6942, 1513, 875, 2199, 3329, 2549, 6689, 6743, 6223, 5235, 4990, 503, 5911, 1208, 4958, 1370, 2747, 1068, 2232, 6819, 1828, 1191, 4322, 3081, 2890, 4098, 3455, 2169, 2987, 6671, 1472, 1024, 1152, 5771, 6980, 651, 3738, 2041, 3946, 3005, 1524, 48, 4985, 2808, 2391, 5731, 6638, 4313, 1058, 1844, 1017, 4279, 5515, 6358, 1761, 5798, 1874, 5024, 2403, 6495, 4642, 2000, 1265, 6334, 154, 1188, 5162, 224, 1984, 797, 4435, 188, 1074, 2778, 6178, 3453, 4395, 3895, 113, 4346, 2150, 2251, 3591, 5260, 2256, 920, 3409, 4465, 2982, 3639, 5179, 6785, 4308, 5245, 4096, 5073, 2074, 5879, 3615, 1186, 1462, 420, 3561, 4664, 2831, 2105, 1107, 6761, 883, 5960, 2315, 4120, 4679, 64, 3204, 6488, 1833, 4040, 1627, 1796, 1833, 6622, 4166, 4024, 4298, 3534, 2505, 4310, 271, 5550, 6370, 4053, 877, 1116, 1548, 988, 1880, 5399, 6406, 3145, 166, 62, 4822, 5773, 6366, 1603, 4268, 3691, 6504, 4470, 2327, 1142, 2117, 1897, 5627, 2872, 679, 567, 301, 2570, 1186, 5111, 3292, 1329, 1016, 6260, 4162, 3892, 3306, 1596, 329, 6431, 4414, 4389, 4431, 661, 3576, 3747, 2936, 5184, 2261, 406, 2166, 5283, 3693, 4497, 3435, 599, 5457, 4848, 514, 1304, 4249, 2964, 51, 2778, 3913, 3783, 6275, 4257, 5079, 6798, 2226, 6387, 4766, 6065, 338, 2714, 5164, 3560, 5166, 644, 5297, 2486, 6104, 504, 1528, 1773, 3708, 712, 4076, 3379, 4782, 4218, 2062, 4086, 2363, 3289, 3426, 3791, 1249, 4258, 1476, 5399, 5880, 3133, 5657, 6627, 6460, 137, 3720, 1001, 5883, 4366, 2784, 2777, 3095, 1482, 1634, 1447, 4551, 1762, 6069, 2538, 3653, 3787, 5372, 5394, 2640, 6740, 2817, 1578, 5307, 2837, 4758, 4241, 3915, 658, 1190, 3417, 2131, 3070, 1441, 1891, 2753, 403, 5078, 4663, 2403, 1859, 5575, 1697, 1849, 621, 3291, 218, 131, 4081, 5533, 2321, 131, 4918, 4600, 4344, 6659, 1025, 5644, 1441, 5357, 3891, 6397, 226, 5724, 3546, 427, 5001, 262, 1870, 1145, 6324, 897, 5616, 1581, 6970, 5516, 4200, 5894, 2881, 3577, 60, 2571, 1916, 3396, 547, 799, 1973, 6359, 1127, 5773, 4463, 6968, 3104, 6985, 314, 5850, 3865, 2484, 5623, 902, 2563, 5395, 2109, 935, 472, 2365, 2341, 4137, 736, 3417, 4531, 4532, 5474, 6532, 5956, 4023, 689, 5402, 3322, 4017, 3451, 4295, 6156, 528, 6246, 347, 6080, 1466, 2061, 2901, 3448, 6346, 2297, 5648, 3826, 5185, 5574, 1958, 2336, 4813, 6926, 1581, 1800, 3827, 3872, 5382, 2102, 6147, 1414, 1772, 4224, 249, 367, 575, 5942, 1455, 359, 2871, 3623, 1059, 4352, 6324, 3073, 2665, 227, 441, 6339, 1955, 314, 2587, 5426, 1201, 4726, 2866, 255, 4300, 6820, 2166, 3244, 3002, 3288, 4955, 3696, 1744, 1506, 1836, 5527, 4334, 6823, 1691, 1709, 1589, 6836, 6399, 629, 4612, 1742, 2489, 6728, 6622, 5614, 5425, 5374, 5725, 3174, 6907, 984, 44, 5455, 6054, 4659, 3479, 4519, 4696, 1260, 473, 3682, 3599, 2595, 6735, 6922, 963, 592, 5886, 3967, 4643, 2133, 4709, 336, 5953, 5958, 6312, 3107, 5951, 3687, 6963, 1821, 3526, 2446, 1613, 4039, 5728, 3624, 4869, 1538, 6436, 5347, 1407, 3028, 5607, 5066, 4135, 1632, 635, 1627, 6014, 2298, 2776, 1901, 5445, 462, 1402, 4292, 4328, 5734, 6421, 6142, 1700, 1106, 3945, 1990, 6837, 3105, 5024, 4981, 850, 5558, 6221, 1365, 2470, 2528, 160, 6070, 3736, 1524, 552, 4706, 3856, 715, 3469, 620, 6934, 306, 1446, 6012, 1011, 1383, 48, 3988, 2330, 4384, 1988, 3765, 6362, 1226, 3495, 3553, 3350, 3290, 3979, 398, 2388, 2932, 1767, 4553, 3074, 3768, 6388, 2729, 5615, 2878, 218, 246, 491, 2694, 3181, 86, 5379, 1402, 1825, 357, 532, 3694, 5943, 942, 6623, 1573, 4374, 3123, 4212, 5248, 3607, 2100, 6892, 1869, 2382, 5136, 586, 5896, 1754, 6737, 5029, 4859, 5896, 1630, 1680, 1771, 6176, 5982, 1876, 4730, 1864, 4769, 223, 4882, 6082, 5915, 6015, 3867, 457, 531, 4261, 3290, 4522, 2209, 4407, 6813, 4422, 1527, 1078, 6170, 3068, 6638, 5646, 34, 6948, 4648, 2080, 2829, 2102, 4875, 3511, 4380, 2543, 6980, 4354, 4343, 5566, 6328, 2715, 4813, 5187, 985, 3772, 6583, 1405, 6194, 6299, 6563, 4243, 2269, 1381, 6992, 4654, 1174, 4877, 2563, 2883, 3258, 6824, 3042, 4381, 1755, 4108, 1741, 1098, 68, 5556, 3140, 2732, 3557, 3631, 6105, 5008, 4193, 2169, 3073, 3505, 3802, 2361, 3162, 585, 1934, 1830, 2093, 1335, 2302, 2396, 6687, 15, 302, 4610, 2794, 637, 4796, 6596, 1504, 5290, 588, 6893, 5225, 73, 3239, 5834, 2684, 3890, 1657, 495, 3110, 4101, 992, 2812, 2432, 6165, 6101, 3687, 6912, 5640, 1067, 4954, 3609, 4625, 5406, 4759, 1542, 933, 5634, 4229, 5998, 1723, 2798, 2046, 986, 744, 2362, 6297, 1243, 657, 352, 6005, 6933, 4104, 5226, 5316, 5187, 293, 6963, 2412, 5833, 4544, 6648, 4289, 3147, 1256, 571, 5158, 2839, 3982, 5086, 5512, 5219, 4872, 1028, 2049, 3479, 1188, 4981, 6108, 875, 5844, 6107, 3839, 1195, 4601, 6292, 2594, 4721, 905, 2837, 1985, 3550, 5961, 1021, 1609, 6657, 3170, 2870, 5011, 1023, 6145, 1202, 1328, 3972, 6118, 5147, 3003, 547, 2389, 6795, 4285, 310, 3014, 3130, 2101, 3360, 3731, 1160, 3857, 1681, 946, 1511, 2986, 1683, 5595, 2757, 2387, 2212, 3052, 6381, 3926, 1848, 6860, 6302, 1810, 4220, 1217, 6827, 1131, 1395, 4899, 1628, 3981, 1061, 1174, 2018, 1656, 422, 849, 5973, 1271, 5172, 4136, 4580, 4579, 4383, 3636, 1720, 2503, 5421, 44, 4707, 4212, 2172, 1406, 2874, 1727, 2524, 6873, 6417, 3443, 2703, 2930, 3962, 1277, 5530, 1228, 1773, 5757, 4514, 5980, 5095, 2520, 6285, 5217, 1747, 767, 1123, 3553, 5812, 6381, 3709, 697, 4533, 4820, 2802, 2935, 1966, 6052, 1383, 3658, 5776, 1953, 5659, 4655, 1618, 4189, 6025, 3934, 2414, 3803, 4632, 3114, 778, 6504, 5040, 5978, 2481, 6476, 1477, 1397, 3878, 3123, 4614, 3465, 4518, 5798, 4244, 1612, 1283, 1776, 2883, 5514, 1824, 1413, 188, 1756, 3835, 4387, 2536, 4089, 3163, 5095, 2854, 5742, 4536, 6754, 3869, 6947, 6534, 323, 3662, 1876, 3175, 6623, 3675, 5720, 2481, 2814, 5402, 6464, 3203, 3285, 4865, 690, 5808, 2230, 6861, 1999, 1250, 5315, 3556, 6945, 464, 4605, 811, 5517, 4587, 345, 6555, 4599, 215, 3546, 4924, 6705, 5851, 3729, 2566, 6582, 2395, 5331, 4348, 1588, 308, 3593, 4751, 5155, 6036, 6315, 302, 5124, 877, 1283, 638, 4893, 3005, 4750, 4921, 503, 732, 3634, 5423, 2319, 3181, 1284, 1263, 1659, 4808, 5442, 6171, 4264, 5722, 6890, 4062, 2508, 2779, 3680, 1065, 6074, 1840, 2704, 3924, 5374, 1775, 5330, 3426, 6858, 4992, 3826, 2649, 3326, 6604, 6775, 6433, 1226, 1201, 6622, 6492, 2845, 3400, 2792, 2452, 3614, 730, 2405, 5665, 2915, 965, 6285, 5067, 1198, 6316, 4647, 4294, 6727, 141, 5140, 2828, 3319, 1399, 4303, 2777, 1295, 6643, 2085, 3362, 651, 2038, 4078, 5654, 2938, 5220, 767, 4566, 5241, 5218, 5667, 3784, 95, 4835, 4388, 6211, 6278, 4566, 1195, 1209, 1380, 4986, 418, 5047, 2793, 3450, 2353, 2770, 4874, 6123, 3799, 4580, 2111, 5062, 5881, 5192, 801, 5281, 2149, 3529, 5984, 1053, 4204, 121, 6159, 4248, 734, 3534, 3191, 5611, 2290, 2931, 6702, 680, 4149, 1872, 3764, 2221, 3207, 840, 3894, 830, 6345, 1013, 40, 3493, 1453, 2420, 2599, 3700, 2832, 2028, 5371, 1542, 725, 1183, 4402, 5760, 3176, 4274, 2816, 5583, 3238, 3685, 4178, 5672, 1210, 4796, 4223, 2141, 4465, 6080, 5106, 634, 5830, 4562, 5020, 4074, 4586, 2114, 2921, 3915, 2861, 2100, 2053, 5656, 1631, 3484, 5104, 1284, 1645, 3890, 6470, 2241, 740, 4664, 2633, 5530, 4716, 2754, 6826, 2967, 2758, 5046, 5268, 3307, 4022, 2350, 2198, 4442, 2212, 1097, 4933, 5913, 3508, 6959, 5147, 6266, 6953, 5948, 278, 3158, 6082, 1775, 5314, 1605, 1351, 3235, 6890, 3799, 6673, 5511, 422, 1763, 1911, 1922, 2534, 2917, 5326, 413, 5406, 4843, 2053, 3928, 6381, 3734, 3458, 3532, 3067, 3545, 572, 5511, 4968, 148, 4748, 5249, 6840, 5534, 2546, 5090, 6196, 4561, 3786, 1642, 4908, 2590, 147, 3412, 2755, 1800, 4306, 6305, 2387, 5817, 2982, 2811, 1787, 6936, 5022, 4830, 3061, 6464, 3825, 2233, 4798, 3496, 5163, 4058, 4604, 6440, 885, 296, 5459, 1942, 6156, 4841, 604, 4594, 5784, 3930, 3971, 856, 4840, 3114, 6010, 2055, 2679, 6966, 3594, 4911, 3050, 5285, 4545, 504, 397, 5965, 1595, 2890, 991, 4061, 2479, 2264, 6302, 3736, 5115, 3149, 4575, 5043, 76, 5716, 1847, 1411, 474, 4160, 4581, 6116, 6025, 4049, 2864, 5429, 4888, 6386, 835, 3826, 3680, 577, 1719, 5463, 236, 1042, 3000, 5126, 5906, 5400, 6494, 1951, 5861, 2913, 42, 4158, 3829, 3831, 1134, 5417, 944, 1028, 2333, 5936, 3308, 1710, 2730, 6186, 2360, 4741, 4210, 4547, 3507, 3760, 6483, 4292, 1892, 180, 1273, 6758, 3382, 6074, 3849, 6189, 4782, 4700, 5159, 5296, 5704, 3424, 1522, 2922, 4688, 5007, 1334, 4528, 2969, 3524, 616, 4734, 5849, 1657, 3014, 328, 5070, 5602, 5272, 4885, 2163, 171, 2611, 3068, 2315, 4346, 746, 4949, 6225, 991, 3221, 4320, 2532, 6759, 3485, 6882, 238, 2494, 4001, 5335, 4819, 2139, 5394, 3403, 4546, 169, 4476, 4835, 4722, 5326, 780, 334, 3932, 4168, 2195, 446, 5161, 5492, 2193, 6923, 5407, 2289, 1722, 4037, 1483, 4407, 6521, 5356, 1217, 5693, 5025, 3051, 6494, 3481, 1763, 3255, 3812, 3894, 1240, 3253, 214, 1948, 1881, 5853, 587, 5892, 2059, 6334, 6503, 3992, 635, 53, 6373, 1898, 557, 3292, 729, 133, 4004, 6064, 5796, 6601, 5893, 4694, 1497, 4159, 2647, 5097, 4640, 4149, 2655, 4203, 4314, 367, 6192, 5821, 1495, 3335, 2132, 6238, 4571, 4176, 849, 4987, 1944, 1468, 919, 279, 2386, 4804, 5796, 6217, 4362, 3731, 3565, 1496, 5228, 2859, 5369, 4191, 5646, 3407, 2742, 3769, 27, 5142, 6533, 4435, 1579, 357, 1042, 6037, 3797, 769, 5586, 6513, 3218, 5054, 2920, 1643, 2622, 3965, 719, 250, 213, 5997, 2554, 5630, 4638, 4587, 1276, 1855, 176, 1660, 6630, 2055, 4636, 6924, 5248, 3808, 1851, 6005, 2645, 387, 4122, 3896, 2374, 1306, 432, 1157, 4545, 4498, 1195, 5805, 4708, 3851, 2281, 3790, 6484, 1111, 6336, 5547, 4140, 2748, 6327, 4040, 174, 702, 3104, 2869, 6747, 4868, 571, 6382, 483, 2986, 2361, 5188, 2766, 3097, 3353, 4566, 5321, 703, 1461, 5655, 203, 4757, 1348, 2313, 3703, 6711, 1223, 23, 2571, 6826, 5160, 6957, 458, 5234, 3197, 10, 2905, 3686, 4873, 1355, 3340, 1841, 3410, 312, 6348, 2478, 1981, 1809, 1237, 5527, 4991, 1193, 1269, 4416, 4157, 6640, 3552, 5953, 1094, 6097, 6556, 95, 5740, 2124, 2656, 1602, 6699, 1784, 895, 439, 2799, 4615, 6824, 6023, 5375, 2609, 5503, 3804, 2805, 2575, 2671, 5834, 1950, 2664, 6483, 4218, 1353, 600, 1583, 3997, 3507, 5582, 6072, 3088, 4123, 1495, 703, 3581, 6835, 1422, 780, 895, 3039, 5098, 1492, 4378, 1895, 4959, 3535, 1222, 2390, 5816, 57, 2693, 5937, 486, 6514, 6691, 6408, 4741, 5093, 6528, 805, 3473, 4673, 5255, 2138, 3882, 427, 866, 3344, 6443, 5303, 5045, 2814, 5232, 5063, 4440, 1245, 1473, 2796, 6254, 1196, 1207, 4453, 2736, 2809, 5967, 5942, 4078, 3100, 5652, 5668, 6130, 4081, 6548, 1552, 1445, 2496, 29, 1963, 2658, 1253, 5298, 6675, 1184, 6633, 4536, 4574, 2678, 6277, 6555, 6362, 1679, 2388, 5627, 2638, 3049, 1828, 1671, 4007, 6263, 466, 479, 2368, 4167, 4862, 1693, 1305, 6102, 5370, 4304, 1248, 3634, 3143, 54, 4786, 358, 6597, 1987, 6819, 842, 1082, 198, 2652, 1041, 4471, 1598, 2967, 4413, 4199, 1080, 3970, 6094, 2759, 2576, 2411, 4686, 2476, 2334, 3386, 4820, 6818, 4590, 1744, 2429, 4337, 4065, 3388, 6133, 2620, 2755, 5756, 6548, 2391, 3041, 3306, 4823, 2696, 1850, 5247, 1307, 6044, 3758, 5392, 1165, 3187, 4623, 2421, 3800, 5050, 2677, 6423, 4738, 6071, 4578, 1398, 3087, 3962, 261, 6629, 357, 3590, 2428, 6336, 4749, 3624, 4239, 257, 6384, 953, 5269, 1906, 4112, 4681, 1599, 1199, 320, 1822, 1338, 3945, 2932, 6728, 1255, 4317, 1942, 6717, 4835, 144, 6969, 655, 4059, 3626, 614, 4280, 3513, 2913, 2115, 6783, 5394, 4311, 2768, 4254, 5505, 663, 37, 4258, 2276, 1743, 4308, 3438, 3147, 5589, 2893, 6755, 1930, 2634, 620, 446, 4043, 1139, 1154, 2706, 3056, 1271, 4630, 32, 5079, 4102, 6370, 5771, 2431, 5370, 6841, 335, 3384, 1441, 4820, 2045, 6016, 5369, 4883, 876, 5440, 4846, 2006, 4945, 4199, 3415, 5940, 969, 2500, 917, 1333, 5790, 5118, 2889, 3491, 1832, 944, 5882, 3491, 1586, 2392, 4805, 6295, 4107, 705, 1972, 913, 259, 2662, 470, 996, 4705, 1566, 5192, 320, 1211, 6402, 2128, 331, 5001, 6985, 4253, 5943, 2442, 2102, 6639, 4641, 3209, 2483, 2736, 3184, 1564, 5806, 4219, 1503, 1989, 5625, 6603, 122, 908, 1475, 104, 6426, 4290, 3948, 2790, 2044, 2549, 3504, 4400, 233, 331, 307, 705, 4818, 5108, 2580, 6301, 5034, 902, 4127, 3373, 6123, 181, 3296, 6268, 5226, 1775, 6489, 4450, 1180, 3277, 6320, 5755, 191, 3268, 3668, 29, 6181, 2090, 1094, 5185, 481, 6755, 4759, 4653, 1387, 3652, 642, 1396, 5108, 982, 2185, 2809, 1229, 6178, 2957, 4234, 5326, 682, 954, 1579, 4075, 2508, 5049, 6048, 4974, 4625, 5274, 6823, 2801, 681, 3115, 5626, 1447, 2507, 3304, 2905, 3674, 5658, 1534, 6604, 6375, 6065, 6466, 6450, 4923, 4285, 4150, 2932, 4199, 1066, 1676, 4362, 1020, 4950, 4010, 667, 645, 3210, 2025, 4328, 2459, 1056, 4260, 1055, 2679, 1091, 2028, 6009, 475, 5129, 621, 752, 4592, 6802, 1751, 4941, 2094, 4633, 3286, 5807, 4233, 1162, 6189, 4991, 3768, 2076, 501, 2973, 4115, 1678, 5591, 3094, 3612, 6039, 1565, 1110, 3750, 6464, 2697, 1694, 953, 4338, 631, 1386, 4304, 4530, 2048, 5795, 4900, 5284, 6398, 6815, 4968, 1543, 187, 6248, 4930, 2421, 2305, 5260, 4368, 1315, 6408, 165, 3913, 3443, 5143, 454, 4118, 4342, 4742, 4276, 4599, 6714, 5433, 6131, 4011, 2223, 2880, 4734, 6617, 805, 436, 4264, 2175, 1881, 6943, 1442, 1514, 2910, 397, 797, 6542, 6156, 3787, 982, 3582, 3726, 5130, 1276, 6224, 3030, 5204, 1845, 5881, 3980, 813, 1472, 1863, 6206, 1677, 3048, 6424, 3815, 5242, 6762, 2281, 3536, 6340, 2978, 1932, 6726, 6199, 1407, 6299, 1296, 3590, 5653, 6214, 483, 6807, 3461, 6042, 1053, 523, 4577, 3512, 2621, 3734, 2044, 12, 2096, 2488, 3909, 4512, 3530, 1045, 5992, 2017, 2093, 5236, 205, 348, 5253, 38, 3587, 4362, 2787, 1259, 1531, 4069, 219, 2253, 1019, 5709, 3382, 1476, 927, 4782, 6958, 1216, 5442, 6694, 6233, 3976, 6339, 435, 1575, 1179, 3611, 2354, 5939, 490, 2315, 3064, 2586, 4302, 6000, 2363, 770, 273, 3996, 960, 5222, 4312, 797, 6668, 5153, 1827, 3720, 6485, 4821, 2713, 1973, 3059, 4021, 3158, 4298, 4956, 5754, 511, 4039, 4666, 858, 6587, 527, 1662, 6941, 4931, 217, 5632, 1919, 1814, 4790, 5117, 2732, 6799, 6724, 5576, 5002, 3752, 6156, 4067, 4170, 6318, 1575, 6390, 4705, 5806, 4215, 736, 4923, 4601, 6509, 974, 3435, 3561, 363, 2551, 1736, 6505, 3186, 1434, 5556, 1528, 1814, 163, 4373, 5144, 206, 2838, 5154, 6188, 4151, 4034, 6108, 1506, 2580, 1602, 5368, 2024, 624, 5222, 3848, 1103, 5385, 2998, 2587, 4648, 3533, 6576, 2408, 3567, 6867, 3594, 2610, 6025, 1279, 2255, 1664, 3709, 5718, 4925, 4515, 1813, 1269, 5823, 1386, 2671, 2166, 5713, 6684, 5456, 2042, 2443, 3213, 863, 2093, 6036, 3497, 4925, 447, 5923, 2101, 6376, 3329, 2933, 6903, 3415, 6780, 2409, 3928, 2444, 5572, 4586, 2235, 5296, 381, 4641, 160, 4966, 5988, 2662, 2433, 6910, 4284, 375, 2517, 3583, 4070, 4983, 5104, 4463, 5579, 4185, 5040, 3067, 3975, 4522, 2792, 1503, 3620, 3194, 2134, 5777, 2974, 1117, 3636, 3101, 2997, 1154, 176, 6271, 2548, 3753, 1320, 2248, 4705, 6218, 5539, 2846, 4544, 5997, 4290, 1100, 4710, 1765, 6744, 2682, 4494, 6794, 1584, 631, 3515, 5618, 3169, 6762, 4692, 634, 4441, 6335, 4499, 4859, 356, 3460, 397, 6447, 1773, 1560, 3765, 5480, 3939, 6219, 5694, 1266, 2548, 2706, 5449, 2914, 5699, 5956, 2266, 3377, 5605, 871, 1634, 3648, 6620, 4516, 3378, 2798, 3677, 3105, 4861, 3672, 3825, 4654, 899, 6037, 1324, 4506, 6505, 5703, 3245, 3035, 2672, 1515, 828, 4190, 1069, 3877, 69, 3030, 433, 5603, 5763, 6629, 2287, 5045, 1557, 521, 4021, 2818, 3101, 6539, 2556, 2712, 3047, 6233, 959, 47, 5749, 5215, 1567, 5588, 2688, 639, 928, 485, 4029, 5755, 2308, 876, 5208, 4573, 1228, 957, 2145, 4595, 5109, 3507, 3906, 3168, 6292, 3663, 467, 1844, 85, 2100, 6030, 256, 70, 3281, 2891, 3306, 6452, 3649, 6422, 4964, 1023, 4962, 5676, 5037, 5236, 3860, 4364, 3809, 4251, 349, 6012, 6029, 3748, 2860, 146, 743, 387, 4034, 1004, 1417, 3583, 1184, 6964, 450, 3383, 2142, 4307, 3928, 93, 741, 2877, 441, 3077, 5048, 5958, 4386, 4438, 4748, 3428, 2442, 177, 3130, 5866, 2883, 5663, 625, 4522, 5284, 6653, 990, 645, 3586, 2618, 5753, 2186, 4578, 3673, 2022, 3531, 3792, 2545, 3698, 2069, 632, 3534, 4590, 3025, 4371, 3562, 5766, 4040, 2920, 2865, 5350, 2911, 3702, 1741, 5654, 1492, 6771, 3371, 3569, 936, 639, 246, 4414, 3398, 3210, 3030, 4209, 4083, 1025, 3430, 2800, 736, 1510, 1687, 4012, 1995, 553, 1807, 6588, 1135, 515, 1751, 6704, 4874, 3574, 5188, 3556, 1158, 5054, 4051, 4053, 622, 1830, 2381, 4644, 67, 2484, 2150, 2720, 5980, 3156, 5140, 3916, 5481, 6244, 5961, 5460, 2730, 4159, 4044, 6137, 3006, 563, 5893, 2522, 1618, 4413, 663, 2480, 6702, 5989, 1998, 5193, 1878, 4556, 2743, 645, 3150, 2723, 2700, 1388, 5002, 3923, 1213, 1285, 5667, 2769, 5027, 1110, 3342, 6898, 2422, 3658, 5206, 6875, 5670, 4767, 6682, 4862, 2142, 4966, 3728, 108, 5715, 4680, 5920, 6352, 1553, 2125, 3628, 220, 2531, 1292, 5896, 4443, 5063, 3905, 3419, 1573, 862, 6865, 3172, 2875, 6809, 2362, 3672, 100, 2992, 4469, 4459, 4734, 4488, 3020, 1162, 1979, 682, 4208, 5337, 2024, 2912, 3152, 6471, 6453, 5793, 1931, 5936, 3422, 5517, 1308, 1495, 4349, 5971, 2885, 774, 5124, 6096, 5150, 5016, 5472, 4752, 6850, 1476, 5794, 3904, 5837, 3330, 2155, 4736, 6650, 2591, 4242, 5210, 1278, 1610, 3683, 1668, 3607, 6116, 1354, 2560, 3266, 6628, 3749, 2853, 482, 267, 1926, 162, 5250, 774, 4013, 998, 6222, 2610, 6098, 3042, 3617, 4723, 5822, 386, 2907, 4975, 2943, 4418, 2851, 3176, 4876, 2828, 5363, 5632, 2341, 3957, 5401, 4355, 954, 6075, 519, 1202, 6652, 1444, 3487, 2568, 5163, 4762, 1911, 5548, 520, 520, 3258, 4693, 3153, 1806, 4616, 3249, 1655, 6871, 3646, 5510, 6787, 1724, 45, 695, 5839, 1746, 4744, 3710, 5475, 3300, 6925, 490, 5872, 1186, 4868, 3834, 1737, 6257, 4873, 5012, 1163, 280, 6613, 2020, 2957, 5747, 1103, 1137, 4577, 3244, 3351, 4350, 4090, 5559, 1781, 4751, 5989, 2833, 3540, 3104, 6019, 6943, 2712, 2498, 2793, 5033, 4990, 4679, 2552, 3791, 5944, 5564, 1069, 555, 3039, 917, 1883, 4555, 1716, 2375, 5814, 1985, 2225, 1518, 4306, 638, 2438, 3616, 6855, 1409, 4997, 6742, 3767, 5132, 1807, 5114, 4384, 1484, 4057, 592, 6974, 2535, 6044, 5026, 958, 1724, 1082, 4770, 1505, 1148, 3885, 1174, 6050, 5567, 5570, 3076, 699, 641, 4439, 4286, 5513, 6935, 5854, 1012, 2268, 2341, 3120, 6676, 2564, 6121, 5760, 5280, 3739, 4619, 3210, 3214, 5241, 422, 580, 953, 2752, 2728, 3452, 5979, 2686, 1516, 705, 3608, 4771, 5166, 5811, 2120, 6839, 5829, 727, 5377, 5666, 1096, 2220, 1367, 1734, 4286, 6912, 6289, 6696, 6122, 4604, 1145, 2415, 2299, 5913, 5010, 3290, 4062, 4820, 4589, 2692, 1199, 6996, 4887, 2765, 5670, 1228, 1690, 5808, 135, 5933, 2976, 1959, 4700, 3803, 4527, 6397, 6778, 182, 4904, 5737, 256, 1499, 2522, 2774, 3259, 6660, 3295, 4187, 1199, 3167, 2041, 3939, 6099, 5619, 3325, 4140, 4254, 2279, 6136, 4085, 1017, 4419, 1285, 5465, 6440, 4155, 98, 1849, 6106, 3653, 2885, 1619, 1986, 153, 2798, 5457, 6676, 222, 4123, 3427, 5508, 6643, 1159, 2763, 2965, 1683, 6639, 6997, 1307, 108, 3368, 6024, 1165, 745, 5874, 4882, 5202, 442, 5272, 4815, 4719, 4703, 379, 2350, 3287, 4731, 6412, 5225, 3333, 3823, 1237, 2777, 4854, 5737, 834, 6003, 3338, 947, 3960, 6566, 6418, 4737, 4162, 6928, 6181, 6027, 5548, 4501, 3189, 4838, 2740, 1966, 73, 6902, 4979, 6852, 4473, 3049, 3421, 3691, 1845, 1218, 5023, 526, 3572, 5945, 4904, 2710, 1423, 413, 6576, 5728, 1039, 516, 3024, 1828, 6406, 4072, 4034, 2605, 1047, 366, 3966, 102, 981, 6611, 3640, 843, 6040, 6583, 6071, 2724, 3962, 5209, 4071, 1931, 6677, 3577, 1986, 3654, 2821, 2704, 3338, 3756, 6759, 6180, 4821, 3746, 3083, 1480, 3688, 3934, 4292, 4996, 3443, 4181, 4128, 2266, 2284, 3267, 5209, 207, 3410, 3732, 6595, 3036, 1189, 3774, 2785, 3327, 4744, 5907, 2317, 647, 924, 2690, 4865, 2308, 777, 4886, 5099, 2797, 400, 1516, 4588, 4222, 1753, 4653, 2307, 1930, 2114, 1252, 410, 5297, 851, 1861, 5112, 6494, 330, 3631, 4271, 5657, 183, 5465, 1205, 880, 4620, 1477, 3917, 2661, 3681, 5656, 5076, 546, 802, 4710, 1415, 3121, 4949, 4391, 5361, 1759, 4659, 4685, 1882, 207, 4534, 2211, 5317, 6099, 5875, 1685, 2667, 5119, 4904, 2718, 5684, 6082, 6271, 5865, 3164, 6699, 1378, 1536, 6320, 4094, 2346, 3507, 1998, 6858, 3284, 4297, 4341, 949, 3239, 4802, 5708, 4640, 6659, 168, 1498, 4547, 4627, 1747, 521, 6797, 6150, 2934, 6895, 5214, 2801, 5398, 6299, 2385, 2210, 5695, 6718, 3232, 2713, 5643, 6157, 2582, 546, 3924, 6161, 2656, 1617, 6249, 5742, 5389, 6912, 4115, 1456, 1459, 6591, 2150, 3872, 1340, 1135, 5901, 6216, 5209, 2787, 1945, 4819, 1517, 2562, 4745, 6531, 92, 3899, 3164, 3827, 6584, 3254, 1433, 4834, 599, 6091, 1002, 6050, 5157, 696, 6096, 4530, 4426, 2202, 1671, 5856, 3776, 4868, 2296, 308, 2614, 524, 3821, 6144, 3956, 283, 5244, 1370, 4524, 3770, 358, 3981, 5998, 6700, 6077, 2894, 6450, 5282, 2281, 6530, 760, 1635, 6161, 3704, 5355, 2820, 3145, 1958, 2062, 3181, 6100, 157, 4289, 5764, 4048, 3455, 5961, 496, 2758, 4970, 2328, 2573, 2813, 5551, 3880, 4502, 6413, 1478, 4068, 312, 1218, 4857, 1776, 892, 6639, 5353, 1522, 2819, 6460, 3975, 5692, 4001, 466, 2945, 4298, 2955, 6575, 116, 6918, 4995, 588, 5851, 6195, 3642, 4901, 6556, 4667, 3285, 1204, 4600, 6029, 1374, 3226, 3150, 5759, 3528, 6994, 4372, 2530, 168, 4091, 2744, 4537, 6329, 496, 3078, 4850, 3438, 3731, 6834, 3013, 735, 4125, 4858, 1090, 2285, 1096, 1605, 1846, 4672, 209, 2131, 1250, 2527, 217, 4894, 1926, 156, 6477, 2578, 1972, 12, 1154, 665, 4831, 4558, 4422, 1242, 1029, 1138, 3532, 5820, 2026, 6701, 89, 2060, 2658, 5391, 2567, 1490, 5780, 14, 6684, 4651, 2585, 6250, 2473, 4159, 4351, 3125, 6173, 1535, 4457, 3932, 1116, 6430, 2407, 4521, 5864, 1093, 94, 1900, 3139, 3722, 5713, 3369, 5111, 2301, 1967, 3457, 572, 2647, 2524, 2633, 643, 1302, 6003, 190, 1754, 5029, 2545, 6486, 5354, 6668, 5585, 1098, 4182, 3072, 5196, 2391, 2073, 1497, 4231, 1815, 5595, 5109, 3910, 370, 4529, 3647, 6999, 6076, 3286, 5751, 3792, 2525, 514, 6081, 931, 1468, 3866, 851, 3858, 5697, 2282, 918, 4570, 4214, 849, 2857, 5914, 684, 5731, 4316, 474, 4811, 2116, 2467, 4307, 3120, 247, 27, 528, 1665, 3217, 2648, 1801, 4261, 2105, 3180, 2285, 766, 4727, 5769, 3572, 3787, 2013, 6040, 692, 4973, 321, 1519, 484, 3697, 2618, 2798, 1205, 334, 5335, 949, 44, 4561, 512, 3944, 4065, 659, 2913, 4409, 5293, 770, 6322, 2551, 5847, 6885, 6560, 6272, 2600, 5148, 5378, 4021, 970, 3212, 1907, 6715, 2827, 4537, 690, 553, 6586, 6896, 6136, 2764, 6712, 6681, 2164, 4321, 6149, 3749, 1277, 2699, 5473, 4870, 2946, 609, 6367, 395, 6674, 4932, 1621, 763, 1151, 2284, 5514, 2809, 1667, 4891, 968, 1696, 4706, 6497, 4899, 2967, 2980, 2184, 5883, 1167, 4651, 4951, 5142, 1392, 5418, 4713, 6887, 394, 6530, 5937, 5489, 4045, 2247, 4133, 2092, 4962, 5868, 130, 4777, 3823, 3467, 5451, 2602, 1117, 2437, 1614, 2162, 5209, 6028, 1264, 2666, 1372, 3206, 3505, 6383, 3665, 735, 5321, 5963, 2720, 2002, 268, 729, 1344, 6547, 1765, 4207, 3320, 2496, 5666, 690, 3972, 4482, 3220, 2873, 4642, 6028, 3996, 5398, 4711, 4651, 5189, 3384, 6149, 1066, 3235, 3920, 2949, 6868, 6283, 1745, 5490, 6720, 4162, 3914, 2715, 2288, 3875, 1724, 116, 5485, 5937, 488, 2628, 420, 6872, 1323, 1590, 1241, 183, 741, 4158, 5761, 1337, 4814, 6359, 1048, 4808, 616, 4830, 5044, 6909, 6538, 0, 6876, 1600, 2435, 3682, 2542, 5577, 6235, 5425, 5711, 6834, 6355, 1251, 6308, 6371, 5683, 373, 2473, 3716, 5774, 1829, 1775, 2540, 5834, 6447, 5025, 6832, 2378, 91, 5706, 5908, 1117, 2118, 4240, 5216, 1045, 1705, 2816, 2674, 914, 5414, 3795, 3517, 3629, 2367, 5990, 4404, 1705, 4620, 1325, 279, 5134, 5550, 3229, 133, 173, 6061, 6821, 6692, 6842, 2780, 5292, 5383, 5694, 3252, 5061, 616, 6199, 2738, 2181, 1549, 2846, 5292, 2604, 4775, 1438, 2351, 2141, 6471, 6755, 5734, 5967, 677, 6425, 2680, 781, 6322, 6527, 1628, 768, 236, 894, 887, 5993, 3403, 5722, 2286, 1432, 1354, 6917, 1272, 6778, 5536, 5780, 4284, 2232, 1772, 3379, 4899, 1782, 4023, 539, 1321, 1240, 2773, 2011, 1240, 5617, 4226, 695, 1411, 4324, 2811, 4124, 4525, 4799, 1532, 1862, 6319, 4417, 4389, 2138, 1439, 6628, 2270, 1077, 5780, 5251, 5391, 2488, 2024, 6657, 4463, 2605, 4555, 805, 2645, 4278, 2659, 5901, 6655, 5365, 3181, 3701, 5228, 1711, 4828, 1977, 4291, 3029, 6660, 3249, 2249, 3716, 236, 4773, 2558, 456, 1553, 2981, 3815, 5435, 6998, 854, 4158, 4794, 3384, 6747, 717, 5314, 6647, 5841, 6411, 1054, 6690, 1218, 1704, 2402, 4599, 2994, 2898, 2401, 6877, 3979, 5814, 2681, 2680, 184, 3357, 5085, 186, 2654, 5561, 2688, 4328, 2931, 6670, 1382, 2242, 5674, 6685, 1161, 5543, 6313, 6502, 1050, 5869, 201, 2556, 1580, 4960, 6677, 1082, 5030, 2135, 3525, 2360, 2952, 2800, 4000, 2186, 4873, 6553, 2515, 2033, 6236, 1692, 1034, 1083, 4743, 2047, 6150, 5006, 1452, 4408, 5168, 1432, 1885, 5346, 4852, 6508, 6382, 4893, 912, 5431, 4752, 3714, 5799, 5337, 3074, 3466, 2884, 1815, 6999, 4480, 2383, 5597, 2797, 6081, 3640, 773, 862, 2306, 6900, 2538, 6821, 4533, 6150, 1080, 6280, 87, 5473, 2799, 2530, 4461, 6658, 1458, 5318, 1582, 2160, 5463, 6477, 5333, 6850, 999, 2783, 3581, 6626, 2014, 6910, 3094, 3148, 2426, 2909, 2010, 5483, 2080, 353, 4649, 6739, 1373, 6646, 6141, 3841, 2122, 1728, 5127, 4612, 6996, 2621, 6032, 2267, 3603, 211, 550, 1474, 6459, 983, 6302, 1132, 1061, 2229, 622, 23, 451, 5837, 4429, 5138, 137, 3613, 6932, 2774, 551, 6800, 2691, 1627, 362, 295, 3029, 1407, 4994, 1319, 2023, 886, 5619, 3591, 6868, 6241, 3382, 3331, 6206, 6261, 2805, 5373, 3099, 1500, 6058, 2359, 2316, 2730, 1553, 4470, 2499, 711, 3939, 5902, 6058, 1458, 1884, 3664, 5375, 4926, 2317, 3223, 6767, 742, 1367, 2, 6793, 941, 2399, 6038, 4576, 5760, 4136, 3785, 3772, 5299, 5344, 716, 2385, 4996, 3510, 1831, 1157, 5052, 1882, 2173, 6769, 6897, 6728, 3125, 1077, 5323, 3808, 6493, 5080, 3295, 3461, 19, 3681, 4042, 5123, 2460, 3411, 2693, 445, 5500, 6534, 99, 6920, 3671, 6489, 47, 2751, 4401, 124, 1118, 257, 2032, 2259, 3571, 3515, 4673, 2216, 585, 92, 2214, 6194, 3172, 943, 6287, 2552, 782, 6665, 130, 573, 6649, 6062, 5705, 6119, 3687, 431, 186, 5807, 3098, 6077, 6333, 566, 6190, 4637, 5096, 1972, 2598, 604, 5511, 1113, 1493, 1353, 4614, 1052, 5701, 6342, 4228, 1189, 3406, 5546, 254, 2049, 6985, 4116, 2841, 2081, 324, 3608, 3266, 1141, 5594, 5823, 516, 4379, 2387, 5850, 5696, 1877, 5783, 2314, 2798, 6607, 668, 3653, 374, 414, 850, 4934, 299, 1410, 399, 3315, 6281, 5078, 6695, 3576, 6314, 5987, 1827, 5527, 2450, 5593, 988, 4773, 3534, 3853, 6976, 4964, 6481, 3915, 4850, 1623, 543, 1954, 419, 1724, 6767, 2331, 825, 827, 818, 4057, 2918, 5152, 6669, 3000, 3147, 3817, 3346, 826, 5166, 6468, 6790, 6775, 4767, 2252, 6583, 3801, 4992, 4209, 619, 6157, 5325, 2607, 5546, 2308, 5127, 4896, 750, 6014, 2371, 1049, 4272, 5306, 636, 2477, 4098, 101, 4571, 798, 2454, 1181, 530, 1928, 6076, 1929, 4807, 1930, 2110, 4955, 5266, 459, 2403, 4862, 5036, 887, 2486, 2920, 3684, 237, 6437, 5488, 2478, 2516, 5466, 5279, 3883, 1543, 5820, 5616, 502, 2695, 826, 6651, 2855, 6039, 5221, 5589, 5334, 2783, 2933, 3038, 5385, 3665, 5707, 1427, 519, 4592, 3999, 1790, 4139, 5048, 5830, 1231, 1267, 4514, 5290, 2414, 415, 1153, 1127, 5643, 3843, 5433, 1935, 183, 3200, 6578, 2416, 6565, 5324, 327, 6967, 5810, 6824, 3552, 6391, 6444, 5181, 2510, 3396, 1543, 434, 4075, 5087, 2922, 4421, 5547, 3722, 4139, 2425, 5349, 733, 3367, 279, 4776, 2550, 4200, 704, 316, 1126, 5144, 1026, 5702, 3875, 6005, 616, 5784, 1290, 4777, 3408, 5110, 6053, 5306, 5501, 2219, 1614, 6242, 1000, 3527, 440, 6083, 1833, 4424, 688, 267, 6173, 4155, 5516, 2199, 6375, 5678, 1409, 4652, 3186, 1504, 3239, 6974, 782, 5906, 6336, 2091, 4829, 2250, 5333, 2363, 64, 518, 314, 5569, 3938, 1125, 2413, 2190, 2591, 472, 6984, 6694, 2810, 2485, 5277, 1097, 6931, 425, 6847, 6680, 3242, 3750, 4554, 27, 3754, 4958, 5258, 6934, 4574, 255, 232, 1898, 3502, 2442, 6110, 6842, 3078, 176, 3619, 5043, 3852, 6849, 4016, 1525, 2447, 6576, 6365, 4445, 2612, 3033, 315, 2937, 1747, 177, 1151, 5315, 3366, 243, 1652, 5064, 2647, 1275, 2925, 4313, 36, 5953, 2147, 3774, 6648, 1803, 6904, 3830, 1680, 4446, 5665, 105, 6313, 1642, 1312, 5764, 292, 1055, 1188, 4793, 4631, 2841, 2019, 4711, 755, 2980, 5204, 314, 3897, 3917, 4634, 1890, 1149, 6313, 2801, 4806, 6770, 1385, 3986, 304, 285, 1212, 3653, 4310, 640, 6018, 3464, 2537, 5899, 3930, 5719, 5077, 5141, 4111, 1836, 3699, 5657, 3008, 4676, 4940, 218, 863, 6844, 6422, 6746, 623, 2457, 6245, 192, 3693, 536, 766, 5240, 1045, 2508, 2307, 2174, 5205, 2957, 6829, 5094, 3183, 5427, 1087, 6761, 3138, 393, 6142, 2763, 6640, 80, 6827, 308, 2667, 587, 277, 5930, 4555, 2563, 6824, 5585, 4969, 5950, 4618, 2513, 3977, 4450, 341, 3937, 5017, 5855, 6519, 2334, 6054, 6302, 1254, 2303, 1010, 5715, 6789, 2668, 6429, 3118, 3171, 2755, 6112, 2493, 3679, 3872, 6131, 3718, 1353, 1277, 2608, 4540, 1188, 1742, 6468, 5385, 554, 4404, 2252, 1439, 3380, 2099, 6840, 2174, 3703, 3551, 1676, 4138, 610, 5623, 253, 4118, 4772, 5634, 3218, 1690, 617, 4069, 6121, 190, 5090, 1522, 689, 5387, 1920, 3548, 3656, 52, 1279, 5934, 4094, 4102, 6935, 2156, 6141, 2066, 5497, 4610, 3863, 1878, 4326, 5206, 4440, 5922, 5452, 6124, 694, 333, 6389, 6363, 721, 858, 489, 6032, 2144, 4615, 1372, 4800, 6192, 1344, 4975, 3456, 4339, 3053, 5168, 280, 3068, 286, 6610, 1664, 5419, 161, 5135, 2135, 2301, 1546, 3326, 2759, 2052, 1014, 2931, 6004, 5211, 3867, 2744, 1901, 4403, 89, 6646, 5586, 26, 4795, 717, 3031, 2745, 5482, 372, 704, 3969, 5953, 2705, 2462, 948, 4852, 2404, 1649, 2994, 3912, 6142, 3272, 4101, 2703, 424, 816, 4246, 2457, 1191, 2976, 1946, 6995, 408, 2674, 3791, 2971, 5874, 5541, 2865, 454, 5030, 5597, 3007, 4263, 5597, 6402, 4317, 3798, 6356, 3767, 4340, 5171, 6357, 5701, 1952, 751, 5741, 1932, 3204, 197, 868, 6672, 114, 99, 5411, 3287, 6677, 6476, 1930, 2482, 4851, 770, 1558, 2373, 6510, 1723, 5351, 5218, 4178, 3622, 726, 6682, 6256, 3976, 4228, 2608, 5241, 5155, 6951, 890, 4487, 3440, 6476, 3248, 821, 5742, 2348, 2027, 5873, 1034, 3997, 3902, 2271, 4427, 4161, 3591, 2233, 5691, 6614, 5202, 6995, 2791, 1781, 5380, 6055, 4552, 6843, 3655, 619, 3492, 3864, 926, 1090, 1042, 2672, 104, 4222, 4624, 5487, 6527, 779, 4947, 4993, 6909, 2364, 3186, 3841, 2331, 6324, 44, 444, 4972, 6280, 1636, 1080, 5153, 2225, 3716, 5925, 4200, 1076, 5006, 6240, 4817, 1909, 4493, 4906, 1253, 6571, 1773, 5469, 3060, 5549, 1540, 92, 1588, 4061, 4022, 76, 6092, 5859, 5292, 1274, 1364, 876, 686, 1732, 357, 5173, 5405, 1223, 485, 6100, 3663, 738, 2095, 6130, 1473, 2501, 1436, 371, 3684, 217, 5328, 1854, 2960, 4804, 5840, 3357, 4996, 1702, 2553, 6137, 4680, 1949, 342, 473, 3708, 4086, 6816, 3055, 2193, 737, 861, 6986, 1183, 2483, 2912, 2988, 4812, 1613, 5493, 6804, 1769, 4574, 561, 4103, 575, 3755, 6835, 992, 2215, 4029, 1069, 4294, 771, 1155, 3263, 2703, 2229, 629, 4910, 5127, 6829, 1266, 231, 5828, 3554, 2, 4758, 5276, 1565, 4539, 179, 141, 6733, 6764, 5301, 4345, 2847, 6430, 1301, 523, 4813, 4569, 4686, 3864, 3369, 6745, 3836, 924, 5936, 232, 1415, 2839, 240, 6212, 2403, 5555, 2740, 2639, 2338, 1558, 2105, 1730, 5476, 2911, 6157, 4192, 6263, 282, 1645, 4971, 6264, 5435, 6863, 3015, 1914, 2520, 3435, 4317, 2023, 5250, 3768, 4069, 2045, 2394, 5486, 4921, 1430, 4214, 2193, 652, 312, 1947, 6111, 670, 697, 3787, 1627, 255, 2934, 1467, 5122, 1149, 4754, 6393, 2388, 1106, 5562, 4120, 5662, 2017, 3871, 4594, 4335, 2084, 6993, 718, 1465, 3410, 2209, 4132, 4007, 4135, 3174, 6846, 4697, 3218, 4199, 1011, 5072, 6756, 6095, 1290, 3479, 531, 3157, 6078, 4909, 3057, 1371, 3390, 6825, 2537, 2684, 484, 2459, 4789, 1041, 6481, 159, 6987, 4658, 126, 6287, 6496, 6007, 1694, 2241, 0, 6364, 4423, 6612, 1619, 546, 1315, 5862, 6128, 5974, 1639, 1505, 277, 513, 2323, 5732, 5085, 3763, 2380, 401, 1996, 5384, 926, 4893, 1442, 4733, 441, 4475, 3167, 1247, 788, 731, 4095, 3123, 6766, 701, 3054, 53, 3726, 5998, 6207, 3401, 4647, 6269, 6618, 3544, 623, 5676, 5530, 5548, 3946, 4211, 5053, 1221, 419, 2605, 6619, 3824, 4475, 59, 149, 6204, 1193, 4027, 5635, 6681, 716, 2069, 1806, 2760, 4150, 2994, 2863, 1464, 3406, 1632, 6117, 3562, 921, 5430, 902, 4787, 765, 881, 6326, 6708, 678, 6441, 3332, 394, 5584, 835, 6920, 1694, 1113, 4270, 911, 3599, 6993, 856, 6595, 3547, 361, 3844, 2685, 6972, 1081, 3651, 4024, 3173, 5265, 2697, 6887, 1536, 2813, 2640, 6473, 827, 6607, 4216, 6203, 3066, 6584, 1875, 4917, 5708, 5479, 2165, 6627, 4801, 4099, 2417, 3515, 4452, 3466, 5188, 3085, 5591, 5573, 124, 1672, 2995, 593, 4612, 4897, 3612, 1073, 6049, 4026, 3505, 1538, 6890, 2716, 1332, 6643, 2332, 377, 2986, 5917, 3334, 1793, 758, 6747, 5989, 3732, 840, 6805, 4410, 1224, 2441, 1394, 1927, 2364, 971, 3327, 2470, 3853, 3266, 2890, 2672, 3861, 3935, 2360, 4324, 5044, 1086, 646, 4409, 2307, 1626, 858, 6386, 2162, 6379, 1898, 5080, 380, 2130, 3409, 2062, 6956, 474, 6944, 2504, 3663, 6583, 2086, 2059, 2660, 2330, 4778, 6882, 4999, 808, 5736, 6396, 2544, 3284, 4605, 2707, 5810, 2664, 5237, 2745, 955, 2525, 394, 2296, 1224, 467, 6545, 5076, 6993, 6805, 1865, 5139, 431, 5785, 6258, 4098, 5811, 359, 6250, 6547, 579, 4497, 6445, 4502, 6758, 308, 5259, 3872, 2868, 482, 5194, 4837, 4986, 1650, 2291, 5624, 6814, 1346, 4993, 2273, 2559, 4772, 3729, 3616, 6105, 988, 3586, 487, 511, 754, 4240, 1218, 1385, 3442, 758, 4113, 5455, 1522, 12, 3694, 6293, 3134, 2323, 3682, 4072, 4162, 4912, 2980, 5494, 1749, 2272, 887, 1663, 2929, 5923, 6988, 6765, 2498, 1579, 1341, 1528, 2814, 5436, 6741, 1981, 3463, 3519, 3766, 5244, 6936, 3517, 5710, 1812, 5925, 1120, 6183, 6297, 6187, 6383, 3185, 3270, 486, 6055, 5510, 2601, 4590, 482, 5147, 2470, 6600, 6406, 3489, 5424, 3323, 5852, 3391, 2590, 2467, 6929, 2951, 4249, 2611, 1862, 4990, 1818, 977, 6133, 3864, 901, 4396, 5201, 802, 447, 3634, 6871, 5281, 5508, 2523, 389, 6535, 5943, 6506, 5901, 953, 2076, 6602, 2649, 6466, 804, 2858, 2439, 3441, 3217, 4833, 4731, 430, 3535, 4542, 2050, 6945, 6279, 2328, 4092, 14, 3145, 5955, 763, 5606, 3869, 395, 5386, 6776, 6732, 5848, 1272, 6275, 3538, 2988, 5722, 6367, 311, 4812, 3375, 3525, 2754, 1063, 6262, 5186, 4519, 2849, 2048, 3245, 3938, 4655, 5354, 3871, 3983, 2852, 6265, 639, 5059, 2674, 6094, 1051, 332, 4756, 4344, 1795, 21, 5066, 5034, 5388, 2594, 153, 4904, 4952, 2757, 2235, 516, 4243, 3623, 6869, 5028, 4537, 5082, 4769, 4340, 2224, 4140, 4832, 2445, 2545, 5716, 2678, 2962, 4254, 2063, 4746, 1140, 5496, 3756, 1519, 3650, 3483, 6693, 111, 5294, 2743, 1936, 5655, 1268, 2381, 3696, 4986, 1309, 5033, 4860, 155, 357, 5794, 3901, 66, 1406, 2351, 3146, 3822, 4977, 1097, 3009, 6754, 2204, 2609, 6977, 3743, 401, 832, 1312, 589, 1970, 6411, 3530, 2374, 6571, 6294, 4285, 4194, 4823, 6864, 4228, 674, 513, 1538, 6458, 1699, 6498, 5222, 1774, 3544, 4085, 6162, 3401, 3367, 4925, 6855, 5928, 3169, 3904, 4521, 3395, 4135, 4854, 6762, 6289, 3412, 3852, 5571, 757, 1148, 2128, 5386, 4882, 5832, 3138, 781, 4495, 3633, 6588, 4377, 2697, 3837, 94, 6892, 3202, 6638, 6210, 5268, 1791, 2565, 5661, 5653, 6309, 1882, 5563, 6751, 4257, 1355, 1535, 5559, 6419, 2038, 6645, 5414, 1862, 5077, 188, 4565, 4936, 5731, 6938, 3501, 4056, 2342, 3127, 3940, 1175, 2204, 399, 5960, 3986, 3195, 1677, 6563, 2764, 5465, 2709, 3296, 2058, 4721, 6832, 4575, 3094, 4982, 3223, 902, 121, 5867, 6152, 136, 6903, 4608, 5100, 2846, 5531, 1336, 6504, 6158, 942, 6003, 3586, 4557, 6483, 2955, 2646, 1508, 4607, 1638, 1270, 1186, 542, 6513, 6810, 337, 1835, 205, 1498, 162, 1584, 5978, 2514, 5377, 46, 6917, 5545, 5497, 2657, 5018, 116, 1468, 1515, 1099, 6116, 6175, 2454, 3634, 6924, 4491, 5523, 5341, 2737, 2704, 20, 4452, 882, 1925, 5450, 3643, 32, 2510, 1368, 4539, 6165, 6816, 6371, 6338, 2304, 3794, 6026, 2887, 6426, 6425, 1259, 5422, 3483, 18, 1426, 2233, 4876, 4227, 1171, 1223, 1473, 998, 1281, 5517, 5739, 3592, 3243, 348, 3307, 6507, 4464, 6809, 4582, 158, 5352, 533, 5916, 4478, 4414, 6233, 3629, 5340, 790, 1050, 653, 1343, 979, 137, 29, 5159, 5007, 6450, 6459, 2761, 2733, 365, 807, 2689, 395, 5495, 2044, 2056, 3026, 2398, 3405, 488, 3397, 4567, 28, 4122, 2351, 3347, 4745, 3179, 685, 535, 3531, 1244, 5158, 3759, 5607, 589, 4493, 3814, 1311, 4784, 3653, 3913, 3219, 3046, 3267, 6283, 1, 3390, 50, 4613, 4540, 1981, 3019, 3198, 4720, 2044, 3931, 5949, 6708, 3819, 6403, 5575, 3023, 4145, 6601, 3819, 569, 1702, 2609, 5112, 6437, 3457, 1295, 6719, 3718, 1961, 5644, 2298, 6529, 3569, 6295, 6171, 3085, 3199, 6048, 5993, 6099, 3566, 2200, 2461, 6777, 6909, 6897, 6620, 1539, 5649, 2620, 5024, 343, 2549, 1937, 3109, 169, 1524, 3870, 2574, 2911, 5968, 1971, 4851, 1556, 6593, 4360, 687, 2992, 2474, 1304, 5409, 6812, 1010, 5428, 6882, 5557, 3193, 1184, 2709, 242, 637, 4900, 4052, 6732, 3988]\n"
          ]
        }
      ],
      "source": [
        "test_results = test(model, test_loader)\n",
        "print(test_results)"
      ]
    },
    {
      "cell_type": "code",
      "source": [
        "with open(\"classification_early_submission.csv\", \"w+\") as f:\n",
        "    f.write(\"id,label\\n\")\n",
        "    for i in range(len(test_dataset)):\n",
        "        f.write(\"{},{}\\n\".format(str(i).zfill(5) + \".jpg\", test_results[i]))"
      ],
      "metadata": {
        "id": "PFKmU-6tStYt"
      },
      "id": "PFKmU-6tStYt",
      "execution_count": null,
      "outputs": []
    },
    {
      "cell_type": "code",
      "source": [
        "# This obtains the list of known identities from the known folder\n",
        "known_regex = \"/content/data/11-785-s23-hw2p2-verification/known/*/*\"\n",
        "known_paths = [i.split('/')[-2] for i in sorted(glob.glob(known_regex))]\n",
        "\n",
        "# Obtain a list of images from unknown folders\n",
        "unknown_dev_regex = \"/content/data/11-785-s23-hw2p2-verification/unknown_dev/*\"\n",
        "unknown_test_regex = \"/content/data/11-785-s23-hw2p2-verification/unknown_test/*\"\n",
        "\n",
        "# We load the images from known and unknown folders\n",
        "unknown_dev_images = [Image.open(p) for p in tqdm(sorted(glob.glob(unknown_dev_regex)))]\n",
        "unknown_test_images = [Image.open(p) for p in tqdm(sorted(glob.glob(unknown_test_regex)))]\n",
        "known_images = [Image.open(p) for p in tqdm(sorted(glob.glob(known_regex)))]\n",
        "\n",
        "# Why do you need only ToTensor() here?\n",
        "transforms = torchvision.transforms.Compose([\n",
        "    torchvision.transforms.ToTensor()])\n",
        "\n",
        "unknown_dev_images = torch.stack([transforms(x) for x in unknown_dev_images])\n",
        "unknown_test_images = torch.stack([transforms(x) for x in unknown_test_images])\n",
        "known_images  = torch.stack([transforms(y) for y in known_images ])\n",
        "#Print your shapes here to understand what we have done\n",
        "\n",
        "# You can use other similarity metrics like Euclidean Distance if you wish\n",
        "similarity_metric = torch.nn.CosineSimilarity(dim= 1, eps= 1e-6) "
      ],
      "metadata": {
        "id": "xVbH3UgtpnAf",
        "colab": {
          "base_uri": "https://localhost:8080/"
        },
        "outputId": "38435422-735e-4a0d-8618-ac5b27689ce6"
      },
      "id": "xVbH3UgtpnAf",
      "execution_count": null,
      "outputs": [
        {
          "output_type": "stream",
          "name": "stderr",
          "text": [
            "100%|██████████| 360/360 [00:00<00:00, 8588.92it/s]\n",
            "100%|██████████| 720/720 [00:00<00:00, 11805.06it/s]\n",
            "100%|██████████| 960/960 [00:00<00:00, 13946.97it/s]\n"
          ]
        }
      ]
    },
    {
      "cell_type": "code",
      "source": [
        "def eval_verification(unknown_images, known_images, model, similarity, batch_size= config['batch_size'], mode='val'): \n",
        "\n",
        "    unknown_feats, known_feats = [], []\n",
        "\n",
        "    batch_bar = tqdm(total=len(unknown_images)//batch_size, dynamic_ncols=True, position=0, leave=False, desc=mode)\n",
        "    model.eval()\n",
        "\n",
        "    # We load the images as batches for memory optimization and avoiding CUDA OOM errors\n",
        "    for i in range(0, unknown_images.shape[0], batch_size):\n",
        "        unknown_batch = unknown_images[i:i+batch_size] # Slice a given portion upto batch_size\n",
        "        \n",
        "        with torch.no_grad():\n",
        "            unknown_feat = model(unknown_batch.float().to(DEVICE), return_feats=True) #Get features from model         \n",
        "        unknown_feats.append(unknown_feat)\n",
        "        batch_bar.update()\n",
        "    \n",
        "    batch_bar.close()\n",
        "    \n",
        "    batch_bar = tqdm(total=len(known_images)//batch_size, dynamic_ncols=True, position=0, leave=False, desc=mode)\n",
        "    \n",
        "    for i in range(0, known_images.shape[0], batch_size):\n",
        "        known_batch = known_images[i:i+batch_size] \n",
        "        with torch.no_grad():\n",
        "              known_feat = model(known_batch.float().to(DEVICE), return_feats=True)\n",
        "          \n",
        "        known_feats.append(known_feat)\n",
        "        batch_bar.update()\n",
        "\n",
        "    batch_bar.close()\n",
        "\n",
        "    # Concatenate all the batches\n",
        "    unknown_feats = torch.cat(unknown_feats, dim=0)\n",
        "    known_feats = torch.cat(known_feats, dim=0)\n",
        "\n",
        "    similarity_values = torch.stack([similarity(unknown_feats, known_feature) for known_feature in known_feats])\n",
        "    # Print the inner list comprehension in a separate cell - what is really happening?\n",
        "\n",
        "    max_similarity_values, predictions = similarity_values.max(0) #Why are we doing an max here, where are the return values?\n",
        "    max_similarity_values, predictions = max_similarity_values.cpu().numpy(), predictions.cpu().numpy()\n",
        "\n",
        "\n",
        "    # Note that in unknown identities, there are identities without correspondence in known identities.\n",
        "    # Therefore, these identities should be not similar to all the known identities, i.e. max similarity will be below a certain \n",
        "    # threshold compared with those identities with correspondence.\n",
        "\n",
        "    # In early submission, you can ignore identities without correspondence, simply taking identity with max similarity value\n",
        "    #pred_id_strings = [known_paths[i] for i in predictions] # Map argmax indices to identity strings\n",
        "    \n",
        "    # After early submission, remove the previous line and uncomment the following code \n",
        "\n",
        "    threshold = 0.3\n",
        "    NO_CORRESPONDENCE_LABEL = 'n000000'\n",
        "    pred_id_strings = []\n",
        "    for idx, prediction in enumerate(predictions):\n",
        "       if max_similarity_values[idx] < threshold: # why < ? Thank about what is your similarity metric\n",
        "            pred_id_strings.append(NO_CORRESPONDENCE_LABEL)\n",
        "       else:\n",
        "            pred_id_strings.append(known_paths[prediction])\n",
        "    \n",
        "    if mode == 'val':\n",
        "      true_ids = pd.read_csv('/content/data/11-785-s23-hw2p2-verification/verification_dev.csv')['label'].tolist()\n",
        "      accuracy = accuracy_score(pred_id_strings, true_ids)\n",
        "      print(\"Verification Accuracy = {}\".format(accuracy))\n",
        "    \n",
        "    return pred_id_strings"
      ],
      "metadata": {
        "id": "8cdbRnybqOv-"
      },
      "id": "8cdbRnybqOv-",
      "execution_count": null,
      "outputs": []
    },
    {
      "cell_type": "code",
      "source": [
        "# verification eval\n",
        "pred_id_strings = eval_verification(unknown_dev_images, known_images, model, similarity_metric, config['batch_size'], mode='val')\n",
        "# verification test\n",
        "pred_id_strings = eval_verification(unknown_test_images, known_images, model, similarity_metric, config['batch_size'], mode='test')"
      ],
      "metadata": {
        "id": "UcCpE6oDqlyM",
        "colab": {
          "base_uri": "https://localhost:8080/"
        },
        "outputId": "3ecfcb37-76a7-43da-da21-6c9a1faae0fb"
      },
      "id": "UcCpE6oDqlyM",
      "execution_count": null,
      "outputs": [
        {
          "output_type": "stream",
          "name": "stderr",
          "text": []
        },
        {
          "output_type": "stream",
          "name": "stdout",
          "text": [
            "Verification Accuracy = 0.6472222222222223\n"
          ]
        },
        {
          "output_type": "stream",
          "name": "stderr",
          "text": []
        }
      ]
    },
    {
      "cell_type": "code",
      "source": [
        "with open(\"verification_early_submission.csv\", \"w+\") as f:\n",
        "    f.write(\"id,label\\n\")\n",
        "    for i in range(len(pred_id_strings)):\n",
        "        f.write(\"{},{}\\n\".format(i, pred_id_strings[i]))"
      ],
      "metadata": {
        "id": "LAPcUIS7qsio"
      },
      "id": "LAPcUIS7qsio",
      "execution_count": null,
      "outputs": []
    },
    {
      "cell_type": "code",
      "source": [],
      "metadata": {
        "id": "PbpmGj48q1Yy"
      },
      "id": "PbpmGj48q1Yy",
      "execution_count": null,
      "outputs": []
    }
  ],
  "metadata": {
    "kernelspec": {
      "display_name": "Python 3 (ipykernel)",
      "language": "python",
      "name": "python3"
    },
    "language_info": {
      "codemirror_mode": {
        "name": "ipython",
        "version": 3
      },
      "file_extension": ".py",
      "mimetype": "text/x-python",
      "name": "python",
      "nbconvert_exporter": "python",
      "pygments_lexer": "ipython3",
      "version": "3.9.13"
    },
    "colab": {
      "provenance": [],
      "machine_shape": "hm"
    },
    "accelerator": "GPU",
    "gpuClass": "standard"
  },
  "nbformat": 4,
  "nbformat_minor": 5
}
